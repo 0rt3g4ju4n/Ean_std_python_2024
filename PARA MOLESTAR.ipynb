{
 "cells": [
  {
   "cell_type": "code",
   "execution_count": null,
   "metadata": {},
   "outputs": [],
   "source": [
    "import string\n",
    "\n",
    "# Crear una lista con todas las letras del abecedario\n",
    "abecedario = list(string.ascii_uppercase)\n",
    "nombre_input = str(input(\"INGRESE EL NOMBRE: \"))\n",
    "nombre = nombre_input.upper()\n",
    "final = \"\"\n",
    "print(nombre)\n",
    "for i in range(0, len(nombre)):\n",
    "  for m in abecedario:\n",
    "    if  nombre[i] == \" \":\n",
    "      final  +=\" \"\n",
    "  \n",
    "    if m == nombre[i]:\n",
    "      final += m\n",
    "    else:\n",
    "      print(final+m)\n",
    "\n",
    "  \n",
    "  "
   ]
  },
  {
   "cell_type": "code",
   "execution_count": 31,
   "metadata": {},
   "outputs": [
    {
     "name": "stdout",
     "output_type": "stream",
     "text": [
      "JUAN DAVID ORTEGA MURCIA\n"
     ]
    }
   ],
   "source": [
    "import string\n",
    "import time\n",
    "\n",
    "# Crear una lista con todas las letras del abecedario en mayúsculas\n",
    "abecedario = list(string.ascii_uppercase)\n",
    "\n",
    "# Solicitar el nombre del usuario\n",
    "nombre_input = input(\"INGRESE EL NOMBRE: \")\n",
    "nombre = nombre_input.upper()\n",
    "\n",
    "# Variable para almacenar el resultado final\n",
    "final = \"\"\n",
    "\n",
    "# Procesar cada letra del nombre ingresado\n",
    "for letra_nombre in nombre:\n",
    "    if letra_nombre == \" \":  # Si es un espacio, simplemente agregarlo\n",
    "        final += \" \"\n",
    "        #print(\" \")\n",
    "        continue\n",
    "\n",
    "    # Iterar sobre el abecedario hasta alcanzar la letra correspondiente\n",
    "    for letra_abc in abecedario:\n",
    "        print(final + letra_abc, end=\"\\r\")  # Mostrar la letra que se va alcanzando\n",
    "        time.sleep(0.1)  # Añadir una pequeña pausa para mostrar el progreso\n",
    "        \n",
    "        if letra_abc == letra_nombre:  # Cuando se alcanza la letra, se agrega al resultado\n",
    "            final += letra_abc\n",
    "            break\n",
    "\n",
    "# Mostrar el resultado final\n",
    "print(final)\n",
    "\n"
   ]
  },
  {
   "cell_type": "code",
   "execution_count": 1,
   "metadata": {},
   "outputs": [
    {
     "data": {
      "application/vnd.jupyter.widget-view+json": {
       "model_id": "45cb3c364ccb484d82bc877b04edf5f1",
       "version_major": 2,
       "version_minor": 0
      },
      "text/plain": [
       "IntSlider(value=50, description='Valor:')"
      ]
     },
     "metadata": {},
     "output_type": "display_data"
    },
    {
     "name": "stdout",
     "output_type": "stream",
     "text": [
      "Nuevo valor: 20\n",
      "Nuevo valor: 69\n",
      "Nuevo valor: 28\n",
      "Nuevo valor: 80\n",
      "Nuevo valor: 78\n",
      "Nuevo valor: 77\n",
      "Nuevo valor: 65\n",
      "Nuevo valor: 61\n",
      "Nuevo valor: 53\n",
      "Nuevo valor: 51\n",
      "Nuevo valor: 50\n",
      "Nuevo valor: 52\n",
      "Nuevo valor: 53\n",
      "Nuevo valor: 56\n",
      "Nuevo valor: 58\n",
      "Nuevo valor: 60\n",
      "Nuevo valor: 62\n",
      "Nuevo valor: 66\n",
      "Nuevo valor: 70\n",
      "Nuevo valor: 75\n",
      "Nuevo valor: 82\n",
      "Nuevo valor: 86\n",
      "Nuevo valor: 89\n",
      "Nuevo valor: 90\n",
      "Nuevo valor: 91\n",
      "Nuevo valor: 86\n",
      "Nuevo valor: 58\n",
      "Nuevo valor: 40\n",
      "Nuevo valor: 34\n",
      "Nuevo valor: 29\n",
      "Nuevo valor: 27\n",
      "Nuevo valor: 21\n",
      "Nuevo valor: 14\n",
      "Nuevo valor: 3\n",
      "Nuevo valor: 0\n",
      "Nuevo valor: 4\n",
      "Nuevo valor: 19\n",
      "Nuevo valor: 60\n",
      "Nuevo valor: 72\n",
      "Nuevo valor: 77\n"
     ]
    }
   ],
   "source": [
    "import ipywidgets as widgets\n",
    "from IPython.display import display\n",
    "\n",
    "# Crear un slider\n",
    "slider = widgets.IntSlider(value=50, min=0, max=100, step=1, description='Valor:')\n",
    "\n",
    "# Función que se ejecuta al cambiar el valor del slider\n",
    "def on_value_change(change):\n",
    "    print(f'Nuevo valor: {change[\"new\"]}')\n",
    "\n",
    "# Vincular el slider a la función\n",
    "slider.observe(on_value_change, names='value')\n",
    "\n",
    "# Mostrar el slider\n",
    "display(slider)\n"
   ]
  },
  {
   "cell_type": "code",
   "execution_count": 3,
   "metadata": {},
   "outputs": [
    {
     "data": {
      "application/vnd.jupyter.widget-view+json": {
       "model_id": "fa7df00acd454060a76b2d03911ab5bb",
       "version_major": 2,
       "version_minor": 0
      },
      "text/plain": [
       "interactive(children=(IntSlider(value=10, description='Grados de libertad (n):', max=30, min=2), FloatSlider(v…"
      ]
     },
     "metadata": {},
     "output_type": "display_data"
    }
   ],
   "source": [
    "import numpy as np\n",
    "import matplotlib.pyplot as plt\n",
    "from scipy.stats import t\n",
    "import ipywidgets as widgets\n",
    "from IPython.display import display\n",
    "\n",
    "# Función para graficar la distribución t\n",
    "def plot_t_distribution(n, confidence_level, color):  # Limpiar la figura actual\n",
    "    x = np.arange(-10, 10, 0.1)\n",
    "    y1 = t.pdf(x, n-1)\n",
    "    \n",
    "    # Calcular el valor crítico basado en el nivel de confianza\n",
    "    alpha = 1 - confidence_level\n",
    "    t_critical = t.ppf(1 - alpha/2, n-1)  # Valor crítico para el nivel de confianza seleccionado\n",
    "\n",
    "    plt.figure(figsize=(10, 5))\n",
    "    plt.plot(x, y1, label=f\"df={n-1}\", color=color)\n",
    "    plt.axvline(x=-t_critical, color='red', linestyle='--', label='Valor crítico')\n",
    "    plt.axvline(x=t_critical, color='red', linestyle='--')\n",
    "    plt.fill_between(x, y1, where=(x <= -t_critical), color='red', alpha=0.3)\n",
    "    plt.fill_between(x, y1, where=(x >= t_critical), color='red', alpha=0.3)\n",
    "    \n",
    "    # Mostrar los valores críticos en la gráfica\n",
    "    plt.text(-t_critical, 0.01, f'-t({n-1})', color='red', ha='center')\n",
    "    plt.text(t_critical, 0.01, f't({n-1})', color='red', ha='center')\n",
    "    \n",
    "    plt.title(f'Distribución t de Student (n={n}, Nivel de Confianza={confidence_level*100:.0f}%)')\n",
    "    plt.xlabel('Valores')\n",
    "    plt.ylabel('Densidad de probabilidad')\n",
    "    plt.legend()\n",
    "    plt.grid()\n",
    "    plt.show()\n",
    "\n",
    "# Crear un slider para los grados de libertad\n",
    "n_slider = widgets.IntSlider(value=10, min=2, max=30, step=1, description='Grados de libertad (n):')\n",
    "\n",
    "# Crear un slider para el nivel de confianza\n",
    "confidence_slider = widgets.FloatSlider(value=0.95, min=0.50, max=0.99, step=0.01, description='Nivel de Confianza:')\n",
    "\n",
    "# Crear un selector de color\n",
    "color_picker = widgets.ColorPicker(value='blue', description='Color de la gráfica:')\n",
    "\n",
    "# Conectar los widgets a la función de graficado\n",
    "interactive_plot = widgets.interactive(plot_t_distribution, n=n_slider, confidence_level=confidence_slider, color=color_picker)\n",
    "\n",
    "# Mostrar los widgets y la gráfica\n",
    "display(interactive_plot)\n"
   ]
  },
  {
   "cell_type": "code",
   "execution_count": 7,
   "metadata": {},
   "outputs": [
    {
     "data": {
      "application/vnd.jupyter.widget-view+json": {
       "model_id": "53f63fb4bc73459bbd041fc385a81f02",
       "version_major": 2,
       "version_minor": 0
      },
      "text/plain": [
       "Text(value='', description='INGRESE EL NOMBRE:')"
      ]
     },
     "metadata": {},
     "output_type": "display_data"
    },
    {
     "data": {
      "application/vnd.jupyter.widget-view+json": {
       "model_id": "4f6b4c38430d40469216c71f8afc39ce",
       "version_major": 2,
       "version_minor": 0
      },
      "text/plain": [
       "Button(description='Procesar Nombre', style=ButtonStyle())"
      ]
     },
     "metadata": {},
     "output_type": "display_data"
    },
    {
     "data": {
      "application/vnd.jupyter.widget-view+json": {
       "model_id": "af09f02139094fc29737734db06bda69",
       "version_major": 2,
       "version_minor": 0
      },
      "text/plain": [
       "Output()"
      ]
     },
     "metadata": {},
     "output_type": "display_data"
    }
   ],
   "source": [
    "import string\n",
    "import time\n",
    "import ipywidgets as widgets\n",
    "from IPython.display import display, clear_output\n",
    "\n",
    "# Crear una lista con todas las letras del abecedario en mayúsculas\n",
    "abecedario = list(string.ascii_uppercase)\n",
    "\n",
    "# Crear un textbox para ingresar el nombre\n",
    "nombre_textbox = widgets.Text(\n",
    "    description='INGRESE EL NOMBRE:',\n",
    ")\n",
    "\n",
    "# Crear un output para mostrar el progreso\n",
    "output = widgets.Output()\n",
    "\n",
    "# Función para procesar el nombre\n",
    "def procesar_nombre(b):\n",
    "    with output:\n",
    "        clear_output()  # Limpiar el output anterior\n",
    "        nombre = nombre_textbox.value.upper()\n",
    "        final = \"\"  # Variable para almacenar el resultado final\n",
    "\n",
    "        # Procesar cada letra del nombre ingresado\n",
    "        for letra_nombre in nombre:\n",
    "            if letra_nombre == \" \":  # Si es un espacio, simplemente agregarlo\n",
    "                final += \" \"\n",
    "                print(final)\n",
    "                continue\n",
    "\n",
    "            # Iterar sobre el abecedario hasta alcanzar la letra correspondiente\n",
    "            for letra_abc in abecedario:\n",
    "                print(final + letra_abc, end=\"\\r\")  # Mostrar la letra que se va alcanzando\n",
    "                time.sleep(0.1)  # Añadir una pequeña pausa para mostrar el progreso\n",
    "                \n",
    "                if letra_abc == letra_nombre:  # Cuando se alcanza la letra, se agrega al resultado\n",
    "                    final += letra_abc\n",
    "                    print(final)  # Mostrar el resultado actualizado\n",
    "                    break\n",
    "\n",
    "        # Mostrar el resultado final\n",
    "        print(\"Resultado final:\", final)\n",
    "\n",
    "# Crear un botón para iniciar el proceso\n",
    "boton_procesar = widgets.Button(description=\"Procesar Nombre\")\n",
    "boton_procesar.on_click(procesar_nombre)\n",
    "\n",
    "# Mostrar el textbox, el botón y el output\n",
    "display(nombre_textbox, boton_procesar, output)\n"
   ]
  }
 ],
 "metadata": {
  "kernelspec": {
   "display_name": "Python 3",
   "language": "python",
   "name": "python3"
  },
  "language_info": {
   "codemirror_mode": {
    "name": "ipython",
    "version": 3
   },
   "file_extension": ".py",
   "mimetype": "text/x-python",
   "name": "python",
   "nbconvert_exporter": "python",
   "pygments_lexer": "ipython3",
   "version": "3.11.9"
  }
 },
 "nbformat": 4,
 "nbformat_minor": 2
}
