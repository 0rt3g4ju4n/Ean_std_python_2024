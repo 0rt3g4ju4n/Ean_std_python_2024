{
 "cells": [
  {
   "cell_type": "code",
   "execution_count": null,
   "metadata": {},
   "outputs": [],
   "source": [
    "import string\n",
    "\n",
    "# Crear una lista con todas las letras del abecedario\n",
    "abecedario = list(string.ascii_uppercase)\n",
    "nombre_input = str(input(\"INGRESE EL NOMBRE: \"))\n",
    "nombre = nombre_input.upper()\n",
    "final = \"\"\n",
    "print(nombre)\n",
    "for i in range(0, len(nombre)):\n",
    "  for m in abecedario:\n",
    "    if  nombre[i] == \" \":\n",
    "      final  +=\" \"\n",
    "  \n",
    "    if m == nombre[i]:\n",
    "      final += m\n",
    "    else:\n",
    "      print(final+m)\n",
    "\n",
    "  \n",
    "  "
   ]
  },
  {
   "cell_type": "code",
   "execution_count": 31,
   "metadata": {},
   "outputs": [
    {
     "name": "stdout",
     "output_type": "stream",
     "text": [
      "JUAN DAVID ORTEGA MURCIA\n"
     ]
    }
   ],
   "source": [
    "import string\n",
    "import time\n",
    "\n",
    "# Crear una lista con todas las letras del abecedario en mayúsculas\n",
    "abecedario = list(string.ascii_uppercase)\n",
    "\n",
    "# Solicitar el nombre del usuario\n",
    "nombre_input = input(\"INGRESE EL NOMBRE: \")\n",
    "nombre = nombre_input.upper()\n",
    "\n",
    "# Variable para almacenar el resultado final\n",
    "final = \"\"\n",
    "\n",
    "# Procesar cada letra del nombre ingresado\n",
    "for letra_nombre in nombre:\n",
    "    if letra_nombre == \" \":  # Si es un espacio, simplemente agregarlo\n",
    "        final += \" \"\n",
    "        #print(\" \")\n",
    "        continue\n",
    "\n",
    "    # Iterar sobre el abecedario hasta alcanzar la letra correspondiente\n",
    "    for letra_abc in abecedario:\n",
    "        print(final + letra_abc, end=\"\\r\")  # Mostrar la letra que se va alcanzando\n",
    "        time.sleep(0.1)  # Añadir una pequeña pausa para mostrar el progreso\n",
    "        \n",
    "        if letra_abc == letra_nombre:  # Cuando se alcanza la letra, se agrega al resultado\n",
    "            final += letra_abc\n",
    "            break\n",
    "\n",
    "# Mostrar el resultado final\n",
    "print(final)\n",
    "\n"
   ]
  }
 ],
 "metadata": {
  "kernelspec": {
   "display_name": "Python 3",
   "language": "python",
   "name": "python3"
  },
  "language_info": {
   "codemirror_mode": {
    "name": "ipython",
    "version": 3
   },
   "file_extension": ".py",
   "mimetype": "text/x-python",
   "name": "python",
   "nbconvert_exporter": "python",
   "pygments_lexer": "ipython3",
   "version": "3.11.9"
  }
 },
 "nbformat": 4,
 "nbformat_minor": 2
}
