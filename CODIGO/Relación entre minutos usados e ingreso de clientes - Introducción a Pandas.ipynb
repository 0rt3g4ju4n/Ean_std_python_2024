{
 "cells": [
  {
   "cell_type": "markdown",
   "metadata": {},
   "source": [
    "## ¿Existe relación alguna entre el total de minutos usados con la compañía y el ingreso total de los clientes?\n",
    "En el desarrollo de este caso introduciremos las librerías pandas, numpy y matplotlib para el preprocesamiento, visualización de un conjunto de datos y el desarrollo de algunas medidas estadísticas descriptivas.\n",
    "\n",
    "\n",
    "\n",
    "##  Introducción \n",
    "\n",
    "La revisión del comportamiento de los clientes en cualquier empresa es de vital importancia para el desarrollo de estrategias  tanto de mejoramiento de productos como de publicidad y toma de decisiones. Evaluaremos la información obtenida de un conjunto de registro obtenidos de una empresa de telecomunicaciones que cuenta con la revisión de las siguientes variables:\n",
    "\n",
    "1. totrev: Ingresos del cliente\n",
    "2. totmou: Total de minutos usados por el cliente\n",
    "3. area: Área geográfica\n",
    "4. creditcd: Indicador de tarjeta de crédito\n",
    "5. eqpdays: Número de días (antigüedad) del equipo actual\n",
    "\n",
    "Es importante mencionar que la empresa contiene una gran cantidad de clientes y hacer el análisis uno a uno no es lo  óptimo. Con ayuda de la programación y el análisis de datos, se logrará llegar a conclusiones rápidas y acertadas para encontrar relaciones que a simple vista no son tenidas en cuenta.\n",
    "\n",
    "### ¿Qué se quiere identificar? \n",
    "\n",
    "Teniendo en cuenta la información de la base de datos se quiere identificar si hay una relación entre el total de minutos usados por el cliente con la compañía y el ingreso total de los clientes, es decir, Será posible afirmar que cuando una persona\n",
    "tiene un mayor ingreso mayor entonces es mayor la utilización de minutos o todo lo contrario?\n",
    "\n",
    "\n",
    "####  Insumos para tratar este problema\n",
    "\n",
    "\n",
    "Teniendo en cuenta que la compañía tenia estándares para la entrega de la información, se dispone de un  conjunto de tablas en formato CSV ordenado de la siguiente manera:\n",
    "La información de este conjunto de datos puede encontrase en [aquí](https://www.kaggle.com/abhinav89/telecom-customer?select=Telecom_customer+churn.csv)\n",
    "\n",
    "### Objetivos\n",
    "\n",
    "En este caso usted tendrá que cargar varias bases de datos, hará una exploración básica sobre la información y fusionará las distintas bases para tener una visión general del problema. La idea es que desarrolle las siguientes habilidades:\n",
    "\n",
    "1. Manejo de la librería pandas de Python para cargar y leer datos; \n",
    "2. Ideas elementales para una útil transformación de los datos;\n",
    "3. Construcción y presentación de argumentos válidos que le brindarán una solución para la pregunta expresada más arriba y llegar a una conclusión. \n",
    "4. Visualización de gráficas elementales que le permitirá entender mejor la información contenida en los datos.\n",
    "\n",
    "#### Importación de paquetes\n",
    "\n",
    "\n",
    "Una de las mejores opciones para trabajar con datos tabulares en Python es usar el módulo pandas. La librería `pandas` provee estructuras de datos, genera gráficos de alta calidad con `matplotlib` y se integra de buena forma con otras librerías que usan arrays de `numpy`.\n",
    "\n",
    "Debemos revisar si la librería se encuentra en nuestro sistema usando el comando \n",
    "\n",
    "```python\n",
    "!pip show librería\n",
    "```\n"
   ]
  },
  {
   "cell_type": "code",
   "execution_count": 1,
   "metadata": {},
   "outputs": [],
   "source": [
    "#!pip show pandas\n",
    "#!pip show numpy\n",
    "#!pip show matplotlib"
   ]
  },
  {
   "cell_type": "markdown",
   "metadata": {},
   "source": [
    "En el caso de que la librería no se encuentre instalada ejecutamos el comando\n",
    "\n",
    "```python\n",
    "!pip install librería\n",
    "```"
   ]
  },
  {
   "cell_type": "markdown",
   "metadata": {},
   "source": [
    "Para importar las librerías usamos el comando \n",
    "```python\n",
    "import librería as alias\n",
    "```"
   ]
  },
  {
   "cell_type": "code",
   "execution_count": 2,
   "metadata": {},
   "outputs": [],
   "source": [
    "import pandas as pd\n",
    "import numpy as np\n",
    "import matplotlib.pyplot as plt\n",
    "import os"
   ]
  },
  {
   "cell_type": "markdown",
   "metadata": {},
   "source": [
    "Luego de que tener los paquetes activados dentro de nuestro ambiente de python podremos usar las fucnciones que se encuentren en la librería."
   ]
  },
  {
   "cell_type": "markdown",
   "metadata": {},
   "source": [
    "### Introducción a pandas\n",
    "\n",
    "Poner información sobre pandas e indicar la diferencia entre series y dataframe\n",
    "\n",
    "![](https://www.cdn.geeksforgeeks.org/wp-content/uploads/creating_dataframe1.png)"
   ]
  },
  {
   "cell_type": "markdown",
   "metadata": {},
   "source": [
    "A continuación, mostramos el código a ejecutar para crear una ` Serie`"
   ]
  },
  {
   "cell_type": "code",
   "execution_count": 3,
   "metadata": {},
   "outputs": [
    {
     "data": {
      "text/plain": [
       "Primero    A\n",
       "Segundo    B\n",
       "Tercero    C\n",
       "Cuarto     D\n",
       "Quinto     E\n",
       "Name: Variable1, dtype: object"
      ]
     },
     "execution_count": 3,
     "metadata": {},
     "output_type": "execute_result"
    }
   ],
   "source": [
    "Serie1 = pd.Series(\n",
    "index=['Primero', 'Segundo', 'Tercero', 'Cuarto', 'Quinto'], name=\"Variable1\", data=[\"A\",\"B\",\"C\",\"D\",\"E\"]\n",
    ")\n",
    "Serie1"
   ]
  },
  {
   "cell_type": "code",
   "execution_count": 4,
   "metadata": {},
   "outputs": [
    {
     "data": {
      "text/html": [
       "<div>\n",
       "<style scoped>\n",
       "    .dataframe tbody tr th:only-of-type {\n",
       "        vertical-align: middle;\n",
       "    }\n",
       "\n",
       "    .dataframe tbody tr th {\n",
       "        vertical-align: top;\n",
       "    }\n",
       "\n",
       "    .dataframe thead th {\n",
       "        text-align: right;\n",
       "    }\n",
       "</style>\n",
       "<table border=\"1\" class=\"dataframe\">\n",
       "  <thead>\n",
       "    <tr style=\"text-align: right;\">\n",
       "      <th></th>\n",
       "      <th>Variable2</th>\n",
       "      <th>Variable3</th>\n",
       "    </tr>\n",
       "  </thead>\n",
       "  <tbody>\n",
       "    <tr>\n",
       "      <th>Primero</th>\n",
       "      <td>Hola</td>\n",
       "      <td>12</td>\n",
       "    </tr>\n",
       "    <tr>\n",
       "      <th>Segundo</th>\n",
       "      <td>2</td>\n",
       "      <td>22</td>\n",
       "    </tr>\n",
       "    <tr>\n",
       "      <th>Tercero</th>\n",
       "      <td>3</td>\n",
       "      <td>32</td>\n",
       "    </tr>\n",
       "    <tr>\n",
       "      <th>Cuarto</th>\n",
       "      <td>4</td>\n",
       "      <td>42</td>\n",
       "    </tr>\n",
       "    <tr>\n",
       "      <th>Quinto</th>\n",
       "      <td>5</td>\n",
       "      <td>52</td>\n",
       "    </tr>\n",
       "  </tbody>\n",
       "</table>\n",
       "</div>"
      ],
      "text/plain": [
       "        Variable2  Variable3\n",
       "Primero      Hola         12\n",
       "Segundo         2         22\n",
       "Tercero         3         32\n",
       "Cuarto          4         42\n",
       "Quinto          5         52"
      ]
     },
     "execution_count": 4,
     "metadata": {},
     "output_type": "execute_result"
    }
   ],
   "source": [
    "Data_Frame = pd.DataFrame( \n",
    "index=['Primero', 'Segundo', 'Tercero', 'Cuarto', 'Quinto'],\n",
    "    columns=[\"Variable2\",\"Variable3\"], \n",
    "    data=[['Hola', 12], [2, 22],[3,32],[4,42],[5,52]]\n",
    ")\n",
    "Data_Frame"
   ]
  },
  {
   "cell_type": "markdown",
   "metadata": {},
   "source": [
    "Para revisar el tipo de objeto que contiene nuestro DataFrame podemos ejecutar"
   ]
  },
  {
   "cell_type": "code",
   "execution_count": 5,
   "metadata": {},
   "outputs": [],
   "source": [
    "Data_Frame['Variable3']=Data_Frame['Variable3'].astype('float')"
   ]
  },
  {
   "cell_type": "code",
   "execution_count": 6,
   "metadata": {},
   "outputs": [
    {
     "data": {
      "text/plain": [
       "Variable2     object\n",
       "Variable3    float64\n",
       "dtype: object"
      ]
     },
     "execution_count": 6,
     "metadata": {},
     "output_type": "execute_result"
    }
   ],
   "source": [
    "Data_Frame.dtypes\n",
    "#Serie1.dtypes"
   ]
  },
  {
   "cell_type": "code",
   "execution_count": 7,
   "metadata": {},
   "outputs": [
    {
     "data": {
      "text/html": [
       "<div>\n",
       "<style scoped>\n",
       "    .dataframe tbody tr th:only-of-type {\n",
       "        vertical-align: middle;\n",
       "    }\n",
       "\n",
       "    .dataframe tbody tr th {\n",
       "        vertical-align: top;\n",
       "    }\n",
       "\n",
       "    .dataframe thead th {\n",
       "        text-align: right;\n",
       "    }\n",
       "</style>\n",
       "<table border=\"1\" class=\"dataframe\">\n",
       "  <thead>\n",
       "    <tr style=\"text-align: right;\">\n",
       "      <th></th>\n",
       "      <th>Variable2</th>\n",
       "      <th>Variable3</th>\n",
       "    </tr>\n",
       "  </thead>\n",
       "  <tbody>\n",
       "    <tr>\n",
       "      <th>Primero</th>\n",
       "      <td>Hola</td>\n",
       "      <td>12.0</td>\n",
       "    </tr>\n",
       "    <tr>\n",
       "      <th>Segundo</th>\n",
       "      <td>2</td>\n",
       "      <td>22.0</td>\n",
       "    </tr>\n",
       "    <tr>\n",
       "      <th>Tercero</th>\n",
       "      <td>3</td>\n",
       "      <td>32.0</td>\n",
       "    </tr>\n",
       "    <tr>\n",
       "      <th>Cuarto</th>\n",
       "      <td>4</td>\n",
       "      <td>42.0</td>\n",
       "    </tr>\n",
       "    <tr>\n",
       "      <th>Quinto</th>\n",
       "      <td>5</td>\n",
       "      <td>52.0</td>\n",
       "    </tr>\n",
       "  </tbody>\n",
       "</table>\n",
       "</div>"
      ],
      "text/plain": [
       "        Variable2  Variable3\n",
       "Primero      Hola       12.0\n",
       "Segundo         2       22.0\n",
       "Tercero         3       32.0\n",
       "Cuarto          4       42.0\n",
       "Quinto          5       52.0"
      ]
     },
     "execution_count": 7,
     "metadata": {},
     "output_type": "execute_result"
    }
   ],
   "source": [
    "Data_Frame"
   ]
  },
  {
   "cell_type": "markdown",
   "metadata": {},
   "source": [
    "Extraer datos sobre la base:\n",
    "\n",
    "Si quiero conocer una columna de la base simplemente escribo `DataFrame['nombre_columna']`"
   ]
  },
  {
   "cell_type": "code",
   "execution_count": 8,
   "metadata": {},
   "outputs": [
    {
     "data": {
      "text/html": [
       "<div>\n",
       "<style scoped>\n",
       "    .dataframe tbody tr th:only-of-type {\n",
       "        vertical-align: middle;\n",
       "    }\n",
       "\n",
       "    .dataframe tbody tr th {\n",
       "        vertical-align: top;\n",
       "    }\n",
       "\n",
       "    .dataframe thead th {\n",
       "        text-align: right;\n",
       "    }\n",
       "</style>\n",
       "<table border=\"1\" class=\"dataframe\">\n",
       "  <thead>\n",
       "    <tr style=\"text-align: right;\">\n",
       "      <th></th>\n",
       "      <th>Variable2</th>\n",
       "    </tr>\n",
       "  </thead>\n",
       "  <tbody>\n",
       "    <tr>\n",
       "      <th>Primero</th>\n",
       "      <td>Hola</td>\n",
       "    </tr>\n",
       "    <tr>\n",
       "      <th>Segundo</th>\n",
       "      <td>2</td>\n",
       "    </tr>\n",
       "    <tr>\n",
       "      <th>Tercero</th>\n",
       "      <td>3</td>\n",
       "    </tr>\n",
       "    <tr>\n",
       "      <th>Cuarto</th>\n",
       "      <td>4</td>\n",
       "    </tr>\n",
       "    <tr>\n",
       "      <th>Quinto</th>\n",
       "      <td>5</td>\n",
       "    </tr>\n",
       "  </tbody>\n",
       "</table>\n",
       "</div>"
      ],
      "text/plain": [
       "        Variable2\n",
       "Primero      Hola\n",
       "Segundo         2\n",
       "Tercero         3\n",
       "Cuarto          4\n",
       "Quinto          5"
      ]
     },
     "execution_count": 8,
     "metadata": {},
     "output_type": "execute_result"
    }
   ],
   "source": [
    "Data_Frame[['Variable2']]"
   ]
  },
  {
   "cell_type": "code",
   "execution_count": 9,
   "metadata": {},
   "outputs": [],
   "source": [
    "Data_Frame['Variable1']=Serie1"
   ]
  },
  {
   "cell_type": "code",
   "execution_count": 10,
   "metadata": {},
   "outputs": [
    {
     "data": {
      "text/html": [
       "<div>\n",
       "<style scoped>\n",
       "    .dataframe tbody tr th:only-of-type {\n",
       "        vertical-align: middle;\n",
       "    }\n",
       "\n",
       "    .dataframe tbody tr th {\n",
       "        vertical-align: top;\n",
       "    }\n",
       "\n",
       "    .dataframe thead th {\n",
       "        text-align: right;\n",
       "    }\n",
       "</style>\n",
       "<table border=\"1\" class=\"dataframe\">\n",
       "  <thead>\n",
       "    <tr style=\"text-align: right;\">\n",
       "      <th></th>\n",
       "      <th>Variable2</th>\n",
       "      <th>Variable3</th>\n",
       "      <th>Variable1</th>\n",
       "    </tr>\n",
       "  </thead>\n",
       "  <tbody>\n",
       "    <tr>\n",
       "      <th>Primero</th>\n",
       "      <td>Hola</td>\n",
       "      <td>12.0</td>\n",
       "      <td>A</td>\n",
       "    </tr>\n",
       "    <tr>\n",
       "      <th>Segundo</th>\n",
       "      <td>2</td>\n",
       "      <td>22.0</td>\n",
       "      <td>B</td>\n",
       "    </tr>\n",
       "    <tr>\n",
       "      <th>Tercero</th>\n",
       "      <td>3</td>\n",
       "      <td>32.0</td>\n",
       "      <td>C</td>\n",
       "    </tr>\n",
       "    <tr>\n",
       "      <th>Cuarto</th>\n",
       "      <td>4</td>\n",
       "      <td>42.0</td>\n",
       "      <td>D</td>\n",
       "    </tr>\n",
       "    <tr>\n",
       "      <th>Quinto</th>\n",
       "      <td>5</td>\n",
       "      <td>52.0</td>\n",
       "      <td>E</td>\n",
       "    </tr>\n",
       "  </tbody>\n",
       "</table>\n",
       "</div>"
      ],
      "text/plain": [
       "        Variable2  Variable3 Variable1\n",
       "Primero      Hola       12.0         A\n",
       "Segundo         2       22.0         B\n",
       "Tercero         3       32.0         C\n",
       "Cuarto          4       42.0         D\n",
       "Quinto          5       52.0         E"
      ]
     },
     "execution_count": 10,
     "metadata": {},
     "output_type": "execute_result"
    }
   ],
   "source": [
    "Data_Frame"
   ]
  },
  {
   "cell_type": "markdown",
   "metadata": {},
   "source": [
    "Si quiero ver varias columnas de la base de datos, utilizo doble paréntesis cuadrado:\n",
    "\n",
    "`DataFrame[['columna1','columna2']]`"
   ]
  },
  {
   "cell_type": "code",
   "execution_count": 11,
   "metadata": {},
   "outputs": [
    {
     "data": {
      "text/html": [
       "<div>\n",
       "<style scoped>\n",
       "    .dataframe tbody tr th:only-of-type {\n",
       "        vertical-align: middle;\n",
       "    }\n",
       "\n",
       "    .dataframe tbody tr th {\n",
       "        vertical-align: top;\n",
       "    }\n",
       "\n",
       "    .dataframe thead th {\n",
       "        text-align: right;\n",
       "    }\n",
       "</style>\n",
       "<table border=\"1\" class=\"dataframe\">\n",
       "  <thead>\n",
       "    <tr style=\"text-align: right;\">\n",
       "      <th></th>\n",
       "      <th>Variable1</th>\n",
       "      <th>Variable2</th>\n",
       "    </tr>\n",
       "  </thead>\n",
       "  <tbody>\n",
       "    <tr>\n",
       "      <th>Primero</th>\n",
       "      <td>A</td>\n",
       "      <td>Hola</td>\n",
       "    </tr>\n",
       "    <tr>\n",
       "      <th>Segundo</th>\n",
       "      <td>B</td>\n",
       "      <td>2</td>\n",
       "    </tr>\n",
       "    <tr>\n",
       "      <th>Tercero</th>\n",
       "      <td>C</td>\n",
       "      <td>3</td>\n",
       "    </tr>\n",
       "    <tr>\n",
       "      <th>Cuarto</th>\n",
       "      <td>D</td>\n",
       "      <td>4</td>\n",
       "    </tr>\n",
       "    <tr>\n",
       "      <th>Quinto</th>\n",
       "      <td>E</td>\n",
       "      <td>5</td>\n",
       "    </tr>\n",
       "  </tbody>\n",
       "</table>\n",
       "</div>"
      ],
      "text/plain": [
       "        Variable1 Variable2\n",
       "Primero         A      Hola\n",
       "Segundo         B         2\n",
       "Tercero         C         3\n",
       "Cuarto          D         4\n",
       "Quinto          E         5"
      ]
     },
     "execution_count": 11,
     "metadata": {},
     "output_type": "execute_result"
    }
   ],
   "source": [
    "Data_Frame[['Variable1','Variable2']]"
   ]
  },
  {
   "cell_type": "markdown",
   "metadata": {},
   "source": [
    "Si quiero ver datos por registros utilizo loc:"
   ]
  },
  {
   "cell_type": "code",
   "execution_count": 12,
   "metadata": {},
   "outputs": [
    {
     "data": {
      "text/html": [
       "<div>\n",
       "<style scoped>\n",
       "    .dataframe tbody tr th:only-of-type {\n",
       "        vertical-align: middle;\n",
       "    }\n",
       "\n",
       "    .dataframe tbody tr th {\n",
       "        vertical-align: top;\n",
       "    }\n",
       "\n",
       "    .dataframe thead th {\n",
       "        text-align: right;\n",
       "    }\n",
       "</style>\n",
       "<table border=\"1\" class=\"dataframe\">\n",
       "  <thead>\n",
       "    <tr style=\"text-align: right;\">\n",
       "      <th></th>\n",
       "      <th>Variable2</th>\n",
       "      <th>Variable3</th>\n",
       "      <th>Variable1</th>\n",
       "    </tr>\n",
       "  </thead>\n",
       "  <tbody>\n",
       "    <tr>\n",
       "      <th>Primero</th>\n",
       "      <td>Hola</td>\n",
       "      <td>12.0</td>\n",
       "      <td>A</td>\n",
       "    </tr>\n",
       "    <tr>\n",
       "      <th>Tercero</th>\n",
       "      <td>3</td>\n",
       "      <td>32.0</td>\n",
       "      <td>C</td>\n",
       "    </tr>\n",
       "    <tr>\n",
       "      <th>Quinto</th>\n",
       "      <td>5</td>\n",
       "      <td>52.0</td>\n",
       "      <td>E</td>\n",
       "    </tr>\n",
       "  </tbody>\n",
       "</table>\n",
       "</div>"
      ],
      "text/plain": [
       "        Variable2  Variable3 Variable1\n",
       "Primero      Hola       12.0         A\n",
       "Tercero         3       32.0         C\n",
       "Quinto          5       52.0         E"
      ]
     },
     "execution_count": 12,
     "metadata": {},
     "output_type": "execute_result"
    }
   ],
   "source": [
    "Data_Frame.loc[['Primero','Tercero','Quinto']]"
   ]
  },
  {
   "cell_type": "code",
   "execution_count": 13,
   "metadata": {},
   "outputs": [
    {
     "data": {
      "text/html": [
       "<div>\n",
       "<style scoped>\n",
       "    .dataframe tbody tr th:only-of-type {\n",
       "        vertical-align: middle;\n",
       "    }\n",
       "\n",
       "    .dataframe tbody tr th {\n",
       "        vertical-align: top;\n",
       "    }\n",
       "\n",
       "    .dataframe thead th {\n",
       "        text-align: right;\n",
       "    }\n",
       "</style>\n",
       "<table border=\"1\" class=\"dataframe\">\n",
       "  <thead>\n",
       "    <tr style=\"text-align: right;\">\n",
       "      <th></th>\n",
       "      <th>Variable2</th>\n",
       "      <th>Variable3</th>\n",
       "      <th>Variable1</th>\n",
       "    </tr>\n",
       "  </thead>\n",
       "  <tbody>\n",
       "    <tr>\n",
       "      <th>Primero</th>\n",
       "      <td>Hola</td>\n",
       "      <td>12.0</td>\n",
       "      <td>A</td>\n",
       "    </tr>\n",
       "    <tr>\n",
       "      <th>Tercero</th>\n",
       "      <td>3</td>\n",
       "      <td>32.0</td>\n",
       "      <td>C</td>\n",
       "    </tr>\n",
       "    <tr>\n",
       "      <th>Quinto</th>\n",
       "      <td>5</td>\n",
       "      <td>52.0</td>\n",
       "      <td>E</td>\n",
       "    </tr>\n",
       "  </tbody>\n",
       "</table>\n",
       "</div>"
      ],
      "text/plain": [
       "        Variable2  Variable3 Variable1\n",
       "Primero      Hola       12.0         A\n",
       "Tercero         3       32.0         C\n",
       "Quinto          5       52.0         E"
      ]
     },
     "execution_count": 13,
     "metadata": {},
     "output_type": "execute_result"
    }
   ],
   "source": [
    "Data_Frame.iloc[[0,2,4]]"
   ]
  },
  {
   "cell_type": "markdown",
   "metadata": {},
   "source": [
    "### Carga de información en `pandas`\n",
    "\n",
    "Para nuestro  ejercicio usaremos los siguientes conjuntos de datos:\n",
    "\n",
    "1. NEW ENGLAND AREA.csv\n",
    "2. ATLANTIC SOUTH AREA.csv\n",
    "3. NEW YORK CITY AREA.csv\n",
    "4. CHICAGO AREA.csv\n",
    "5. NORTH FLORIDA AREA.csv\n",
    "6. DC-MARYLAND-VIRGINIA AREA.csv\n",
    "7. GREAT LAKES AREA.csv\n",
    "8. NORTHWEST-ROCKY MOUNTAIN AREA.csv\n",
    "9. MIDWEST AREA.csv\n",
    "10. SOUTHWEST AREA.csv\n",
    "11. LOS ANGELES AREA.csv\n",
    "12. HOUSTON AREA.csv\n",
    "13. CALIFORNIA NORTH AREA.csv\n",
    "14. CENTRAL-SOUTH TEXAS AREA.csv\n",
    "15. DALLAS AREA.csv\n",
    "16. PHILADELPHIA AREA.csv\n",
    "17. TENNESSEE AREA.csv\n",
    "18. OHIO AREA.csv\n",
    "19. SOUTH FLORIDA AREA.csv\n",
    "\n",
    "Cada uno de estos conjuntos de datos contiene la información de:\n",
    "\n",
    "1. *mou_Mean:* Número medio de minutos de uso mensuales\n",
    "2. *custcare_Mean:* Número medio de llamadas de atención al cliente\n",
    "3. *area:*  Área geografica\n",
    "4. *creditcd:* Indicador de tarjeta de crédito\n",
    "5. *eqpdays:* Número de días (antigüedad) del equipo actual\n",
    "\n",
    "Además, se incluye _Credito_dias.csv_ con la información de 2 variables adicionales para los registros las cuales son:\n",
    "\n",
    "1. _creditcd:_ Indicador de tarjeta de crédito\n",
    "2. _eqpdays:_ Número de días (antigüedad) del equipo actual\n",
    "\n",
    "Revisaremos inicialmente los datos contenidos en _Credito_dias.csv_ para revisar algunas funciones interesantes de `pandas`, usaremos el comando \n",
    "```python\n",
    "pd.read_csv(\"archivo.csv\")\n",
    "```\n",
    "Podemos definir el número de registros a imprimir usando\n",
    "```python\n",
    "pd.options.display.min_rows=10\n",
    "````"
   ]
  },
  {
   "cell_type": "code",
   "execution_count": 14,
   "metadata": {},
   "outputs": [
    {
     "data": {
      "text/html": [
       "<div>\n",
       "<style scoped>\n",
       "    .dataframe tbody tr th:only-of-type {\n",
       "        vertical-align: middle;\n",
       "    }\n",
       "\n",
       "    .dataframe tbody tr th {\n",
       "        vertical-align: top;\n",
       "    }\n",
       "\n",
       "    .dataframe thead th {\n",
       "        text-align: right;\n",
       "    }\n",
       "</style>\n",
       "<table border=\"1\" class=\"dataframe\">\n",
       "  <thead>\n",
       "    <tr style=\"text-align: right;\">\n",
       "      <th></th>\n",
       "      <th>totmou</th>\n",
       "      <th>totrev</th>\n",
       "      <th>creditcd</th>\n",
       "      <th>eqpdays</th>\n",
       "    </tr>\n",
       "    <tr>\n",
       "      <th>Customer_ID</th>\n",
       "      <th></th>\n",
       "      <th></th>\n",
       "      <th></th>\n",
       "      <th></th>\n",
       "    </tr>\n",
       "  </thead>\n",
       "  <tbody>\n",
       "    <tr>\n",
       "      <th>1082423</th>\n",
       "      <td>7269.0</td>\n",
       "      <td>906.58</td>\n",
       "      <td>Y</td>\n",
       "      <td>371</td>\n",
       "    </tr>\n",
       "    <tr>\n",
       "      <th>1069232</th>\n",
       "      <td>13552.0</td>\n",
       "      <td>1172.25</td>\n",
       "      <td>N</td>\n",
       "      <td>83</td>\n",
       "    </tr>\n",
       "    <tr>\n",
       "      <th>1031705</th>\n",
       "      <td>4152.0</td>\n",
       "      <td>577.39</td>\n",
       "      <td>Y</td>\n",
       "      <td>675</td>\n",
       "    </tr>\n",
       "    <tr>\n",
       "      <th>1089806</th>\n",
       "      <td>1863.0</td>\n",
       "      <td>294.26</td>\n",
       "      <td>Y</td>\n",
       "      <td>218</td>\n",
       "    </tr>\n",
       "    <tr>\n",
       "      <th>1076695</th>\n",
       "      <td>4155.0</td>\n",
       "      <td>433.16</td>\n",
       "      <td>N</td>\n",
       "      <td>222</td>\n",
       "    </tr>\n",
       "    <tr>\n",
       "      <th>...</th>\n",
       "      <td>...</td>\n",
       "      <td>...</td>\n",
       "      <td>...</td>\n",
       "      <td>...</td>\n",
       "    </tr>\n",
       "    <tr>\n",
       "      <th>1027614</th>\n",
       "      <td>2570.0</td>\n",
       "      <td>484.31</td>\n",
       "      <td>Y</td>\n",
       "      <td>611</td>\n",
       "    </tr>\n",
       "    <tr>\n",
       "      <th>1098422</th>\n",
       "      <td>2105.0</td>\n",
       "      <td>583.36</td>\n",
       "      <td>Y</td>\n",
       "      <td>1243</td>\n",
       "    </tr>\n",
       "    <tr>\n",
       "      <th>1096497</th>\n",
       "      <td>3690.0</td>\n",
       "      <td>294.29</td>\n",
       "      <td>Y</td>\n",
       "      <td>212</td>\n",
       "    </tr>\n",
       "    <tr>\n",
       "      <th>1087248</th>\n",
       "      <td>3333.0</td>\n",
       "      <td>233.08</td>\n",
       "      <td>Y</td>\n",
       "      <td>290</td>\n",
       "    </tr>\n",
       "    <tr>\n",
       "      <th>1099003</th>\n",
       "      <td>5025.0</td>\n",
       "      <td>1436.49</td>\n",
       "      <td>Y</td>\n",
       "      <td>1029</td>\n",
       "    </tr>\n",
       "  </tbody>\n",
       "</table>\n",
       "<p>10000 rows × 4 columns</p>\n",
       "</div>"
      ],
      "text/plain": [
       "              totmou   totrev creditcd  eqpdays\n",
       "Customer_ID                                    \n",
       "1082423       7269.0   906.58        Y      371\n",
       "1069232      13552.0  1172.25        N       83\n",
       "1031705       4152.0   577.39        Y      675\n",
       "1089806       1863.0   294.26        Y      218\n",
       "1076695       4155.0   433.16        N      222\n",
       "...              ...      ...      ...      ...\n",
       "1027614       2570.0   484.31        Y      611\n",
       "1098422       2105.0   583.36        Y     1243\n",
       "1096497       3690.0   294.29        Y      212\n",
       "1087248       3333.0   233.08        Y      290\n",
       "1099003       5025.0  1436.49        Y     1029\n",
       "\n",
       "[10000 rows x 4 columns]"
      ]
     },
     "execution_count": 14,
     "metadata": {},
     "output_type": "execute_result"
    }
   ],
   "source": [
    "df=pd.read_csv(\"../Datos/Clase 2/Credito_dias.csv\", sep=\",\",index_col=\"Customer_ID\")\n",
    "df"
   ]
  },
  {
   "cell_type": "code",
   "execution_count": 15,
   "metadata": {},
   "outputs": [
    {
     "data": {
      "text/plain": [
       "creditcd\n",
       "Y      6796\n",
       "N      3052\n",
       "NaN     152\n",
       "Name: count, dtype: int64"
      ]
     },
     "execution_count": 15,
     "metadata": {},
     "output_type": "execute_result"
    }
   ],
   "source": [
    "df['creditcd'].value_counts(dropna=False)"
   ]
  },
  {
   "cell_type": "code",
   "execution_count": 16,
   "metadata": {},
   "outputs": [
    {
     "data": {
      "text/plain": [
       "creditcd\n",
       "Y      0.6796\n",
       "N      0.3052\n",
       "NaN    0.0152\n",
       "Name: proportion, dtype: float64"
      ]
     },
     "execution_count": 16,
     "metadata": {},
     "output_type": "execute_result"
    }
   ],
   "source": [
    "df['creditcd'].value_counts(normalize=True,dropna=False)"
   ]
  },
  {
   "cell_type": "code",
   "execution_count": 17,
   "metadata": {},
   "outputs": [
    {
     "data": {
      "text/plain": [
       "<Axes: xlabel='creditcd'>"
      ]
     },
     "execution_count": 17,
     "metadata": {},
     "output_type": "execute_result"
    },
    {
     "data": {
      "image/png": "[encoded data removed]",
      "text/plain": [
       "<Figure size 640x480 with 1 Axes>"
      ]
     },
     "metadata": {},
     "output_type": "display_data"
    }
   ],
   "source": [
    "df['creditcd'].value_counts(dropna=False).plot(kind='bar',)"
   ]
  },
  {
   "cell_type": "code",
   "execution_count": 18,
   "metadata": {},
   "outputs": [
    {
     "data": {
      "text/plain": [
       "<Axes: ylabel='count'>"
      ]
     },
     "execution_count": 18,
     "metadata": {},
     "output_type": "execute_result"
    },
    {
     "data": {
      "image/png": "[encoded data removed]",
      "text/plain": [
       "<Figure size 640x480 with 1 Axes>"
      ]
     },
     "metadata": {},
     "output_type": "display_data"
    }
   ],
   "source": [
    "df['creditcd'].value_counts(dropna=False).plot(kind='pie')"
   ]
  },
  {
   "cell_type": "code",
   "execution_count": 19,
   "metadata": {},
   "outputs": [
    {
     "data": {
      "image/png": "[encoded data removed]",
      "text/plain": [
       "<Figure size 640x480 with 1 Axes>"
      ]
     },
     "metadata": {},
     "output_type": "display_data"
    }
   ],
   "source": [
    "import matplotlib.pyplot as plt\n",
    "\n",
    "# Crear el gráfico de barras\n",
    "ax = df['creditcd'].value_counts(dropna=False).plot(kind='bar')\n",
    "\n",
    "# Añadir etiquetas numéricas a cada barra\n",
    "for p in ax.patches:\n",
    "    ax.annotate(str(p.get_height()), (p.get_x() * 1.02, p.get_height() * 1.02))\n",
    "\n",
    "# Mostrar el gráfico\n",
    "plt.show()\n"
   ]
  },
  {
   "cell_type": "code",
   "execution_count": 20,
   "metadata": {},
   "outputs": [
    {
     "data": {
      "image/png": "[encoded data removed]",
      "text/plain": [
       "<Figure size 600x300 with 1 Axes>"
      ]
     },
     "metadata": {},
     "output_type": "display_data"
    }
   ],
   "source": [
    "import matplotlib.pyplot as plt\n",
    "import numpy as np\n",
    "\n",
    "fig, ax = plt.subplots(figsize=(6, 3), subplot_kw=dict(aspect=\"equal\"))\n",
    "\n",
    "data_pie=df['creditcd'].value_counts(dropna=False)\n",
    "\n",
    "\n",
    "def func(pct, allvals):\n",
    "    absolute = int(np.round(pct/100.*np.sum(allvals)))\n",
    "    return f\"{pct:.1f}%\\n({absolute:d})\"\n",
    "\n",
    "\n",
    "wedges, texts, autotexts = ax.pie(data_pie, autopct=lambda pct: func(pct, data_pie),\n",
    "                                  textprops=dict(color=\"w\"))\n",
    "\n",
    "\n",
    "plt.setp(autotexts, size=8, weight=\"bold\")\n",
    "\n",
    "ax.set_title(\"Matplotlib bakery: A pie\")\n",
    "\n",
    "plt.show()"
   ]
  },
  {
   "cell_type": "code",
   "execution_count": null,
   "metadata": {},
   "outputs": [],
   "source": []
  },
  {
   "cell_type": "code",
   "execution_count": 21,
   "metadata": {},
   "outputs": [
    {
     "data": {
      "text/plain": [
       "7692.8048656727005"
      ]
     },
     "execution_count": 21,
     "metadata": {},
     "output_type": "execute_result"
    }
   ],
   "source": [
    "df['totmou'].mean()"
   ]
  },
  {
   "cell_type": "code",
   "execution_count": 22,
   "metadata": {},
   "outputs": [
    {
     "data": {
      "text/plain": [
       "5262.0"
      ]
     },
     "execution_count": 22,
     "metadata": {},
     "output_type": "execute_result"
    }
   ],
   "source": [
    "df['totmou'].median()"
   ]
  },
  {
   "cell_type": "code",
   "execution_count": 23,
   "metadata": {},
   "outputs": [
    {
     "data": {
      "text/plain": [
       "totmou\n",
       "4106.0     6\n",
       "1710.0     6\n",
       "6891.0     6\n",
       "1581.0     6\n",
       "1193.0     5\n",
       "          ..\n",
       "5724.0     1\n",
       "14168.0    1\n",
       "16702.0    1\n",
       "4651.0     1\n",
       "5025.0     1\n",
       "Name: count, Length: 7433, dtype: int64"
      ]
     },
     "execution_count": 23,
     "metadata": {},
     "output_type": "execute_result"
    }
   ],
   "source": [
    "df['totmou'].value_counts()"
   ]
  },
  {
   "cell_type": "markdown",
   "metadata": {},
   "source": [
    "### Dispersion"
   ]
  },
  {
   "cell_type": "code",
   "execution_count": 24,
   "metadata": {},
   "outputs": [
    {
     "data": {
      "text/plain": [
       "163264.1767"
      ]
     },
     "execution_count": 24,
     "metadata": {},
     "output_type": "execute_result"
    }
   ],
   "source": [
    "## Rango\n",
    "df['totmou'].max()-df['totmou'].min()"
   ]
  },
  {
   "cell_type": "code",
   "execution_count": 25,
   "metadata": {},
   "outputs": [
    {
     "name": "stdout",
     "output_type": "stream",
     "text": [
      "Percentil 0.0: 0.0\n",
      "Percentil 10.0: 1157.9\n",
      "Percentil 20.0: 2116.8\n",
      "Percentil 30.000000000000004: 3040.7000000000003\n",
      "Percentil 40.0: 4056.0\n",
      "Percentil 50.0: 5262.0\n",
      "Percentil 60.00000000000001: 6682.800000000004\n",
      "Percentil 70.0: 8630.3\n",
      "Percentil 80.0: 11295.800000000007\n",
      "Percentil 90.0: 16654.1\n",
      "Percentil 100.0: 163264.1767\n"
     ]
    }
   ],
   "source": [
    "## medidas de posición (cuantiles)\n",
    "\n",
    "### Son los valores que dividen a un conjunto de datos ordenados en partes, según la proporción de datos que se quiere obtener.\n",
    "\n",
    "## Percentiles\n",
    "\n",
    "for percentil in np.arange(0,1.1,0.1):\n",
    "    print(f\"Percentil {percentil*100}: {df['totmou'].quantile(percentil)}\")"
   ]
  },
  {
   "cell_type": "markdown",
   "metadata": {},
   "source": [
    "###"
   ]
  },
  {
   "cell_type": "code",
   "execution_count": 26,
   "metadata": {},
   "outputs": [
    {
     "name": "stdout",
     "output_type": "stream",
     "text": [
      "Percentil 0.0: 0.0\n",
      "Percentil 25.0: 2576.0\n",
      "Percentil 50.0: 5262.0\n",
      "Percentil 75.0: 9823.25\n",
      "Percentil 100.0: 163264.1767\n"
     ]
    }
   ],
   "source": [
    "### Quartiles\n",
    "for percentil in np.arange(0,1.1,0.25):\n",
    "    print(f\"Percentil {percentil*100}: {df['totmou'].quantile(percentil)}\")"
   ]
  },
  {
   "cell_type": "code",
   "execution_count": 27,
   "metadata": {},
   "outputs": [
    {
     "data": {
      "text/plain": [
       "<Axes: >"
      ]
     },
     "execution_count": 27,
     "metadata": {},
     "output_type": "execute_result"
    },
    {
     "data": {
      "image/png": "[encoded data removed]",
      "text/plain": [
       "<Figure size 640x480 with 1 Axes>"
      ]
     },
     "metadata": {},
     "output_type": "display_data"
    }
   ],
   "source": [
    "df['totmou'].plot(kind='box')"
   ]
  },
  {
   "cell_type": "code",
   "execution_count": 28,
   "metadata": {},
   "outputs": [
    {
     "name": "stdout",
     "output_type": "stream",
     "text": [
      "Q1: 2576.0\n",
      "Q3: 9823.25\n",
      "Rango intercuartilico: 7247.25\n"
     ]
    }
   ],
   "source": [
    "IQR=df['totmou'].quantile(0.75)-df['totmou'].quantile(0.25)\n",
    "\n",
    "print(f\"Q1: {df['totmou'].quantile(0.25)}\")\n",
    "print(f\"Q3: {df['totmou'].quantile(0.75)}\")\n",
    "\n",
    "print(f\"Rango intercuartilico: {IQR}\")"
   ]
  },
  {
   "cell_type": "code",
   "execution_count": 29,
   "metadata": {},
   "outputs": [
    {
     "data": {
      "text/plain": [
       "8657.917883024007"
      ]
     },
     "execution_count": 29,
     "metadata": {},
     "output_type": "execute_result"
    }
   ],
   "source": [
    "df['totmou'].std()"
   ]
  },
  {
   "cell_type": "code",
   "execution_count": 30,
   "metadata": {},
   "outputs": [
    {
     "data": {
      "text/plain": [
       "74959542.0691869"
      ]
     },
     "execution_count": 30,
     "metadata": {},
     "output_type": "execute_result"
    }
   ],
   "source": [
    "df['totmou'].var()"
   ]
  },
  {
   "cell_type": "code",
   "execution_count": 31,
   "metadata": {},
   "outputs": [
    {
     "data": {
      "text/plain": [
       "count     10000.000000\n",
       "mean       7692.804866\n",
       "std        8657.917883\n",
       "min           0.000000\n",
       "25%        2576.000000\n",
       "50%        5262.000000\n",
       "75%        9823.250000\n",
       "max      163264.176700\n",
       "Name: totmou, dtype: float64"
      ]
     },
     "execution_count": 31,
     "metadata": {},
     "output_type": "execute_result"
    }
   ],
   "source": [
    "### Resumen de métricas con python\n",
    "\n",
    "df['totmou'].describe()"
   ]
  },
  {
   "cell_type": "code",
   "execution_count": 32,
   "metadata": {},
   "outputs": [
    {
     "data": {
      "text/plain": [
       "count     10000.000000\n",
       "mean       7692.804866\n",
       "std        8657.917883\n",
       "min           0.000000\n",
       "10%        1157.900000\n",
       "20%        2116.800000\n",
       "30%        3040.700000\n",
       "40%        4056.000000\n",
       "50%        5262.000000\n",
       "60%        6682.800000\n",
       "70%        8630.300000\n",
       "80%       11295.800000\n",
       "90%       16654.100000\n",
       "max      163264.176700\n",
       "Name: totmou, dtype: float64"
      ]
     },
     "execution_count": 32,
     "metadata": {},
     "output_type": "execute_result"
    }
   ],
   "source": [
    "df['totmou'].describe(percentiles=[0.1,0.2,0.3,0.4,0.5,0.6,0.7,0.8,0.9])"
   ]
  },
  {
   "cell_type": "code",
   "execution_count": 33,
   "metadata": {},
   "outputs": [
    {
     "data": {
      "text/plain": [
       "<Axes: ylabel='Frequency'>"
      ]
     },
     "execution_count": 33,
     "metadata": {},
     "output_type": "execute_result"
    },
    {
     "data": {
      "image/png": "[encoded data removed]",
      "text/plain": [
       "<Figure size 640x480 with 1 Axes>"
      ]
     },
     "metadata": {},
     "output_type": "display_data"
    }
   ],
   "source": [
    "###\n",
    "df['totmou'].plot(kind='hist',bins=50)"
   ]
  },
  {
   "cell_type": "code",
   "execution_count": 34,
   "metadata": {},
   "outputs": [
    {
     "name": "stdout",
     "output_type": "stream",
     "text": [
      "4.326137332645958\n",
      "37.279895941232276\n"
     ]
    }
   ],
   "source": [
    "### Asimetría\n",
    "\n",
    "print(df['totmou'].skew())\n",
    "\n",
    "## Curtosis\n",
    "\n",
    "print(df['totmou'].kurt())\n"
   ]
  },
  {
   "cell_type": "markdown",
   "metadata": {},
   "source": [
    "La asimetría es una medida de la falta de simetría en la distribución de los datos. En otras palabras, describe cuán sesgados están los datos. La asimetría puede ser positiva, negativa o cero.\t\n",
    "\n",
    "$"
   ]
  },
  {
   "cell_type": "markdown",
   "metadata": {},
   "source": [
    "### Análisis dos variables categoricas\n",
    "\n",
    "\n",
    "Creamos una variable nueva que particione al grupo en tres categorias segun su consumo de minutos, para ello usamos la media y la desviación estándar de la variable `totmou` y creamos una nueva variable llamada `consumo` que particione a los clientes en tres categorias:"
   ]
  },
  {
   "cell_type": "code",
   "execution_count": 35,
   "metadata": {},
   "outputs": [],
   "source": [
    "def particion(x):\n",
    "    media=df['totmou'].mean()\n",
    "    devest=df['totmou'].std()\n",
    "    if x<media-0.5*devest:\n",
    "        return \"Bajo\"\n",
    "    elif x>media+0.5*devest:\n",
    "        return \"Alto\"\n",
    "    else:\n",
    "        return \"Medio\"\n",
    "\n",
    "df['consumo']=df['totmou'].apply(particion)"
   ]
  },
  {
   "cell_type": "code",
   "execution_count": 36,
   "metadata": {},
   "outputs": [
    {
     "data": {
      "text/plain": [
       "consumo\n",
       "Medio    4862\n",
       "Bajo     3325\n",
       "Alto     1813\n",
       "Name: count, dtype: int64"
      ]
     },
     "execution_count": 36,
     "metadata": {},
     "output_type": "execute_result"
    }
   ],
   "source": [
    "df['consumo'].value_counts(dropna=False)   "
   ]
  },
  {
   "cell_type": "code",
   "execution_count": 37,
   "metadata": {},
   "outputs": [
    {
     "name": "stdout",
     "output_type": "stream",
     "text": [
      "12021.763807184703\n",
      "3363.845924160697\n"
     ]
    }
   ],
   "source": [
    "print(df['totmou'].mean()+0.5*df['totmou'].std())\n",
    "print(df['totmou'].mean()-0.5*df['totmou'].std())"
   ]
  },
  {
   "cell_type": "code",
   "execution_count": 38,
   "metadata": {},
   "outputs": [
    {
     "data": {
      "text/html": [
       "<div>\n",
       "<style scoped>\n",
       "    .dataframe tbody tr th:only-of-type {\n",
       "        vertical-align: middle;\n",
       "    }\n",
       "\n",
       "    .dataframe tbody tr th {\n",
       "        vertical-align: top;\n",
       "    }\n",
       "\n",
       "    .dataframe thead th {\n",
       "        text-align: right;\n",
       "    }\n",
       "</style>\n",
       "<table border=\"1\" class=\"dataframe\">\n",
       "  <thead>\n",
       "    <tr style=\"text-align: right;\">\n",
       "      <th>consumo</th>\n",
       "      <th>Alto</th>\n",
       "      <th>Bajo</th>\n",
       "      <th>Medio</th>\n",
       "    </tr>\n",
       "    <tr>\n",
       "      <th>creditcd</th>\n",
       "      <th></th>\n",
       "      <th></th>\n",
       "      <th></th>\n",
       "    </tr>\n",
       "  </thead>\n",
       "  <tbody>\n",
       "    <tr>\n",
       "      <th>N</th>\n",
       "      <td>626</td>\n",
       "      <td>872</td>\n",
       "      <td>1554</td>\n",
       "    </tr>\n",
       "    <tr>\n",
       "      <th>Y</th>\n",
       "      <td>1161</td>\n",
       "      <td>2397</td>\n",
       "      <td>3238</td>\n",
       "    </tr>\n",
       "  </tbody>\n",
       "</table>\n",
       "</div>"
      ],
      "text/plain": [
       "consumo   Alto  Bajo  Medio\n",
       "creditcd                   \n",
       "N          626   872   1554\n",
       "Y         1161  2397   3238"
      ]
     },
     "execution_count": 38,
     "metadata": {},
     "output_type": "execute_result"
    }
   ],
   "source": [
    "### Tabla de frcuencias conjuntas y marginales\n",
    "\n",
    "### creditcd y consumo\n",
    "\n",
    "tabla=pd.crosstab(df['creditcd'],df['consumo'],margins=False,dropna=False)\n",
    "tabla"
   ]
  },
  {
   "cell_type": "code",
   "execution_count": 39,
   "metadata": {},
   "outputs": [
    {
     "data": {
      "image/png": "[encoded data removed]",
      "text/plain": [
       "<Figure size 600x300 with 1 Axes>"
      ]
     },
     "metadata": {},
     "output_type": "display_data"
    }
   ],
   "source": [
    "### Grafico de anillos anidados para las variables creditcd y consumo\n",
    "\n",
    "import matplotlib.pyplot as plt\n",
    "\n",
    "fig, ax = plt.subplots(figsize=(6, 3), subplot_kw=dict(aspect=\"equal\"))\n",
    "\n",
    "data_pie=df['creditcd'].value_counts(dropna=False)\n",
    "\n",
    "def func(pct, allvals):\n",
    "    absolute = int(np.round(pct/100.*np.sum(allvals)))\n",
    "    return f\"{pct:.1f}%\\n({absolute:d})\"\n",
    "wedges, texts, autotexts = ax.pie(data_pie, autopct=lambda pct: func(pct, data_pie),\n",
    "                                  textprops=dict(color=\"w\"))\n",
    "\n",
    "plt.setp(autotexts, size=8, weight=\"bold\")\n",
    "\n",
    "ax.set_title(\"Matplotlib bakery: A pie\")\n",
    "\n",
    "plt.show()"
   ]
  },
  {
   "cell_type": "code",
   "execution_count": 40,
   "metadata": {},
   "outputs": [
    {
     "data": {
      "text/plain": [
       "<Axes: xlabel='creditcd'>"
      ]
     },
     "execution_count": 40,
     "metadata": {},
     "output_type": "execute_result"
    },
    {
     "data": {
      "image/png": "[encoded data removed]",
      "text/plain": [
       "<Figure size 640x480 with 1 Axes>"
      ]
     },
     "metadata": {},
     "output_type": "display_data"
    }
   ],
   "source": [
    "pd.crosstab(df['creditcd'],df['consumo'],margins=False,dropna=False).plot(kind='bar',stacked=True)"
   ]
  },
  {
   "cell_type": "markdown",
   "metadata": {},
   "source": [
    "## Variablee categorica vs Numerica"
   ]
  },
  {
   "cell_type": "code",
   "execution_count": 41,
   "metadata": {},
   "outputs": [
    {
     "data": {
      "text/plain": [
       "<Axes: title={'center': 'totmou'}, xlabel='creditcd'>"
      ]
     },
     "execution_count": 41,
     "metadata": {},
     "output_type": "execute_result"
    },
    {
     "data": {
      "image/png": "[encoded data removed]",
      "text/plain": [
       "<Figure size 640x480 with 1 Axes>"
      ]
     },
     "metadata": {},
     "output_type": "display_data"
    }
   ],
   "source": [
    "## Creamos un boxplot para la variable totmou, segmentando por la variable creditcd sin outliers\n",
    "\n",
    "df.boxplot(column='totmou',by='creditcd',showfliers=False)\n",
    "\n"
   ]
  },
  {
   "cell_type": "code",
   "execution_count": 42,
   "metadata": {},
   "outputs": [
    {
     "data": {
      "text/plain": [
       "creditcd\n",
       "N    8288.588805\n",
       "Y    7432.629588\n",
       "Name: totmou, dtype: float64"
      ]
     },
     "execution_count": 42,
     "metadata": {},
     "output_type": "execute_result"
    }
   ],
   "source": [
    "df.groupby('creditcd')['totmou'].mean()"
   ]
  },
  {
   "cell_type": "code",
   "execution_count": 43,
   "metadata": {},
   "outputs": [
    {
     "data": {
      "text/html": [
       "<div>\n",
       "<style scoped>\n",
       "    .dataframe tbody tr th:only-of-type {\n",
       "        vertical-align: middle;\n",
       "    }\n",
       "\n",
       "    .dataframe tbody tr th {\n",
       "        vertical-align: top;\n",
       "    }\n",
       "\n",
       "    .dataframe thead tr th {\n",
       "        text-align: left;\n",
       "    }\n",
       "\n",
       "    .dataframe thead tr:last-of-type th {\n",
       "        text-align: right;\n",
       "    }\n",
       "</style>\n",
       "<table border=\"1\" class=\"dataframe\">\n",
       "  <thead>\n",
       "    <tr>\n",
       "      <th></th>\n",
       "      <th colspan=\"5\" halign=\"left\">totmou</th>\n",
       "    </tr>\n",
       "    <tr>\n",
       "      <th></th>\n",
       "      <th>mean</th>\n",
       "      <th>std</th>\n",
       "      <th>median</th>\n",
       "      <th>min</th>\n",
       "      <th>max</th>\n",
       "    </tr>\n",
       "    <tr>\n",
       "      <th>creditcd</th>\n",
       "      <th></th>\n",
       "      <th></th>\n",
       "      <th></th>\n",
       "      <th></th>\n",
       "      <th></th>\n",
       "    </tr>\n",
       "  </thead>\n",
       "  <tbody>\n",
       "    <tr>\n",
       "      <th>N</th>\n",
       "      <td>8288.588805</td>\n",
       "      <td>8620.154772</td>\n",
       "      <td>6021.5</td>\n",
       "      <td>12.0</td>\n",
       "      <td>163264.1767</td>\n",
       "    </tr>\n",
       "    <tr>\n",
       "      <th>Y</th>\n",
       "      <td>7432.629588</td>\n",
       "      <td>8668.288580</td>\n",
       "      <td>4964.5</td>\n",
       "      <td>0.0</td>\n",
       "      <td>136445.0000</td>\n",
       "    </tr>\n",
       "  </tbody>\n",
       "</table>\n",
       "</div>"
      ],
      "text/plain": [
       "               totmou                                        \n",
       "                 mean          std  median   min          max\n",
       "creditcd                                                     \n",
       "N         8288.588805  8620.154772  6021.5  12.0  163264.1767\n",
       "Y         7432.629588  8668.288580  4964.5   0.0  136445.0000"
      ]
     },
     "execution_count": 43,
     "metadata": {},
     "output_type": "execute_result"
    }
   ],
   "source": [
    "df.groupby('creditcd').agg({'totmou':['mean','std','median','min','max']})"
   ]
  },
  {
   "cell_type": "markdown",
   "metadata": {},
   "source": [
    "El conjunto de datos se encuentra en el `DataFrame` `df`\n",
    "\n",
    "sobre el objeto creado podemos usar  algunas funciones  para darnos una idea del comportamiento de la información:\n",
    "```python\n",
    "df.head(n)  # imprime los primeros n registros del DataFrame\n",
    "df.tail(n)  # imprime los últimos n registros del DataFrame \n",
    "df.shape    # imprime el numero de columnas y filas del DataFrame\n",
    "df.columns  # imprime el nombre de las columnas del DataFrame\n",
    "df.index    # imprime el indice de los registros del DataFrame\n",
    "df.dtypes   # imprime el tipo de cada una de las columnnas del DataFrame\n",
    "df.sample(n)# imprime una muestra aleatoria de n registros en el DataFrame\n",
    "```"
   ]
  },
  {
   "cell_type": "code",
   "execution_count": 44,
   "metadata": {},
   "outputs": [
    {
     "data": {
      "text/plain": [
       "'primeros 3 registros'"
      ]
     },
     "metadata": {},
     "output_type": "display_data"
    },
    {
     "data": {
      "text/html": [
       "<div>\n",
       "<style scoped>\n",
       "    .dataframe tbody tr th:only-of-type {\n",
       "        vertical-align: middle;\n",
       "    }\n",
       "\n",
       "    .dataframe tbody tr th {\n",
       "        vertical-align: top;\n",
       "    }\n",
       "\n",
       "    .dataframe thead th {\n",
       "        text-align: right;\n",
       "    }\n",
       "</style>\n",
       "<table border=\"1\" class=\"dataframe\">\n",
       "  <thead>\n",
       "    <tr style=\"text-align: right;\">\n",
       "      <th></th>\n",
       "      <th>totmou</th>\n",
       "      <th>totrev</th>\n",
       "      <th>creditcd</th>\n",
       "      <th>eqpdays</th>\n",
       "      <th>consumo</th>\n",
       "    </tr>\n",
       "    <tr>\n",
       "      <th>Customer_ID</th>\n",
       "      <th></th>\n",
       "      <th></th>\n",
       "      <th></th>\n",
       "      <th></th>\n",
       "      <th></th>\n",
       "    </tr>\n",
       "  </thead>\n",
       "  <tbody>\n",
       "    <tr>\n",
       "      <th>1082423</th>\n",
       "      <td>7269.0</td>\n",
       "      <td>906.58</td>\n",
       "      <td>Y</td>\n",
       "      <td>371</td>\n",
       "      <td>Medio</td>\n",
       "    </tr>\n",
       "    <tr>\n",
       "      <th>1069232</th>\n",
       "      <td>13552.0</td>\n",
       "      <td>1172.25</td>\n",
       "      <td>N</td>\n",
       "      <td>83</td>\n",
       "      <td>Alto</td>\n",
       "    </tr>\n",
       "    <tr>\n",
       "      <th>1031705</th>\n",
       "      <td>4152.0</td>\n",
       "      <td>577.39</td>\n",
       "      <td>Y</td>\n",
       "      <td>675</td>\n",
       "      <td>Medio</td>\n",
       "    </tr>\n",
       "  </tbody>\n",
       "</table>\n",
       "</div>"
      ],
      "text/plain": [
       "              totmou   totrev creditcd  eqpdays consumo\n",
       "Customer_ID                                            \n",
       "1082423       7269.0   906.58        Y      371   Medio\n",
       "1069232      13552.0  1172.25        N       83    Alto\n",
       "1031705       4152.0   577.39        Y      675   Medio"
      ]
     },
     "metadata": {},
     "output_type": "display_data"
    },
    {
     "data": {
      "text/plain": [
       "'3 últimos registros'"
      ]
     },
     "metadata": {},
     "output_type": "display_data"
    },
    {
     "data": {
      "text/html": [
       "<div>\n",
       "<style scoped>\n",
       "    .dataframe tbody tr th:only-of-type {\n",
       "        vertical-align: middle;\n",
       "    }\n",
       "\n",
       "    .dataframe tbody tr th {\n",
       "        vertical-align: top;\n",
       "    }\n",
       "\n",
       "    .dataframe thead th {\n",
       "        text-align: right;\n",
       "    }\n",
       "</style>\n",
       "<table border=\"1\" class=\"dataframe\">\n",
       "  <thead>\n",
       "    <tr style=\"text-align: right;\">\n",
       "      <th></th>\n",
       "      <th>totmou</th>\n",
       "      <th>totrev</th>\n",
       "      <th>creditcd</th>\n",
       "      <th>eqpdays</th>\n",
       "      <th>consumo</th>\n",
       "    </tr>\n",
       "    <tr>\n",
       "      <th>Customer_ID</th>\n",
       "      <th></th>\n",
       "      <th></th>\n",
       "      <th></th>\n",
       "      <th></th>\n",
       "      <th></th>\n",
       "    </tr>\n",
       "  </thead>\n",
       "  <tbody>\n",
       "    <tr>\n",
       "      <th>1096497</th>\n",
       "      <td>3690.0</td>\n",
       "      <td>294.29</td>\n",
       "      <td>Y</td>\n",
       "      <td>212</td>\n",
       "      <td>Medio</td>\n",
       "    </tr>\n",
       "    <tr>\n",
       "      <th>1087248</th>\n",
       "      <td>3333.0</td>\n",
       "      <td>233.08</td>\n",
       "      <td>Y</td>\n",
       "      <td>290</td>\n",
       "      <td>Bajo</td>\n",
       "    </tr>\n",
       "    <tr>\n",
       "      <th>1099003</th>\n",
       "      <td>5025.0</td>\n",
       "      <td>1436.49</td>\n",
       "      <td>Y</td>\n",
       "      <td>1029</td>\n",
       "      <td>Medio</td>\n",
       "    </tr>\n",
       "  </tbody>\n",
       "</table>\n",
       "</div>"
      ],
      "text/plain": [
       "             totmou   totrev creditcd  eqpdays consumo\n",
       "Customer_ID                                           \n",
       "1096497      3690.0   294.29        Y      212   Medio\n",
       "1087248      3333.0   233.08        Y      290    Bajo\n",
       "1099003      5025.0  1436.49        Y     1029   Medio"
      ]
     },
     "metadata": {},
     "output_type": "display_data"
    },
    {
     "data": {
      "text/plain": [
       "'Columnas:'"
      ]
     },
     "metadata": {},
     "output_type": "display_data"
    },
    {
     "data": {
      "text/plain": [
       "Index(['totmou', 'totrev', 'creditcd', 'eqpdays', 'consumo'], dtype='object')"
      ]
     },
     "metadata": {},
     "output_type": "display_data"
    },
    {
     "data": {
      "text/plain": [
       "'Índices:'"
      ]
     },
     "metadata": {},
     "output_type": "display_data"
    },
    {
     "data": {
      "text/plain": [
       "Index([1082423, 1069232, 1031705, 1089806, 1076695, 1091652, 1043846, 1088967,\n",
       "       1045239, 1046584,\n",
       "       ...\n",
       "       1087145, 1002540, 1044082, 1083458, 1093976, 1027614, 1098422, 1096497,\n",
       "       1087248, 1099003],\n",
       "      dtype='int64', name='Customer_ID', length=10000)"
      ]
     },
     "metadata": {},
     "output_type": "display_data"
    },
    {
     "data": {
      "text/plain": [
       "'Tipos de registros en el DataFrame'"
      ]
     },
     "metadata": {},
     "output_type": "display_data"
    },
    {
     "data": {
      "text/plain": [
       "totmou      float64\n",
       "totrev      float64\n",
       "creditcd     object\n",
       "eqpdays       int64\n",
       "consumo      object\n",
       "dtype: object"
      ]
     },
     "metadata": {},
     "output_type": "display_data"
    },
    {
     "data": {
      "text/plain": [
       "'Muestra aleatoria de 3 registros'"
      ]
     },
     "metadata": {},
     "output_type": "display_data"
    },
    {
     "data": {
      "text/html": [
       "<div>\n",
       "<style scoped>\n",
       "    .dataframe tbody tr th:only-of-type {\n",
       "        vertical-align: middle;\n",
       "    }\n",
       "\n",
       "    .dataframe tbody tr th {\n",
       "        vertical-align: top;\n",
       "    }\n",
       "\n",
       "    .dataframe thead th {\n",
       "        text-align: right;\n",
       "    }\n",
       "</style>\n",
       "<table border=\"1\" class=\"dataframe\">\n",
       "  <thead>\n",
       "    <tr style=\"text-align: right;\">\n",
       "      <th></th>\n",
       "      <th>totmou</th>\n",
       "      <th>totrev</th>\n",
       "      <th>creditcd</th>\n",
       "      <th>eqpdays</th>\n",
       "      <th>consumo</th>\n",
       "    </tr>\n",
       "    <tr>\n",
       "      <th>Customer_ID</th>\n",
       "      <th></th>\n",
       "      <th></th>\n",
       "      <th></th>\n",
       "      <th></th>\n",
       "      <th></th>\n",
       "    </tr>\n",
       "  </thead>\n",
       "  <tbody>\n",
       "    <tr>\n",
       "      <th>1067238</th>\n",
       "      <td>1955.0</td>\n",
       "      <td>715.25</td>\n",
       "      <td>N</td>\n",
       "      <td>310</td>\n",
       "      <td>Bajo</td>\n",
       "    </tr>\n",
       "    <tr>\n",
       "      <th>1055660</th>\n",
       "      <td>17716.0</td>\n",
       "      <td>2145.14</td>\n",
       "      <td>N</td>\n",
       "      <td>173</td>\n",
       "      <td>Alto</td>\n",
       "    </tr>\n",
       "    <tr>\n",
       "      <th>1041451</th>\n",
       "      <td>7413.0</td>\n",
       "      <td>1432.87</td>\n",
       "      <td>Y</td>\n",
       "      <td>87</td>\n",
       "      <td>Medio</td>\n",
       "    </tr>\n",
       "  </tbody>\n",
       "</table>\n",
       "</div>"
      ],
      "text/plain": [
       "              totmou   totrev creditcd  eqpdays consumo\n",
       "Customer_ID                                            \n",
       "1067238       1955.0   715.25        N      310    Bajo\n",
       "1055660      17716.0  2145.14        N      173    Alto\n",
       "1041451       7413.0  1432.87        Y       87   Medio"
      ]
     },
     "metadata": {},
     "output_type": "display_data"
    },
    {
     "data": {
      "text/plain": [
       "'dimensión'"
      ]
     },
     "metadata": {},
     "output_type": "display_data"
    },
    {
     "data": {
      "text/plain": [
       "(10000, 5)"
      ]
     },
     "metadata": {},
     "output_type": "display_data"
    }
   ],
   "source": [
    "display(\"primeros 3 registros\",df.head(3))\n",
    "display(\"3 últimos registros\",df.tail(3))\n",
    "display(\"Columnas:\",df.columns)\n",
    "display(\"Índices:\",df.index)\n",
    "display(\"Tipos de registros en el DataFrame\",df.dtypes)\n",
    "display(\"Muestra aleatoria de 3 registros\",df.sample(3))\n",
    "display(\"dimensión\",df.shape)"
   ]
  },
  {
   "cell_type": "markdown",
   "metadata": {},
   "source": [
    "Este conjunto de datos corresponde a 10000 registros y 2 variables\n",
    "\n",
    "### Manejo de datos duplicados \n",
    "\n",
    "os dataframes tienen la posibilidad de detectar las filas duplicadas con la función: \n",
    "```\n",
    "df.duplicated({columns})\n",
    "```\n",
    "Si no especifica {columns}, se busacarán duplicados teniendo en cuenta todas las columnas. Una vez detectados el dtaframe tiene un función para eliminar filas duplicadas, haciendo:\n",
    "\n",
    "```\n",
    "df = df.drop_duplicates()\n",
    "```\n",
    "También es posible eliminar filas que duplican solo algunos campos. Con el fin de dejar solo una ocurrencia.\n",
    "\n",
    "```\n",
    "df.drop_duplicates(['nombre', 'apellido', 'cédula'], keep='last')\n",
    "```\n",
    "En este caso, como no todas las colomnas son iguales se conserva solo la última ocurrencia.\n",
    "\n",
    "### Manejo de datos perdidos o esperados\n",
    "Son aquellos datos flatantes en la tabla que por alguna razón o error no se encuentran, o parecen con algún valor o etiqueta de no válido. \n",
    "Para manipular datos perdidos use la explicación dada el siguiente enlace: [DATOS PERDIDOS](http://ligdigonzalez.com/manipulando-datos-perdidos-en-python/)\n",
    "recuerde que para reemplazar datos perdidos en un dataframe $df$ se usa la función:\n",
    "```python\n",
    "promedio = df['totrev'].mean()\n",
    "df['nota'].replace(np.nan, promedio)\n",
    "```\n",
    "en donde la opción 'promedio' busca el valor promedio de la columna (datos numéricos) o la moda (datos categóricos) para reemplazar el valor no válido.\n"
   ]
  },
  {
   "cell_type": "code",
   "execution_count": 45,
   "metadata": {},
   "outputs": [
    {
     "data": {
      "text/plain": [
       "totmou      False\n",
       "totrev      False\n",
       "creditcd     True\n",
       "eqpdays     False\n",
       "consumo     False\n",
       "dtype: bool"
      ]
     },
     "execution_count": 45,
     "metadata": {},
     "output_type": "execute_result"
    }
   ],
   "source": [
    "df.isnull().any(axis=0)"
   ]
  },
  {
   "cell_type": "code",
   "execution_count": 46,
   "metadata": {
    "scrolled": true
   },
   "outputs": [],
   "source": [
    "perd=df.isnull().any(axis=1)"
   ]
  },
  {
   "cell_type": "code",
   "execution_count": 47,
   "metadata": {},
   "outputs": [
    {
     "data": {
      "text/html": [
       "<div>\n",
       "<style scoped>\n",
       "    .dataframe tbody tr th:only-of-type {\n",
       "        vertical-align: middle;\n",
       "    }\n",
       "\n",
       "    .dataframe tbody tr th {\n",
       "        vertical-align: top;\n",
       "    }\n",
       "\n",
       "    .dataframe thead th {\n",
       "        text-align: right;\n",
       "    }\n",
       "</style>\n",
       "<table border=\"1\" class=\"dataframe\">\n",
       "  <thead>\n",
       "    <tr style=\"text-align: right;\">\n",
       "      <th></th>\n",
       "      <th>totmou</th>\n",
       "      <th>totrev</th>\n",
       "      <th>creditcd</th>\n",
       "      <th>eqpdays</th>\n",
       "      <th>consumo</th>\n",
       "    </tr>\n",
       "    <tr>\n",
       "      <th>Customer_ID</th>\n",
       "      <th></th>\n",
       "      <th></th>\n",
       "      <th></th>\n",
       "      <th></th>\n",
       "      <th></th>\n",
       "    </tr>\n",
       "  </thead>\n",
       "  <tbody>\n",
       "    <tr>\n",
       "      <th>1072218</th>\n",
       "      <td>5684.0</td>\n",
       "      <td>857.65</td>\n",
       "      <td>NaN</td>\n",
       "      <td>244</td>\n",
       "      <td>Medio</td>\n",
       "    </tr>\n",
       "    <tr>\n",
       "      <th>1066597</th>\n",
       "      <td>925.0</td>\n",
       "      <td>373.12</td>\n",
       "      <td>NaN</td>\n",
       "      <td>344</td>\n",
       "      <td>Bajo</td>\n",
       "    </tr>\n",
       "    <tr>\n",
       "      <th>1023352</th>\n",
       "      <td>14466.0</td>\n",
       "      <td>2243.76</td>\n",
       "      <td>NaN</td>\n",
       "      <td>387</td>\n",
       "      <td>Alto</td>\n",
       "    </tr>\n",
       "    <tr>\n",
       "      <th>1045521</th>\n",
       "      <td>2504.0</td>\n",
       "      <td>756.79</td>\n",
       "      <td>NaN</td>\n",
       "      <td>495</td>\n",
       "      <td>Bajo</td>\n",
       "    </tr>\n",
       "    <tr>\n",
       "      <th>1001813</th>\n",
       "      <td>76260.0</td>\n",
       "      <td>5526.11</td>\n",
       "      <td>NaN</td>\n",
       "      <td>361</td>\n",
       "      <td>Alto</td>\n",
       "    </tr>\n",
       "    <tr>\n",
       "      <th>...</th>\n",
       "      <td>...</td>\n",
       "      <td>...</td>\n",
       "      <td>...</td>\n",
       "      <td>...</td>\n",
       "      <td>...</td>\n",
       "    </tr>\n",
       "    <tr>\n",
       "      <th>1050795</th>\n",
       "      <td>15591.0</td>\n",
       "      <td>1330.71</td>\n",
       "      <td>NaN</td>\n",
       "      <td>447</td>\n",
       "      <td>Alto</td>\n",
       "    </tr>\n",
       "    <tr>\n",
       "      <th>1096985</th>\n",
       "      <td>3011.0</td>\n",
       "      <td>522.14</td>\n",
       "      <td>NaN</td>\n",
       "      <td>74</td>\n",
       "      <td>Bajo</td>\n",
       "    </tr>\n",
       "    <tr>\n",
       "      <th>1025203</th>\n",
       "      <td>853.0</td>\n",
       "      <td>650.34</td>\n",
       "      <td>NaN</td>\n",
       "      <td>780</td>\n",
       "      <td>Bajo</td>\n",
       "    </tr>\n",
       "    <tr>\n",
       "      <th>1099258</th>\n",
       "      <td>33660.0</td>\n",
       "      <td>4247.85</td>\n",
       "      <td>NaN</td>\n",
       "      <td>206</td>\n",
       "      <td>Alto</td>\n",
       "    </tr>\n",
       "    <tr>\n",
       "      <th>1026149</th>\n",
       "      <td>1955.0</td>\n",
       "      <td>606.08</td>\n",
       "      <td>NaN</td>\n",
       "      <td>770</td>\n",
       "      <td>Bajo</td>\n",
       "    </tr>\n",
       "  </tbody>\n",
       "</table>\n",
       "<p>152 rows × 5 columns</p>\n",
       "</div>"
      ],
      "text/plain": [
       "              totmou   totrev creditcd  eqpdays consumo\n",
       "Customer_ID                                            \n",
       "1072218       5684.0   857.65      NaN      244   Medio\n",
       "1066597        925.0   373.12      NaN      344    Bajo\n",
       "1023352      14466.0  2243.76      NaN      387    Alto\n",
       "1045521       2504.0   756.79      NaN      495    Bajo\n",
       "1001813      76260.0  5526.11      NaN      361    Alto\n",
       "...              ...      ...      ...      ...     ...\n",
       "1050795      15591.0  1330.71      NaN      447    Alto\n",
       "1096985       3011.0   522.14      NaN       74    Bajo\n",
       "1025203        853.0   650.34      NaN      780    Bajo\n",
       "1099258      33660.0  4247.85      NaN      206    Alto\n",
       "1026149       1955.0   606.08      NaN      770    Bajo\n",
       "\n",
       "[152 rows x 5 columns]"
      ]
     },
     "execution_count": 47,
     "metadata": {},
     "output_type": "execute_result"
    }
   ],
   "source": [
    "df[perd]"
   ]
  },
  {
   "cell_type": "code",
   "execution_count": 48,
   "metadata": {},
   "outputs": [
    {
     "data": {
      "text/html": [
       "<div>\n",
       "<style scoped>\n",
       "    .dataframe tbody tr th:only-of-type {\n",
       "        vertical-align: middle;\n",
       "    }\n",
       "\n",
       "    .dataframe tbody tr th {\n",
       "        vertical-align: top;\n",
       "    }\n",
       "\n",
       "    .dataframe thead th {\n",
       "        text-align: right;\n",
       "    }\n",
       "</style>\n",
       "<table border=\"1\" class=\"dataframe\">\n",
       "  <thead>\n",
       "    <tr style=\"text-align: right;\">\n",
       "      <th></th>\n",
       "      <th>totmou</th>\n",
       "      <th>totrev</th>\n",
       "      <th>creditcd</th>\n",
       "      <th>eqpdays</th>\n",
       "      <th>consumo</th>\n",
       "    </tr>\n",
       "    <tr>\n",
       "      <th>Customer_ID</th>\n",
       "      <th></th>\n",
       "      <th></th>\n",
       "      <th></th>\n",
       "      <th></th>\n",
       "      <th></th>\n",
       "    </tr>\n",
       "  </thead>\n",
       "  <tbody>\n",
       "    <tr>\n",
       "      <th>1072218</th>\n",
       "      <td>5684.0</td>\n",
       "      <td>857.65</td>\n",
       "      <td>NaN</td>\n",
       "      <td>244</td>\n",
       "      <td>Medio</td>\n",
       "    </tr>\n",
       "    <tr>\n",
       "      <th>1066597</th>\n",
       "      <td>925.0</td>\n",
       "      <td>373.12</td>\n",
       "      <td>NaN</td>\n",
       "      <td>344</td>\n",
       "      <td>Bajo</td>\n",
       "    </tr>\n",
       "    <tr>\n",
       "      <th>1023352</th>\n",
       "      <td>14466.0</td>\n",
       "      <td>2243.76</td>\n",
       "      <td>NaN</td>\n",
       "      <td>387</td>\n",
       "      <td>Alto</td>\n",
       "    </tr>\n",
       "    <tr>\n",
       "      <th>1045521</th>\n",
       "      <td>2504.0</td>\n",
       "      <td>756.79</td>\n",
       "      <td>NaN</td>\n",
       "      <td>495</td>\n",
       "      <td>Bajo</td>\n",
       "    </tr>\n",
       "    <tr>\n",
       "      <th>1001813</th>\n",
       "      <td>76260.0</td>\n",
       "      <td>5526.11</td>\n",
       "      <td>NaN</td>\n",
       "      <td>361</td>\n",
       "      <td>Alto</td>\n",
       "    </tr>\n",
       "    <tr>\n",
       "      <th>...</th>\n",
       "      <td>...</td>\n",
       "      <td>...</td>\n",
       "      <td>...</td>\n",
       "      <td>...</td>\n",
       "      <td>...</td>\n",
       "    </tr>\n",
       "    <tr>\n",
       "      <th>1050795</th>\n",
       "      <td>15591.0</td>\n",
       "      <td>1330.71</td>\n",
       "      <td>NaN</td>\n",
       "      <td>447</td>\n",
       "      <td>Alto</td>\n",
       "    </tr>\n",
       "    <tr>\n",
       "      <th>1096985</th>\n",
       "      <td>3011.0</td>\n",
       "      <td>522.14</td>\n",
       "      <td>NaN</td>\n",
       "      <td>74</td>\n",
       "      <td>Bajo</td>\n",
       "    </tr>\n",
       "    <tr>\n",
       "      <th>1025203</th>\n",
       "      <td>853.0</td>\n",
       "      <td>650.34</td>\n",
       "      <td>NaN</td>\n",
       "      <td>780</td>\n",
       "      <td>Bajo</td>\n",
       "    </tr>\n",
       "    <tr>\n",
       "      <th>1099258</th>\n",
       "      <td>33660.0</td>\n",
       "      <td>4247.85</td>\n",
       "      <td>NaN</td>\n",
       "      <td>206</td>\n",
       "      <td>Alto</td>\n",
       "    </tr>\n",
       "    <tr>\n",
       "      <th>1026149</th>\n",
       "      <td>1955.0</td>\n",
       "      <td>606.08</td>\n",
       "      <td>NaN</td>\n",
       "      <td>770</td>\n",
       "      <td>Bajo</td>\n",
       "    </tr>\n",
       "  </tbody>\n",
       "</table>\n",
       "<p>152 rows × 5 columns</p>\n",
       "</div>"
      ],
      "text/plain": [
       "              totmou   totrev creditcd  eqpdays consumo\n",
       "Customer_ID                                            \n",
       "1072218       5684.0   857.65      NaN      244   Medio\n",
       "1066597        925.0   373.12      NaN      344    Bajo\n",
       "1023352      14466.0  2243.76      NaN      387    Alto\n",
       "1045521       2504.0   756.79      NaN      495    Bajo\n",
       "1001813      76260.0  5526.11      NaN      361    Alto\n",
       "...              ...      ...      ...      ...     ...\n",
       "1050795      15591.0  1330.71      NaN      447    Alto\n",
       "1096985       3011.0   522.14      NaN       74    Bajo\n",
       "1025203        853.0   650.34      NaN      780    Bajo\n",
       "1099258      33660.0  4247.85      NaN      206    Alto\n",
       "1026149       1955.0   606.08      NaN      770    Bajo\n",
       "\n",
       "[152 rows x 5 columns]"
      ]
     },
     "execution_count": 48,
     "metadata": {},
     "output_type": "execute_result"
    }
   ],
   "source": [
    "perdidos = df[df.isnull().any(axis=1)]\n",
    "perdidos"
   ]
  },
  {
   "cell_type": "code",
   "execution_count": 49,
   "metadata": {},
   "outputs": [
    {
     "data": {
      "text/plain": [
       "Customer_ID\n",
       "1082423     906.58\n",
       "1069232    1172.25\n",
       "1031705     577.39\n",
       "1089806     294.26\n",
       "1076695     433.16\n",
       "            ...   \n",
       "1027614     484.31\n",
       "1098422     583.36\n",
       "1096497     294.29\n",
       "1087248     233.08\n",
       "1099003    1436.49\n",
       "Name: totrev, Length: 10000, dtype: float64"
      ]
     },
     "execution_count": 49,
     "metadata": {},
     "output_type": "execute_result"
    }
   ],
   "source": [
    "df['totrev']"
   ]
  },
  {
   "cell_type": "code",
   "execution_count": 50,
   "metadata": {
    "scrolled": true
   },
   "outputs": [],
   "source": [
    "promedio = df['totrev'].mean()\n",
    "df['totrev']=df['totrev'].replace(np.nan, promedio)"
   ]
  },
  {
   "cell_type": "markdown",
   "metadata": {},
   "source": [
    "También es recomendado usar la funcion `fillna()`"
   ]
  },
  {
   "cell_type": "code",
   "execution_count": 51,
   "metadata": {
    "scrolled": true
   },
   "outputs": [],
   "source": [
    "df['creditcd'].fillna(\"Y\",inplace=True)"
   ]
  },
  {
   "cell_type": "code",
   "execution_count": 52,
   "metadata": {},
   "outputs": [
    {
     "data": {
      "text/html": [
       "<div>\n",
       "<style scoped>\n",
       "    .dataframe tbody tr th:only-of-type {\n",
       "        vertical-align: middle;\n",
       "    }\n",
       "\n",
       "    .dataframe tbody tr th {\n",
       "        vertical-align: top;\n",
       "    }\n",
       "\n",
       "    .dataframe thead th {\n",
       "        text-align: right;\n",
       "    }\n",
       "</style>\n",
       "<table border=\"1\" class=\"dataframe\">\n",
       "  <thead>\n",
       "    <tr style=\"text-align: right;\">\n",
       "      <th></th>\n",
       "      <th>totmou</th>\n",
       "      <th>totrev</th>\n",
       "      <th>creditcd</th>\n",
       "      <th>eqpdays</th>\n",
       "      <th>consumo</th>\n",
       "    </tr>\n",
       "    <tr>\n",
       "      <th>Customer_ID</th>\n",
       "      <th></th>\n",
       "      <th></th>\n",
       "      <th></th>\n",
       "      <th></th>\n",
       "      <th></th>\n",
       "    </tr>\n",
       "  </thead>\n",
       "  <tbody>\n",
       "    <tr>\n",
       "      <th>1072218</th>\n",
       "      <td>5684.0</td>\n",
       "      <td>857.65</td>\n",
       "      <td>Y</td>\n",
       "      <td>244</td>\n",
       "      <td>Medio</td>\n",
       "    </tr>\n",
       "    <tr>\n",
       "      <th>1066597</th>\n",
       "      <td>925.0</td>\n",
       "      <td>373.12</td>\n",
       "      <td>Y</td>\n",
       "      <td>344</td>\n",
       "      <td>Bajo</td>\n",
       "    </tr>\n",
       "    <tr>\n",
       "      <th>1023352</th>\n",
       "      <td>14466.0</td>\n",
       "      <td>2243.76</td>\n",
       "      <td>Y</td>\n",
       "      <td>387</td>\n",
       "      <td>Alto</td>\n",
       "    </tr>\n",
       "    <tr>\n",
       "      <th>1045521</th>\n",
       "      <td>2504.0</td>\n",
       "      <td>756.79</td>\n",
       "      <td>Y</td>\n",
       "      <td>495</td>\n",
       "      <td>Bajo</td>\n",
       "    </tr>\n",
       "    <tr>\n",
       "      <th>1001813</th>\n",
       "      <td>76260.0</td>\n",
       "      <td>5526.11</td>\n",
       "      <td>Y</td>\n",
       "      <td>361</td>\n",
       "      <td>Alto</td>\n",
       "    </tr>\n",
       "    <tr>\n",
       "      <th>...</th>\n",
       "      <td>...</td>\n",
       "      <td>...</td>\n",
       "      <td>...</td>\n",
       "      <td>...</td>\n",
       "      <td>...</td>\n",
       "    </tr>\n",
       "    <tr>\n",
       "      <th>1050795</th>\n",
       "      <td>15591.0</td>\n",
       "      <td>1330.71</td>\n",
       "      <td>Y</td>\n",
       "      <td>447</td>\n",
       "      <td>Alto</td>\n",
       "    </tr>\n",
       "    <tr>\n",
       "      <th>1096985</th>\n",
       "      <td>3011.0</td>\n",
       "      <td>522.14</td>\n",
       "      <td>Y</td>\n",
       "      <td>74</td>\n",
       "      <td>Bajo</td>\n",
       "    </tr>\n",
       "    <tr>\n",
       "      <th>1025203</th>\n",
       "      <td>853.0</td>\n",
       "      <td>650.34</td>\n",
       "      <td>Y</td>\n",
       "      <td>780</td>\n",
       "      <td>Bajo</td>\n",
       "    </tr>\n",
       "    <tr>\n",
       "      <th>1099258</th>\n",
       "      <td>33660.0</td>\n",
       "      <td>4247.85</td>\n",
       "      <td>Y</td>\n",
       "      <td>206</td>\n",
       "      <td>Alto</td>\n",
       "    </tr>\n",
       "    <tr>\n",
       "      <th>1026149</th>\n",
       "      <td>1955.0</td>\n",
       "      <td>606.08</td>\n",
       "      <td>Y</td>\n",
       "      <td>770</td>\n",
       "      <td>Bajo</td>\n",
       "    </tr>\n",
       "  </tbody>\n",
       "</table>\n",
       "<p>152 rows × 5 columns</p>\n",
       "</div>"
      ],
      "text/plain": [
       "              totmou   totrev creditcd  eqpdays consumo\n",
       "Customer_ID                                            \n",
       "1072218       5684.0   857.65        Y      244   Medio\n",
       "1066597        925.0   373.12        Y      344    Bajo\n",
       "1023352      14466.0  2243.76        Y      387    Alto\n",
       "1045521       2504.0   756.79        Y      495    Bajo\n",
       "1001813      76260.0  5526.11        Y      361    Alto\n",
       "...              ...      ...      ...      ...     ...\n",
       "1050795      15591.0  1330.71        Y      447    Alto\n",
       "1096985       3011.0   522.14        Y       74    Bajo\n",
       "1025203        853.0   650.34        Y      780    Bajo\n",
       "1099258      33660.0  4247.85        Y      206    Alto\n",
       "1026149       1955.0   606.08        Y      770    Bajo\n",
       "\n",
       "[152 rows x 5 columns]"
      ]
     },
     "execution_count": 52,
     "metadata": {},
     "output_type": "execute_result"
    }
   ],
   "source": [
    "df[perd]"
   ]
  },
  {
   "cell_type": "code",
   "execution_count": 53,
   "metadata": {},
   "outputs": [
    {
     "data": {
      "text/plain": [
       "totmou      False\n",
       "totrev      False\n",
       "creditcd    False\n",
       "eqpdays     False\n",
       "consumo     False\n",
       "dtype: bool"
      ]
     },
     "execution_count": 53,
     "metadata": {},
     "output_type": "execute_result"
    }
   ],
   "source": [
    "df.isnull().any(axis=0)"
   ]
  },
  {
   "cell_type": "code",
   "execution_count": 54,
   "metadata": {},
   "outputs": [
    {
     "data": {
      "text/html": [
       "<div>\n",
       "<style scoped>\n",
       "    .dataframe tbody tr th:only-of-type {\n",
       "        vertical-align: middle;\n",
       "    }\n",
       "\n",
       "    .dataframe tbody tr th {\n",
       "        vertical-align: top;\n",
       "    }\n",
       "\n",
       "    .dataframe thead th {\n",
       "        text-align: right;\n",
       "    }\n",
       "</style>\n",
       "<table border=\"1\" class=\"dataframe\">\n",
       "  <thead>\n",
       "    <tr style=\"text-align: right;\">\n",
       "      <th></th>\n",
       "      <th>totmou</th>\n",
       "      <th>totrev</th>\n",
       "      <th>creditcd</th>\n",
       "      <th>eqpdays</th>\n",
       "      <th>consumo</th>\n",
       "    </tr>\n",
       "    <tr>\n",
       "      <th>Customer_ID</th>\n",
       "      <th></th>\n",
       "      <th></th>\n",
       "      <th></th>\n",
       "      <th></th>\n",
       "      <th></th>\n",
       "    </tr>\n",
       "  </thead>\n",
       "  <tbody>\n",
       "    <tr>\n",
       "      <th>1082423</th>\n",
       "      <td>7269.0</td>\n",
       "      <td>906.58</td>\n",
       "      <td>Y</td>\n",
       "      <td>371</td>\n",
       "      <td>Medio</td>\n",
       "    </tr>\n",
       "    <tr>\n",
       "      <th>1069232</th>\n",
       "      <td>13552.0</td>\n",
       "      <td>1172.25</td>\n",
       "      <td>N</td>\n",
       "      <td>83</td>\n",
       "      <td>Alto</td>\n",
       "    </tr>\n",
       "    <tr>\n",
       "      <th>1031705</th>\n",
       "      <td>4152.0</td>\n",
       "      <td>577.39</td>\n",
       "      <td>Y</td>\n",
       "      <td>675</td>\n",
       "      <td>Medio</td>\n",
       "    </tr>\n",
       "    <tr>\n",
       "      <th>1089806</th>\n",
       "      <td>1863.0</td>\n",
       "      <td>294.26</td>\n",
       "      <td>Y</td>\n",
       "      <td>218</td>\n",
       "      <td>Bajo</td>\n",
       "    </tr>\n",
       "    <tr>\n",
       "      <th>1076695</th>\n",
       "      <td>4155.0</td>\n",
       "      <td>433.16</td>\n",
       "      <td>N</td>\n",
       "      <td>222</td>\n",
       "      <td>Medio</td>\n",
       "    </tr>\n",
       "    <tr>\n",
       "      <th>...</th>\n",
       "      <td>...</td>\n",
       "      <td>...</td>\n",
       "      <td>...</td>\n",
       "      <td>...</td>\n",
       "      <td>...</td>\n",
       "    </tr>\n",
       "    <tr>\n",
       "      <th>1027614</th>\n",
       "      <td>2570.0</td>\n",
       "      <td>484.31</td>\n",
       "      <td>Y</td>\n",
       "      <td>611</td>\n",
       "      <td>Bajo</td>\n",
       "    </tr>\n",
       "    <tr>\n",
       "      <th>1098422</th>\n",
       "      <td>2105.0</td>\n",
       "      <td>583.36</td>\n",
       "      <td>Y</td>\n",
       "      <td>1243</td>\n",
       "      <td>Bajo</td>\n",
       "    </tr>\n",
       "    <tr>\n",
       "      <th>1096497</th>\n",
       "      <td>3690.0</td>\n",
       "      <td>294.29</td>\n",
       "      <td>Y</td>\n",
       "      <td>212</td>\n",
       "      <td>Medio</td>\n",
       "    </tr>\n",
       "    <tr>\n",
       "      <th>1087248</th>\n",
       "      <td>3333.0</td>\n",
       "      <td>233.08</td>\n",
       "      <td>Y</td>\n",
       "      <td>290</td>\n",
       "      <td>Bajo</td>\n",
       "    </tr>\n",
       "    <tr>\n",
       "      <th>1099003</th>\n",
       "      <td>5025.0</td>\n",
       "      <td>1436.49</td>\n",
       "      <td>Y</td>\n",
       "      <td>1029</td>\n",
       "      <td>Medio</td>\n",
       "    </tr>\n",
       "  </tbody>\n",
       "</table>\n",
       "<p>10000 rows × 5 columns</p>\n",
       "</div>"
      ],
      "text/plain": [
       "              totmou   totrev creditcd  eqpdays consumo\n",
       "Customer_ID                                            \n",
       "1082423       7269.0   906.58        Y      371   Medio\n",
       "1069232      13552.0  1172.25        N       83    Alto\n",
       "1031705       4152.0   577.39        Y      675   Medio\n",
       "1089806       1863.0   294.26        Y      218    Bajo\n",
       "1076695       4155.0   433.16        N      222   Medio\n",
       "...              ...      ...      ...      ...     ...\n",
       "1027614       2570.0   484.31        Y      611    Bajo\n",
       "1098422       2105.0   583.36        Y     1243    Bajo\n",
       "1096497       3690.0   294.29        Y      212   Medio\n",
       "1087248       3333.0   233.08        Y      290    Bajo\n",
       "1099003       5025.0  1436.49        Y     1029   Medio\n",
       "\n",
       "[10000 rows x 5 columns]"
      ]
     },
     "execution_count": 54,
     "metadata": {},
     "output_type": "execute_result"
    }
   ],
   "source": [
    "df"
   ]
  },
  {
   "cell_type": "markdown",
   "metadata": {},
   "source": [
    "\n",
    "\n",
    "### Cálculo de estadísticas resumen\n",
    "\n",
    "Las medidas estadísticas resumen son de gran ayuda para comprender como es el comportamiento de la distribución de los datos, los objetos `DataFrame` ofrecen facilidades para hacer el cálculo de algunas estadísticas sobre cada una de las variables.\n",
    "\n",
    "```python\n",
    "df[\"var\"].value_counts() # Encuentra la frecuencia de las categorias de una columna (la columna debe ser cualitativa)\n",
    "df[\"var\"].min()          # Encuentra el mínimo de una variable cuantitativa\n",
    "df[\"var\"].median()       # Encuentra el mínimo de una variable cuantitativa\n",
    "df[\"var\"].mean()         # Encuentra el promedio de una variable cuantitativa\n",
    "df[\"var\"].max()          # Encuentra el máximo de una variable cuantitativa\n",
    "df[\"var\"].quantile()     # Encuentra los cuantiles de una variable cuantitativa\n",
    "```\n"
   ]
  },
  {
   "cell_type": "code",
   "execution_count": 55,
   "metadata": {},
   "outputs": [
    {
     "data": {
      "text/plain": [
       "creditcd\n",
       "Y    6948\n",
       "N    3052\n",
       "Name: count, dtype: int64"
      ]
     },
     "execution_count": 55,
     "metadata": {},
     "output_type": "execute_result"
    }
   ],
   "source": [
    "df[\"creditcd\"].value_counts()"
   ]
  },
  {
   "cell_type": "code",
   "execution_count": 56,
   "metadata": {},
   "outputs": [
    {
     "data": {
      "text/plain": [
       "10000"
      ]
     },
     "execution_count": 56,
     "metadata": {},
     "output_type": "execute_result"
    }
   ],
   "source": [
    "df[\"creditcd\"].count()"
   ]
  },
  {
   "cell_type": "code",
   "execution_count": 57,
   "metadata": {},
   "outputs": [
    {
     "data": {
      "text/plain": [
       "-5"
      ]
     },
     "execution_count": 57,
     "metadata": {},
     "output_type": "execute_result"
    }
   ],
   "source": [
    "df[\"eqpdays\"].min()"
   ]
  },
  {
   "cell_type": "code",
   "execution_count": 58,
   "metadata": {
    "scrolled": true
   },
   "outputs": [],
   "source": [
    "df[\"eqpdays\"]=[0 if i<0 else i for i in df[\"eqpdays\"] ]"
   ]
  },
  {
   "cell_type": "code",
   "execution_count": 59,
   "metadata": {},
   "outputs": [
    {
     "data": {
      "text/plain": [
       "0"
      ]
     },
     "execution_count": 59,
     "metadata": {},
     "output_type": "execute_result"
    }
   ],
   "source": [
    "df[\"eqpdays\"].min()"
   ]
  },
  {
   "cell_type": "markdown",
   "metadata": {},
   "source": [
    "La exploración del anterior resultado puede mostrar inconsistencias  en los registros y nos ayudará a tomar decisiones sobre algunos registros, el valor mínimo de la variable `eqpdays` (Número de días (antigüedad) del equipo actual) debería ser estrictamente positivo y estos pueden ser errores de ingreso."
   ]
  },
  {
   "cell_type": "code",
   "execution_count": 60,
   "metadata": {},
   "outputs": [
    {
     "data": {
      "text/plain": [
       "1823"
      ]
     },
     "execution_count": 60,
     "metadata": {},
     "output_type": "execute_result"
    }
   ],
   "source": [
    "df[\"eqpdays\"].max()"
   ]
  },
  {
   "cell_type": "code",
   "execution_count": 61,
   "metadata": {},
   "outputs": [
    {
     "data": {
      "text/plain": [
       "338.0"
      ]
     },
     "execution_count": 61,
     "metadata": {},
     "output_type": "execute_result"
    }
   ],
   "source": [
    "df[\"eqpdays\"].median()"
   ]
  },
  {
   "cell_type": "code",
   "execution_count": 62,
   "metadata": {
    "scrolled": true
   },
   "outputs": [
    {
     "data": {
      "text/plain": [
       "386.7992"
      ]
     },
     "execution_count": 62,
     "metadata": {},
     "output_type": "execute_result"
    }
   ],
   "source": [
    "df[\"eqpdays\"].mean()"
   ]
  },
  {
   "cell_type": "code",
   "execution_count": 63,
   "metadata": {
    "scrolled": true
   },
   "outputs": [
    {
     "data": {
      "text/plain": [
       "210.0"
      ]
     },
     "execution_count": 63,
     "metadata": {},
     "output_type": "execute_result"
    }
   ],
   "source": [
    "df[\"eqpdays\"].quantile(0.25)"
   ]
  },
  {
   "cell_type": "code",
   "execution_count": 64,
   "metadata": {},
   "outputs": [
    {
     "data": {
      "text/plain": [
       "522.0"
      ]
     },
     "execution_count": 64,
     "metadata": {},
     "output_type": "execute_result"
    }
   ],
   "source": [
    "df[\"eqpdays\"].quantile(0.75)"
   ]
  },
  {
   "cell_type": "markdown",
   "metadata": {},
   "source": [
    "Estas estadísticas pueden ser resumidas con el comando:\n",
    "```python\n",
    "df[\"var\"].describe()  # Estadísticas resumen principales\n",
    "```"
   ]
  },
  {
   "cell_type": "code",
   "execution_count": 65,
   "metadata": {
    "scrolled": true
   },
   "outputs": [
    {
     "data": {
      "text/plain": [
       "count    10000.00000\n",
       "mean       386.79920\n",
       "std        252.71297\n",
       "min          0.00000\n",
       "25%        210.00000\n",
       "50%        338.00000\n",
       "75%        522.00000\n",
       "max       1823.00000\n",
       "Name: eqpdays, dtype: float64"
      ]
     },
     "execution_count": 65,
     "metadata": {},
     "output_type": "execute_result"
    }
   ],
   "source": [
    "df[\"eqpdays\"].describe()"
   ]
  },
  {
   "cell_type": "code",
   "execution_count": 66,
   "metadata": {},
   "outputs": [
    {
     "data": {
      "text/plain": [
       "count     10000\n",
       "unique        2\n",
       "top           Y\n",
       "freq       6948\n",
       "Name: creditcd, dtype: object"
      ]
     },
     "execution_count": 66,
     "metadata": {},
     "output_type": "execute_result"
    }
   ],
   "source": [
    "df['creditcd'].describe()"
   ]
  },
  {
   "cell_type": "code",
   "execution_count": 67,
   "metadata": {},
   "outputs": [
    {
     "data": {
      "text/html": [
       "<div>\n",
       "<style scoped>\n",
       "    .dataframe tbody tr th:only-of-type {\n",
       "        vertical-align: middle;\n",
       "    }\n",
       "\n",
       "    .dataframe tbody tr th {\n",
       "        vertical-align: top;\n",
       "    }\n",
       "\n",
       "    .dataframe thead th {\n",
       "        text-align: right;\n",
       "    }\n",
       "</style>\n",
       "<table border=\"1\" class=\"dataframe\">\n",
       "  <thead>\n",
       "    <tr style=\"text-align: right;\">\n",
       "      <th></th>\n",
       "      <th>totmou</th>\n",
       "      <th>totrev</th>\n",
       "      <th>eqpdays</th>\n",
       "    </tr>\n",
       "  </thead>\n",
       "  <tbody>\n",
       "    <tr>\n",
       "      <th>count</th>\n",
       "      <td>10000.000000</td>\n",
       "      <td>10000.000000</td>\n",
       "      <td>10000.00000</td>\n",
       "    </tr>\n",
       "    <tr>\n",
       "      <th>mean</th>\n",
       "      <td>7692.804866</td>\n",
       "      <td>1042.133807</td>\n",
       "      <td>386.79920</td>\n",
       "    </tr>\n",
       "    <tr>\n",
       "      <th>std</th>\n",
       "      <td>8657.917883</td>\n",
       "      <td>857.144895</td>\n",
       "      <td>252.71297</td>\n",
       "    </tr>\n",
       "    <tr>\n",
       "      <th>min</th>\n",
       "      <td>0.000000</td>\n",
       "      <td>11.100000</td>\n",
       "      <td>0.00000</td>\n",
       "    </tr>\n",
       "    <tr>\n",
       "      <th>25%</th>\n",
       "      <td>2576.000000</td>\n",
       "      <td>526.787500</td>\n",
       "      <td>210.00000</td>\n",
       "    </tr>\n",
       "    <tr>\n",
       "      <th>50%</th>\n",
       "      <td>5262.000000</td>\n",
       "      <td>820.235000</td>\n",
       "      <td>338.00000</td>\n",
       "    </tr>\n",
       "    <tr>\n",
       "      <th>75%</th>\n",
       "      <td>9823.250000</td>\n",
       "      <td>1272.975000</td>\n",
       "      <td>522.00000</td>\n",
       "    </tr>\n",
       "    <tr>\n",
       "      <th>max</th>\n",
       "      <td>163264.176700</td>\n",
       "      <td>13426.600000</td>\n",
       "      <td>1823.00000</td>\n",
       "    </tr>\n",
       "  </tbody>\n",
       "</table>\n",
       "</div>"
      ],
      "text/plain": [
       "              totmou        totrev      eqpdays\n",
       "count   10000.000000  10000.000000  10000.00000\n",
       "mean     7692.804866   1042.133807    386.79920\n",
       "std      8657.917883    857.144895    252.71297\n",
       "min         0.000000     11.100000      0.00000\n",
       "25%      2576.000000    526.787500    210.00000\n",
       "50%      5262.000000    820.235000    338.00000\n",
       "75%      9823.250000   1272.975000    522.00000\n",
       "max    163264.176700  13426.600000   1823.00000"
      ]
     },
     "execution_count": 67,
     "metadata": {},
     "output_type": "execute_result"
    }
   ],
   "source": [
    "df.describe()"
   ]
  },
  {
   "cell_type": "code",
   "execution_count": 68,
   "metadata": {},
   "outputs": [
    {
     "data": {
      "text/html": [
       "<div>\n",
       "<style scoped>\n",
       "    .dataframe tbody tr th:only-of-type {\n",
       "        vertical-align: middle;\n",
       "    }\n",
       "\n",
       "    .dataframe tbody tr th {\n",
       "        vertical-align: top;\n",
       "    }\n",
       "\n",
       "    .dataframe thead th {\n",
       "        text-align: right;\n",
       "    }\n",
       "</style>\n",
       "<table border=\"1\" class=\"dataframe\">\n",
       "  <thead>\n",
       "    <tr style=\"text-align: right;\">\n",
       "      <th></th>\n",
       "      <th>totmou</th>\n",
       "      <th>totrev</th>\n",
       "      <th>creditcd</th>\n",
       "      <th>eqpdays</th>\n",
       "      <th>consumo</th>\n",
       "    </tr>\n",
       "  </thead>\n",
       "  <tbody>\n",
       "    <tr>\n",
       "      <th>count</th>\n",
       "      <td>10000.000000</td>\n",
       "      <td>10000.000000</td>\n",
       "      <td>10000</td>\n",
       "      <td>10000.00000</td>\n",
       "      <td>10000</td>\n",
       "    </tr>\n",
       "    <tr>\n",
       "      <th>unique</th>\n",
       "      <td>NaN</td>\n",
       "      <td>NaN</td>\n",
       "      <td>2</td>\n",
       "      <td>NaN</td>\n",
       "      <td>3</td>\n",
       "    </tr>\n",
       "    <tr>\n",
       "      <th>top</th>\n",
       "      <td>NaN</td>\n",
       "      <td>NaN</td>\n",
       "      <td>Y</td>\n",
       "      <td>NaN</td>\n",
       "      <td>Medio</td>\n",
       "    </tr>\n",
       "    <tr>\n",
       "      <th>freq</th>\n",
       "      <td>NaN</td>\n",
       "      <td>NaN</td>\n",
       "      <td>6948</td>\n",
       "      <td>NaN</td>\n",
       "      <td>4862</td>\n",
       "    </tr>\n",
       "    <tr>\n",
       "      <th>mean</th>\n",
       "      <td>7692.804866</td>\n",
       "      <td>1042.133807</td>\n",
       "      <td>NaN</td>\n",
       "      <td>386.79920</td>\n",
       "      <td>NaN</td>\n",
       "    </tr>\n",
       "    <tr>\n",
       "      <th>std</th>\n",
       "      <td>8657.917883</td>\n",
       "      <td>857.144895</td>\n",
       "      <td>NaN</td>\n",
       "      <td>252.71297</td>\n",
       "      <td>NaN</td>\n",
       "    </tr>\n",
       "    <tr>\n",
       "      <th>min</th>\n",
       "      <td>0.000000</td>\n",
       "      <td>11.100000</td>\n",
       "      <td>NaN</td>\n",
       "      <td>0.00000</td>\n",
       "      <td>NaN</td>\n",
       "    </tr>\n",
       "    <tr>\n",
       "      <th>25%</th>\n",
       "      <td>2576.000000</td>\n",
       "      <td>526.787500</td>\n",
       "      <td>NaN</td>\n",
       "      <td>210.00000</td>\n",
       "      <td>NaN</td>\n",
       "    </tr>\n",
       "    <tr>\n",
       "      <th>50%</th>\n",
       "      <td>5262.000000</td>\n",
       "      <td>820.235000</td>\n",
       "      <td>NaN</td>\n",
       "      <td>338.00000</td>\n",
       "      <td>NaN</td>\n",
       "    </tr>\n",
       "    <tr>\n",
       "      <th>75%</th>\n",
       "      <td>9823.250000</td>\n",
       "      <td>1272.975000</td>\n",
       "      <td>NaN</td>\n",
       "      <td>522.00000</td>\n",
       "      <td>NaN</td>\n",
       "    </tr>\n",
       "    <tr>\n",
       "      <th>max</th>\n",
       "      <td>163264.176700</td>\n",
       "      <td>13426.600000</td>\n",
       "      <td>NaN</td>\n",
       "      <td>1823.00000</td>\n",
       "      <td>NaN</td>\n",
       "    </tr>\n",
       "  </tbody>\n",
       "</table>\n",
       "</div>"
      ],
      "text/plain": [
       "               totmou        totrev creditcd      eqpdays consumo\n",
       "count    10000.000000  10000.000000    10000  10000.00000   10000\n",
       "unique            NaN           NaN        2          NaN       3\n",
       "top               NaN           NaN        Y          NaN   Medio\n",
       "freq              NaN           NaN     6948          NaN    4862\n",
       "mean      7692.804866   1042.133807      NaN    386.79920     NaN\n",
       "std       8657.917883    857.144895      NaN    252.71297     NaN\n",
       "min          0.000000     11.100000      NaN      0.00000     NaN\n",
       "25%       2576.000000    526.787500      NaN    210.00000     NaN\n",
       "50%       5262.000000    820.235000      NaN    338.00000     NaN\n",
       "75%       9823.250000   1272.975000      NaN    522.00000     NaN\n",
       "max     163264.176700  13426.600000      NaN   1823.00000     NaN"
      ]
     },
     "execution_count": 68,
     "metadata": {},
     "output_type": "execute_result"
    }
   ],
   "source": [
    "df.describe(include='all')"
   ]
  },
  {
   "cell_type": "markdown",
   "metadata": {},
   "source": [
    "### Agregar información de múltiples tablas\n",
    "\n",
    "Hemos desarrollado un breve resumen estadístico solamente usando la base `Credito_dias.csv`. Realizaremos la combinación de las 19 áreas que nos reportan en los archivos csv. Una forma de lograr esta tarea de agregación es usar el método pd.concat() de pandas. Una entrada en este método puede ser una lista de DataFrames que quiera concatenar. Usaremos un ciclo  `for` sobre cada uno de los archivos de áreas para \n"
   ]
  },
  {
   "cell_type": "code",
   "execution_count": 69,
   "metadata": {},
   "outputs": [
    {
     "data": {
      "text/plain": [
       "totmou      float64\n",
       "totrev      float64\n",
       "creditcd     object\n",
       "eqpdays       int64\n",
       "consumo      object\n",
       "dtype: object"
      ]
     },
     "execution_count": 69,
     "metadata": {},
     "output_type": "execute_result"
    }
   ],
   "source": [
    "df.columns\n",
    "df.dtypes"
   ]
  },
  {
   "cell_type": "markdown",
   "metadata": {},
   "source": [
    "### Ejercicio 1\n",
    "Determinar los percentiles 25, 50 y 75 para las columnas ttomou, totrev, eqpdays"
   ]
  },
  {
   "cell_type": "code",
   "execution_count": 70,
   "metadata": {},
   "outputs": [
    {
     "data": {
      "text/plain": [
       "count     10000.000000\n",
       "mean       7692.804866\n",
       "std        8657.917883\n",
       "min           0.000000\n",
       "25%        2576.000000\n",
       "50%        5262.000000\n",
       "75%        9823.250000\n",
       "max      163264.176700\n",
       "Name: totmou, dtype: float64"
      ]
     },
     "execution_count": 70,
     "metadata": {},
     "output_type": "execute_result"
    }
   ],
   "source": [
    "#Espacio para el desarrollo del ejercicio\n",
    "df[\"totmou\"].describe()"
   ]
  },
  {
   "cell_type": "code",
   "execution_count": 71,
   "metadata": {},
   "outputs": [
    {
     "data": {
      "text/plain": [
       "count    10000.000000\n",
       "mean      1042.133807\n",
       "std        857.144895\n",
       "min         11.100000\n",
       "25%        526.787500\n",
       "50%        820.235000\n",
       "75%       1272.975000\n",
       "max      13426.600000\n",
       "Name: totrev, dtype: float64"
      ]
     },
     "execution_count": 71,
     "metadata": {},
     "output_type": "execute_result"
    }
   ],
   "source": [
    "df[\"totrev\"].describe()"
   ]
  },
  {
   "cell_type": "code",
   "execution_count": 72,
   "metadata": {},
   "outputs": [
    {
     "data": {
      "text/html": [
       "<div>\n",
       "<style scoped>\n",
       "    .dataframe tbody tr th:only-of-type {\n",
       "        vertical-align: middle;\n",
       "    }\n",
       "\n",
       "    .dataframe tbody tr th {\n",
       "        vertical-align: top;\n",
       "    }\n",
       "\n",
       "    .dataframe thead th {\n",
       "        text-align: right;\n",
       "    }\n",
       "</style>\n",
       "<table border=\"1\" class=\"dataframe\">\n",
       "  <thead>\n",
       "    <tr style=\"text-align: right;\">\n",
       "      <th></th>\n",
       "      <th>totmou</th>\n",
       "      <th>totrev</th>\n",
       "      <th>creditcd</th>\n",
       "      <th>eqpdays</th>\n",
       "      <th>consumo</th>\n",
       "    </tr>\n",
       "  </thead>\n",
       "  <tbody>\n",
       "    <tr>\n",
       "      <th>count</th>\n",
       "      <td>10000.000000</td>\n",
       "      <td>10000.000000</td>\n",
       "      <td>10000</td>\n",
       "      <td>10000.00000</td>\n",
       "      <td>10000</td>\n",
       "    </tr>\n",
       "    <tr>\n",
       "      <th>unique</th>\n",
       "      <td>NaN</td>\n",
       "      <td>NaN</td>\n",
       "      <td>2</td>\n",
       "      <td>NaN</td>\n",
       "      <td>3</td>\n",
       "    </tr>\n",
       "    <tr>\n",
       "      <th>top</th>\n",
       "      <td>NaN</td>\n",
       "      <td>NaN</td>\n",
       "      <td>Y</td>\n",
       "      <td>NaN</td>\n",
       "      <td>Medio</td>\n",
       "    </tr>\n",
       "    <tr>\n",
       "      <th>freq</th>\n",
       "      <td>NaN</td>\n",
       "      <td>NaN</td>\n",
       "      <td>6948</td>\n",
       "      <td>NaN</td>\n",
       "      <td>4862</td>\n",
       "    </tr>\n",
       "    <tr>\n",
       "      <th>mean</th>\n",
       "      <td>7692.804866</td>\n",
       "      <td>1042.133807</td>\n",
       "      <td>NaN</td>\n",
       "      <td>386.79920</td>\n",
       "      <td>NaN</td>\n",
       "    </tr>\n",
       "    <tr>\n",
       "      <th>std</th>\n",
       "      <td>8657.917883</td>\n",
       "      <td>857.144895</td>\n",
       "      <td>NaN</td>\n",
       "      <td>252.71297</td>\n",
       "      <td>NaN</td>\n",
       "    </tr>\n",
       "    <tr>\n",
       "      <th>min</th>\n",
       "      <td>0.000000</td>\n",
       "      <td>11.100000</td>\n",
       "      <td>NaN</td>\n",
       "      <td>0.00000</td>\n",
       "      <td>NaN</td>\n",
       "    </tr>\n",
       "    <tr>\n",
       "      <th>25%</th>\n",
       "      <td>2576.000000</td>\n",
       "      <td>526.787500</td>\n",
       "      <td>NaN</td>\n",
       "      <td>210.00000</td>\n",
       "      <td>NaN</td>\n",
       "    </tr>\n",
       "    <tr>\n",
       "      <th>50%</th>\n",
       "      <td>5262.000000</td>\n",
       "      <td>820.235000</td>\n",
       "      <td>NaN</td>\n",
       "      <td>338.00000</td>\n",
       "      <td>NaN</td>\n",
       "    </tr>\n",
       "    <tr>\n",
       "      <th>75%</th>\n",
       "      <td>9823.250000</td>\n",
       "      <td>1272.975000</td>\n",
       "      <td>NaN</td>\n",
       "      <td>522.00000</td>\n",
       "      <td>NaN</td>\n",
       "    </tr>\n",
       "    <tr>\n",
       "      <th>max</th>\n",
       "      <td>163264.176700</td>\n",
       "      <td>13426.600000</td>\n",
       "      <td>NaN</td>\n",
       "      <td>1823.00000</td>\n",
       "      <td>NaN</td>\n",
       "    </tr>\n",
       "  </tbody>\n",
       "</table>\n",
       "</div>"
      ],
      "text/plain": [
       "               totmou        totrev creditcd      eqpdays consumo\n",
       "count    10000.000000  10000.000000    10000  10000.00000   10000\n",
       "unique            NaN           NaN        2          NaN       3\n",
       "top               NaN           NaN        Y          NaN   Medio\n",
       "freq              NaN           NaN     6948          NaN    4862\n",
       "mean      7692.804866   1042.133807      NaN    386.79920     NaN\n",
       "std       8657.917883    857.144895      NaN    252.71297     NaN\n",
       "min          0.000000     11.100000      NaN      0.00000     NaN\n",
       "25%       2576.000000    526.787500      NaN    210.00000     NaN\n",
       "50%       5262.000000    820.235000      NaN    338.00000     NaN\n",
       "75%       9823.250000   1272.975000      NaN    522.00000     NaN\n",
       "max     163264.176700  13426.600000      NaN   1823.00000     NaN"
      ]
     },
     "execution_count": 72,
     "metadata": {},
     "output_type": "execute_result"
    }
   ],
   "source": [
    "df.describe(include='all')"
   ]
  },
  {
   "cell_type": "code",
   "execution_count": 73,
   "metadata": {},
   "outputs": [
    {
     "data": {
      "text/plain": [
       "['.ipynb_checkpoints',\n",
       " 'ATLANTIC SOUTH AREA.csv',\n",
       " 'CALIFORNIA NORTH AREA.csv',\n",
       " 'CENTRAL-SOUTH TEXAS AREA.csv',\n",
       " 'CHICAGO AREA.csv',\n",
       " 'Credito_dias.csv',\n",
       " 'DALLAS AREA.csv',\n",
       " 'DC-MARYLAND-VIRGINIA AREA.csv',\n",
       " 'GREAT LAKES AREA.csv',\n",
       " 'HOUSTON AREA.csv',\n",
       " 'LOS ANGELES AREA.csv',\n",
       " 'MIDWEST AREA.csv',\n",
       " 'NEW ENGLAND AREA.csv',\n",
       " 'NEW YORK CITY AREA.csv',\n",
       " 'NORTH FLORIDA AREA.csv',\n",
       " 'NORTHWEST-ROCKY MOUNTAIN AREA.csv',\n",
       " 'OHIO AREA.csv',\n",
       " 'PHILADELPHIA AREA.csv',\n",
       " 'SOUTH FLORIDA AREA.csv',\n",
       " 'SOUTHWEST AREA.csv',\n",
       " 'TENNESSEE AREA.csv']"
      ]
     },
     "execution_count": 73,
     "metadata": {},
     "output_type": "execute_result"
    }
   ],
   "source": [
    "os.listdir(\"D:\\ESP. MACHINE LEARNING\\ESTADISTICA DE LA PROBABILIDAD\\Datos\\Clase 2\")"
   ]
  },
  {
   "cell_type": "code",
   "execution_count": 74,
   "metadata": {},
   "outputs": [
    {
     "name": "stdout",
     "output_type": "stream",
     "text": [
      "Definición de los símbolos de las acciones\n",
      " --- Inicie el bucle sobre los símbolos --- \n",
      "Procesando el símbolo: ATLANTIC SOUTH AREA\n",
      " --- Bucle completo sobre los símbolos --- \n",
      "\n",
      "Procesando el símbolo: CALIFORNIA NORTH AREA\n",
      " --- Bucle completo sobre los símbolos --- \n",
      "\n",
      "Procesando el símbolo: CENTRAL-SOUTH TEXAS AREA\n",
      " --- Bucle completo sobre los símbolos --- \n",
      "\n",
      "Procesando el símbolo: CHICAGO AREA\n",
      " --- Bucle completo sobre los símbolos --- \n",
      "\n",
      "Procesando el símbolo: DALLAS AREA\n",
      " --- Bucle completo sobre los símbolos --- \n",
      "\n",
      "Procesando el símbolo: DC-MARYLAND-VIRGINIA AREA\n",
      " --- Bucle completo sobre los símbolos --- \n",
      "\n",
      "Procesando el símbolo: GREAT LAKES AREA\n",
      " --- Bucle completo sobre los símbolos --- \n",
      "\n",
      "Procesando el símbolo: HOUSTON AREA\n",
      " --- Bucle completo sobre los símbolos --- \n",
      "\n",
      "Procesando el símbolo: LOS ANGELES AREA\n",
      " --- Bucle completo sobre los símbolos --- \n",
      "\n",
      "Procesando el símbolo: MIDWEST AREA\n",
      " --- Bucle completo sobre los símbolos --- \n",
      "\n",
      "Procesando el símbolo: NEW ENGLAND AREA\n",
      " --- Bucle completo sobre los símbolos --- \n",
      "\n",
      "Procesando el símbolo: NEW YORK CITY AREA\n",
      " --- Bucle completo sobre los símbolos --- \n",
      "\n",
      "Procesando el símbolo: NORTH FLORIDA AREA\n",
      " --- Bucle completo sobre los símbolos --- \n",
      "\n",
      "Procesando el símbolo: NORTHWEST-ROCKY MOUNTAIN AREA\n",
      " --- Bucle completo sobre los símbolos --- \n",
      "\n",
      "Procesando el símbolo: OHIO AREA\n",
      " --- Bucle completo sobre los símbolos --- \n",
      "\n",
      "Procesando el símbolo: PHILADELPHIA AREA\n",
      " --- Bucle completo sobre los símbolos --- \n",
      "\n",
      "Procesando el símbolo: SOUTH FLORIDA AREA\n",
      " --- Bucle completo sobre los símbolos --- \n",
      "\n",
      "Procesando el símbolo: SOUTHWEST AREA\n",
      " --- Bucle completo sobre los símbolos --- \n",
      "\n",
      "Procesando el símbolo: TENNESSEE AREA\n",
      " --- Bucle completo sobre los símbolos --- \n",
      "\n",
      "Agregando los datos\n",
      "(9997, 4)\n",
      "Cabeza del DataFrame agr_df: \n"
     ]
    },
    {
     "data": {
      "text/html": [
       "<div>\n",
       "<style scoped>\n",
       "    .dataframe tbody tr th:only-of-type {\n",
       "        vertical-align: middle;\n",
       "    }\n",
       "\n",
       "    .dataframe tbody tr th {\n",
       "        vertical-align: top;\n",
       "    }\n",
       "\n",
       "    .dataframe thead th {\n",
       "        text-align: right;\n",
       "    }\n",
       "</style>\n",
       "<table border=\"1\" class=\"dataframe\">\n",
       "  <thead>\n",
       "    <tr style=\"text-align: right;\">\n",
       "      <th></th>\n",
       "      <th>custcare_Mean</th>\n",
       "      <th>new_cell</th>\n",
       "      <th>area</th>\n",
       "      <th>creditcd</th>\n",
       "    </tr>\n",
       "    <tr>\n",
       "      <th>Customer_ID</th>\n",
       "      <th></th>\n",
       "      <th></th>\n",
       "      <th></th>\n",
       "      <th></th>\n",
       "    </tr>\n",
       "  </thead>\n",
       "  <tbody>\n",
       "    <tr>\n",
       "      <th>1069232</th>\n",
       "      <td>3.666667</td>\n",
       "      <td>U</td>\n",
       "      <td>ATLANTIC SOUTH AREA</td>\n",
       "      <td>N</td>\n",
       "    </tr>\n",
       "    <tr>\n",
       "      <th>1043846</th>\n",
       "      <td>0.000000</td>\n",
       "      <td>U</td>\n",
       "      <td>ATLANTIC SOUTH AREA</td>\n",
       "      <td>Y</td>\n",
       "    </tr>\n",
       "    <tr>\n",
       "      <th>1008539</th>\n",
       "      <td>0.000000</td>\n",
       "      <td>N</td>\n",
       "      <td>ATLANTIC SOUTH AREA</td>\n",
       "      <td>Y</td>\n",
       "    </tr>\n",
       "    <tr>\n",
       "      <th>1068315</th>\n",
       "      <td>0.000000</td>\n",
       "      <td>U</td>\n",
       "      <td>ATLANTIC SOUTH AREA</td>\n",
       "      <td>N</td>\n",
       "    </tr>\n",
       "    <tr>\n",
       "      <th>1074220</th>\n",
       "      <td>1.666667</td>\n",
       "      <td>U</td>\n",
       "      <td>ATLANTIC SOUTH AREA</td>\n",
       "      <td>N</td>\n",
       "    </tr>\n",
       "  </tbody>\n",
       "</table>\n",
       "</div>"
      ],
      "text/plain": [
       "             custcare_Mean new_cell                 area creditcd\n",
       "Customer_ID                                                      \n",
       "1069232           3.666667        U  ATLANTIC SOUTH AREA        N\n",
       "1043846           0.000000        U  ATLANTIC SOUTH AREA        Y\n",
       "1008539           0.000000        N  ATLANTIC SOUTH AREA        Y\n",
       "1068315           0.000000        U  ATLANTIC SOUTH AREA        N\n",
       "1074220           1.666667        U  ATLANTIC SOUTH AREA        N"
      ]
     },
     "execution_count": 74,
     "metadata": {},
     "output_type": "execute_result"
    }
   ],
   "source": [
    "print(\"Definición de los símbolos de las acciones\")\n",
    "areas = ['ATLANTIC SOUTH AREA',\n",
    " 'CALIFORNIA NORTH AREA',\n",
    " 'CENTRAL-SOUTH TEXAS AREA',\n",
    " 'CHICAGO AREA',\n",
    " 'DALLAS AREA',\n",
    " 'DC-MARYLAND-VIRGINIA AREA',\n",
    " 'GREAT LAKES AREA',\n",
    " 'HOUSTON AREA',\n",
    " 'LOS ANGELES AREA',\n",
    " 'MIDWEST AREA',\n",
    " 'NEW ENGLAND AREA',\n",
    " 'NEW YORK CITY AREA',\n",
    " 'NORTH FLORIDA AREA',\n",
    " 'NORTHWEST-ROCKY MOUNTAIN AREA',\n",
    " 'OHIO AREA',\n",
    " 'PHILADELPHIA AREA',\n",
    " 'SOUTH FLORIDA AREA',\n",
    " 'SOUTHWEST AREA',\n",
    " 'TENNESSEE AREA']\n",
    "lista_de_df = []\n",
    "# Bucle sobre los símbolos\n",
    "print(\" --- Inicie el bucle sobre los símbolos --- \")\n",
    "for i in areas:\n",
    "    print(\"Procesando el símbolo: \" + i)\n",
    "    temp_df = pd.read_csv(\"D:\\ESP. MACHINE LEARNING\\ESTADISTICA DE LA PROBABILIDAD\\Datos\\Clase 2/\" + i + \".csv\",index_col=\"Customer_ID\")\n",
    "    temp_df[\"area\"] = i\n",
    "    lista_de_df.append(temp_df)\n",
    "    # Usando un salto de línea al final de esta cadena de caracteres por estética\n",
    "    print(\" --- Bucle completo sobre los símbolos --- \\n\")\n",
    "    # Combinando en un solo DataFrame usando el concat\n",
    "print(\"Agregando los datos\")\n",
    "agr_df = pd.concat(lista_de_df, axis=0)\n",
    "print(agr_df.shape)\n",
    "print(\"Cabeza del DataFrame agr_df: \")\n",
    "agr_df.head()"
   ]
  },
  {
   "cell_type": "code",
   "execution_count": 75,
   "metadata": {},
   "outputs": [
    {
     "data": {
      "text/html": [
       "<div>\n",
       "<style scoped>\n",
       "    .dataframe tbody tr th:only-of-type {\n",
       "        vertical-align: middle;\n",
       "    }\n",
       "\n",
       "    .dataframe tbody tr th {\n",
       "        vertical-align: top;\n",
       "    }\n",
       "\n",
       "    .dataframe thead th {\n",
       "        text-align: right;\n",
       "    }\n",
       "</style>\n",
       "<table border=\"1\" class=\"dataframe\">\n",
       "  <thead>\n",
       "    <tr style=\"text-align: right;\">\n",
       "      <th></th>\n",
       "      <th>custcare_Mean</th>\n",
       "      <th>new_cell</th>\n",
       "      <th>area</th>\n",
       "      <th>creditcd</th>\n",
       "    </tr>\n",
       "    <tr>\n",
       "      <th>Customer_ID</th>\n",
       "      <th></th>\n",
       "      <th></th>\n",
       "      <th></th>\n",
       "      <th></th>\n",
       "    </tr>\n",
       "  </thead>\n",
       "  <tbody>\n",
       "    <tr>\n",
       "      <th>1069232</th>\n",
       "      <td>3.666667</td>\n",
       "      <td>U</td>\n",
       "      <td>ATLANTIC SOUTH AREA</td>\n",
       "      <td>N</td>\n",
       "    </tr>\n",
       "    <tr>\n",
       "      <th>1043846</th>\n",
       "      <td>0.000000</td>\n",
       "      <td>U</td>\n",
       "      <td>ATLANTIC SOUTH AREA</td>\n",
       "      <td>Y</td>\n",
       "    </tr>\n",
       "    <tr>\n",
       "      <th>1008539</th>\n",
       "      <td>0.000000</td>\n",
       "      <td>N</td>\n",
       "      <td>ATLANTIC SOUTH AREA</td>\n",
       "      <td>Y</td>\n",
       "    </tr>\n",
       "    <tr>\n",
       "      <th>1068315</th>\n",
       "      <td>0.000000</td>\n",
       "      <td>U</td>\n",
       "      <td>ATLANTIC SOUTH AREA</td>\n",
       "      <td>N</td>\n",
       "    </tr>\n",
       "    <tr>\n",
       "      <th>1074220</th>\n",
       "      <td>1.666667</td>\n",
       "      <td>U</td>\n",
       "      <td>ATLANTIC SOUTH AREA</td>\n",
       "      <td>N</td>\n",
       "    </tr>\n",
       "    <tr>\n",
       "      <th>...</th>\n",
       "      <td>...</td>\n",
       "      <td>...</td>\n",
       "      <td>...</td>\n",
       "      <td>...</td>\n",
       "    </tr>\n",
       "    <tr>\n",
       "      <th>1093180</th>\n",
       "      <td>3.000000</td>\n",
       "      <td>U</td>\n",
       "      <td>TENNESSEE AREA</td>\n",
       "      <td>Y</td>\n",
       "    </tr>\n",
       "    <tr>\n",
       "      <th>1018795</th>\n",
       "      <td>0.000000</td>\n",
       "      <td>U</td>\n",
       "      <td>TENNESSEE AREA</td>\n",
       "      <td>Y</td>\n",
       "    </tr>\n",
       "    <tr>\n",
       "      <th>1055110</th>\n",
       "      <td>9.666667</td>\n",
       "      <td>U</td>\n",
       "      <td>TENNESSEE AREA</td>\n",
       "      <td>N</td>\n",
       "    </tr>\n",
       "    <tr>\n",
       "      <th>1078247</th>\n",
       "      <td>0.333333</td>\n",
       "      <td>U</td>\n",
       "      <td>TENNESSEE AREA</td>\n",
       "      <td>Y</td>\n",
       "    </tr>\n",
       "    <tr>\n",
       "      <th>1061746</th>\n",
       "      <td>0.000000</td>\n",
       "      <td>U</td>\n",
       "      <td>TENNESSEE AREA</td>\n",
       "      <td>Y</td>\n",
       "    </tr>\n",
       "  </tbody>\n",
       "</table>\n",
       "<p>9997 rows × 4 columns</p>\n",
       "</div>"
      ],
      "text/plain": [
       "             custcare_Mean new_cell                 area creditcd\n",
       "Customer_ID                                                      \n",
       "1069232           3.666667        U  ATLANTIC SOUTH AREA        N\n",
       "1043846           0.000000        U  ATLANTIC SOUTH AREA        Y\n",
       "1008539           0.000000        N  ATLANTIC SOUTH AREA        Y\n",
       "1068315           0.000000        U  ATLANTIC SOUTH AREA        N\n",
       "1074220           1.666667        U  ATLANTIC SOUTH AREA        N\n",
       "...                    ...      ...                  ...      ...\n",
       "1093180           3.000000        U       TENNESSEE AREA        Y\n",
       "1018795           0.000000        U       TENNESSEE AREA        Y\n",
       "1055110           9.666667        U       TENNESSEE AREA        N\n",
       "1078247           0.333333        U       TENNESSEE AREA        Y\n",
       "1061746           0.000000        U       TENNESSEE AREA        Y\n",
       "\n",
       "[9997 rows x 4 columns]"
      ]
     },
     "execution_count": 75,
     "metadata": {},
     "output_type": "execute_result"
    }
   ],
   "source": [
    "agr_df"
   ]
  },
  {
   "cell_type": "code",
   "execution_count": 76,
   "metadata": {},
   "outputs": [
    {
     "data": {
      "text/html": [
       "<div>\n",
       "<style scoped>\n",
       "    .dataframe tbody tr th:only-of-type {\n",
       "        vertical-align: middle;\n",
       "    }\n",
       "\n",
       "    .dataframe tbody tr th {\n",
       "        vertical-align: top;\n",
       "    }\n",
       "\n",
       "    .dataframe thead th {\n",
       "        text-align: right;\n",
       "    }\n",
       "</style>\n",
       "<table border=\"1\" class=\"dataframe\">\n",
       "  <thead>\n",
       "    <tr style=\"text-align: right;\">\n",
       "      <th></th>\n",
       "      <th>custcare_Mean</th>\n",
       "      <th>new_cell</th>\n",
       "      <th>area</th>\n",
       "      <th>creditcd</th>\n",
       "    </tr>\n",
       "    <tr>\n",
       "      <th>Customer_ID</th>\n",
       "      <th></th>\n",
       "      <th></th>\n",
       "      <th></th>\n",
       "      <th></th>\n",
       "    </tr>\n",
       "  </thead>\n",
       "  <tbody>\n",
       "    <tr>\n",
       "      <th>1000014</th>\n",
       "      <td>0.000000</td>\n",
       "      <td>Y</td>\n",
       "      <td>CENTRAL-SOUTH TEXAS AREA</td>\n",
       "      <td>N</td>\n",
       "    </tr>\n",
       "    <tr>\n",
       "      <th>1000016</th>\n",
       "      <td>1.000000</td>\n",
       "      <td>N</td>\n",
       "      <td>DALLAS AREA</td>\n",
       "      <td>Y</td>\n",
       "    </tr>\n",
       "    <tr>\n",
       "      <th>1000021</th>\n",
       "      <td>0.333333</td>\n",
       "      <td>U</td>\n",
       "      <td>TENNESSEE AREA</td>\n",
       "      <td>Y</td>\n",
       "    </tr>\n",
       "    <tr>\n",
       "      <th>1000023</th>\n",
       "      <td>0.000000</td>\n",
       "      <td>N</td>\n",
       "      <td>NORTHWEST-ROCKY MOUNTAIN AREA</td>\n",
       "      <td>N</td>\n",
       "    </tr>\n",
       "    <tr>\n",
       "      <th>1000029</th>\n",
       "      <td>0.000000</td>\n",
       "      <td>N</td>\n",
       "      <td>NEW ENGLAND AREA</td>\n",
       "      <td>Y</td>\n",
       "    </tr>\n",
       "    <tr>\n",
       "      <th>...</th>\n",
       "      <td>...</td>\n",
       "      <td>...</td>\n",
       "      <td>...</td>\n",
       "      <td>...</td>\n",
       "    </tr>\n",
       "    <tr>\n",
       "      <th>1099907</th>\n",
       "      <td>17.333333</td>\n",
       "      <td>U</td>\n",
       "      <td>LOS ANGELES AREA</td>\n",
       "      <td>Y</td>\n",
       "    </tr>\n",
       "    <tr>\n",
       "      <th>1099932</th>\n",
       "      <td>0.000000</td>\n",
       "      <td>U</td>\n",
       "      <td>LOS ANGELES AREA</td>\n",
       "      <td>Y</td>\n",
       "    </tr>\n",
       "    <tr>\n",
       "      <th>1099963</th>\n",
       "      <td>0.000000</td>\n",
       "      <td>U</td>\n",
       "      <td>SOUTHWEST AREA</td>\n",
       "      <td>Y</td>\n",
       "    </tr>\n",
       "    <tr>\n",
       "      <th>1099981</th>\n",
       "      <td>0.333333</td>\n",
       "      <td>U</td>\n",
       "      <td>SOUTHWEST AREA</td>\n",
       "      <td>NaN</td>\n",
       "    </tr>\n",
       "    <tr>\n",
       "      <th>1099992</th>\n",
       "      <td>0.000000</td>\n",
       "      <td>Y</td>\n",
       "      <td>LOS ANGELES AREA</td>\n",
       "      <td>Y</td>\n",
       "    </tr>\n",
       "  </tbody>\n",
       "</table>\n",
       "<p>9997 rows × 4 columns</p>\n",
       "</div>"
      ],
      "text/plain": [
       "             custcare_Mean new_cell                           area creditcd\n",
       "Customer_ID                                                                \n",
       "1000014           0.000000        Y       CENTRAL-SOUTH TEXAS AREA        N\n",
       "1000016           1.000000        N                    DALLAS AREA        Y\n",
       "1000021           0.333333        U                 TENNESSEE AREA        Y\n",
       "1000023           0.000000        N  NORTHWEST-ROCKY MOUNTAIN AREA        N\n",
       "1000029           0.000000        N               NEW ENGLAND AREA        Y\n",
       "...                    ...      ...                            ...      ...\n",
       "1099907          17.333333        U               LOS ANGELES AREA        Y\n",
       "1099932           0.000000        U               LOS ANGELES AREA        Y\n",
       "1099963           0.000000        U                 SOUTHWEST AREA        Y\n",
       "1099981           0.333333        U                 SOUTHWEST AREA      NaN\n",
       "1099992           0.000000        Y               LOS ANGELES AREA        Y\n",
       "\n",
       "[9997 rows x 4 columns]"
      ]
     },
     "execution_count": 76,
     "metadata": {},
     "output_type": "execute_result"
    }
   ],
   "source": [
    "agr_df.sort_index(axis=0,inplace=True)\n",
    "agr_df"
   ]
  },
  {
   "cell_type": "markdown",
   "metadata": {},
   "source": [
    "La ejecución nos da como resultado una base de datos de 9997 registros correspondiente a la concatenación de todas las áreas. Se debe notar que nuestro conjunto de datos también es indexado por la columna `Customer_ID` y que la dimensión de los registros de está nueva base es menor a la de  `Creditos_dias.csv`."
   ]
  },
  {
   "cell_type": "markdown",
   "metadata": {},
   "source": [
    " ## Cruce de información\n",
    "\n",
    "El cruce de información es una operación esencial en el análisis de los datos. Usualmente, la posibilidad de realizar el cruce de dos o más fuentes de información es el primer paso para responder preguntas complejas acerca de los datos. Existen muchas formas de cruzar o combinar tablas de datos. El cruce de estos datos siempre tiene un propósito. Por tanto, se debe realizar un análisis de lo que se requiere antes de iniciar. Para esto, lo primero es conocer bien las fuentes de información que se van a relacionar. \n",
    "\n",
    "### Uniones (Joins)\n",
    "Usando la librería pandas se pueden realizar 4 tipos de uniones para cruzar información entre dos fuentes de datos, ver Figura abajo. \n",
    "* INNER JOIN: este tipo de cruce incluye solo los resgistros que coincieden en las dos tablas\n",
    "* LEFT JOIN:  en este tipo de cruce se incluyen todos los registros de la primera tabla aunque no aparezcan coincidencias en la segunda. Cuando no hay coincidencias en la segunda tabla los campos correspondientes a esta aparecerán como nulos.\n",
    "* RIGHT JOIN: en este tipo de cruce se incluyen todos los registros de la segunda tabla aunque no aparezcan coincidencias en la primera. Cuando no hay coincidencias en la primer tabla los campos correspondientes a esta aparecerán como nulos.\n",
    "* OUTER JOIN O FULL JOIN: combina todos los registros de ambas tablas aunque no existan coincidencias en la otra tabla. \n",
    "\n",
    "![Los tipos de uniones que se pueden ejecutar en pandas](https://letsdobigdata.files.wordpress.com/2016/03/joins.png)\n",
    "\n",
    "La combinación a usar depende del análisis que se requiera con los datos. Lo más común es realizar un cruce de tipo Inner Join, debido a que muestra los registros cuando aparecen relacionados en ambas tablas. Sin embargo, en \n",
    "ocasiones se quiere saber que pasa con todos los registros de la primera tabla aunque no se tengan coincidencias. Alternativamente, quizá, lo menos usual es hacer combinaciones de tipo RIGHT o OUTER. Generalmente, estas son usadas cuando se quiere saber por qué no se tienen coincidencias, o cuáles registros no cumplen con la relación especificada.\n",
    "\n",
    "Ya que desconocemos cuales son los registros perdidos en los 2 dataframes que hemos construido y es necesario para continuar nuestro preprocesamiento el unir la información."
   ]
  },
  {
   "cell_type": "code",
   "execution_count": 77,
   "metadata": {
    "scrolled": true
   },
   "outputs": [
    {
     "data": {
      "text/html": [
       "<div>\n",
       "<style scoped>\n",
       "    .dataframe tbody tr th:only-of-type {\n",
       "        vertical-align: middle;\n",
       "    }\n",
       "\n",
       "    .dataframe tbody tr th {\n",
       "        vertical-align: top;\n",
       "    }\n",
       "\n",
       "    .dataframe thead th {\n",
       "        text-align: right;\n",
       "    }\n",
       "</style>\n",
       "<table border=\"1\" class=\"dataframe\">\n",
       "  <thead>\n",
       "    <tr style=\"text-align: right;\">\n",
       "      <th></th>\n",
       "      <th>totmou</th>\n",
       "      <th>totrev</th>\n",
       "      <th>creditcd_x</th>\n",
       "      <th>eqpdays</th>\n",
       "      <th>consumo</th>\n",
       "      <th>custcare_Mean</th>\n",
       "      <th>new_cell</th>\n",
       "      <th>area</th>\n",
       "      <th>creditcd_y</th>\n",
       "    </tr>\n",
       "    <tr>\n",
       "      <th>Customer_ID</th>\n",
       "      <th></th>\n",
       "      <th></th>\n",
       "      <th></th>\n",
       "      <th></th>\n",
       "      <th></th>\n",
       "      <th></th>\n",
       "      <th></th>\n",
       "      <th></th>\n",
       "      <th></th>\n",
       "    </tr>\n",
       "  </thead>\n",
       "  <tbody>\n",
       "    <tr>\n",
       "      <th>1082423</th>\n",
       "      <td>7269.0</td>\n",
       "      <td>906.58</td>\n",
       "      <td>Y</td>\n",
       "      <td>371</td>\n",
       "      <td>Medio</td>\n",
       "      <td>14.333333</td>\n",
       "      <td>U</td>\n",
       "      <td>NEW ENGLAND AREA</td>\n",
       "      <td>Y</td>\n",
       "    </tr>\n",
       "    <tr>\n",
       "      <th>1069232</th>\n",
       "      <td>13552.0</td>\n",
       "      <td>1172.25</td>\n",
       "      <td>N</td>\n",
       "      <td>83</td>\n",
       "      <td>Alto</td>\n",
       "      <td>3.666667</td>\n",
       "      <td>U</td>\n",
       "      <td>ATLANTIC SOUTH AREA</td>\n",
       "      <td>N</td>\n",
       "    </tr>\n",
       "    <tr>\n",
       "      <th>1031705</th>\n",
       "      <td>4152.0</td>\n",
       "      <td>577.39</td>\n",
       "      <td>Y</td>\n",
       "      <td>675</td>\n",
       "      <td>Medio</td>\n",
       "      <td>3.000000</td>\n",
       "      <td>U</td>\n",
       "      <td>NEW YORK CITY AREA</td>\n",
       "      <td>Y</td>\n",
       "    </tr>\n",
       "    <tr>\n",
       "      <th>1089806</th>\n",
       "      <td>1863.0</td>\n",
       "      <td>294.26</td>\n",
       "      <td>Y</td>\n",
       "      <td>218</td>\n",
       "      <td>Bajo</td>\n",
       "      <td>11.000000</td>\n",
       "      <td>U</td>\n",
       "      <td>CHICAGO AREA</td>\n",
       "      <td>Y</td>\n",
       "    </tr>\n",
       "    <tr>\n",
       "      <th>1076695</th>\n",
       "      <td>4155.0</td>\n",
       "      <td>433.16</td>\n",
       "      <td>N</td>\n",
       "      <td>222</td>\n",
       "      <td>Medio</td>\n",
       "      <td>0.000000</td>\n",
       "      <td>U</td>\n",
       "      <td>NORTH FLORIDA AREA</td>\n",
       "      <td>N</td>\n",
       "    </tr>\n",
       "    <tr>\n",
       "      <th>...</th>\n",
       "      <td>...</td>\n",
       "      <td>...</td>\n",
       "      <td>...</td>\n",
       "      <td>...</td>\n",
       "      <td>...</td>\n",
       "      <td>...</td>\n",
       "      <td>...</td>\n",
       "      <td>...</td>\n",
       "      <td>...</td>\n",
       "    </tr>\n",
       "    <tr>\n",
       "      <th>1027614</th>\n",
       "      <td>2570.0</td>\n",
       "      <td>484.31</td>\n",
       "      <td>Y</td>\n",
       "      <td>611</td>\n",
       "      <td>Bajo</td>\n",
       "      <td>0.666667</td>\n",
       "      <td>U</td>\n",
       "      <td>CHICAGO AREA</td>\n",
       "      <td>Y</td>\n",
       "    </tr>\n",
       "    <tr>\n",
       "      <th>1098422</th>\n",
       "      <td>2105.0</td>\n",
       "      <td>583.36</td>\n",
       "      <td>Y</td>\n",
       "      <td>1243</td>\n",
       "      <td>Bajo</td>\n",
       "      <td>0.000000</td>\n",
       "      <td>U</td>\n",
       "      <td>SOUTHWEST AREA</td>\n",
       "      <td>Y</td>\n",
       "    </tr>\n",
       "    <tr>\n",
       "      <th>1096497</th>\n",
       "      <td>3690.0</td>\n",
       "      <td>294.29</td>\n",
       "      <td>Y</td>\n",
       "      <td>212</td>\n",
       "      <td>Medio</td>\n",
       "      <td>0.666667</td>\n",
       "      <td>Y</td>\n",
       "      <td>NEW ENGLAND AREA</td>\n",
       "      <td>Y</td>\n",
       "    </tr>\n",
       "    <tr>\n",
       "      <th>1087248</th>\n",
       "      <td>3333.0</td>\n",
       "      <td>233.08</td>\n",
       "      <td>Y</td>\n",
       "      <td>290</td>\n",
       "      <td>Bajo</td>\n",
       "      <td>0.000000</td>\n",
       "      <td>U</td>\n",
       "      <td>CALIFORNIA NORTH AREA</td>\n",
       "      <td>Y</td>\n",
       "    </tr>\n",
       "    <tr>\n",
       "      <th>1099003</th>\n",
       "      <td>5025.0</td>\n",
       "      <td>1436.49</td>\n",
       "      <td>Y</td>\n",
       "      <td>1029</td>\n",
       "      <td>Medio</td>\n",
       "      <td>0.333333</td>\n",
       "      <td>U</td>\n",
       "      <td>LOS ANGELES AREA</td>\n",
       "      <td>Y</td>\n",
       "    </tr>\n",
       "  </tbody>\n",
       "</table>\n",
       "<p>9997 rows × 9 columns</p>\n",
       "</div>"
      ],
      "text/plain": [
       "              totmou   totrev creditcd_x  eqpdays consumo  custcare_Mean  \\\n",
       "Customer_ID                                                                \n",
       "1082423       7269.0   906.58          Y      371   Medio      14.333333   \n",
       "1069232      13552.0  1172.25          N       83    Alto       3.666667   \n",
       "1031705       4152.0   577.39          Y      675   Medio       3.000000   \n",
       "1089806       1863.0   294.26          Y      218    Bajo      11.000000   \n",
       "1076695       4155.0   433.16          N      222   Medio       0.000000   \n",
       "...              ...      ...        ...      ...     ...            ...   \n",
       "1027614       2570.0   484.31          Y      611    Bajo       0.666667   \n",
       "1098422       2105.0   583.36          Y     1243    Bajo       0.000000   \n",
       "1096497       3690.0   294.29          Y      212   Medio       0.666667   \n",
       "1087248       3333.0   233.08          Y      290    Bajo       0.000000   \n",
       "1099003       5025.0  1436.49          Y     1029   Medio       0.333333   \n",
       "\n",
       "            new_cell                   area creditcd_y  \n",
       "Customer_ID                                             \n",
       "1082423            U       NEW ENGLAND AREA          Y  \n",
       "1069232            U    ATLANTIC SOUTH AREA          N  \n",
       "1031705            U     NEW YORK CITY AREA          Y  \n",
       "1089806            U           CHICAGO AREA          Y  \n",
       "1076695            U     NORTH FLORIDA AREA          N  \n",
       "...              ...                    ...        ...  \n",
       "1027614            U           CHICAGO AREA          Y  \n",
       "1098422            U         SOUTHWEST AREA          Y  \n",
       "1096497            Y       NEW ENGLAND AREA          Y  \n",
       "1087248            U  CALIFORNIA NORTH AREA          Y  \n",
       "1099003            U       LOS ANGELES AREA          Y  \n",
       "\n",
       "[9997 rows x 9 columns]"
      ]
     },
     "execution_count": 77,
     "metadata": {},
     "output_type": "execute_result"
    }
   ],
   "source": [
    "df3=df.merge(agr_df,left_index=True,right_index=True,how=\"inner\")\n",
    "df3"
   ]
  },
  {
   "cell_type": "markdown",
   "metadata": {},
   "source": [
    "### Ejercicio 2  \n",
    "¿Cuáles son los 3 registros que no se incluyen en df3 ?\n"
   ]
  },
  {
   "cell_type": "code",
   "execution_count": 78,
   "metadata": {},
   "outputs": [
    {
     "data": {
      "text/plain": [
       "array([ True,  True,  True, ...,  True,  True,  True])"
      ]
     },
     "execution_count": 78,
     "metadata": {},
     "output_type": "execute_result"
    }
   ],
   "source": [
    "df.index.isin(df3.index)"
   ]
  },
  {
   "cell_type": "code",
   "execution_count": 79,
   "metadata": {},
   "outputs": [
    {
     "data": {
      "text/html": [
       "<div>\n",
       "<style scoped>\n",
       "    .dataframe tbody tr th:only-of-type {\n",
       "        vertical-align: middle;\n",
       "    }\n",
       "\n",
       "    .dataframe tbody tr th {\n",
       "        vertical-align: top;\n",
       "    }\n",
       "\n",
       "    .dataframe thead th {\n",
       "        text-align: right;\n",
       "    }\n",
       "</style>\n",
       "<table border=\"1\" class=\"dataframe\">\n",
       "  <thead>\n",
       "    <tr style=\"text-align: right;\">\n",
       "      <th></th>\n",
       "      <th>totmou</th>\n",
       "      <th>totrev</th>\n",
       "      <th>creditcd</th>\n",
       "      <th>eqpdays</th>\n",
       "      <th>consumo</th>\n",
       "    </tr>\n",
       "    <tr>\n",
       "      <th>Customer_ID</th>\n",
       "      <th></th>\n",
       "      <th></th>\n",
       "      <th></th>\n",
       "      <th></th>\n",
       "      <th></th>\n",
       "    </tr>\n",
       "  </thead>\n",
       "  <tbody>\n",
       "    <tr>\n",
       "      <th>1050270</th>\n",
       "      <td>1409.0</td>\n",
       "      <td>407.02</td>\n",
       "      <td>Y</td>\n",
       "      <td>102</td>\n",
       "      <td>Bajo</td>\n",
       "    </tr>\n",
       "    <tr>\n",
       "      <th>1020629</th>\n",
       "      <td>15284.0</td>\n",
       "      <td>2370.62</td>\n",
       "      <td>N</td>\n",
       "      <td>445</td>\n",
       "      <td>Alto</td>\n",
       "    </tr>\n",
       "    <tr>\n",
       "      <th>1020451</th>\n",
       "      <td>3604.0</td>\n",
       "      <td>662.42</td>\n",
       "      <td>Y</td>\n",
       "      <td>675</td>\n",
       "      <td>Medio</td>\n",
       "    </tr>\n",
       "  </tbody>\n",
       "</table>\n",
       "</div>"
      ],
      "text/plain": [
       "              totmou   totrev creditcd  eqpdays consumo\n",
       "Customer_ID                                            \n",
       "1050270       1409.0   407.02        Y      102    Bajo\n",
       "1020629      15284.0  2370.62        N      445    Alto\n",
       "1020451       3604.0   662.42        Y      675   Medio"
      ]
     },
     "execution_count": 79,
     "metadata": {},
     "output_type": "execute_result"
    }
   ],
   "source": [
    "sin_registros=df.index.isin(df3.index)\n",
    "df.iloc[~sin_registros,]"
   ]
  },
  {
   "cell_type": "markdown",
   "metadata": {},
   "source": [
    "Si deseamos realizar una filtración sobre algún valor relevante por ejemplo el área podremos revertir el proceso usando el operador `==`  que retorna `True` en el caso que dos objetos tengan el mismo valor"
   ]
  },
  {
   "cell_type": "code",
   "execution_count": 80,
   "metadata": {},
   "outputs": [
    {
     "data": {
      "text/html": [
       "<div>\n",
       "<style scoped>\n",
       "    .dataframe tbody tr th:only-of-type {\n",
       "        vertical-align: middle;\n",
       "    }\n",
       "\n",
       "    .dataframe tbody tr th {\n",
       "        vertical-align: top;\n",
       "    }\n",
       "\n",
       "    .dataframe thead th {\n",
       "        text-align: right;\n",
       "    }\n",
       "</style>\n",
       "<table border=\"1\" class=\"dataframe\">\n",
       "  <thead>\n",
       "    <tr style=\"text-align: right;\">\n",
       "      <th></th>\n",
       "      <th>totmou</th>\n",
       "      <th>totrev</th>\n",
       "      <th>creditcd_x</th>\n",
       "      <th>eqpdays</th>\n",
       "      <th>consumo</th>\n",
       "      <th>custcare_Mean</th>\n",
       "      <th>new_cell</th>\n",
       "      <th>area</th>\n",
       "      <th>creditcd_y</th>\n",
       "    </tr>\n",
       "    <tr>\n",
       "      <th>Customer_ID</th>\n",
       "      <th></th>\n",
       "      <th></th>\n",
       "      <th></th>\n",
       "      <th></th>\n",
       "      <th></th>\n",
       "      <th></th>\n",
       "      <th></th>\n",
       "      <th></th>\n",
       "      <th></th>\n",
       "    </tr>\n",
       "  </thead>\n",
       "  <tbody>\n",
       "    <tr>\n",
       "      <th>1082423</th>\n",
       "      <td>7269.0</td>\n",
       "      <td>906.58</td>\n",
       "      <td>Y</td>\n",
       "      <td>371</td>\n",
       "      <td>Medio</td>\n",
       "      <td>14.333333</td>\n",
       "      <td>U</td>\n",
       "      <td>NEW ENGLAND AREA</td>\n",
       "      <td>Y</td>\n",
       "    </tr>\n",
       "    <tr>\n",
       "      <th>1076771</th>\n",
       "      <td>288.0</td>\n",
       "      <td>374.98</td>\n",
       "      <td>Y</td>\n",
       "      <td>284</td>\n",
       "      <td>Bajo</td>\n",
       "      <td>0.000000</td>\n",
       "      <td>U</td>\n",
       "      <td>NEW ENGLAND AREA</td>\n",
       "      <td>Y</td>\n",
       "    </tr>\n",
       "    <tr>\n",
       "      <th>1083737</th>\n",
       "      <td>1928.0</td>\n",
       "      <td>396.78</td>\n",
       "      <td>Y</td>\n",
       "      <td>261</td>\n",
       "      <td>Bajo</td>\n",
       "      <td>0.000000</td>\n",
       "      <td>U</td>\n",
       "      <td>NEW ENGLAND AREA</td>\n",
       "      <td>Y</td>\n",
       "    </tr>\n",
       "    <tr>\n",
       "      <th>1078557</th>\n",
       "      <td>2781.0</td>\n",
       "      <td>590.26</td>\n",
       "      <td>Y</td>\n",
       "      <td>276</td>\n",
       "      <td>Bajo</td>\n",
       "      <td>0.000000</td>\n",
       "      <td>N</td>\n",
       "      <td>NEW ENGLAND AREA</td>\n",
       "      <td>Y</td>\n",
       "    </tr>\n",
       "    <tr>\n",
       "      <th>1018015</th>\n",
       "      <td>24069.0</td>\n",
       "      <td>2129.74</td>\n",
       "      <td>Y</td>\n",
       "      <td>199</td>\n",
       "      <td>Alto</td>\n",
       "      <td>2.000000</td>\n",
       "      <td>N</td>\n",
       "      <td>NEW ENGLAND AREA</td>\n",
       "      <td>Y</td>\n",
       "    </tr>\n",
       "    <tr>\n",
       "      <th>...</th>\n",
       "      <td>...</td>\n",
       "      <td>...</td>\n",
       "      <td>...</td>\n",
       "      <td>...</td>\n",
       "      <td>...</td>\n",
       "      <td>...</td>\n",
       "      <td>...</td>\n",
       "      <td>...</td>\n",
       "      <td>...</td>\n",
       "    </tr>\n",
       "    <tr>\n",
       "      <th>1059454</th>\n",
       "      <td>942.0</td>\n",
       "      <td>625.98</td>\n",
       "      <td>Y</td>\n",
       "      <td>323</td>\n",
       "      <td>Bajo</td>\n",
       "      <td>0.000000</td>\n",
       "      <td>U</td>\n",
       "      <td>NEW ENGLAND AREA</td>\n",
       "      <td>Y</td>\n",
       "    </tr>\n",
       "    <tr>\n",
       "      <th>1036973</th>\n",
       "      <td>2538.0</td>\n",
       "      <td>981.41</td>\n",
       "      <td>Y</td>\n",
       "      <td>688</td>\n",
       "      <td>Bajo</td>\n",
       "      <td>0.000000</td>\n",
       "      <td>U</td>\n",
       "      <td>NEW ENGLAND AREA</td>\n",
       "      <td>Y</td>\n",
       "    </tr>\n",
       "    <tr>\n",
       "      <th>1073829</th>\n",
       "      <td>2812.0</td>\n",
       "      <td>454.64</td>\n",
       "      <td>Y</td>\n",
       "      <td>342</td>\n",
       "      <td>Bajo</td>\n",
       "      <td>0.000000</td>\n",
       "      <td>U</td>\n",
       "      <td>NEW ENGLAND AREA</td>\n",
       "      <td>Y</td>\n",
       "    </tr>\n",
       "    <tr>\n",
       "      <th>1083458</th>\n",
       "      <td>10628.0</td>\n",
       "      <td>965.57</td>\n",
       "      <td>Y</td>\n",
       "      <td>262</td>\n",
       "      <td>Medio</td>\n",
       "      <td>6.666667</td>\n",
       "      <td>U</td>\n",
       "      <td>NEW ENGLAND AREA</td>\n",
       "      <td>Y</td>\n",
       "    </tr>\n",
       "    <tr>\n",
       "      <th>1096497</th>\n",
       "      <td>3690.0</td>\n",
       "      <td>294.29</td>\n",
       "      <td>Y</td>\n",
       "      <td>212</td>\n",
       "      <td>Medio</td>\n",
       "      <td>0.666667</td>\n",
       "      <td>Y</td>\n",
       "      <td>NEW ENGLAND AREA</td>\n",
       "      <td>Y</td>\n",
       "    </tr>\n",
       "  </tbody>\n",
       "</table>\n",
       "<p>525 rows × 9 columns</p>\n",
       "</div>"
      ],
      "text/plain": [
       "              totmou   totrev creditcd_x  eqpdays consumo  custcare_Mean  \\\n",
       "Customer_ID                                                                \n",
       "1082423       7269.0   906.58          Y      371   Medio      14.333333   \n",
       "1076771        288.0   374.98          Y      284    Bajo       0.000000   \n",
       "1083737       1928.0   396.78          Y      261    Bajo       0.000000   \n",
       "1078557       2781.0   590.26          Y      276    Bajo       0.000000   \n",
       "1018015      24069.0  2129.74          Y      199    Alto       2.000000   \n",
       "...              ...      ...        ...      ...     ...            ...   \n",
       "1059454        942.0   625.98          Y      323    Bajo       0.000000   \n",
       "1036973       2538.0   981.41          Y      688    Bajo       0.000000   \n",
       "1073829       2812.0   454.64          Y      342    Bajo       0.000000   \n",
       "1083458      10628.0   965.57          Y      262   Medio       6.666667   \n",
       "1096497       3690.0   294.29          Y      212   Medio       0.666667   \n",
       "\n",
       "            new_cell              area creditcd_y  \n",
       "Customer_ID                                        \n",
       "1082423            U  NEW ENGLAND AREA          Y  \n",
       "1076771            U  NEW ENGLAND AREA          Y  \n",
       "1083737            U  NEW ENGLAND AREA          Y  \n",
       "1078557            N  NEW ENGLAND AREA          Y  \n",
       "1018015            N  NEW ENGLAND AREA          Y  \n",
       "...              ...               ...        ...  \n",
       "1059454            U  NEW ENGLAND AREA          Y  \n",
       "1036973            U  NEW ENGLAND AREA          Y  \n",
       "1073829            U  NEW ENGLAND AREA          Y  \n",
       "1083458            U  NEW ENGLAND AREA          Y  \n",
       "1096497            Y  NEW ENGLAND AREA          Y  \n",
       "\n",
       "[525 rows x 9 columns]"
      ]
     },
     "execution_count": 80,
     "metadata": {},
     "output_type": "execute_result"
    }
   ],
   "source": [
    "new_england=df3[df3[\"area\"]==\"NEW ENGLAND AREA\"]\n",
    "new_england\n"
   ]
  },
  {
   "cell_type": "markdown",
   "metadata": {},
   "source": [
    "El comando   `df3[\"area\"]==\"NEW ENGLAND AREA\"`"
   ]
  },
  {
   "cell_type": "code",
   "execution_count": 81,
   "metadata": {},
   "outputs": [
    {
     "data": {
      "text/plain": [
       "Customer_ID\n",
       "1082423     True\n",
       "1069232    False\n",
       "1031705    False\n",
       "1089806    False\n",
       "1076695    False\n",
       "           ...  \n",
       "1027614    False\n",
       "1098422    False\n",
       "1096497     True\n",
       "1087248    False\n",
       "1099003    False\n",
       "Name: area, Length: 9997, dtype: bool"
      ]
     },
     "execution_count": 81,
     "metadata": {},
     "output_type": "execute_result"
    }
   ],
   "source": [
    "df3[\"area\"]==\"NEW ENGLAND AREA\""
   ]
  },
  {
   "cell_type": "markdown",
   "metadata": {},
   "source": [
    "devuelve una serie boleana  con el mismo número de filas de la base`df3`, donde cada valor es `True` o `False` dependiendo si el valor de `area` de un registro  toma el valor de \"NEW ENGLAND AREA\" "
   ]
  },
  {
   "cell_type": "markdown",
   "metadata": {},
   "source": [
    "### Agrupación por área geográfica\n",
    "\n",
    "En el Analisis de la información se suelen usar funciones de resumen, las cuales plantean el agrupamiento de ciertas características por categorías. Para más información consultar [gropby().](https://pandas.pydata.org/pandas-docs/stable/reference/api/pandas.DataFrame.groupby.html).\n",
    "\n",
    "Para nuestro desarrollo es de interés el revisar si el comportamiento de las variables se mantiene en cada una de las áreas geográficas.\n"
   ]
  },
  {
   "cell_type": "code",
   "execution_count": 82,
   "metadata": {},
   "outputs": [
    {
     "data": {
      "text/plain": [
       "<pandas.core.groupby.generic.DataFrameGroupBy object at 0x000001C2E3DD2650>"
      ]
     },
     "execution_count": 82,
     "metadata": {},
     "output_type": "execute_result"
    }
   ],
   "source": [
    "df3.groupby(\"area\")"
   ]
  },
  {
   "cell_type": "markdown",
   "metadata": {},
   "source": [
    "Aquí, el objeto DataFrameGroupBy  contiene un objeto DataFrame para cada grupo (en este caso, un objeto DataFrame para cada símbolo). Específicamente, cada elemento del objeto es una tupla que contiene el identificador de grupo (en este caso el símbolo), y las filas correspondientes del DataFrame que tienen ese símbolo).\n",
    "\n",
    "La librería `pandas`  permite iterar sobre el objeto groupby() para ver lo que hay dentro:"
   ]
  },
  {
   "cell_type": "code",
   "execution_count": 83,
   "metadata": {},
   "outputs": [
    {
     "name": "stdout",
     "output_type": "stream",
     "text": [
      "<class 'tuple'>\n",
      "('ATLANTIC SOUTH AREA',)\n",
      "              totmou   totrev creditcd_x  eqpdays consumo  custcare_Mean  \\\n",
      "Customer_ID                                                                \n",
      "1069232      13552.0  1172.25          N       83    Alto       3.666667   \n",
      "1043846       7294.0  1495.18          Y      460   Medio       0.000000   \n",
      "1008539       4078.0  1257.05          Y     1019   Medio       0.000000   \n",
      "1068315       5124.0   652.27          N      377   Medio       0.000000   \n",
      "1074220       6648.0   590.21          N      295   Medio       1.666667   \n",
      "\n",
      "            new_cell                 area creditcd_y  \n",
      "Customer_ID                                           \n",
      "1069232            U  ATLANTIC SOUTH AREA          N  \n",
      "1043846            U  ATLANTIC SOUTH AREA          Y  \n",
      "1008539            N  ATLANTIC SOUTH AREA          Y  \n",
      "1068315            U  ATLANTIC SOUTH AREA          N  \n",
      "1074220            U  ATLANTIC SOUTH AREA          N  \n",
      "<class 'tuple'>\n",
      "('CALIFORNIA NORTH AREA',)\n",
      "              totmou   totrev creditcd_x  eqpdays consumo  custcare_Mean  \\\n",
      "Customer_ID                                                                \n",
      "1064411       6282.0   729.54          Y      357   Medio      15.666667   \n",
      "1029380       1834.0   610.87          Y      575    Bajo       0.000000   \n",
      "1056368      10517.0  1108.00          N      307   Medio       0.666667   \n",
      "1046285      18750.0  1485.02          Y      534    Alto       2.000000   \n",
      "1010813      19030.0  2275.21          N      198    Alto       1.333333   \n",
      "\n",
      "            new_cell                   area creditcd_y  \n",
      "Customer_ID                                             \n",
      "1064411            U  CALIFORNIA NORTH AREA          Y  \n",
      "1029380            U  CALIFORNIA NORTH AREA          Y  \n",
      "1056368            Y  CALIFORNIA NORTH AREA          N  \n",
      "1046285            Y  CALIFORNIA NORTH AREA          Y  \n",
      "1010813            U  CALIFORNIA NORTH AREA          N  \n",
      "<class 'tuple'>\n",
      "('CENTRAL-SOUTH TEXAS AREA',)\n",
      "             totmou   totrev creditcd_x  eqpdays consumo  custcare_Mean  \\\n",
      "Customer_ID                                                               \n",
      "1016302      6721.0   926.03          Y      893   Medio      13.666667   \n",
      "1002366      2892.0  1102.53          Y      219    Bajo       1.000000   \n",
      "1062599      3187.0   590.87          Y       16    Bajo       0.000000   \n",
      "1059746      1312.0   488.51          Y      491    Bajo       0.000000   \n",
      "1016781      1928.0  1051.33          Y      779    Bajo       0.000000   \n",
      "\n",
      "            new_cell                      area creditcd_y  \n",
      "Customer_ID                                                \n",
      "1016302            N  CENTRAL-SOUTH TEXAS AREA          Y  \n",
      "1002366            U  CENTRAL-SOUTH TEXAS AREA          Y  \n",
      "1062599            N  CENTRAL-SOUTH TEXAS AREA          Y  \n",
      "1059746            U  CENTRAL-SOUTH TEXAS AREA          Y  \n",
      "1016781            N  CENTRAL-SOUTH TEXAS AREA          Y  \n",
      "<class 'tuple'>\n",
      "('CHICAGO AREA',)\n",
      "             totmou   totrev creditcd_x  eqpdays consumo  custcare_Mean  \\\n",
      "Customer_ID                                                               \n",
      "1089806      1863.0   294.26          Y      218    Bajo      11.000000   \n",
      "1088967      4395.0   668.23          N      333   Medio       0.666667   \n",
      "1085074      1636.0   543.83          Y      363    Bajo       0.000000   \n",
      "1053959      5871.0   468.14          Y      254   Medio       6.666667   \n",
      "1046932      9213.0  1141.79          N      420   Medio       1.000000   \n",
      "\n",
      "            new_cell          area creditcd_y  \n",
      "Customer_ID                                    \n",
      "1089806            U  CHICAGO AREA          Y  \n",
      "1088967            U  CHICAGO AREA          N  \n",
      "1085074            U  CHICAGO AREA          Y  \n",
      "1053959            Y  CHICAGO AREA          Y  \n",
      "1046932            U  CHICAGO AREA          N  \n",
      "<class 'tuple'>\n",
      "('DALLAS AREA',)\n",
      "              totmou   totrev creditcd_x  eqpdays consumo  custcare_Mean  \\\n",
      "Customer_ID                                                                \n",
      "1008208      36302.0  5020.37          Y      257    Alto            2.0   \n",
      "1013047       4957.0   826.92          Y      790   Medio            0.0   \n",
      "1089778       1320.0   445.91          Y      325    Bajo            0.0   \n",
      "1007540       3841.0   998.41          Y      931   Medio            0.0   \n",
      "1023169       3204.0  1181.96          Y      807    Bajo            0.0   \n",
      "\n",
      "            new_cell         area creditcd_y  \n",
      "Customer_ID                                   \n",
      "1008208            N  DALLAS AREA          Y  \n",
      "1013047            U  DALLAS AREA          Y  \n",
      "1089778            U  DALLAS AREA          Y  \n",
      "1007540            Y  DALLAS AREA          Y  \n",
      "1023169            N  DALLAS AREA          Y  \n",
      "<class 'tuple'>\n",
      "('DC-MARYLAND-VIRGINIA AREA',)\n",
      "              totmou   totrev creditcd_x  eqpdays consumo  custcare_Mean  \\\n",
      "Customer_ID                                                                \n",
      "1045239      11544.0  1012.64          Y      498   Medio       0.000000   \n",
      "1016607        284.0   825.15          Y        4    Bajo       0.000000   \n",
      "1015068       5960.0  1902.45          Y      809   Medio       0.000000   \n",
      "1076198       4787.0  1173.96          Y      333   Medio       2.333333   \n",
      "1028649       7533.0  1250.63          Y      641   Medio       0.000000   \n",
      "\n",
      "            new_cell                       area creditcd_y  \n",
      "Customer_ID                                                 \n",
      "1045239            U  DC-MARYLAND-VIRGINIA AREA          Y  \n",
      "1016607            Y  DC-MARYLAND-VIRGINIA AREA          Y  \n",
      "1015068            N  DC-MARYLAND-VIRGINIA AREA          Y  \n",
      "1076198            U  DC-MARYLAND-VIRGINIA AREA          Y  \n",
      "1028649            U  DC-MARYLAND-VIRGINIA AREA          Y  \n",
      "<class 'tuple'>\n",
      "('GREAT LAKES AREA',)\n",
      "              totmou   totrev creditcd_x  eqpdays consumo  custcare_Mean  \\\n",
      "Customer_ID                                                                \n",
      "1046584       3751.0  1199.89          Y      592   Medio       0.000000   \n",
      "1023685      12620.0  1959.49          Y      509    Alto       0.000000   \n",
      "1035097       1502.0   690.12          Y      603    Bajo       0.000000   \n",
      "1011051       5886.0   558.61          Y      151   Medio       1.666667   \n",
      "1011205      32828.0  2712.13          N      184    Alto       7.000000   \n",
      "\n",
      "            new_cell              area creditcd_y  \n",
      "Customer_ID                                        \n",
      "1046584            U  GREAT LAKES AREA          Y  \n",
      "1023685            U  GREAT LAKES AREA          Y  \n",
      "1035097            U  GREAT LAKES AREA          Y  \n",
      "1011051            Y  GREAT LAKES AREA          Y  \n",
      "1011205            N  GREAT LAKES AREA          N  \n",
      "<class 'tuple'>\n",
      "('HOUSTON AREA',)\n",
      "               totmou   totrev creditcd_x  eqpdays consumo  custcare_Mean  \\\n",
      "Customer_ID                                                                 \n",
      "1088984      10194.00  1089.04          N      209   Medio       6.333333   \n",
      "1013751       6346.00  1453.43          Y      460   Medio       0.000000   \n",
      "1001867      21518.05  2769.67          Y      657    Alto      11.333333   \n",
      "1007086       2097.00  1421.31          Y      569    Bajo       0.000000   \n",
      "1049782      26249.00  2254.27          N      144    Alto       0.000000   \n",
      "\n",
      "            new_cell          area creditcd_y  \n",
      "Customer_ID                                    \n",
      "1088984            U  HOUSTON AREA          N  \n",
      "1013751            U  HOUSTON AREA          Y  \n",
      "1001867            Y  HOUSTON AREA          Y  \n",
      "1007086            N  HOUSTON AREA          Y  \n",
      "1049782            N  HOUSTON AREA          N  \n",
      "<class 'tuple'>\n",
      "('LOS ANGELES AREA',)\n",
      "              totmou   totrev creditcd_x  eqpdays consumo  custcare_Mean  \\\n",
      "Customer_ID                                                                \n",
      "1020126       4411.0  1252.91          Y      741   Medio       0.000000   \n",
      "1040941       9195.0   959.63          N      486   Medio       1.000000   \n",
      "1015658      59449.0  3531.09          Y      380    Alto       0.000000   \n",
      "1088347       4060.0   503.72          Y      340   Medio      14.333333   \n",
      "1019146       2038.0  1000.84          N      796    Bajo       0.000000   \n",
      "\n",
      "            new_cell              area creditcd_y  \n",
      "Customer_ID                                        \n",
      "1020126            Y  LOS ANGELES AREA          Y  \n",
      "1040941            Y  LOS ANGELES AREA          N  \n",
      "1015658            U  LOS ANGELES AREA          Y  \n",
      "1088347            U  LOS ANGELES AREA          Y  \n",
      "1019146            U  LOS ANGELES AREA          N  \n",
      "<class 'tuple'>\n",
      "('MIDWEST AREA',)\n",
      "              totmou   totrev creditcd_x  eqpdays consumo  custcare_Mean  \\\n",
      "Customer_ID                                                                \n",
      "1056697       4874.0   246.77          Y      507   Medio       0.000000   \n",
      "1072218       5684.0   857.65          Y      244   Medio       4.000000   \n",
      "1005704      21991.0  2809.08          Y      241    Alto       0.000000   \n",
      "1040496       2230.0   588.61          N      543    Bajo       0.000000   \n",
      "1050396       8190.0  1190.50          N      235   Medio       1.666667   \n",
      "\n",
      "            new_cell          area creditcd_y  \n",
      "Customer_ID                                    \n",
      "1056697            U  MIDWEST AREA          Y  \n",
      "1072218            U  MIDWEST AREA        NaN  \n",
      "1005704            Y  MIDWEST AREA          Y  \n",
      "1040496            U  MIDWEST AREA          N  \n",
      "1050396            N  MIDWEST AREA          N  \n",
      "<class 'tuple'>\n",
      "('NEW ENGLAND AREA',)\n",
      "              totmou   totrev creditcd_x  eqpdays consumo  custcare_Mean  \\\n",
      "Customer_ID                                                                \n",
      "1082423       7269.0   906.58          Y      371   Medio      14.333333   \n",
      "1076771        288.0   374.98          Y      284    Bajo       0.000000   \n",
      "1083737       1928.0   396.78          Y      261    Bajo       0.000000   \n",
      "1078557       2781.0   590.26          Y      276    Bajo       0.000000   \n",
      "1018015      24069.0  2129.74          Y      199    Alto       2.000000   \n",
      "\n",
      "            new_cell              area creditcd_y  \n",
      "Customer_ID                                        \n",
      "1082423            U  NEW ENGLAND AREA          Y  \n",
      "1076771            U  NEW ENGLAND AREA          Y  \n",
      "1083737            U  NEW ENGLAND AREA          Y  \n",
      "1078557            N  NEW ENGLAND AREA          Y  \n",
      "1018015            N  NEW ENGLAND AREA          Y  \n",
      "<class 'tuple'>\n",
      "('NEW YORK CITY AREA',)\n",
      "             totmou  totrev creditcd_x  eqpdays consumo  custcare_Mean  \\\n",
      "Customer_ID                                                              \n",
      "1031705      4152.0  577.39          Y      675   Medio       3.000000   \n",
      "1091652      5441.0  578.80          Y       68   Medio       7.000000   \n",
      "1013855      1330.0  898.34          Y      877    Bajo       0.333333   \n",
      "1055064      2066.0  499.82          N      168    Bajo      11.666667   \n",
      "1062755      1438.0  445.47          Y      304    Bajo       0.000000   \n",
      "\n",
      "            new_cell                area creditcd_y  \n",
      "Customer_ID                                          \n",
      "1031705            U  NEW YORK CITY AREA          Y  \n",
      "1091652            U  NEW YORK CITY AREA          Y  \n",
      "1013855            Y  NEW YORK CITY AREA          Y  \n",
      "1055064            Y  NEW YORK CITY AREA          N  \n",
      "1062755            U  NEW YORK CITY AREA          Y  \n",
      "<class 'tuple'>\n",
      "('NORTH FLORIDA AREA',)\n",
      "             totmou   totrev creditcd_x  eqpdays consumo  custcare_Mean  \\\n",
      "Customer_ID                                                               \n",
      "1076695      4155.0   433.16          N      222   Medio       0.000000   \n",
      "1045505      5699.0  1052.28          Y      109   Medio       0.000000   \n",
      "1019639      2863.0   809.41          Y      618    Bajo       1.333333   \n",
      "1011394      2242.0  1494.23          Y      940    Bajo       0.000000   \n",
      "1063735      1973.0   543.95          N      406    Bajo       0.000000   \n",
      "\n",
      "            new_cell                area creditcd_y  \n",
      "Customer_ID                                          \n",
      "1076695            U  NORTH FLORIDA AREA          N  \n",
      "1045505            U  NORTH FLORIDA AREA          Y  \n",
      "1019639            U  NORTH FLORIDA AREA          Y  \n",
      "1011394            N  NORTH FLORIDA AREA          Y  \n",
      "1063735            U  NORTH FLORIDA AREA          N  \n",
      "<class 'tuple'>\n",
      "('NORTHWEST-ROCKY MOUNTAIN AREA',)\n",
      "             totmou   totrev creditcd_x  eqpdays consumo  custcare_Mean  \\\n",
      "Customer_ID                                                               \n",
      "1057800      2030.0  1026.31          Y      439    Bajo       0.000000   \n",
      "1021478      3706.0   734.30          Y      255   Medio       0.000000   \n",
      "1091059      9703.0   952.30          N      135   Medio       0.000000   \n",
      "1091061      1989.0   388.85          N      206    Bajo       0.000000   \n",
      "1068378      3981.0   643.93          Y      331   Medio       0.666667   \n",
      "\n",
      "            new_cell                           area creditcd_y  \n",
      "Customer_ID                                                     \n",
      "1057800            Y  NORTHWEST-ROCKY MOUNTAIN AREA          Y  \n",
      "1021478            U  NORTHWEST-ROCKY MOUNTAIN AREA          Y  \n",
      "1091059            U  NORTHWEST-ROCKY MOUNTAIN AREA          N  \n",
      "1091061            U  NORTHWEST-ROCKY MOUNTAIN AREA          N  \n",
      "1068378            U  NORTHWEST-ROCKY MOUNTAIN AREA          Y  \n",
      "<class 'tuple'>\n",
      "('OHIO AREA',)\n",
      "             totmou   totrev creditcd_x  eqpdays consumo  custcare_Mean  \\\n",
      "Customer_ID                                                               \n",
      "1011089      4120.0  1186.64          Y      902   Medio       0.000000   \n",
      "1056196      1737.0   522.76          Y      403    Bajo       0.333333   \n",
      "1071184      3456.0   514.72          Y       18   Medio       0.000000   \n",
      "1090228      1566.0   492.35          Y      321    Bajo       0.000000   \n",
      "1004669      4707.0  1692.76          Y      345   Medio       0.000000   \n",
      "\n",
      "            new_cell       area creditcd_y  \n",
      "Customer_ID                                 \n",
      "1011089            N  OHIO AREA          Y  \n",
      "1056196            U  OHIO AREA          Y  \n",
      "1071184            U  OHIO AREA          Y  \n",
      "1090228            U  OHIO AREA          Y  \n",
      "1004669            N  OHIO AREA          Y  \n",
      "<class 'tuple'>\n",
      "('PHILADELPHIA AREA',)\n",
      "              totmou   totrev creditcd_x  eqpdays consumo  custcare_Mean  \\\n",
      "Customer_ID                                                                \n",
      "1032592       2842.0   606.76          Y      564    Bajo       0.000000   \n",
      "1024580      36563.0  2053.30          Y       81    Alto       2.333333   \n",
      "1044265        331.0   217.04          N      507    Bajo       0.000000   \n",
      "1075560       9608.0   876.60          N        8   Medio      16.000000   \n",
      "1026798       5738.0  1094.67          Y      573   Medio       4.333333   \n",
      "\n",
      "            new_cell               area creditcd_y  \n",
      "Customer_ID                                         \n",
      "1032592            U  PHILADELPHIA AREA          Y  \n",
      "1024580            Y  PHILADELPHIA AREA          Y  \n",
      "1044265            U  PHILADELPHIA AREA          N  \n",
      "1075560            U  PHILADELPHIA AREA          N  \n",
      "1026798            N  PHILADELPHIA AREA          Y  \n",
      "<class 'tuple'>\n",
      "('SOUTH FLORIDA AREA',)\n",
      "              totmou   totrev creditcd_x  eqpdays consumo  custcare_Mean  \\\n",
      "Customer_ID                                                                \n",
      "1070208       3275.0   324.41          Y      318    Bajo       0.000000   \n",
      "1051859       9579.0  1261.47          Y      194   Medio       1.000000   \n",
      "1035282      14566.0  1579.38          N       84    Alto       2.333333   \n",
      "1025479       2254.0   439.67          Y      608    Bajo       0.000000   \n",
      "1023124      21199.0  1927.83          Y      451    Alto       0.000000   \n",
      "\n",
      "            new_cell                area creditcd_y  \n",
      "Customer_ID                                          \n",
      "1070208            U  SOUTH FLORIDA AREA          Y  \n",
      "1051859            U  SOUTH FLORIDA AREA          Y  \n",
      "1035282            N  SOUTH FLORIDA AREA          N  \n",
      "1025479            U  SOUTH FLORIDA AREA          Y  \n",
      "1023124            U  SOUTH FLORIDA AREA          Y  \n",
      "<class 'tuple'>\n",
      "('SOUTHWEST AREA',)\n",
      "              totmou   totrev creditcd_x  eqpdays consumo  custcare_Mean  \\\n",
      "Customer_ID                                                                \n",
      "1097730        810.0   240.94          N      131    Bajo       0.000000   \n",
      "1044329      12625.0   992.67          Y      552    Alto       0.333333   \n",
      "1029191       9223.0  1452.24          N      745   Medio       0.000000   \n",
      "1068005      11271.0   671.80          N      440   Medio       0.000000   \n",
      "1091273       3385.0   428.99          N      311   Medio       0.666667   \n",
      "\n",
      "            new_cell            area creditcd_y  \n",
      "Customer_ID                                      \n",
      "1097730            U  SOUTHWEST AREA          N  \n",
      "1044329            U  SOUTHWEST AREA          Y  \n",
      "1029191            N  SOUTHWEST AREA          N  \n",
      "1068005            Y  SOUTHWEST AREA          N  \n",
      "1091273            U  SOUTHWEST AREA          N  \n",
      "<class 'tuple'>\n",
      "('TENNESSEE AREA',)\n",
      "              totmou   totrev creditcd_x  eqpdays consumo  custcare_Mean  \\\n",
      "Customer_ID                                                                \n",
      "1047767       2524.0   196.84          N      580    Bajo            0.0   \n",
      "1019471      14502.0  1776.55          N      748    Alto            5.0   \n",
      "1060278       2820.0   519.21          Y      488    Bajo            3.0   \n",
      "1085161       2821.0   483.02          N      362    Bajo            0.0   \n",
      "1046324       2529.0  1391.70          Y      426    Bajo            0.0   \n",
      "\n",
      "            new_cell            area creditcd_y  \n",
      "Customer_ID                                      \n",
      "1047767            U  TENNESSEE AREA          N  \n",
      "1019471            N  TENNESSEE AREA          N  \n",
      "1060278            Y  TENNESSEE AREA          Y  \n",
      "1085161            U  TENNESSEE AREA          N  \n",
      "1046324            U  TENNESSEE AREA          Y  \n"
     ]
    }
   ],
   "source": [
    "group_df = df3.groupby([\"area\"]) # Datos del grupo en df3 filtrados por el área\n",
    "# Haciendo un bucle a través de los grupos\n",
    "for item in group_df:\n",
    "    print(type(item)) # Mostrando el tipo de artículo en df3\n",
    "    print(item[0]) # área\n",
    "    print(item[1].head()) # DataFrame"
   ]
  },
  {
   "cell_type": "markdown",
   "metadata": {},
   "source": [
    "Usando el método  `groupby()` con el método `describe()` y apliquémoslo a cada símbolo para\n",
    "analizar la distribución de las características la variable ----."
   ]
  },
  {
   "cell_type": "code",
   "execution_count": 84,
   "metadata": {},
   "outputs": [
    {
     "name": "stdout",
     "output_type": "stream",
     "text": [
      "------Área:  ('ATLANTIC SOUTH AREA',)\n",
      "                               totrev                                    \\\n",
      "                                count         mean          std     min   \n",
      "area                                                                      \n",
      "ATLANTIC SOUTH AREA             592.0   903.497399   697.197572  106.95   \n",
      "CALIFORNIA NORTH AREA           599.0  1136.348013   922.069148  105.14   \n",
      "CENTRAL-SOUTH TEXAS AREA        409.0  1174.366577   920.804942   48.53   \n",
      "CHICAGO AREA                    496.0   892.133206   669.068444   59.90   \n",
      "DALLAS AREA                     518.0  1258.508784  1267.499852   84.59   \n",
      "DC-MARYLAND-VIRGINIA AREA       640.0   941.692188   634.132033   86.78   \n",
      "GREAT LAKES AREA                488.0   987.714324   733.521417  126.56   \n",
      "HOUSTON AREA                    458.0  1127.294127   999.987571   92.38   \n",
      "LOS ANGELES AREA                671.0  1031.714382   738.616227   96.74   \n",
      "MIDWEST AREA                    685.0  1095.678701   945.251868   90.42   \n",
      "NEW ENGLAND AREA                525.0   941.766038   705.572889  118.51   \n",
      "NEW YORK CITY AREA             1145.0  1076.263546   869.372842   74.01   \n",
      "NORTH FLORIDA AREA              442.0   895.489457   642.729028   37.39   \n",
      "NORTHWEST-ROCKY MOUNTAIN AREA   429.0  1083.179091   977.857935   67.80   \n",
      "OHIO AREA                       437.0  1006.616499   785.713223  107.12   \n",
      "PHILADELPHIA AREA               245.0   998.303592   722.348164  133.63   \n",
      "SOUTH FLORIDA AREA              366.0  1167.546257   891.952255  118.62   \n",
      "SOUTHWEST AREA                  584.0  1036.548630   914.475459   11.10   \n",
      "TENNESSEE AREA                  268.0  1042.700597   886.731980  102.03   \n",
      "\n",
      "                                                                       \n",
      "                                    25%      50%        75%       max  \n",
      "area                                                                   \n",
      "ATLANTIC SOUTH AREA            464.9875  718.370  1135.3050   8171.47  \n",
      "CALIFORNIA NORTH AREA          535.9900  892.340  1396.4550   7511.11  \n",
      "CENTRAL-SOUTH TEXAS AREA       594.3300  895.090  1374.5800   5848.39  \n",
      "CHICAGO AREA                   474.0675  718.855  1086.9250   5710.44  \n",
      "DALLAS AREA                    581.6975  965.650  1484.8500  13149.85  \n",
      "DC-MARYLAND-VIRGINIA AREA      525.7200  787.360  1191.5525   5029.68  \n",
      "GREAT LAKES AREA               503.7325  767.960  1211.8900   5624.71  \n",
      "HOUSTON AREA                   530.6400  892.180  1443.1400   8719.53  \n",
      "LOS ANGELES AREA               554.2650  836.770  1271.6150   6120.84  \n",
      "MIDWEST AREA                   553.0600  854.350  1338.6900  13426.60  \n",
      "NEW ENGLAND AREA               497.5700  747.130  1185.8000   6939.19  \n",
      "NEW YORK CITY AREA             562.3400  870.310  1297.9700  10590.01  \n",
      "NORTH FLORIDA AREA             481.5225  758.190  1134.1950   6009.01  \n",
      "NORTHWEST-ROCKY MOUNTAIN AREA  524.3700  805.020  1293.2200   7419.73  \n",
      "OHIO AREA                      512.0700  781.040  1230.5600   8007.95  \n",
      "PHILADELPHIA AREA              558.7100  849.340  1154.6100   4819.91  \n",
      "SOUTH FLORIDA AREA             582.0225  914.600  1451.2550   6954.07  \n",
      "SOUTHWEST AREA                 508.3275  802.025  1187.3275   8772.57  \n",
      "TENNESSEE AREA                 486.6800  832.400  1282.6150   6751.70  \n",
      "------Área:  ('CALIFORNIA NORTH AREA',)\n",
      "                               totrev                                    \\\n",
      "                                count         mean          std     min   \n",
      "area                                                                      \n",
      "ATLANTIC SOUTH AREA             592.0   903.497399   697.197572  106.95   \n",
      "CALIFORNIA NORTH AREA           599.0  1136.348013   922.069148  105.14   \n",
      "CENTRAL-SOUTH TEXAS AREA        409.0  1174.366577   920.804942   48.53   \n",
      "CHICAGO AREA                    496.0   892.133206   669.068444   59.90   \n",
      "DALLAS AREA                     518.0  1258.508784  1267.499852   84.59   \n",
      "DC-MARYLAND-VIRGINIA AREA       640.0   941.692188   634.132033   86.78   \n",
      "GREAT LAKES AREA                488.0   987.714324   733.521417  126.56   \n",
      "HOUSTON AREA                    458.0  1127.294127   999.987571   92.38   \n",
      "LOS ANGELES AREA                671.0  1031.714382   738.616227   96.74   \n",
      "MIDWEST AREA                    685.0  1095.678701   945.251868   90.42   \n",
      "NEW ENGLAND AREA                525.0   941.766038   705.572889  118.51   \n",
      "NEW YORK CITY AREA             1145.0  1076.263546   869.372842   74.01   \n",
      "NORTH FLORIDA AREA              442.0   895.489457   642.729028   37.39   \n",
      "NORTHWEST-ROCKY MOUNTAIN AREA   429.0  1083.179091   977.857935   67.80   \n",
      "OHIO AREA                       437.0  1006.616499   785.713223  107.12   \n",
      "PHILADELPHIA AREA               245.0   998.303592   722.348164  133.63   \n",
      "SOUTH FLORIDA AREA              366.0  1167.546257   891.952255  118.62   \n",
      "SOUTHWEST AREA                  584.0  1036.548630   914.475459   11.10   \n",
      "TENNESSEE AREA                  268.0  1042.700597   886.731980  102.03   \n",
      "\n",
      "                                                                       \n",
      "                                    25%      50%        75%       max  \n",
      "area                                                                   \n",
      "ATLANTIC SOUTH AREA            464.9875  718.370  1135.3050   8171.47  \n",
      "CALIFORNIA NORTH AREA          535.9900  892.340  1396.4550   7511.11  \n",
      "CENTRAL-SOUTH TEXAS AREA       594.3300  895.090  1374.5800   5848.39  \n",
      "CHICAGO AREA                   474.0675  718.855  1086.9250   5710.44  \n",
      "DALLAS AREA                    581.6975  965.650  1484.8500  13149.85  \n",
      "DC-MARYLAND-VIRGINIA AREA      525.7200  787.360  1191.5525   5029.68  \n",
      "GREAT LAKES AREA               503.7325  767.960  1211.8900   5624.71  \n",
      "HOUSTON AREA                   530.6400  892.180  1443.1400   8719.53  \n",
      "LOS ANGELES AREA               554.2650  836.770  1271.6150   6120.84  \n",
      "MIDWEST AREA                   553.0600  854.350  1338.6900  13426.60  \n",
      "NEW ENGLAND AREA               497.5700  747.130  1185.8000   6939.19  \n",
      "NEW YORK CITY AREA             562.3400  870.310  1297.9700  10590.01  \n",
      "NORTH FLORIDA AREA             481.5225  758.190  1134.1950   6009.01  \n",
      "NORTHWEST-ROCKY MOUNTAIN AREA  524.3700  805.020  1293.2200   7419.73  \n",
      "OHIO AREA                      512.0700  781.040  1230.5600   8007.95  \n",
      "PHILADELPHIA AREA              558.7100  849.340  1154.6100   4819.91  \n",
      "SOUTH FLORIDA AREA             582.0225  914.600  1451.2550   6954.07  \n",
      "SOUTHWEST AREA                 508.3275  802.025  1187.3275   8772.57  \n",
      "TENNESSEE AREA                 486.6800  832.400  1282.6150   6751.70  \n",
      "------Área:  ('CENTRAL-SOUTH TEXAS AREA',)\n",
      "                               totrev                                    \\\n",
      "                                count         mean          std     min   \n",
      "area                                                                      \n",
      "ATLANTIC SOUTH AREA             592.0   903.497399   697.197572  106.95   \n",
      "CALIFORNIA NORTH AREA           599.0  1136.348013   922.069148  105.14   \n",
      "CENTRAL-SOUTH TEXAS AREA        409.0  1174.366577   920.804942   48.53   \n",
      "CHICAGO AREA                    496.0   892.133206   669.068444   59.90   \n",
      "DALLAS AREA                     518.0  1258.508784  1267.499852   84.59   \n",
      "DC-MARYLAND-VIRGINIA AREA       640.0   941.692188   634.132033   86.78   \n",
      "GREAT LAKES AREA                488.0   987.714324   733.521417  126.56   \n",
      "HOUSTON AREA                    458.0  1127.294127   999.987571   92.38   \n",
      "LOS ANGELES AREA                671.0  1031.714382   738.616227   96.74   \n",
      "MIDWEST AREA                    685.0  1095.678701   945.251868   90.42   \n",
      "NEW ENGLAND AREA                525.0   941.766038   705.572889  118.51   \n",
      "NEW YORK CITY AREA             1145.0  1076.263546   869.372842   74.01   \n",
      "NORTH FLORIDA AREA              442.0   895.489457   642.729028   37.39   \n",
      "NORTHWEST-ROCKY MOUNTAIN AREA   429.0  1083.179091   977.857935   67.80   \n",
      "OHIO AREA                       437.0  1006.616499   785.713223  107.12   \n",
      "PHILADELPHIA AREA               245.0   998.303592   722.348164  133.63   \n",
      "SOUTH FLORIDA AREA              366.0  1167.546257   891.952255  118.62   \n",
      "SOUTHWEST AREA                  584.0  1036.548630   914.475459   11.10   \n",
      "TENNESSEE AREA                  268.0  1042.700597   886.731980  102.03   \n",
      "\n",
      "                                                                       \n",
      "                                    25%      50%        75%       max  \n",
      "area                                                                   \n",
      "ATLANTIC SOUTH AREA            464.9875  718.370  1135.3050   8171.47  \n",
      "CALIFORNIA NORTH AREA          535.9900  892.340  1396.4550   7511.11  \n",
      "CENTRAL-SOUTH TEXAS AREA       594.3300  895.090  1374.5800   5848.39  \n",
      "CHICAGO AREA                   474.0675  718.855  1086.9250   5710.44  \n",
      "DALLAS AREA                    581.6975  965.650  1484.8500  13149.85  \n",
      "DC-MARYLAND-VIRGINIA AREA      525.7200  787.360  1191.5525   5029.68  \n",
      "GREAT LAKES AREA               503.7325  767.960  1211.8900   5624.71  \n",
      "HOUSTON AREA                   530.6400  892.180  1443.1400   8719.53  \n",
      "LOS ANGELES AREA               554.2650  836.770  1271.6150   6120.84  \n",
      "MIDWEST AREA                   553.0600  854.350  1338.6900  13426.60  \n",
      "NEW ENGLAND AREA               497.5700  747.130  1185.8000   6939.19  \n",
      "NEW YORK CITY AREA             562.3400  870.310  1297.9700  10590.01  \n",
      "NORTH FLORIDA AREA             481.5225  758.190  1134.1950   6009.01  \n",
      "NORTHWEST-ROCKY MOUNTAIN AREA  524.3700  805.020  1293.2200   7419.73  \n",
      "OHIO AREA                      512.0700  781.040  1230.5600   8007.95  \n",
      "PHILADELPHIA AREA              558.7100  849.340  1154.6100   4819.91  \n",
      "SOUTH FLORIDA AREA             582.0225  914.600  1451.2550   6954.07  \n",
      "SOUTHWEST AREA                 508.3275  802.025  1187.3275   8772.57  \n",
      "TENNESSEE AREA                 486.6800  832.400  1282.6150   6751.70  \n",
      "------Área:  ('CHICAGO AREA',)\n",
      "                               totrev                                    \\\n",
      "                                count         mean          std     min   \n",
      "area                                                                      \n",
      "ATLANTIC SOUTH AREA             592.0   903.497399   697.197572  106.95   \n",
      "CALIFORNIA NORTH AREA           599.0  1136.348013   922.069148  105.14   \n",
      "CENTRAL-SOUTH TEXAS AREA        409.0  1174.366577   920.804942   48.53   \n",
      "CHICAGO AREA                    496.0   892.133206   669.068444   59.90   \n",
      "DALLAS AREA                     518.0  1258.508784  1267.499852   84.59   \n",
      "DC-MARYLAND-VIRGINIA AREA       640.0   941.692188   634.132033   86.78   \n",
      "GREAT LAKES AREA                488.0   987.714324   733.521417  126.56   \n",
      "HOUSTON AREA                    458.0  1127.294127   999.987571   92.38   \n",
      "LOS ANGELES AREA                671.0  1031.714382   738.616227   96.74   \n",
      "MIDWEST AREA                    685.0  1095.678701   945.251868   90.42   \n",
      "NEW ENGLAND AREA                525.0   941.766038   705.572889  118.51   \n",
      "NEW YORK CITY AREA             1145.0  1076.263546   869.372842   74.01   \n",
      "NORTH FLORIDA AREA              442.0   895.489457   642.729028   37.39   \n",
      "NORTHWEST-ROCKY MOUNTAIN AREA   429.0  1083.179091   977.857935   67.80   \n",
      "OHIO AREA                       437.0  1006.616499   785.713223  107.12   \n",
      "PHILADELPHIA AREA               245.0   998.303592   722.348164  133.63   \n",
      "SOUTH FLORIDA AREA              366.0  1167.546257   891.952255  118.62   \n",
      "SOUTHWEST AREA                  584.0  1036.548630   914.475459   11.10   \n",
      "TENNESSEE AREA                  268.0  1042.700597   886.731980  102.03   \n",
      "\n",
      "                                                                       \n",
      "                                    25%      50%        75%       max  \n",
      "area                                                                   \n",
      "ATLANTIC SOUTH AREA            464.9875  718.370  1135.3050   8171.47  \n",
      "CALIFORNIA NORTH AREA          535.9900  892.340  1396.4550   7511.11  \n",
      "CENTRAL-SOUTH TEXAS AREA       594.3300  895.090  1374.5800   5848.39  \n",
      "CHICAGO AREA                   474.0675  718.855  1086.9250   5710.44  \n",
      "DALLAS AREA                    581.6975  965.650  1484.8500  13149.85  \n",
      "DC-MARYLAND-VIRGINIA AREA      525.7200  787.360  1191.5525   5029.68  \n",
      "GREAT LAKES AREA               503.7325  767.960  1211.8900   5624.71  \n",
      "HOUSTON AREA                   530.6400  892.180  1443.1400   8719.53  \n",
      "LOS ANGELES AREA               554.2650  836.770  1271.6150   6120.84  \n",
      "MIDWEST AREA                   553.0600  854.350  1338.6900  13426.60  \n",
      "NEW ENGLAND AREA               497.5700  747.130  1185.8000   6939.19  \n",
      "NEW YORK CITY AREA             562.3400  870.310  1297.9700  10590.01  \n",
      "NORTH FLORIDA AREA             481.5225  758.190  1134.1950   6009.01  \n",
      "NORTHWEST-ROCKY MOUNTAIN AREA  524.3700  805.020  1293.2200   7419.73  \n",
      "OHIO AREA                      512.0700  781.040  1230.5600   8007.95  \n",
      "PHILADELPHIA AREA              558.7100  849.340  1154.6100   4819.91  \n",
      "SOUTH FLORIDA AREA             582.0225  914.600  1451.2550   6954.07  \n",
      "SOUTHWEST AREA                 508.3275  802.025  1187.3275   8772.57  \n",
      "TENNESSEE AREA                 486.6800  832.400  1282.6150   6751.70  \n",
      "------Área:  ('DALLAS AREA',)\n",
      "                               totrev                                    \\\n",
      "                                count         mean          std     min   \n",
      "area                                                                      \n",
      "ATLANTIC SOUTH AREA             592.0   903.497399   697.197572  106.95   \n",
      "CALIFORNIA NORTH AREA           599.0  1136.348013   922.069148  105.14   \n",
      "CENTRAL-SOUTH TEXAS AREA        409.0  1174.366577   920.804942   48.53   \n",
      "CHICAGO AREA                    496.0   892.133206   669.068444   59.90   \n",
      "DALLAS AREA                     518.0  1258.508784  1267.499852   84.59   \n",
      "DC-MARYLAND-VIRGINIA AREA       640.0   941.692188   634.132033   86.78   \n",
      "GREAT LAKES AREA                488.0   987.714324   733.521417  126.56   \n",
      "HOUSTON AREA                    458.0  1127.294127   999.987571   92.38   \n",
      "LOS ANGELES AREA                671.0  1031.714382   738.616227   96.74   \n",
      "MIDWEST AREA                    685.0  1095.678701   945.251868   90.42   \n",
      "NEW ENGLAND AREA                525.0   941.766038   705.572889  118.51   \n",
      "NEW YORK CITY AREA             1145.0  1076.263546   869.372842   74.01   \n",
      "NORTH FLORIDA AREA              442.0   895.489457   642.729028   37.39   \n",
      "NORTHWEST-ROCKY MOUNTAIN AREA   429.0  1083.179091   977.857935   67.80   \n",
      "OHIO AREA                       437.0  1006.616499   785.713223  107.12   \n",
      "PHILADELPHIA AREA               245.0   998.303592   722.348164  133.63   \n",
      "SOUTH FLORIDA AREA              366.0  1167.546257   891.952255  118.62   \n",
      "SOUTHWEST AREA                  584.0  1036.548630   914.475459   11.10   \n",
      "TENNESSEE AREA                  268.0  1042.700597   886.731980  102.03   \n",
      "\n",
      "                                                                       \n",
      "                                    25%      50%        75%       max  \n",
      "area                                                                   \n",
      "ATLANTIC SOUTH AREA            464.9875  718.370  1135.3050   8171.47  \n",
      "CALIFORNIA NORTH AREA          535.9900  892.340  1396.4550   7511.11  \n",
      "CENTRAL-SOUTH TEXAS AREA       594.3300  895.090  1374.5800   5848.39  \n",
      "CHICAGO AREA                   474.0675  718.855  1086.9250   5710.44  \n",
      "DALLAS AREA                    581.6975  965.650  1484.8500  13149.85  \n",
      "DC-MARYLAND-VIRGINIA AREA      525.7200  787.360  1191.5525   5029.68  \n",
      "GREAT LAKES AREA               503.7325  767.960  1211.8900   5624.71  \n",
      "HOUSTON AREA                   530.6400  892.180  1443.1400   8719.53  \n",
      "LOS ANGELES AREA               554.2650  836.770  1271.6150   6120.84  \n",
      "MIDWEST AREA                   553.0600  854.350  1338.6900  13426.60  \n",
      "NEW ENGLAND AREA               497.5700  747.130  1185.8000   6939.19  \n",
      "NEW YORK CITY AREA             562.3400  870.310  1297.9700  10590.01  \n",
      "NORTH FLORIDA AREA             481.5225  758.190  1134.1950   6009.01  \n",
      "NORTHWEST-ROCKY MOUNTAIN AREA  524.3700  805.020  1293.2200   7419.73  \n",
      "OHIO AREA                      512.0700  781.040  1230.5600   8007.95  \n",
      "PHILADELPHIA AREA              558.7100  849.340  1154.6100   4819.91  \n",
      "SOUTH FLORIDA AREA             582.0225  914.600  1451.2550   6954.07  \n",
      "SOUTHWEST AREA                 508.3275  802.025  1187.3275   8772.57  \n",
      "TENNESSEE AREA                 486.6800  832.400  1282.6150   6751.70  \n",
      "------Área:  ('DC-MARYLAND-VIRGINIA AREA',)\n",
      "                               totrev                                    \\\n",
      "                                count         mean          std     min   \n",
      "area                                                                      \n",
      "ATLANTIC SOUTH AREA             592.0   903.497399   697.197572  106.95   \n",
      "CALIFORNIA NORTH AREA           599.0  1136.348013   922.069148  105.14   \n",
      "CENTRAL-SOUTH TEXAS AREA        409.0  1174.366577   920.804942   48.53   \n",
      "CHICAGO AREA                    496.0   892.133206   669.068444   59.90   \n",
      "DALLAS AREA                     518.0  1258.508784  1267.499852   84.59   \n",
      "DC-MARYLAND-VIRGINIA AREA       640.0   941.692188   634.132033   86.78   \n",
      "GREAT LAKES AREA                488.0   987.714324   733.521417  126.56   \n",
      "HOUSTON AREA                    458.0  1127.294127   999.987571   92.38   \n",
      "LOS ANGELES AREA                671.0  1031.714382   738.616227   96.74   \n",
      "MIDWEST AREA                    685.0  1095.678701   945.251868   90.42   \n",
      "NEW ENGLAND AREA                525.0   941.766038   705.572889  118.51   \n",
      "NEW YORK CITY AREA             1145.0  1076.263546   869.372842   74.01   \n",
      "NORTH FLORIDA AREA              442.0   895.489457   642.729028   37.39   \n",
      "NORTHWEST-ROCKY MOUNTAIN AREA   429.0  1083.179091   977.857935   67.80   \n",
      "OHIO AREA                       437.0  1006.616499   785.713223  107.12   \n",
      "PHILADELPHIA AREA               245.0   998.303592   722.348164  133.63   \n",
      "SOUTH FLORIDA AREA              366.0  1167.546257   891.952255  118.62   \n",
      "SOUTHWEST AREA                  584.0  1036.548630   914.475459   11.10   \n",
      "TENNESSEE AREA                  268.0  1042.700597   886.731980  102.03   \n",
      "\n",
      "                                                                       \n",
      "                                    25%      50%        75%       max  \n",
      "area                                                                   \n",
      "ATLANTIC SOUTH AREA            464.9875  718.370  1135.3050   8171.47  \n",
      "CALIFORNIA NORTH AREA          535.9900  892.340  1396.4550   7511.11  \n",
      "CENTRAL-SOUTH TEXAS AREA       594.3300  895.090  1374.5800   5848.39  \n",
      "CHICAGO AREA                   474.0675  718.855  1086.9250   5710.44  \n",
      "DALLAS AREA                    581.6975  965.650  1484.8500  13149.85  \n",
      "DC-MARYLAND-VIRGINIA AREA      525.7200  787.360  1191.5525   5029.68  \n",
      "GREAT LAKES AREA               503.7325  767.960  1211.8900   5624.71  \n",
      "HOUSTON AREA                   530.6400  892.180  1443.1400   8719.53  \n",
      "LOS ANGELES AREA               554.2650  836.770  1271.6150   6120.84  \n",
      "MIDWEST AREA                   553.0600  854.350  1338.6900  13426.60  \n",
      "NEW ENGLAND AREA               497.5700  747.130  1185.8000   6939.19  \n",
      "NEW YORK CITY AREA             562.3400  870.310  1297.9700  10590.01  \n",
      "NORTH FLORIDA AREA             481.5225  758.190  1134.1950   6009.01  \n",
      "NORTHWEST-ROCKY MOUNTAIN AREA  524.3700  805.020  1293.2200   7419.73  \n",
      "OHIO AREA                      512.0700  781.040  1230.5600   8007.95  \n",
      "PHILADELPHIA AREA              558.7100  849.340  1154.6100   4819.91  \n",
      "SOUTH FLORIDA AREA             582.0225  914.600  1451.2550   6954.07  \n",
      "SOUTHWEST AREA                 508.3275  802.025  1187.3275   8772.57  \n",
      "TENNESSEE AREA                 486.6800  832.400  1282.6150   6751.70  \n",
      "------Área:  ('GREAT LAKES AREA',)\n",
      "                               totrev                                    \\\n",
      "                                count         mean          std     min   \n",
      "area                                                                      \n",
      "ATLANTIC SOUTH AREA             592.0   903.497399   697.197572  106.95   \n",
      "CALIFORNIA NORTH AREA           599.0  1136.348013   922.069148  105.14   \n",
      "CENTRAL-SOUTH TEXAS AREA        409.0  1174.366577   920.804942   48.53   \n",
      "CHICAGO AREA                    496.0   892.133206   669.068444   59.90   \n",
      "DALLAS AREA                     518.0  1258.508784  1267.499852   84.59   \n",
      "DC-MARYLAND-VIRGINIA AREA       640.0   941.692188   634.132033   86.78   \n",
      "GREAT LAKES AREA                488.0   987.714324   733.521417  126.56   \n",
      "HOUSTON AREA                    458.0  1127.294127   999.987571   92.38   \n",
      "LOS ANGELES AREA                671.0  1031.714382   738.616227   96.74   \n",
      "MIDWEST AREA                    685.0  1095.678701   945.251868   90.42   \n",
      "NEW ENGLAND AREA                525.0   941.766038   705.572889  118.51   \n",
      "NEW YORK CITY AREA             1145.0  1076.263546   869.372842   74.01   \n",
      "NORTH FLORIDA AREA              442.0   895.489457   642.729028   37.39   \n",
      "NORTHWEST-ROCKY MOUNTAIN AREA   429.0  1083.179091   977.857935   67.80   \n",
      "OHIO AREA                       437.0  1006.616499   785.713223  107.12   \n",
      "PHILADELPHIA AREA               245.0   998.303592   722.348164  133.63   \n",
      "SOUTH FLORIDA AREA              366.0  1167.546257   891.952255  118.62   \n",
      "SOUTHWEST AREA                  584.0  1036.548630   914.475459   11.10   \n",
      "TENNESSEE AREA                  268.0  1042.700597   886.731980  102.03   \n",
      "\n",
      "                                                                       \n",
      "                                    25%      50%        75%       max  \n",
      "area                                                                   \n",
      "ATLANTIC SOUTH AREA            464.9875  718.370  1135.3050   8171.47  \n",
      "CALIFORNIA NORTH AREA          535.9900  892.340  1396.4550   7511.11  \n",
      "CENTRAL-SOUTH TEXAS AREA       594.3300  895.090  1374.5800   5848.39  \n",
      "CHICAGO AREA                   474.0675  718.855  1086.9250   5710.44  \n",
      "DALLAS AREA                    581.6975  965.650  1484.8500  13149.85  \n",
      "DC-MARYLAND-VIRGINIA AREA      525.7200  787.360  1191.5525   5029.68  \n",
      "GREAT LAKES AREA               503.7325  767.960  1211.8900   5624.71  \n",
      "HOUSTON AREA                   530.6400  892.180  1443.1400   8719.53  \n",
      "LOS ANGELES AREA               554.2650  836.770  1271.6150   6120.84  \n",
      "MIDWEST AREA                   553.0600  854.350  1338.6900  13426.60  \n",
      "NEW ENGLAND AREA               497.5700  747.130  1185.8000   6939.19  \n",
      "NEW YORK CITY AREA             562.3400  870.310  1297.9700  10590.01  \n",
      "NORTH FLORIDA AREA             481.5225  758.190  1134.1950   6009.01  \n",
      "NORTHWEST-ROCKY MOUNTAIN AREA  524.3700  805.020  1293.2200   7419.73  \n",
      "OHIO AREA                      512.0700  781.040  1230.5600   8007.95  \n",
      "PHILADELPHIA AREA              558.7100  849.340  1154.6100   4819.91  \n",
      "SOUTH FLORIDA AREA             582.0225  914.600  1451.2550   6954.07  \n",
      "SOUTHWEST AREA                 508.3275  802.025  1187.3275   8772.57  \n",
      "TENNESSEE AREA                 486.6800  832.400  1282.6150   6751.70  \n",
      "------Área:  ('HOUSTON AREA',)\n",
      "                               totrev                                    \\\n",
      "                                count         mean          std     min   \n",
      "area                                                                      \n",
      "ATLANTIC SOUTH AREA             592.0   903.497399   697.197572  106.95   \n",
      "CALIFORNIA NORTH AREA           599.0  1136.348013   922.069148  105.14   \n",
      "CENTRAL-SOUTH TEXAS AREA        409.0  1174.366577   920.804942   48.53   \n",
      "CHICAGO AREA                    496.0   892.133206   669.068444   59.90   \n",
      "DALLAS AREA                     518.0  1258.508784  1267.499852   84.59   \n",
      "DC-MARYLAND-VIRGINIA AREA       640.0   941.692188   634.132033   86.78   \n",
      "GREAT LAKES AREA                488.0   987.714324   733.521417  126.56   \n",
      "HOUSTON AREA                    458.0  1127.294127   999.987571   92.38   \n",
      "LOS ANGELES AREA                671.0  1031.714382   738.616227   96.74   \n",
      "MIDWEST AREA                    685.0  1095.678701   945.251868   90.42   \n",
      "NEW ENGLAND AREA                525.0   941.766038   705.572889  118.51   \n",
      "NEW YORK CITY AREA             1145.0  1076.263546   869.372842   74.01   \n",
      "NORTH FLORIDA AREA              442.0   895.489457   642.729028   37.39   \n",
      "NORTHWEST-ROCKY MOUNTAIN AREA   429.0  1083.179091   977.857935   67.80   \n",
      "OHIO AREA                       437.0  1006.616499   785.713223  107.12   \n",
      "PHILADELPHIA AREA               245.0   998.303592   722.348164  133.63   \n",
      "SOUTH FLORIDA AREA              366.0  1167.546257   891.952255  118.62   \n",
      "SOUTHWEST AREA                  584.0  1036.548630   914.475459   11.10   \n",
      "TENNESSEE AREA                  268.0  1042.700597   886.731980  102.03   \n",
      "\n",
      "                                                                       \n",
      "                                    25%      50%        75%       max  \n",
      "area                                                                   \n",
      "ATLANTIC SOUTH AREA            464.9875  718.370  1135.3050   8171.47  \n",
      "CALIFORNIA NORTH AREA          535.9900  892.340  1396.4550   7511.11  \n",
      "CENTRAL-SOUTH TEXAS AREA       594.3300  895.090  1374.5800   5848.39  \n",
      "CHICAGO AREA                   474.0675  718.855  1086.9250   5710.44  \n",
      "DALLAS AREA                    581.6975  965.650  1484.8500  13149.85  \n",
      "DC-MARYLAND-VIRGINIA AREA      525.7200  787.360  1191.5525   5029.68  \n",
      "GREAT LAKES AREA               503.7325  767.960  1211.8900   5624.71  \n",
      "HOUSTON AREA                   530.6400  892.180  1443.1400   8719.53  \n",
      "LOS ANGELES AREA               554.2650  836.770  1271.6150   6120.84  \n",
      "MIDWEST AREA                   553.0600  854.350  1338.6900  13426.60  \n",
      "NEW ENGLAND AREA               497.5700  747.130  1185.8000   6939.19  \n",
      "NEW YORK CITY AREA             562.3400  870.310  1297.9700  10590.01  \n",
      "NORTH FLORIDA AREA             481.5225  758.190  1134.1950   6009.01  \n",
      "NORTHWEST-ROCKY MOUNTAIN AREA  524.3700  805.020  1293.2200   7419.73  \n",
      "OHIO AREA                      512.0700  781.040  1230.5600   8007.95  \n",
      "PHILADELPHIA AREA              558.7100  849.340  1154.6100   4819.91  \n",
      "SOUTH FLORIDA AREA             582.0225  914.600  1451.2550   6954.07  \n",
      "SOUTHWEST AREA                 508.3275  802.025  1187.3275   8772.57  \n",
      "TENNESSEE AREA                 486.6800  832.400  1282.6150   6751.70  \n",
      "------Área:  ('LOS ANGELES AREA',)\n",
      "                               totrev                                    \\\n",
      "                                count         mean          std     min   \n",
      "area                                                                      \n",
      "ATLANTIC SOUTH AREA             592.0   903.497399   697.197572  106.95   \n",
      "CALIFORNIA NORTH AREA           599.0  1136.348013   922.069148  105.14   \n",
      "CENTRAL-SOUTH TEXAS AREA        409.0  1174.366577   920.804942   48.53   \n",
      "CHICAGO AREA                    496.0   892.133206   669.068444   59.90   \n",
      "DALLAS AREA                     518.0  1258.508784  1267.499852   84.59   \n",
      "DC-MARYLAND-VIRGINIA AREA       640.0   941.692188   634.132033   86.78   \n",
      "GREAT LAKES AREA                488.0   987.714324   733.521417  126.56   \n",
      "HOUSTON AREA                    458.0  1127.294127   999.987571   92.38   \n",
      "LOS ANGELES AREA                671.0  1031.714382   738.616227   96.74   \n",
      "MIDWEST AREA                    685.0  1095.678701   945.251868   90.42   \n",
      "NEW ENGLAND AREA                525.0   941.766038   705.572889  118.51   \n",
      "NEW YORK CITY AREA             1145.0  1076.263546   869.372842   74.01   \n",
      "NORTH FLORIDA AREA              442.0   895.489457   642.729028   37.39   \n",
      "NORTHWEST-ROCKY MOUNTAIN AREA   429.0  1083.179091   977.857935   67.80   \n",
      "OHIO AREA                       437.0  1006.616499   785.713223  107.12   \n",
      "PHILADELPHIA AREA               245.0   998.303592   722.348164  133.63   \n",
      "SOUTH FLORIDA AREA              366.0  1167.546257   891.952255  118.62   \n",
      "SOUTHWEST AREA                  584.0  1036.548630   914.475459   11.10   \n",
      "TENNESSEE AREA                  268.0  1042.700597   886.731980  102.03   \n",
      "\n",
      "                                                                       \n",
      "                                    25%      50%        75%       max  \n",
      "area                                                                   \n",
      "ATLANTIC SOUTH AREA            464.9875  718.370  1135.3050   8171.47  \n",
      "CALIFORNIA NORTH AREA          535.9900  892.340  1396.4550   7511.11  \n",
      "CENTRAL-SOUTH TEXAS AREA       594.3300  895.090  1374.5800   5848.39  \n",
      "CHICAGO AREA                   474.0675  718.855  1086.9250   5710.44  \n",
      "DALLAS AREA                    581.6975  965.650  1484.8500  13149.85  \n",
      "DC-MARYLAND-VIRGINIA AREA      525.7200  787.360  1191.5525   5029.68  \n",
      "GREAT LAKES AREA               503.7325  767.960  1211.8900   5624.71  \n",
      "HOUSTON AREA                   530.6400  892.180  1443.1400   8719.53  \n",
      "LOS ANGELES AREA               554.2650  836.770  1271.6150   6120.84  \n",
      "MIDWEST AREA                   553.0600  854.350  1338.6900  13426.60  \n",
      "NEW ENGLAND AREA               497.5700  747.130  1185.8000   6939.19  \n",
      "NEW YORK CITY AREA             562.3400  870.310  1297.9700  10590.01  \n",
      "NORTH FLORIDA AREA             481.5225  758.190  1134.1950   6009.01  \n",
      "NORTHWEST-ROCKY MOUNTAIN AREA  524.3700  805.020  1293.2200   7419.73  \n",
      "OHIO AREA                      512.0700  781.040  1230.5600   8007.95  \n",
      "PHILADELPHIA AREA              558.7100  849.340  1154.6100   4819.91  \n",
      "SOUTH FLORIDA AREA             582.0225  914.600  1451.2550   6954.07  \n",
      "SOUTHWEST AREA                 508.3275  802.025  1187.3275   8772.57  \n",
      "TENNESSEE AREA                 486.6800  832.400  1282.6150   6751.70  \n",
      "------Área:  ('MIDWEST AREA',)\n",
      "                               totrev                                    \\\n",
      "                                count         mean          std     min   \n",
      "area                                                                      \n",
      "ATLANTIC SOUTH AREA             592.0   903.497399   697.197572  106.95   \n",
      "CALIFORNIA NORTH AREA           599.0  1136.348013   922.069148  105.14   \n",
      "CENTRAL-SOUTH TEXAS AREA        409.0  1174.366577   920.804942   48.53   \n",
      "CHICAGO AREA                    496.0   892.133206   669.068444   59.90   \n",
      "DALLAS AREA                     518.0  1258.508784  1267.499852   84.59   \n",
      "DC-MARYLAND-VIRGINIA AREA       640.0   941.692188   634.132033   86.78   \n",
      "GREAT LAKES AREA                488.0   987.714324   733.521417  126.56   \n",
      "HOUSTON AREA                    458.0  1127.294127   999.987571   92.38   \n",
      "LOS ANGELES AREA                671.0  1031.714382   738.616227   96.74   \n",
      "MIDWEST AREA                    685.0  1095.678701   945.251868   90.42   \n",
      "NEW ENGLAND AREA                525.0   941.766038   705.572889  118.51   \n",
      "NEW YORK CITY AREA             1145.0  1076.263546   869.372842   74.01   \n",
      "NORTH FLORIDA AREA              442.0   895.489457   642.729028   37.39   \n",
      "NORTHWEST-ROCKY MOUNTAIN AREA   429.0  1083.179091   977.857935   67.80   \n",
      "OHIO AREA                       437.0  1006.616499   785.713223  107.12   \n",
      "PHILADELPHIA AREA               245.0   998.303592   722.348164  133.63   \n",
      "SOUTH FLORIDA AREA              366.0  1167.546257   891.952255  118.62   \n",
      "SOUTHWEST AREA                  584.0  1036.548630   914.475459   11.10   \n",
      "TENNESSEE AREA                  268.0  1042.700597   886.731980  102.03   \n",
      "\n",
      "                                                                       \n",
      "                                    25%      50%        75%       max  \n",
      "area                                                                   \n",
      "ATLANTIC SOUTH AREA            464.9875  718.370  1135.3050   8171.47  \n",
      "CALIFORNIA NORTH AREA          535.9900  892.340  1396.4550   7511.11  \n",
      "CENTRAL-SOUTH TEXAS AREA       594.3300  895.090  1374.5800   5848.39  \n",
      "CHICAGO AREA                   474.0675  718.855  1086.9250   5710.44  \n",
      "DALLAS AREA                    581.6975  965.650  1484.8500  13149.85  \n",
      "DC-MARYLAND-VIRGINIA AREA      525.7200  787.360  1191.5525   5029.68  \n",
      "GREAT LAKES AREA               503.7325  767.960  1211.8900   5624.71  \n",
      "HOUSTON AREA                   530.6400  892.180  1443.1400   8719.53  \n",
      "LOS ANGELES AREA               554.2650  836.770  1271.6150   6120.84  \n",
      "MIDWEST AREA                   553.0600  854.350  1338.6900  13426.60  \n",
      "NEW ENGLAND AREA               497.5700  747.130  1185.8000   6939.19  \n",
      "NEW YORK CITY AREA             562.3400  870.310  1297.9700  10590.01  \n",
      "NORTH FLORIDA AREA             481.5225  758.190  1134.1950   6009.01  \n",
      "NORTHWEST-ROCKY MOUNTAIN AREA  524.3700  805.020  1293.2200   7419.73  \n",
      "OHIO AREA                      512.0700  781.040  1230.5600   8007.95  \n",
      "PHILADELPHIA AREA              558.7100  849.340  1154.6100   4819.91  \n",
      "SOUTH FLORIDA AREA             582.0225  914.600  1451.2550   6954.07  \n",
      "SOUTHWEST AREA                 508.3275  802.025  1187.3275   8772.57  \n",
      "TENNESSEE AREA                 486.6800  832.400  1282.6150   6751.70  \n",
      "------Área:  ('NEW ENGLAND AREA',)\n",
      "                               totrev                                    \\\n",
      "                                count         mean          std     min   \n",
      "area                                                                      \n",
      "ATLANTIC SOUTH AREA             592.0   903.497399   697.197572  106.95   \n",
      "CALIFORNIA NORTH AREA           599.0  1136.348013   922.069148  105.14   \n",
      "CENTRAL-SOUTH TEXAS AREA        409.0  1174.366577   920.804942   48.53   \n",
      "CHICAGO AREA                    496.0   892.133206   669.068444   59.90   \n",
      "DALLAS AREA                     518.0  1258.508784  1267.499852   84.59   \n",
      "DC-MARYLAND-VIRGINIA AREA       640.0   941.692188   634.132033   86.78   \n",
      "GREAT LAKES AREA                488.0   987.714324   733.521417  126.56   \n",
      "HOUSTON AREA                    458.0  1127.294127   999.987571   92.38   \n",
      "LOS ANGELES AREA                671.0  1031.714382   738.616227   96.74   \n",
      "MIDWEST AREA                    685.0  1095.678701   945.251868   90.42   \n",
      "NEW ENGLAND AREA                525.0   941.766038   705.572889  118.51   \n",
      "NEW YORK CITY AREA             1145.0  1076.263546   869.372842   74.01   \n",
      "NORTH FLORIDA AREA              442.0   895.489457   642.729028   37.39   \n",
      "NORTHWEST-ROCKY MOUNTAIN AREA   429.0  1083.179091   977.857935   67.80   \n",
      "OHIO AREA                       437.0  1006.616499   785.713223  107.12   \n",
      "PHILADELPHIA AREA               245.0   998.303592   722.348164  133.63   \n",
      "SOUTH FLORIDA AREA              366.0  1167.546257   891.952255  118.62   \n",
      "SOUTHWEST AREA                  584.0  1036.548630   914.475459   11.10   \n",
      "TENNESSEE AREA                  268.0  1042.700597   886.731980  102.03   \n",
      "\n",
      "                                                                       \n",
      "                                    25%      50%        75%       max  \n",
      "area                                                                   \n",
      "ATLANTIC SOUTH AREA            464.9875  718.370  1135.3050   8171.47  \n",
      "CALIFORNIA NORTH AREA          535.9900  892.340  1396.4550   7511.11  \n",
      "CENTRAL-SOUTH TEXAS AREA       594.3300  895.090  1374.5800   5848.39  \n",
      "CHICAGO AREA                   474.0675  718.855  1086.9250   5710.44  \n",
      "DALLAS AREA                    581.6975  965.650  1484.8500  13149.85  \n",
      "DC-MARYLAND-VIRGINIA AREA      525.7200  787.360  1191.5525   5029.68  \n",
      "GREAT LAKES AREA               503.7325  767.960  1211.8900   5624.71  \n",
      "HOUSTON AREA                   530.6400  892.180  1443.1400   8719.53  \n",
      "LOS ANGELES AREA               554.2650  836.770  1271.6150   6120.84  \n",
      "MIDWEST AREA                   553.0600  854.350  1338.6900  13426.60  \n",
      "NEW ENGLAND AREA               497.5700  747.130  1185.8000   6939.19  \n",
      "NEW YORK CITY AREA             562.3400  870.310  1297.9700  10590.01  \n",
      "NORTH FLORIDA AREA             481.5225  758.190  1134.1950   6009.01  \n",
      "NORTHWEST-ROCKY MOUNTAIN AREA  524.3700  805.020  1293.2200   7419.73  \n",
      "OHIO AREA                      512.0700  781.040  1230.5600   8007.95  \n",
      "PHILADELPHIA AREA              558.7100  849.340  1154.6100   4819.91  \n",
      "SOUTH FLORIDA AREA             582.0225  914.600  1451.2550   6954.07  \n",
      "SOUTHWEST AREA                 508.3275  802.025  1187.3275   8772.57  \n",
      "TENNESSEE AREA                 486.6800  832.400  1282.6150   6751.70  \n",
      "------Área:  ('NEW YORK CITY AREA',)\n",
      "                               totrev                                    \\\n",
      "                                count         mean          std     min   \n",
      "area                                                                      \n",
      "ATLANTIC SOUTH AREA             592.0   903.497399   697.197572  106.95   \n",
      "CALIFORNIA NORTH AREA           599.0  1136.348013   922.069148  105.14   \n",
      "CENTRAL-SOUTH TEXAS AREA        409.0  1174.366577   920.804942   48.53   \n",
      "CHICAGO AREA                    496.0   892.133206   669.068444   59.90   \n",
      "DALLAS AREA                     518.0  1258.508784  1267.499852   84.59   \n",
      "DC-MARYLAND-VIRGINIA AREA       640.0   941.692188   634.132033   86.78   \n",
      "GREAT LAKES AREA                488.0   987.714324   733.521417  126.56   \n",
      "HOUSTON AREA                    458.0  1127.294127   999.987571   92.38   \n",
      "LOS ANGELES AREA                671.0  1031.714382   738.616227   96.74   \n",
      "MIDWEST AREA                    685.0  1095.678701   945.251868   90.42   \n",
      "NEW ENGLAND AREA                525.0   941.766038   705.572889  118.51   \n",
      "NEW YORK CITY AREA             1145.0  1076.263546   869.372842   74.01   \n",
      "NORTH FLORIDA AREA              442.0   895.489457   642.729028   37.39   \n",
      "NORTHWEST-ROCKY MOUNTAIN AREA   429.0  1083.179091   977.857935   67.80   \n",
      "OHIO AREA                       437.0  1006.616499   785.713223  107.12   \n",
      "PHILADELPHIA AREA               245.0   998.303592   722.348164  133.63   \n",
      "SOUTH FLORIDA AREA              366.0  1167.546257   891.952255  118.62   \n",
      "SOUTHWEST AREA                  584.0  1036.548630   914.475459   11.10   \n",
      "TENNESSEE AREA                  268.0  1042.700597   886.731980  102.03   \n",
      "\n",
      "                                                                       \n",
      "                                    25%      50%        75%       max  \n",
      "area                                                                   \n",
      "ATLANTIC SOUTH AREA            464.9875  718.370  1135.3050   8171.47  \n",
      "CALIFORNIA NORTH AREA          535.9900  892.340  1396.4550   7511.11  \n",
      "CENTRAL-SOUTH TEXAS AREA       594.3300  895.090  1374.5800   5848.39  \n",
      "CHICAGO AREA                   474.0675  718.855  1086.9250   5710.44  \n",
      "DALLAS AREA                    581.6975  965.650  1484.8500  13149.85  \n",
      "DC-MARYLAND-VIRGINIA AREA      525.7200  787.360  1191.5525   5029.68  \n",
      "GREAT LAKES AREA               503.7325  767.960  1211.8900   5624.71  \n",
      "HOUSTON AREA                   530.6400  892.180  1443.1400   8719.53  \n",
      "LOS ANGELES AREA               554.2650  836.770  1271.6150   6120.84  \n",
      "MIDWEST AREA                   553.0600  854.350  1338.6900  13426.60  \n",
      "NEW ENGLAND AREA               497.5700  747.130  1185.8000   6939.19  \n",
      "NEW YORK CITY AREA             562.3400  870.310  1297.9700  10590.01  \n",
      "NORTH FLORIDA AREA             481.5225  758.190  1134.1950   6009.01  \n",
      "NORTHWEST-ROCKY MOUNTAIN AREA  524.3700  805.020  1293.2200   7419.73  \n",
      "OHIO AREA                      512.0700  781.040  1230.5600   8007.95  \n",
      "PHILADELPHIA AREA              558.7100  849.340  1154.6100   4819.91  \n",
      "SOUTH FLORIDA AREA             582.0225  914.600  1451.2550   6954.07  \n",
      "SOUTHWEST AREA                 508.3275  802.025  1187.3275   8772.57  \n",
      "TENNESSEE AREA                 486.6800  832.400  1282.6150   6751.70  \n",
      "------Área:  ('NORTH FLORIDA AREA',)\n",
      "                               totrev                                    \\\n",
      "                                count         mean          std     min   \n",
      "area                                                                      \n",
      "ATLANTIC SOUTH AREA             592.0   903.497399   697.197572  106.95   \n",
      "CALIFORNIA NORTH AREA           599.0  1136.348013   922.069148  105.14   \n",
      "CENTRAL-SOUTH TEXAS AREA        409.0  1174.366577   920.804942   48.53   \n",
      "CHICAGO AREA                    496.0   892.133206   669.068444   59.90   \n",
      "DALLAS AREA                     518.0  1258.508784  1267.499852   84.59   \n",
      "DC-MARYLAND-VIRGINIA AREA       640.0   941.692188   634.132033   86.78   \n",
      "GREAT LAKES AREA                488.0   987.714324   733.521417  126.56   \n",
      "HOUSTON AREA                    458.0  1127.294127   999.987571   92.38   \n",
      "LOS ANGELES AREA                671.0  1031.714382   738.616227   96.74   \n",
      "MIDWEST AREA                    685.0  1095.678701   945.251868   90.42   \n",
      "NEW ENGLAND AREA                525.0   941.766038   705.572889  118.51   \n",
      "NEW YORK CITY AREA             1145.0  1076.263546   869.372842   74.01   \n",
      "NORTH FLORIDA AREA              442.0   895.489457   642.729028   37.39   \n",
      "NORTHWEST-ROCKY MOUNTAIN AREA   429.0  1083.179091   977.857935   67.80   \n",
      "OHIO AREA                       437.0  1006.616499   785.713223  107.12   \n",
      "PHILADELPHIA AREA               245.0   998.303592   722.348164  133.63   \n",
      "SOUTH FLORIDA AREA              366.0  1167.546257   891.952255  118.62   \n",
      "SOUTHWEST AREA                  584.0  1036.548630   914.475459   11.10   \n",
      "TENNESSEE AREA                  268.0  1042.700597   886.731980  102.03   \n",
      "\n",
      "                                                                       \n",
      "                                    25%      50%        75%       max  \n",
      "area                                                                   \n",
      "ATLANTIC SOUTH AREA            464.9875  718.370  1135.3050   8171.47  \n",
      "CALIFORNIA NORTH AREA          535.9900  892.340  1396.4550   7511.11  \n",
      "CENTRAL-SOUTH TEXAS AREA       594.3300  895.090  1374.5800   5848.39  \n",
      "CHICAGO AREA                   474.0675  718.855  1086.9250   5710.44  \n",
      "DALLAS AREA                    581.6975  965.650  1484.8500  13149.85  \n",
      "DC-MARYLAND-VIRGINIA AREA      525.7200  787.360  1191.5525   5029.68  \n",
      "GREAT LAKES AREA               503.7325  767.960  1211.8900   5624.71  \n",
      "HOUSTON AREA                   530.6400  892.180  1443.1400   8719.53  \n",
      "LOS ANGELES AREA               554.2650  836.770  1271.6150   6120.84  \n",
      "MIDWEST AREA                   553.0600  854.350  1338.6900  13426.60  \n",
      "NEW ENGLAND AREA               497.5700  747.130  1185.8000   6939.19  \n",
      "NEW YORK CITY AREA             562.3400  870.310  1297.9700  10590.01  \n",
      "NORTH FLORIDA AREA             481.5225  758.190  1134.1950   6009.01  \n",
      "NORTHWEST-ROCKY MOUNTAIN AREA  524.3700  805.020  1293.2200   7419.73  \n",
      "OHIO AREA                      512.0700  781.040  1230.5600   8007.95  \n",
      "PHILADELPHIA AREA              558.7100  849.340  1154.6100   4819.91  \n",
      "SOUTH FLORIDA AREA             582.0225  914.600  1451.2550   6954.07  \n",
      "SOUTHWEST AREA                 508.3275  802.025  1187.3275   8772.57  \n",
      "TENNESSEE AREA                 486.6800  832.400  1282.6150   6751.70  \n",
      "------Área:  ('NORTHWEST-ROCKY MOUNTAIN AREA',)\n",
      "                               totrev                                    \\\n",
      "                                count         mean          std     min   \n",
      "area                                                                      \n",
      "ATLANTIC SOUTH AREA             592.0   903.497399   697.197572  106.95   \n",
      "CALIFORNIA NORTH AREA           599.0  1136.348013   922.069148  105.14   \n",
      "CENTRAL-SOUTH TEXAS AREA        409.0  1174.366577   920.804942   48.53   \n",
      "CHICAGO AREA                    496.0   892.133206   669.068444   59.90   \n",
      "DALLAS AREA                     518.0  1258.508784  1267.499852   84.59   \n",
      "DC-MARYLAND-VIRGINIA AREA       640.0   941.692188   634.132033   86.78   \n",
      "GREAT LAKES AREA                488.0   987.714324   733.521417  126.56   \n",
      "HOUSTON AREA                    458.0  1127.294127   999.987571   92.38   \n",
      "LOS ANGELES AREA                671.0  1031.714382   738.616227   96.74   \n",
      "MIDWEST AREA                    685.0  1095.678701   945.251868   90.42   \n",
      "NEW ENGLAND AREA                525.0   941.766038   705.572889  118.51   \n",
      "NEW YORK CITY AREA             1145.0  1076.263546   869.372842   74.01   \n",
      "NORTH FLORIDA AREA              442.0   895.489457   642.729028   37.39   \n",
      "NORTHWEST-ROCKY MOUNTAIN AREA   429.0  1083.179091   977.857935   67.80   \n",
      "OHIO AREA                       437.0  1006.616499   785.713223  107.12   \n",
      "PHILADELPHIA AREA               245.0   998.303592   722.348164  133.63   \n",
      "SOUTH FLORIDA AREA              366.0  1167.546257   891.952255  118.62   \n",
      "SOUTHWEST AREA                  584.0  1036.548630   914.475459   11.10   \n",
      "TENNESSEE AREA                  268.0  1042.700597   886.731980  102.03   \n",
      "\n",
      "                                                                       \n",
      "                                    25%      50%        75%       max  \n",
      "area                                                                   \n",
      "ATLANTIC SOUTH AREA            464.9875  718.370  1135.3050   8171.47  \n",
      "CALIFORNIA NORTH AREA          535.9900  892.340  1396.4550   7511.11  \n",
      "CENTRAL-SOUTH TEXAS AREA       594.3300  895.090  1374.5800   5848.39  \n",
      "CHICAGO AREA                   474.0675  718.855  1086.9250   5710.44  \n",
      "DALLAS AREA                    581.6975  965.650  1484.8500  13149.85  \n",
      "DC-MARYLAND-VIRGINIA AREA      525.7200  787.360  1191.5525   5029.68  \n",
      "GREAT LAKES AREA               503.7325  767.960  1211.8900   5624.71  \n",
      "HOUSTON AREA                   530.6400  892.180  1443.1400   8719.53  \n",
      "LOS ANGELES AREA               554.2650  836.770  1271.6150   6120.84  \n",
      "MIDWEST AREA                   553.0600  854.350  1338.6900  13426.60  \n",
      "NEW ENGLAND AREA               497.5700  747.130  1185.8000   6939.19  \n",
      "NEW YORK CITY AREA             562.3400  870.310  1297.9700  10590.01  \n",
      "NORTH FLORIDA AREA             481.5225  758.190  1134.1950   6009.01  \n",
      "NORTHWEST-ROCKY MOUNTAIN AREA  524.3700  805.020  1293.2200   7419.73  \n",
      "OHIO AREA                      512.0700  781.040  1230.5600   8007.95  \n",
      "PHILADELPHIA AREA              558.7100  849.340  1154.6100   4819.91  \n",
      "SOUTH FLORIDA AREA             582.0225  914.600  1451.2550   6954.07  \n",
      "SOUTHWEST AREA                 508.3275  802.025  1187.3275   8772.57  \n",
      "TENNESSEE AREA                 486.6800  832.400  1282.6150   6751.70  \n",
      "------Área:  ('OHIO AREA',)\n",
      "                               totrev                                    \\\n",
      "                                count         mean          std     min   \n",
      "area                                                                      \n",
      "ATLANTIC SOUTH AREA             592.0   903.497399   697.197572  106.95   \n",
      "CALIFORNIA NORTH AREA           599.0  1136.348013   922.069148  105.14   \n",
      "CENTRAL-SOUTH TEXAS AREA        409.0  1174.366577   920.804942   48.53   \n",
      "CHICAGO AREA                    496.0   892.133206   669.068444   59.90   \n",
      "DALLAS AREA                     518.0  1258.508784  1267.499852   84.59   \n",
      "DC-MARYLAND-VIRGINIA AREA       640.0   941.692188   634.132033   86.78   \n",
      "GREAT LAKES AREA                488.0   987.714324   733.521417  126.56   \n",
      "HOUSTON AREA                    458.0  1127.294127   999.987571   92.38   \n",
      "LOS ANGELES AREA                671.0  1031.714382   738.616227   96.74   \n",
      "MIDWEST AREA                    685.0  1095.678701   945.251868   90.42   \n",
      "NEW ENGLAND AREA                525.0   941.766038   705.572889  118.51   \n",
      "NEW YORK CITY AREA             1145.0  1076.263546   869.372842   74.01   \n",
      "NORTH FLORIDA AREA              442.0   895.489457   642.729028   37.39   \n",
      "NORTHWEST-ROCKY MOUNTAIN AREA   429.0  1083.179091   977.857935   67.80   \n",
      "OHIO AREA                       437.0  1006.616499   785.713223  107.12   \n",
      "PHILADELPHIA AREA               245.0   998.303592   722.348164  133.63   \n",
      "SOUTH FLORIDA AREA              366.0  1167.546257   891.952255  118.62   \n",
      "SOUTHWEST AREA                  584.0  1036.548630   914.475459   11.10   \n",
      "TENNESSEE AREA                  268.0  1042.700597   886.731980  102.03   \n",
      "\n",
      "                                                                       \n",
      "                                    25%      50%        75%       max  \n",
      "area                                                                   \n",
      "ATLANTIC SOUTH AREA            464.9875  718.370  1135.3050   8171.47  \n",
      "CALIFORNIA NORTH AREA          535.9900  892.340  1396.4550   7511.11  \n",
      "CENTRAL-SOUTH TEXAS AREA       594.3300  895.090  1374.5800   5848.39  \n",
      "CHICAGO AREA                   474.0675  718.855  1086.9250   5710.44  \n",
      "DALLAS AREA                    581.6975  965.650  1484.8500  13149.85  \n",
      "DC-MARYLAND-VIRGINIA AREA      525.7200  787.360  1191.5525   5029.68  \n",
      "GREAT LAKES AREA               503.7325  767.960  1211.8900   5624.71  \n",
      "HOUSTON AREA                   530.6400  892.180  1443.1400   8719.53  \n",
      "LOS ANGELES AREA               554.2650  836.770  1271.6150   6120.84  \n",
      "MIDWEST AREA                   553.0600  854.350  1338.6900  13426.60  \n",
      "NEW ENGLAND AREA               497.5700  747.130  1185.8000   6939.19  \n",
      "NEW YORK CITY AREA             562.3400  870.310  1297.9700  10590.01  \n",
      "NORTH FLORIDA AREA             481.5225  758.190  1134.1950   6009.01  \n",
      "NORTHWEST-ROCKY MOUNTAIN AREA  524.3700  805.020  1293.2200   7419.73  \n",
      "OHIO AREA                      512.0700  781.040  1230.5600   8007.95  \n",
      "PHILADELPHIA AREA              558.7100  849.340  1154.6100   4819.91  \n",
      "SOUTH FLORIDA AREA             582.0225  914.600  1451.2550   6954.07  \n",
      "SOUTHWEST AREA                 508.3275  802.025  1187.3275   8772.57  \n",
      "TENNESSEE AREA                 486.6800  832.400  1282.6150   6751.70  \n",
      "------Área:  ('PHILADELPHIA AREA',)\n",
      "                               totrev                                    \\\n",
      "                                count         mean          std     min   \n",
      "area                                                                      \n",
      "ATLANTIC SOUTH AREA             592.0   903.497399   697.197572  106.95   \n",
      "CALIFORNIA NORTH AREA           599.0  1136.348013   922.069148  105.14   \n",
      "CENTRAL-SOUTH TEXAS AREA        409.0  1174.366577   920.804942   48.53   \n",
      "CHICAGO AREA                    496.0   892.133206   669.068444   59.90   \n",
      "DALLAS AREA                     518.0  1258.508784  1267.499852   84.59   \n",
      "DC-MARYLAND-VIRGINIA AREA       640.0   941.692188   634.132033   86.78   \n",
      "GREAT LAKES AREA                488.0   987.714324   733.521417  126.56   \n",
      "HOUSTON AREA                    458.0  1127.294127   999.987571   92.38   \n",
      "LOS ANGELES AREA                671.0  1031.714382   738.616227   96.74   \n",
      "MIDWEST AREA                    685.0  1095.678701   945.251868   90.42   \n",
      "NEW ENGLAND AREA                525.0   941.766038   705.572889  118.51   \n",
      "NEW YORK CITY AREA             1145.0  1076.263546   869.372842   74.01   \n",
      "NORTH FLORIDA AREA              442.0   895.489457   642.729028   37.39   \n",
      "NORTHWEST-ROCKY MOUNTAIN AREA   429.0  1083.179091   977.857935   67.80   \n",
      "OHIO AREA                       437.0  1006.616499   785.713223  107.12   \n",
      "PHILADELPHIA AREA               245.0   998.303592   722.348164  133.63   \n",
      "SOUTH FLORIDA AREA              366.0  1167.546257   891.952255  118.62   \n",
      "SOUTHWEST AREA                  584.0  1036.548630   914.475459   11.10   \n",
      "TENNESSEE AREA                  268.0  1042.700597   886.731980  102.03   \n",
      "\n",
      "                                                                       \n",
      "                                    25%      50%        75%       max  \n",
      "area                                                                   \n",
      "ATLANTIC SOUTH AREA            464.9875  718.370  1135.3050   8171.47  \n",
      "CALIFORNIA NORTH AREA          535.9900  892.340  1396.4550   7511.11  \n",
      "CENTRAL-SOUTH TEXAS AREA       594.3300  895.090  1374.5800   5848.39  \n",
      "CHICAGO AREA                   474.0675  718.855  1086.9250   5710.44  \n",
      "DALLAS AREA                    581.6975  965.650  1484.8500  13149.85  \n",
      "DC-MARYLAND-VIRGINIA AREA      525.7200  787.360  1191.5525   5029.68  \n",
      "GREAT LAKES AREA               503.7325  767.960  1211.8900   5624.71  \n",
      "HOUSTON AREA                   530.6400  892.180  1443.1400   8719.53  \n",
      "LOS ANGELES AREA               554.2650  836.770  1271.6150   6120.84  \n",
      "MIDWEST AREA                   553.0600  854.350  1338.6900  13426.60  \n",
      "NEW ENGLAND AREA               497.5700  747.130  1185.8000   6939.19  \n",
      "NEW YORK CITY AREA             562.3400  870.310  1297.9700  10590.01  \n",
      "NORTH FLORIDA AREA             481.5225  758.190  1134.1950   6009.01  \n",
      "NORTHWEST-ROCKY MOUNTAIN AREA  524.3700  805.020  1293.2200   7419.73  \n",
      "OHIO AREA                      512.0700  781.040  1230.5600   8007.95  \n",
      "PHILADELPHIA AREA              558.7100  849.340  1154.6100   4819.91  \n",
      "SOUTH FLORIDA AREA             582.0225  914.600  1451.2550   6954.07  \n",
      "SOUTHWEST AREA                 508.3275  802.025  1187.3275   8772.57  \n",
      "TENNESSEE AREA                 486.6800  832.400  1282.6150   6751.70  \n",
      "------Área:  ('SOUTH FLORIDA AREA',)\n",
      "                               totrev                                    \\\n",
      "                                count         mean          std     min   \n",
      "area                                                                      \n",
      "ATLANTIC SOUTH AREA             592.0   903.497399   697.197572  106.95   \n",
      "CALIFORNIA NORTH AREA           599.0  1136.348013   922.069148  105.14   \n",
      "CENTRAL-SOUTH TEXAS AREA        409.0  1174.366577   920.804942   48.53   \n",
      "CHICAGO AREA                    496.0   892.133206   669.068444   59.90   \n",
      "DALLAS AREA                     518.0  1258.508784  1267.499852   84.59   \n",
      "DC-MARYLAND-VIRGINIA AREA       640.0   941.692188   634.132033   86.78   \n",
      "GREAT LAKES AREA                488.0   987.714324   733.521417  126.56   \n",
      "HOUSTON AREA                    458.0  1127.294127   999.987571   92.38   \n",
      "LOS ANGELES AREA                671.0  1031.714382   738.616227   96.74   \n",
      "MIDWEST AREA                    685.0  1095.678701   945.251868   90.42   \n",
      "NEW ENGLAND AREA                525.0   941.766038   705.572889  118.51   \n",
      "NEW YORK CITY AREA             1145.0  1076.263546   869.372842   74.01   \n",
      "NORTH FLORIDA AREA              442.0   895.489457   642.729028   37.39   \n",
      "NORTHWEST-ROCKY MOUNTAIN AREA   429.0  1083.179091   977.857935   67.80   \n",
      "OHIO AREA                       437.0  1006.616499   785.713223  107.12   \n",
      "PHILADELPHIA AREA               245.0   998.303592   722.348164  133.63   \n",
      "SOUTH FLORIDA AREA              366.0  1167.546257   891.952255  118.62   \n",
      "SOUTHWEST AREA                  584.0  1036.548630   914.475459   11.10   \n",
      "TENNESSEE AREA                  268.0  1042.700597   886.731980  102.03   \n",
      "\n",
      "                                                                       \n",
      "                                    25%      50%        75%       max  \n",
      "area                                                                   \n",
      "ATLANTIC SOUTH AREA            464.9875  718.370  1135.3050   8171.47  \n",
      "CALIFORNIA NORTH AREA          535.9900  892.340  1396.4550   7511.11  \n",
      "CENTRAL-SOUTH TEXAS AREA       594.3300  895.090  1374.5800   5848.39  \n",
      "CHICAGO AREA                   474.0675  718.855  1086.9250   5710.44  \n",
      "DALLAS AREA                    581.6975  965.650  1484.8500  13149.85  \n",
      "DC-MARYLAND-VIRGINIA AREA      525.7200  787.360  1191.5525   5029.68  \n",
      "GREAT LAKES AREA               503.7325  767.960  1211.8900   5624.71  \n",
      "HOUSTON AREA                   530.6400  892.180  1443.1400   8719.53  \n",
      "LOS ANGELES AREA               554.2650  836.770  1271.6150   6120.84  \n",
      "MIDWEST AREA                   553.0600  854.350  1338.6900  13426.60  \n",
      "NEW ENGLAND AREA               497.5700  747.130  1185.8000   6939.19  \n",
      "NEW YORK CITY AREA             562.3400  870.310  1297.9700  10590.01  \n",
      "NORTH FLORIDA AREA             481.5225  758.190  1134.1950   6009.01  \n",
      "NORTHWEST-ROCKY MOUNTAIN AREA  524.3700  805.020  1293.2200   7419.73  \n",
      "OHIO AREA                      512.0700  781.040  1230.5600   8007.95  \n",
      "PHILADELPHIA AREA              558.7100  849.340  1154.6100   4819.91  \n",
      "SOUTH FLORIDA AREA             582.0225  914.600  1451.2550   6954.07  \n",
      "SOUTHWEST AREA                 508.3275  802.025  1187.3275   8772.57  \n",
      "TENNESSEE AREA                 486.6800  832.400  1282.6150   6751.70  \n",
      "------Área:  ('SOUTHWEST AREA',)\n",
      "                               totrev                                    \\\n",
      "                                count         mean          std     min   \n",
      "area                                                                      \n",
      "ATLANTIC SOUTH AREA             592.0   903.497399   697.197572  106.95   \n",
      "CALIFORNIA NORTH AREA           599.0  1136.348013   922.069148  105.14   \n",
      "CENTRAL-SOUTH TEXAS AREA        409.0  1174.366577   920.804942   48.53   \n",
      "CHICAGO AREA                    496.0   892.133206   669.068444   59.90   \n",
      "DALLAS AREA                     518.0  1258.508784  1267.499852   84.59   \n",
      "DC-MARYLAND-VIRGINIA AREA       640.0   941.692188   634.132033   86.78   \n",
      "GREAT LAKES AREA                488.0   987.714324   733.521417  126.56   \n",
      "HOUSTON AREA                    458.0  1127.294127   999.987571   92.38   \n",
      "LOS ANGELES AREA                671.0  1031.714382   738.616227   96.74   \n",
      "MIDWEST AREA                    685.0  1095.678701   945.251868   90.42   \n",
      "NEW ENGLAND AREA                525.0   941.766038   705.572889  118.51   \n",
      "NEW YORK CITY AREA             1145.0  1076.263546   869.372842   74.01   \n",
      "NORTH FLORIDA AREA              442.0   895.489457   642.729028   37.39   \n",
      "NORTHWEST-ROCKY MOUNTAIN AREA   429.0  1083.179091   977.857935   67.80   \n",
      "OHIO AREA                       437.0  1006.616499   785.713223  107.12   \n",
      "PHILADELPHIA AREA               245.0   998.303592   722.348164  133.63   \n",
      "SOUTH FLORIDA AREA              366.0  1167.546257   891.952255  118.62   \n",
      "SOUTHWEST AREA                  584.0  1036.548630   914.475459   11.10   \n",
      "TENNESSEE AREA                  268.0  1042.700597   886.731980  102.03   \n",
      "\n",
      "                                                                       \n",
      "                                    25%      50%        75%       max  \n",
      "area                                                                   \n",
      "ATLANTIC SOUTH AREA            464.9875  718.370  1135.3050   8171.47  \n",
      "CALIFORNIA NORTH AREA          535.9900  892.340  1396.4550   7511.11  \n",
      "CENTRAL-SOUTH TEXAS AREA       594.3300  895.090  1374.5800   5848.39  \n",
      "CHICAGO AREA                   474.0675  718.855  1086.9250   5710.44  \n",
      "DALLAS AREA                    581.6975  965.650  1484.8500  13149.85  \n",
      "DC-MARYLAND-VIRGINIA AREA      525.7200  787.360  1191.5525   5029.68  \n",
      "GREAT LAKES AREA               503.7325  767.960  1211.8900   5624.71  \n",
      "HOUSTON AREA                   530.6400  892.180  1443.1400   8719.53  \n",
      "LOS ANGELES AREA               554.2650  836.770  1271.6150   6120.84  \n",
      "MIDWEST AREA                   553.0600  854.350  1338.6900  13426.60  \n",
      "NEW ENGLAND AREA               497.5700  747.130  1185.8000   6939.19  \n",
      "NEW YORK CITY AREA             562.3400  870.310  1297.9700  10590.01  \n",
      "NORTH FLORIDA AREA             481.5225  758.190  1134.1950   6009.01  \n",
      "NORTHWEST-ROCKY MOUNTAIN AREA  524.3700  805.020  1293.2200   7419.73  \n",
      "OHIO AREA                      512.0700  781.040  1230.5600   8007.95  \n",
      "PHILADELPHIA AREA              558.7100  849.340  1154.6100   4819.91  \n",
      "SOUTH FLORIDA AREA             582.0225  914.600  1451.2550   6954.07  \n",
      "SOUTHWEST AREA                 508.3275  802.025  1187.3275   8772.57  \n",
      "TENNESSEE AREA                 486.6800  832.400  1282.6150   6751.70  \n",
      "------Área:  ('TENNESSEE AREA',)\n",
      "                               totrev                                    \\\n",
      "                                count         mean          std     min   \n",
      "area                                                                      \n",
      "ATLANTIC SOUTH AREA             592.0   903.497399   697.197572  106.95   \n",
      "CALIFORNIA NORTH AREA           599.0  1136.348013   922.069148  105.14   \n",
      "CENTRAL-SOUTH TEXAS AREA        409.0  1174.366577   920.804942   48.53   \n",
      "CHICAGO AREA                    496.0   892.133206   669.068444   59.90   \n",
      "DALLAS AREA                     518.0  1258.508784  1267.499852   84.59   \n",
      "DC-MARYLAND-VIRGINIA AREA       640.0   941.692188   634.132033   86.78   \n",
      "GREAT LAKES AREA                488.0   987.714324   733.521417  126.56   \n",
      "HOUSTON AREA                    458.0  1127.294127   999.987571   92.38   \n",
      "LOS ANGELES AREA                671.0  1031.714382   738.616227   96.74   \n",
      "MIDWEST AREA                    685.0  1095.678701   945.251868   90.42   \n",
      "NEW ENGLAND AREA                525.0   941.766038   705.572889  118.51   \n",
      "NEW YORK CITY AREA             1145.0  1076.263546   869.372842   74.01   \n",
      "NORTH FLORIDA AREA              442.0   895.489457   642.729028   37.39   \n",
      "NORTHWEST-ROCKY MOUNTAIN AREA   429.0  1083.179091   977.857935   67.80   \n",
      "OHIO AREA                       437.0  1006.616499   785.713223  107.12   \n",
      "PHILADELPHIA AREA               245.0   998.303592   722.348164  133.63   \n",
      "SOUTH FLORIDA AREA              366.0  1167.546257   891.952255  118.62   \n",
      "SOUTHWEST AREA                  584.0  1036.548630   914.475459   11.10   \n",
      "TENNESSEE AREA                  268.0  1042.700597   886.731980  102.03   \n",
      "\n",
      "                                                                       \n",
      "                                    25%      50%        75%       max  \n",
      "area                                                                   \n",
      "ATLANTIC SOUTH AREA            464.9875  718.370  1135.3050   8171.47  \n",
      "CALIFORNIA NORTH AREA          535.9900  892.340  1396.4550   7511.11  \n",
      "CENTRAL-SOUTH TEXAS AREA       594.3300  895.090  1374.5800   5848.39  \n",
      "CHICAGO AREA                   474.0675  718.855  1086.9250   5710.44  \n",
      "DALLAS AREA                    581.6975  965.650  1484.8500  13149.85  \n",
      "DC-MARYLAND-VIRGINIA AREA      525.7200  787.360  1191.5525   5029.68  \n",
      "GREAT LAKES AREA               503.7325  767.960  1211.8900   5624.71  \n",
      "HOUSTON AREA                   530.6400  892.180  1443.1400   8719.53  \n",
      "LOS ANGELES AREA               554.2650  836.770  1271.6150   6120.84  \n",
      "MIDWEST AREA                   553.0600  854.350  1338.6900  13426.60  \n",
      "NEW ENGLAND AREA               497.5700  747.130  1185.8000   6939.19  \n",
      "NEW YORK CITY AREA             562.3400  870.310  1297.9700  10590.01  \n",
      "NORTH FLORIDA AREA             481.5225  758.190  1134.1950   6009.01  \n",
      "NORTHWEST-ROCKY MOUNTAIN AREA  524.3700  805.020  1293.2200   7419.73  \n",
      "OHIO AREA                      512.0700  781.040  1230.5600   8007.95  \n",
      "PHILADELPHIA AREA              558.7100  849.340  1154.6100   4819.91  \n",
      "SOUTH FLORIDA AREA             582.0225  914.600  1451.2550   6954.07  \n",
      "SOUTHWEST AREA                 508.3275  802.025  1187.3275   8772.57  \n",
      "TENNESSEE AREA                 486.6800  832.400  1282.6150   6751.70  \n"
     ]
    }
   ],
   "source": [
    "group_df = df3.groupby([\"area\"]) # Datos del grupo en df3 filtrados por el área\n",
    "# Bucle a través de los grupos\n",
    "for item in group_df:\n",
    "    print(\"------Área: \", item[0])\n",
    "    group_df1 = item[1]\n",
    "    df_relevante = group_df[[\"totrev\"]]\n",
    "    print(df_relevante.describe())"
   ]
  },
  {
   "cell_type": "markdown",
   "metadata": {},
   "source": [
    "En `pandas`tenemos una manera más sencilla de mostrar estos resultados"
   ]
  },
  {
   "cell_type": "code",
   "execution_count": 85,
   "metadata": {},
   "outputs": [
    {
     "data": {
      "text/html": [
       "<div>\n",
       "<style scoped>\n",
       "    .dataframe tbody tr th:only-of-type {\n",
       "        vertical-align: middle;\n",
       "    }\n",
       "\n",
       "    .dataframe tbody tr th {\n",
       "        vertical-align: top;\n",
       "    }\n",
       "\n",
       "    .dataframe thead tr th {\n",
       "        text-align: left;\n",
       "    }\n",
       "\n",
       "    .dataframe thead tr:last-of-type th {\n",
       "        text-align: right;\n",
       "    }\n",
       "</style>\n",
       "<table border=\"1\" class=\"dataframe\">\n",
       "  <thead>\n",
       "    <tr>\n",
       "      <th></th>\n",
       "      <th colspan=\"8\" halign=\"left\">totrev</th>\n",
       "    </tr>\n",
       "    <tr>\n",
       "      <th></th>\n",
       "      <th>count</th>\n",
       "      <th>mean</th>\n",
       "      <th>std</th>\n",
       "      <th>min</th>\n",
       "      <th>25%</th>\n",
       "      <th>50%</th>\n",
       "      <th>75%</th>\n",
       "      <th>max</th>\n",
       "    </tr>\n",
       "    <tr>\n",
       "      <th>area</th>\n",
       "      <th></th>\n",
       "      <th></th>\n",
       "      <th></th>\n",
       "      <th></th>\n",
       "      <th></th>\n",
       "      <th></th>\n",
       "      <th></th>\n",
       "      <th></th>\n",
       "    </tr>\n",
       "  </thead>\n",
       "  <tbody>\n",
       "    <tr>\n",
       "      <th>ATLANTIC SOUTH AREA</th>\n",
       "      <td>592.0</td>\n",
       "      <td>903.497399</td>\n",
       "      <td>697.197572</td>\n",
       "      <td>106.95</td>\n",
       "      <td>464.9875</td>\n",
       "      <td>718.370</td>\n",
       "      <td>1135.3050</td>\n",
       "      <td>8171.47</td>\n",
       "    </tr>\n",
       "    <tr>\n",
       "      <th>CALIFORNIA NORTH AREA</th>\n",
       "      <td>599.0</td>\n",
       "      <td>1136.348013</td>\n",
       "      <td>922.069148</td>\n",
       "      <td>105.14</td>\n",
       "      <td>535.9900</td>\n",
       "      <td>892.340</td>\n",
       "      <td>1396.4550</td>\n",
       "      <td>7511.11</td>\n",
       "    </tr>\n",
       "    <tr>\n",
       "      <th>CENTRAL-SOUTH TEXAS AREA</th>\n",
       "      <td>409.0</td>\n",
       "      <td>1174.366577</td>\n",
       "      <td>920.804942</td>\n",
       "      <td>48.53</td>\n",
       "      <td>594.3300</td>\n",
       "      <td>895.090</td>\n",
       "      <td>1374.5800</td>\n",
       "      <td>5848.39</td>\n",
       "    </tr>\n",
       "    <tr>\n",
       "      <th>CHICAGO AREA</th>\n",
       "      <td>496.0</td>\n",
       "      <td>892.133206</td>\n",
       "      <td>669.068444</td>\n",
       "      <td>59.90</td>\n",
       "      <td>474.0675</td>\n",
       "      <td>718.855</td>\n",
       "      <td>1086.9250</td>\n",
       "      <td>5710.44</td>\n",
       "    </tr>\n",
       "    <tr>\n",
       "      <th>DALLAS AREA</th>\n",
       "      <td>518.0</td>\n",
       "      <td>1258.508784</td>\n",
       "      <td>1267.499852</td>\n",
       "      <td>84.59</td>\n",
       "      <td>581.6975</td>\n",
       "      <td>965.650</td>\n",
       "      <td>1484.8500</td>\n",
       "      <td>13149.85</td>\n",
       "    </tr>\n",
       "    <tr>\n",
       "      <th>DC-MARYLAND-VIRGINIA AREA</th>\n",
       "      <td>640.0</td>\n",
       "      <td>941.692188</td>\n",
       "      <td>634.132033</td>\n",
       "      <td>86.78</td>\n",
       "      <td>525.7200</td>\n",
       "      <td>787.360</td>\n",
       "      <td>1191.5525</td>\n",
       "      <td>5029.68</td>\n",
       "    </tr>\n",
       "    <tr>\n",
       "      <th>GREAT LAKES AREA</th>\n",
       "      <td>488.0</td>\n",
       "      <td>987.714324</td>\n",
       "      <td>733.521417</td>\n",
       "      <td>126.56</td>\n",
       "      <td>503.7325</td>\n",
       "      <td>767.960</td>\n",
       "      <td>1211.8900</td>\n",
       "      <td>5624.71</td>\n",
       "    </tr>\n",
       "    <tr>\n",
       "      <th>HOUSTON AREA</th>\n",
       "      <td>458.0</td>\n",
       "      <td>1127.294127</td>\n",
       "      <td>999.987571</td>\n",
       "      <td>92.38</td>\n",
       "      <td>530.6400</td>\n",
       "      <td>892.180</td>\n",
       "      <td>1443.1400</td>\n",
       "      <td>8719.53</td>\n",
       "    </tr>\n",
       "    <tr>\n",
       "      <th>LOS ANGELES AREA</th>\n",
       "      <td>671.0</td>\n",
       "      <td>1031.714382</td>\n",
       "      <td>738.616227</td>\n",
       "      <td>96.74</td>\n",
       "      <td>554.2650</td>\n",
       "      <td>836.770</td>\n",
       "      <td>1271.6150</td>\n",
       "      <td>6120.84</td>\n",
       "    </tr>\n",
       "    <tr>\n",
       "      <th>MIDWEST AREA</th>\n",
       "      <td>685.0</td>\n",
       "      <td>1095.678701</td>\n",
       "      <td>945.251868</td>\n",
       "      <td>90.42</td>\n",
       "      <td>553.0600</td>\n",
       "      <td>854.350</td>\n",
       "      <td>1338.6900</td>\n",
       "      <td>13426.60</td>\n",
       "    </tr>\n",
       "    <tr>\n",
       "      <th>NEW ENGLAND AREA</th>\n",
       "      <td>525.0</td>\n",
       "      <td>941.766038</td>\n",
       "      <td>705.572889</td>\n",
       "      <td>118.51</td>\n",
       "      <td>497.5700</td>\n",
       "      <td>747.130</td>\n",
       "      <td>1185.8000</td>\n",
       "      <td>6939.19</td>\n",
       "    </tr>\n",
       "    <tr>\n",
       "      <th>NEW YORK CITY AREA</th>\n",
       "      <td>1145.0</td>\n",
       "      <td>1076.263546</td>\n",
       "      <td>869.372842</td>\n",
       "      <td>74.01</td>\n",
       "      <td>562.3400</td>\n",
       "      <td>870.310</td>\n",
       "      <td>1297.9700</td>\n",
       "      <td>10590.01</td>\n",
       "    </tr>\n",
       "    <tr>\n",
       "      <th>NORTH FLORIDA AREA</th>\n",
       "      <td>442.0</td>\n",
       "      <td>895.489457</td>\n",
       "      <td>642.729028</td>\n",
       "      <td>37.39</td>\n",
       "      <td>481.5225</td>\n",
       "      <td>758.190</td>\n",
       "      <td>1134.1950</td>\n",
       "      <td>6009.01</td>\n",
       "    </tr>\n",
       "    <tr>\n",
       "      <th>NORTHWEST-ROCKY MOUNTAIN AREA</th>\n",
       "      <td>429.0</td>\n",
       "      <td>1083.179091</td>\n",
       "      <td>977.857935</td>\n",
       "      <td>67.80</td>\n",
       "      <td>524.3700</td>\n",
       "      <td>805.020</td>\n",
       "      <td>1293.2200</td>\n",
       "      <td>7419.73</td>\n",
       "    </tr>\n",
       "    <tr>\n",
       "      <th>OHIO AREA</th>\n",
       "      <td>437.0</td>\n",
       "      <td>1006.616499</td>\n",
       "      <td>785.713223</td>\n",
       "      <td>107.12</td>\n",
       "      <td>512.0700</td>\n",
       "      <td>781.040</td>\n",
       "      <td>1230.5600</td>\n",
       "      <td>8007.95</td>\n",
       "    </tr>\n",
       "    <tr>\n",
       "      <th>PHILADELPHIA AREA</th>\n",
       "      <td>245.0</td>\n",
       "      <td>998.303592</td>\n",
       "      <td>722.348164</td>\n",
       "      <td>133.63</td>\n",
       "      <td>558.7100</td>\n",
       "      <td>849.340</td>\n",
       "      <td>1154.6100</td>\n",
       "      <td>4819.91</td>\n",
       "    </tr>\n",
       "    <tr>\n",
       "      <th>SOUTH FLORIDA AREA</th>\n",
       "      <td>366.0</td>\n",
       "      <td>1167.546257</td>\n",
       "      <td>891.952255</td>\n",
       "      <td>118.62</td>\n",
       "      <td>582.0225</td>\n",
       "      <td>914.600</td>\n",
       "      <td>1451.2550</td>\n",
       "      <td>6954.07</td>\n",
       "    </tr>\n",
       "    <tr>\n",
       "      <th>SOUTHWEST AREA</th>\n",
       "      <td>584.0</td>\n",
       "      <td>1036.548630</td>\n",
       "      <td>914.475459</td>\n",
       "      <td>11.10</td>\n",
       "      <td>508.3275</td>\n",
       "      <td>802.025</td>\n",
       "      <td>1187.3275</td>\n",
       "      <td>8772.57</td>\n",
       "    </tr>\n",
       "    <tr>\n",
       "      <th>TENNESSEE AREA</th>\n",
       "      <td>268.0</td>\n",
       "      <td>1042.700597</td>\n",
       "      <td>886.731980</td>\n",
       "      <td>102.03</td>\n",
       "      <td>486.6800</td>\n",
       "      <td>832.400</td>\n",
       "      <td>1282.6150</td>\n",
       "      <td>6751.70</td>\n",
       "    </tr>\n",
       "  </tbody>\n",
       "</table>\n",
       "</div>"
      ],
      "text/plain": [
       "                               totrev                                    \\\n",
       "                                count         mean          std     min   \n",
       "area                                                                      \n",
       "ATLANTIC SOUTH AREA             592.0   903.497399   697.197572  106.95   \n",
       "CALIFORNIA NORTH AREA           599.0  1136.348013   922.069148  105.14   \n",
       "CENTRAL-SOUTH TEXAS AREA        409.0  1174.366577   920.804942   48.53   \n",
       "CHICAGO AREA                    496.0   892.133206   669.068444   59.90   \n",
       "DALLAS AREA                     518.0  1258.508784  1267.499852   84.59   \n",
       "DC-MARYLAND-VIRGINIA AREA       640.0   941.692188   634.132033   86.78   \n",
       "GREAT LAKES AREA                488.0   987.714324   733.521417  126.56   \n",
       "HOUSTON AREA                    458.0  1127.294127   999.987571   92.38   \n",
       "LOS ANGELES AREA                671.0  1031.714382   738.616227   96.74   \n",
       "MIDWEST AREA                    685.0  1095.678701   945.251868   90.42   \n",
       "NEW ENGLAND AREA                525.0   941.766038   705.572889  118.51   \n",
       "NEW YORK CITY AREA             1145.0  1076.263546   869.372842   74.01   \n",
       "NORTH FLORIDA AREA              442.0   895.489457   642.729028   37.39   \n",
       "NORTHWEST-ROCKY MOUNTAIN AREA   429.0  1083.179091   977.857935   67.80   \n",
       "OHIO AREA                       437.0  1006.616499   785.713223  107.12   \n",
       "PHILADELPHIA AREA               245.0   998.303592   722.348164  133.63   \n",
       "SOUTH FLORIDA AREA              366.0  1167.546257   891.952255  118.62   \n",
       "SOUTHWEST AREA                  584.0  1036.548630   914.475459   11.10   \n",
       "TENNESSEE AREA                  268.0  1042.700597   886.731980  102.03   \n",
       "\n",
       "                                                                       \n",
       "                                    25%      50%        75%       max  \n",
       "area                                                                   \n",
       "ATLANTIC SOUTH AREA            464.9875  718.370  1135.3050   8171.47  \n",
       "CALIFORNIA NORTH AREA          535.9900  892.340  1396.4550   7511.11  \n",
       "CENTRAL-SOUTH TEXAS AREA       594.3300  895.090  1374.5800   5848.39  \n",
       "CHICAGO AREA                   474.0675  718.855  1086.9250   5710.44  \n",
       "DALLAS AREA                    581.6975  965.650  1484.8500  13149.85  \n",
       "DC-MARYLAND-VIRGINIA AREA      525.7200  787.360  1191.5525   5029.68  \n",
       "GREAT LAKES AREA               503.7325  767.960  1211.8900   5624.71  \n",
       "HOUSTON AREA                   530.6400  892.180  1443.1400   8719.53  \n",
       "LOS ANGELES AREA               554.2650  836.770  1271.6150   6120.84  \n",
       "MIDWEST AREA                   553.0600  854.350  1338.6900  13426.60  \n",
       "NEW ENGLAND AREA               497.5700  747.130  1185.8000   6939.19  \n",
       "NEW YORK CITY AREA             562.3400  870.310  1297.9700  10590.01  \n",
       "NORTH FLORIDA AREA             481.5225  758.190  1134.1950   6009.01  \n",
       "NORTHWEST-ROCKY MOUNTAIN AREA  524.3700  805.020  1293.2200   7419.73  \n",
       "OHIO AREA                      512.0700  781.040  1230.5600   8007.95  \n",
       "PHILADELPHIA AREA              558.7100  849.340  1154.6100   4819.91  \n",
       "SOUTH FLORIDA AREA             582.0225  914.600  1451.2550   6954.07  \n",
       "SOUTHWEST AREA                 508.3275  802.025  1187.3275   8772.57  \n",
       "TENNESSEE AREA                 486.6800  832.400  1282.6150   6751.70  "
      ]
     },
     "execution_count": 85,
     "metadata": {},
     "output_type": "execute_result"
    }
   ],
   "source": [
    "df3[[\"area\",\"totrev\"]].groupby(\"area\").describe()"
   ]
  },
  {
   "cell_type": "markdown",
   "metadata": {},
   "source": [
    "Estos resultados son iguales a los realizados con el ciclo `for`. Los objetos de tipo `DataFrameGroupBy` permiten una rápida salida de generación de estadísticas para grupos de interés."
   ]
  },
  {
   "cell_type": "markdown",
   "metadata": {},
   "source": [
    "### Ejercicio 3\n",
    "\n",
    "Realice una agrupación por la variable creditcd_x y encuentre el valor de la desviación estándar"
   ]
  },
  {
   "cell_type": "code",
   "execution_count": null,
   "metadata": {},
   "outputs": [],
   "source": []
  },
  {
   "cell_type": "code",
   "execution_count": 86,
   "metadata": {},
   "outputs": [
    {
     "ename": "TypeError",
     "evalue": "Could not convert AltoMedioMedioBajoMedioMedioMedioMedioBajoMedioBajoMedioMedioMedioBajoMedioMedioMedioBajoAltoMedioMedioBajoMedioAltoMedioAltoBajoMedioAltoBajoAltoAltoBajoMedioMedioMedioAltoMedioMedioAltoBajoMedioMedioMedioMedioMedioAltoAltoMedioMedioBajoBajoBajoMedioAltoMedioAltoBajoBajoAltoAltoBajoAltoBajoBajoMedioBajoBajoMedioBajoMedioMedioMedioMedioAltoMedioBajoMedioAltoBajoBajoMedioBajoBajoBajoAltoMedioMedioAltoBajoBajoAltoAltoMedioMedioAltoAltoAltoBajoMedioMedioMedioBajoAltoMedioMedioMedioMedioBajoBajoBajoBajoAltoBajoBajoBajoMedioMedioMedioMedioBajoBajoMedioMedioBajoAltoAltoAltoAltoAltoMedioMedioAltoMedioMedioAltoMedioAltoAltoBajoMedioMedioAltoBajoAltoMedioBajoMedioMedioMedioBajoBajoBajoAltoMedioBajoBajoMedioBajoMedioAltoMedioAltoMedioMedioMedioBajoMedioMedioBajoMedioMedioAltoMedioMedioAltoAltoMedioMedioBajoBajoBajoMedioMedioBajoAltoMedioMedioAltoAltoMedioMedioBajoAltoMedioMedioBajoMedioBajoBajoMedioMedioMedioMedioAltoMedioMedioBajoAltoMedioMedioMedioMedioMedioAltoBajoMedioBajoMedioMedioBajoAltoMedioAltoMedioBajoMedioAltoBajoBajoAltoMedioMedioMedioAltoMedioBajoMedioBajoMedioBajoMedioMedioMedioMedioMedioMedioMedioBajoMedioBajoAltoMedioBajoAltoBajoMedioMedioMedioMedioAltoMedioMedioAltoMedioMedioMedioMedioMedioMedioMedioAltoBajoMedioAltoBajoBajoMedioAltoBajoMedioMedioMedioMedioBajoMedioAltoMedioAltoMedioMedioMedioAltoBajoBajoMedioBajoMedioMedioMedioMedioBajoMedioMedioMedioAltoMedioBajoAltoBajoMedioBajoMedioMedioBajoBajoBajoBajoMedioAltoBajoAltoBajoMedioMedioMedioAltoMedioAltoBajoMedioAltoAltoBajoMedioMedioMedioMedioMedioBajoBajoMedioBajoMedioMedioMedioBajoMedioMedioBajoBajoMedioMedioMedioBajoBajoAltoMedioMedioBajoMedioMedioMedioMedioMedioMedioMedioMedioMedioBajoMedioAltoMedioMedioMedioBajoMedioMedioBajoMedioMedioAltoAltoMedioBajoAltoAltoBajoMedioAltoBajoMedioMedioMedioMedioMedioBajoAltoAltoMedioAltoAltoMedioMedioMedioMedioBajoMedioBajoAltoBajoBajoBajoBajoBajoAltoBajoBajoBajoMedioMedioMedioBajoAltoMedioMedioMedioMedioMedioMedioBajoAltoBajoMedioMedioBajoBajoMedioMedioAltoMedioBajoMedioAltoMedioMedioMedioMedioMedioMedioMedioMedioMedioBajoBajoMedioMedioMedioAltoMedioMedioMedioBajoBajoBajoBajoBajoBajoAltoMedioAltoMedioMedioMedioMedioAltoMedioBajoMedioBajoBajoMedioAltoMedioAltoMedioMedioBajoMedioMedioMedioBajoMedioMedioAltoMedioBajoMedioBajoMedioMedioBajoMedioAltoAltoMedioAltoAltoBajoAltoMedioMedioMedioMedioMedioBajoBajoAltoMedioMedioMedioAltoBajoBajoAltoBajoMedioMedioMedioMedioBajoBajoMedioBajoBajoMedioBajoMedioMedioAltoBajoAltoBajoAltoMedioMedioMedioMedioAltoMedioBajoMedioBajoBajoBajoMedioAltoMedioBajoMedioMedioMedioMedioMedioMedioBajoAltoMedioAltoMedioBajoMedioMedioBajoAltoMedioMedioBajoBajoMedioMedioMedioMedioBajoMedioBajoMedioMedioMedioBajoMedioMedioAltoMedioMedioBajoBajoMedioMedioMedioMedioMedioMedioBajoBajoBajoMedioAltoBajoMedioMedioMedioMedioAltoMedioMedioAltoMedioMedioMedioBajoBajoAltoBajoBajoAltoAltoBajoMedioMedioBajoMedioAltoBajoBajoMedioAltoMedioMedioBajoBajoMedioMedioBajoMedioBajoMedioAltoAltoMedioBajoMedioMedioMedioMedioAltoAltoAltoBajoMedioMedioMedioAltoMedioMedioMedioAltoMedioMedioBajoMedioBajoMedioAltoMedioBajoBajoAltoMedioBajoBajoMedioAltoMedioMedioAltoMedioAltoBajoMedioBajoMedioMedioBajoAltoMedioBajoMedioBajoMedioMedioMedioMedioBajoMedioMedioMedioAltoAltoAltoMedioBajoBajoAltoBajoMedioMedioBajoAltoMedioBajoMedioMedioMedioBajoMedioAltoAltoAltoMedioMedioBajoMedioMedioAltoBajoMedioMedioMedioBajoMedioMedioMedioMedioMedioBajoBajoAltoMedioAltoMedioMedioMedioMedioMedioAltoAltoMedioBajoMedioAltoMedioMedioBajoBajoMedioBajoMedioMedioMedioMedioAltoMedioBajoAltoMedioBajoAltoAltoBajoMedioMedioMedioAltoMedioBajoAltoMedioAltoAltoAltoMedioAltoBajoMedioBajoAltoMedioBajoAltoBajoAltoBajoMedioBajoBajoBajoMedioBajoMedioBajoBajoMedioBajoMedioAltoBajoMedioBajoBajoBajoMedioMedioMedioBajoBajoAltoAltoBajoAltoAltoAltoBajoBajoMedioAltoAltoBajoMedioMedioMedioBajoAltoMedioBajoMedioMedioMedioBajoAltoMedioBajoMedioAltoMedioAltoMedioMedioMedioAltoBajoMedioAltoMedioBajoBajoMedioAltoMedioAltoAltoMedioMedioMedioMedioMedioMedioBajoMedioAltoMedioAltoMedioMedioAltoBajoMedioMedioBajoBajoMedioMedioMedioMedioMedioMedioBajoMedioBajoMedioAltoMedioMedioBajoBajoAltoBajoAltoBajoBajoMedioMedioMedioBajoMedioMedioMedioMedioMedioAltoMedioMedioMedioAltoMedioMedioAltoMedioMedioMedioBajoMedioBajoMedioBajoAltoAltoMedioMedioBajoAltoMedioAltoAltoMedioMedioMedioMedioBajoAltoMedioAltoMedioBajoBajoMedioMedioAltoBajoMedioMedioMedioMedioMedioBajoBajoMedioAltoMedioMedioMedioMedioMedioMedioMedioMedioBajoBajoAltoMedioAltoBajoMedioMedioMedioMedioBajoAltoBajoMedioAltoBajoMedioBajoMedioMedioAltoMedioMedioMedioBajoBajoMedioBajoAltoAltoBajoBajoBajoMedioMedioMedioBajoAltoMedioMedioBajoMedioAltoMedioBajoAltoBajoBajoBajoMedioBajoAltoMedioMedioAltoMedioMedioMedioAltoMedioMedioBajoBajoAltoBajoBajoBajoAltoMedioMedioMedioMedioAltoMedioBajoMedioBajoMedioMedioBajoMedioMedioAltoAltoMedioBajoAltoBajoAltoMedioMedioBajoMedioMedioBajoBajoAltoMedioMedioBajoAltoAltoAltoBajoBajoMedioBajoAltoMedioBajoBajoAltoBajoAltoAltoBajoMedioMedioMedioMedioBajoMedioMedioBajoAltoBajoBajoAltoMedioMedioAltoMedioBajoMedioMedioMedioAltoBajoMedioBajoMedioMedioBajoBajoMedioBajoBajoAltoMedioMedioAltoBajoMedioBajoMedioBajoMedioMedioMedioBajoBajoBajoMedioMedioBajoMedioAltoMedioMedioMedioMedioMedioAltoMedioBajoMedioAltoMedioMedioAltoMedioMedioMedioMedioAltoMedioBajoMedioBajoMedioMedioMedioAltoBajoMedioMedioBajoBajoAltoMedioMedioBajoBajoMedioMedioMedioMedioAltoAltoMedioBajoAltoBajoBajoMedioMedioMedioMedioBajoBajoAltoMedioAltoMedioMedioAltoBajoBajoBajoBajoMedioBajoBajoBajoMedioBajoAltoBajoBajoAltoAltoAltoMedioBajoMedioMedioAltoAltoAltoBajoMedioAltoAltoMedioMedioMedioBajoAltoBajoAltoAltoAltoMedioMedioMedioMedioMedioMedioBajoMedioBajoBajoBajoMedioMedioAltoAltoBajoAltoAltoBajoMedioMedioAltoMedioMedioAltoMedioBajoMedioBajoMedioBajoAltoMedioBajoMedioBajoBajoBajoMedioAltoBajoBajoMedioAltoMedioAltoAltoAltoBajoMedioMedioMedioBajoAltoMedioMedioAltoMedioMedioMedioMedioBajoBajoAltoMedioBajoBajoBajoBajoMedioBajoAltoBajoMedioMedioAltoBajoMedioAltoMedioMedioBajoMedioMedioBajoMedioAltoBajoAltoMedioMedioMedioBajoMedioBajoMedioAltoMedioMedioMedioMedioMedioMedioAltoBajoMedioBajoAltoMedioMedioAltoAltoMedioAltoAltoAltoMedioMedioAltoMedioAltoMedioBajoMedioAltoBajoBajoBajoAltoMedioMedioBajoMedioMedioAltoBajoAltoMedioMedioMedioBajoMedioMedioAltoAltoBajoAltoAltoMedioMedioMedioMedioMedioMedioBajoMedioBajoMedioBajoMedioMedioMedioMedioAltoMedioMedioBajoMedioMedioMedioBajoMedioMedioMedioMedioBajoBajoMedioBajoAltoBajoBajoMedioMedioMedioMedioMedioMedioBajoAltoBajoMedioAltoMedioMedioMedioBajoMedioBajoMedioMedioMedioBajoBajoBajoBajoMedioBajoMedioBajoMedioMedioAltoMedioAltoMedioBajoAltoAltoBajoMedioMedioMedioMedioBajoAltoBajoMedioBajoMedioBajoAltoBajoMedioAltoAltoMedioBajoMedioBajoAltoMedioMedioBajoAltoMedioBajoBajoMedioAltoMedioMedioAltoMedioMedioMedioMedioMedioMedioMedioAltoBajoMedioMedioMedioAltoAltoMedioBajoMedioAltoAltoMedioMedioBajoMedioAltoMedioBajoMedioMedioAltoAltoMedioMedioAltoAltoAltoAltoMedioBajoBajoMedioMedioBajoAltoMedioBajoAltoMedioBajoMedioBajoAltoMedioBajoMedioBajoMedioAltoMedioAltoMedioAltoBajoBajoMedioBajoMedioMedioMedioMedioMedioBajoMedioMedioBajoMedioAltoBajoBajoMedioMedioMedioAltoMedioBajoMedioAltoMedioBajoMedioBajoBajoBajoMedioBajoBajoMedioAltoMedioMedioMedioBajoMedioBajoMedioMedioMedioBajoMedioMedioAltoMedioMedioMedioMedioMedioBajoMedioMedioAltoBajoMedioBajoMedioAltoBajoMedioMedioBajoMedioMedioBajoBajoAltoBajoMedioMedioMedioAltoMedioMedioMedioMedioMedioAltoMedioBajoBajoMedioBajoMedioAltoMedioMedioBajoMedioAltoAltoBajoAltoMedioBajoBajoMedioAltoMedioMedioBajoAltoAltoMedioMedioMedioBajoMedioBajoBajoAltoMedioAltoAltoMedioMedioAltoBajoMedioMedioBajoMedioAltoBajoBajoMedioMedioMedioMedioMedioBajoMedioMedioAltoMedioMedioMedioMedioBajoBajoMedioAltoAltoMedioMedioMedioMedioBajoBajoMedioAltoMedioMedioAltoAltoBajoMedioAltoMedioBajoBajoMedioAltoMedioMedioMedioMedioMedioBajoAltoMedioMedioMedioMedioAltoMedioAltoMedioAltoMedioBajoAltoBajoMedioBajoMedioBajoBajoAltoMedioBajoAltoMedioBajoMedioMedioBajoAltoMedioMedioMedioBajoBajoBajoBajoBajoMedioMedioBajoBajoBajoAltoBajoBajoMedioAltoMedioMedioMedioMedioMedioBajoMedioBajoMedioBajoMedioBajoBajoBajoMedioMedioMedioAltoBajoMedioAltoBajoMedioAltoMedioBajoMedioAltoMedioMedioMedioMedioMedioBajoBajoMedioBajoBajoBajoMedioAltoMedioBajoMedioMedioAltoMedioBajoMedioBajoMedioBajoMedioMedioAltoMedioMedioMedioBajoMedioBajoBajoBajoMedioMedioMedioAltoBajoAltoBajoAltoMedioBajoMedioMedioBajoMedioAltoAltoBajoBajoMedioBajoBajoMedioMedioMedioAltoMedioMedioMedioMedioMedioBajoBajoAltoMedioBajoMedioAltoMedioMedioBajoMedioMedioMedioBajoMedioAltoBajoMedioMedioMedioMedioBajoMedioMedioAltoMedioMedioMedioMedioMedioMedioAltoBajoAltoBajoBajoBajoBajoAltoAltoAltoAltoMedioBajoMedioBajoMedioBajoMedioMedioBajoAltoAltoAltoAltoAltoBajoMedioBajoMedioMedioAltoMedioMedioMedioMedioMedioMedioBajoMedioMedioBajoMedioBajoMedioMedioMedioBajoMedioMedioBajoBajoBajoMedioBajoBajoAltoMedioMedioMedioAltoMedioMedioAltoMedioMedioAltoBajoAltoMedioAltoAltoAltoMedioAltoMedioMedioMedioMedioMedioBajoAltoMedioMedioMedioAltoAltoMedioMedioAltoMedioBajoMedioMedioMedioMedioAltoMedioMedioMedioMedioBajoAltoBajoBajoBajoBajoBajoAltoMedioBajoBajoMedioMedioMedioBajoMedioBajoMedioAltoMedioMedioMedioAltoAltoBajoMedioBajoAltoMedioMedioBajoMedioMedioBajoMedioMedioMedioMedioAltoAltoAltoMedioBajoAltoAltoAltoAltoAltoMedioMedioAltoMedioAltoMedioMedioBajoBajoBajoAltoBajoAltoAltoAltoMedioAltoMedioAltoMedioBajoBajoMedioBajoBajoBajoAltoMedioMedioMedioAltoBajoMedioBajoAltoMedioMedioBajoMedioMedioBajoBajoBajoBajoMedioBajoMedioMedioBajoMedioAltoMedioMedioMedioMedioMedioMedioMedioAltoBajoBajoBajoBajoBajoMedioAltoMedioMedioMedioBajoBajoBajoMedioAltoAltoMedioMedioAltoMedioBajoMedioBajoAltoAltoBajoBajoMedioAltoAltoMedioBajoAltoMedioMedioMedioAltoMedioBajoMedioBajoBajoMedioBajoBajoAltoMedioMedioMedioBajoMedioMedioBajoMedioMedioBajoMedioMedioMedioMedioBajoMedioAltoAltoMedioMedioMedioAltoMedioAltoBajoMedioBajoBajoMedioAltoBajoMedioMedioMedioMedioMedioBajoMedioMedioMedioBajoBajoBajoMedioAltoMedioMedioAltoMedioMedioAltoMedioMedioMedioAltoBajoAltoMedioAltoBajoBajoAltoAltoAltoAltoMedioMedioBajoMedioMedioBajoAltoMedioAltoAltoMedioBajoBajoMedioBajoAltoMedioBajoMedioBajoAltoBajoMedioMedioBajoMedioMedioAltoMedioBajoAltoMedioBajoMedioMedioAltoMedioMedioMedioMedioMedioAltoMedioMedioBajoAltoMedioBajoMedioMedioMedioMedioAltoMedioAltoMedioMedioBajoBajoMedioMedioMedioMedioMedioMedioMedioAltoBajoMedioMedioMedioMedioBajoMedioMedioAltoAltoMedioMedioBajoAltoBajoBajoAltoBajoMedioBajoMedioBajoBajoMedioAltoBajoMedioMedioMedioBajoMedioMedioAltoMedioAltoMedioMedioMedioMedioMedioMedioMedioMedioMedioMedioMedioAltoBajoBajoMedioBajoAltoBajoMedioMedioMedioMedioMedioMedioAltoBajoMedioBajoAltoBajoBajoBajoMedioMedioMedioMedioBajoMedioBajoAltoBajoMedioMedioBajoAltoMedioMedioBajoMedioBajoBajoBajoAltoBajoMedioAltoBajoMedioMedioMedioMedioBajoMedioMedioBajoBajoMedioMedioAltoMedioBajoBajoMedioBajoMedioBajoBajoBajoBajoBajoBajoMedioMedioMedioMedioMedioMedioMedioAltoMedioMedioMedioMedioBajoMedioBajoBajoBajoBajoMedioAltoMedioBajoMedioMedioMedioMedioBajoMedioMedioMedioBajoBajoAltoMedioMedioBajoBajoMedioMedioMedioAltoMedioMedioAltoMedioBajoBajoMedioMedioAltoBajoAltoMedioMedioBajoAltoMedioMedioBajoBajoMedioAltoBajoMedioAltoMedioAltoBajoMedioMedioBajoMedioBajoAltoMedioBajoBajoMedioBajoBajoMedioBajoBajoBajoBajoMedioAltoAltoMedioAltoAltoMedioMedioMedioMedioMedioBajoMedioMedioMedioBajoAltoAltoMedioMedioBajoMedioMedioAltoMedioMedioBajoAltoMedioMedioMedioMedioMedioMedioMedioMedioMedioAltoAltoMedioMedioBajoAltoBajoMedioBajoMedioMedioBajoMedioMedioAltoBajoBajoMedioMedioMedioMedioMedioMedioAltoMedioMedioMedioAltoBajoBajoBajoBajoMedioMedioBajoBajoMedioAltoBajoBajoAltoMedioAltoMedioMedioAltoBajoAltoMedioBajoMedioMedioMedioBajoMedioMedioAltoAltoAltoAltoBajoBajoMedioBajoMedioAltoBajoMedioBajoAltoMedioBajoMedioMedioMedioMedioAltoBajoAltoMedioBajoAltoMedioMedioMedioMedioBajoBajoMedioMedioMedioMedioBajoBajoAltoMedioMedioBajoMedioBajoMedioBajoMedioAltoMedioBajoMedioMedioMedioMedioBajoBajoMedioBajoBajoMedioMedioMedioAltoMedioMedioBajoMedioAltoAltoAltoAltoAltoBajoMedioAltoAltoMedioMedioAltoMedioMedioBajoMedioBajoMedioMedioMedioAltoAltoMedioMedioBajoMedioBajoMedioMedioMedioAltoMedioAltoBajoBajoMedioMedioMedioBajoMedioMedioMedioMedioMedioMedioMedioMedioMedioAltoAltoMedioBajoMedioMedioAltoMedioAltoAltoBajoBajoMedioMedioBajoMedioMedioMedioAltoAltoBajoMedioMedioBajoBajoBajoMedioMedioBajoAltoBajoMedioMedioMedioMedioMedioMedioMedioBajoMedioMedioMedioMedioBajoMedioMedioBajoBajoMedioMedioBajoMedioAltoMedioMedioMedioMedioBajoMedioMedioMedioMedioMedioMedioAltoBajoBajoAltoBajoAltoMedioMedioBajoMedioAltoMedioBajoBajoMedioMedioMedioBajoBajoMedioMedioBajoAltoMedioMedioMedioMedioAltoBajoMedioMedioAltoBajoMedioMedioBajoMedioBajoMedioMedioBajoMedioAltoMedioMedioMedioAltoMedioMedioMedioAltoAltoMedioBajoAltoAltoAltoMedioMedioBajoAltoMedioBajoMedioMedioAltoMedioMedioMedioMedioBajoBajoAltoMedioAltoMedioMedioAltoMedioAltoMedioAltoBajoMedioBajoMedioBajoMedioMedioMedioBajoBajoMedioAltoBajoMedioBajoAltoBajoMedioMedioBajoMedioBajoAltoMedioMedioMedioBajoMedioBajoMedioMedioAltoMedioMedioMedioBajoBajoMedioAltoMedioMedioBajoAltoBajoMedioMedioAltoMedioBajoBajoBajoAltoMedioBajoMedioBajoMedioAltoBajoMedioBajoAltoBajoAltoBajoMedioMedioAltoBajoMedioBajoBajoBajoMedioBajoBajoBajoAltoAltoMedioBajoMedioMedioMedioAltoBajoMedioBajoMedioAltoMedioBajoAltoMedioMedioMedioBajoBajoMedioMedioAltoMedioMedioMedioBajoMedioMedioAltoMedioAltoAltoMedioMedioAltoMedioBajoAltoMedioBajoMedioMedioMedioBajoMedioAltoAltoAltoBajoBajoMedioBajoBajoMedioAltoMedioMedioMedioAltoAltoMedioMedioMedioMedioBajoMedioMedioBajoBajoMedioBajoBajoBajoMedioAltoMedioMedioMedioMedioMedioAltoBajoBajoAltoBajoMedioBajoAltoBajoBajoBajoBajoAltoMedioBajoAltoAltoMedioMedioAltoMedioMedioBajoMedioMedioBajoAltoBajoMedioAltoAltoMedioAltoMedioAltoMedioAltoBajoMedioMedioMedioMedioMedioMedioMedioMedioAltoMedioMedioBajoBajoAltoMedioMedio to numeric",
     "output_type": "error",
     "traceback": [
      "\u001b[1;31m---------------------------------------------------------------------------\u001b[0m",
      "\u001b[1;31mNotImplementedError\u001b[0m                       Traceback (most recent call last)",
      "File \u001b[1;32m~\\AppData\\Local\\Packages\\PythonSoftwareFoundation.Python.3.11_qbz5n2kfra8p0\\LocalCache\\local-packages\\Python311\\site-packages\\pandas\\core\\groupby\\groupby.py:1490\u001b[0m, in \u001b[0;36mGroupBy._cython_agg_general.<locals>.array_func\u001b[1;34m(values)\u001b[0m\n\u001b[0;32m   1489\u001b[0m \u001b[38;5;28;01mtry\u001b[39;00m:\n\u001b[1;32m-> 1490\u001b[0m     result \u001b[38;5;241m=\u001b[39m \u001b[38;5;28;43mself\u001b[39;49m\u001b[38;5;241;43m.\u001b[39;49m\u001b[43mgrouper\u001b[49m\u001b[38;5;241;43m.\u001b[39;49m\u001b[43m_cython_operation\u001b[49m\u001b[43m(\u001b[49m\n\u001b[0;32m   1491\u001b[0m \u001b[43m        \u001b[49m\u001b[38;5;124;43m\"\u001b[39;49m\u001b[38;5;124;43maggregate\u001b[39;49m\u001b[38;5;124;43m\"\u001b[39;49m\u001b[43m,\u001b[49m\n\u001b[0;32m   1492\u001b[0m \u001b[43m        \u001b[49m\u001b[43mvalues\u001b[49m\u001b[43m,\u001b[49m\n\u001b[0;32m   1493\u001b[0m \u001b[43m        \u001b[49m\u001b[43mhow\u001b[49m\u001b[43m,\u001b[49m\n\u001b[0;32m   1494\u001b[0m \u001b[43m        \u001b[49m\u001b[43maxis\u001b[49m\u001b[38;5;241;43m=\u001b[39;49m\u001b[43mdata\u001b[49m\u001b[38;5;241;43m.\u001b[39;49m\u001b[43mndim\u001b[49m\u001b[43m \u001b[49m\u001b[38;5;241;43m-\u001b[39;49m\u001b[43m \u001b[49m\u001b[38;5;241;43m1\u001b[39;49m\u001b[43m,\u001b[49m\n\u001b[0;32m   1495\u001b[0m \u001b[43m        \u001b[49m\u001b[43mmin_count\u001b[49m\u001b[38;5;241;43m=\u001b[39;49m\u001b[43mmin_count\u001b[49m\u001b[43m,\u001b[49m\n\u001b[0;32m   1496\u001b[0m \u001b[43m        \u001b[49m\u001b[38;5;241;43m*\u001b[39;49m\u001b[38;5;241;43m*\u001b[39;49m\u001b[43mkwargs\u001b[49m\u001b[43m,\u001b[49m\n\u001b[0;32m   1497\u001b[0m \u001b[43m    \u001b[49m\u001b[43m)\u001b[49m\n\u001b[0;32m   1498\u001b[0m \u001b[38;5;28;01mexcept\u001b[39;00m \u001b[38;5;167;01mNotImplementedError\u001b[39;00m:\n\u001b[0;32m   1499\u001b[0m     \u001b[38;5;66;03m# generally if we have numeric_only=False\u001b[39;00m\n\u001b[0;32m   1500\u001b[0m     \u001b[38;5;66;03m# and non-applicable functions\u001b[39;00m\n\u001b[0;32m   1501\u001b[0m     \u001b[38;5;66;03m# try to python agg\u001b[39;00m\n\u001b[0;32m   1502\u001b[0m     \u001b[38;5;66;03m# TODO: shouldn't min_count matter?\u001b[39;00m\n",
      "File \u001b[1;32m~\\AppData\\Local\\Packages\\PythonSoftwareFoundation.Python.3.11_qbz5n2kfra8p0\\LocalCache\\local-packages\\Python311\\site-packages\\pandas\\core\\groupby\\ops.py:959\u001b[0m, in \u001b[0;36mBaseGrouper._cython_operation\u001b[1;34m(self, kind, values, how, axis, min_count, **kwargs)\u001b[0m\n\u001b[0;32m    958\u001b[0m ngroups \u001b[38;5;241m=\u001b[39m \u001b[38;5;28mself\u001b[39m\u001b[38;5;241m.\u001b[39mngroups\n\u001b[1;32m--> 959\u001b[0m \u001b[38;5;28;01mreturn\u001b[39;00m \u001b[43mcy_op\u001b[49m\u001b[38;5;241;43m.\u001b[39;49m\u001b[43mcython_operation\u001b[49m\u001b[43m(\u001b[49m\n\u001b[0;32m    960\u001b[0m \u001b[43m    \u001b[49m\u001b[43mvalues\u001b[49m\u001b[38;5;241;43m=\u001b[39;49m\u001b[43mvalues\u001b[49m\u001b[43m,\u001b[49m\n\u001b[0;32m    961\u001b[0m \u001b[43m    \u001b[49m\u001b[43maxis\u001b[49m\u001b[38;5;241;43m=\u001b[39;49m\u001b[43maxis\u001b[49m\u001b[43m,\u001b[49m\n\u001b[0;32m    962\u001b[0m \u001b[43m    \u001b[49m\u001b[43mmin_count\u001b[49m\u001b[38;5;241;43m=\u001b[39;49m\u001b[43mmin_count\u001b[49m\u001b[43m,\u001b[49m\n\u001b[0;32m    963\u001b[0m \u001b[43m    \u001b[49m\u001b[43mcomp_ids\u001b[49m\u001b[38;5;241;43m=\u001b[39;49m\u001b[43mids\u001b[49m\u001b[43m,\u001b[49m\n\u001b[0;32m    964\u001b[0m \u001b[43m    \u001b[49m\u001b[43mngroups\u001b[49m\u001b[38;5;241;43m=\u001b[39;49m\u001b[43mngroups\u001b[49m\u001b[43m,\u001b[49m\n\u001b[0;32m    965\u001b[0m \u001b[43m    \u001b[49m\u001b[38;5;241;43m*\u001b[39;49m\u001b[38;5;241;43m*\u001b[39;49m\u001b[43mkwargs\u001b[49m\u001b[43m,\u001b[49m\n\u001b[0;32m    966\u001b[0m \u001b[43m\u001b[49m\u001b[43m)\u001b[49m\n",
      "File \u001b[1;32m~\\AppData\\Local\\Packages\\PythonSoftwareFoundation.Python.3.11_qbz5n2kfra8p0\\LocalCache\\local-packages\\Python311\\site-packages\\pandas\\core\\groupby\\ops.py:657\u001b[0m, in \u001b[0;36mWrappedCythonOp.cython_operation\u001b[1;34m(self, values, axis, min_count, comp_ids, ngroups, **kwargs)\u001b[0m\n\u001b[0;32m    649\u001b[0m     \u001b[38;5;28;01mreturn\u001b[39;00m \u001b[38;5;28mself\u001b[39m\u001b[38;5;241m.\u001b[39m_ea_wrap_cython_operation(\n\u001b[0;32m    650\u001b[0m         values,\n\u001b[0;32m    651\u001b[0m         min_count\u001b[38;5;241m=\u001b[39mmin_count,\n\u001b[1;32m   (...)\u001b[0m\n\u001b[0;32m    654\u001b[0m         \u001b[38;5;241m*\u001b[39m\u001b[38;5;241m*\u001b[39mkwargs,\n\u001b[0;32m    655\u001b[0m     )\n\u001b[1;32m--> 657\u001b[0m \u001b[38;5;28;01mreturn\u001b[39;00m \u001b[38;5;28;43mself\u001b[39;49m\u001b[38;5;241;43m.\u001b[39;49m\u001b[43m_cython_op_ndim_compat\u001b[49m\u001b[43m(\u001b[49m\n\u001b[0;32m    658\u001b[0m \u001b[43m    \u001b[49m\u001b[43mvalues\u001b[49m\u001b[43m,\u001b[49m\n\u001b[0;32m    659\u001b[0m \u001b[43m    \u001b[49m\u001b[43mmin_count\u001b[49m\u001b[38;5;241;43m=\u001b[39;49m\u001b[43mmin_count\u001b[49m\u001b[43m,\u001b[49m\n\u001b[0;32m    660\u001b[0m \u001b[43m    \u001b[49m\u001b[43mngroups\u001b[49m\u001b[38;5;241;43m=\u001b[39;49m\u001b[43mngroups\u001b[49m\u001b[43m,\u001b[49m\n\u001b[0;32m    661\u001b[0m \u001b[43m    \u001b[49m\u001b[43mcomp_ids\u001b[49m\u001b[38;5;241;43m=\u001b[39;49m\u001b[43mcomp_ids\u001b[49m\u001b[43m,\u001b[49m\n\u001b[0;32m    662\u001b[0m \u001b[43m    \u001b[49m\u001b[43mmask\u001b[49m\u001b[38;5;241;43m=\u001b[39;49m\u001b[38;5;28;43;01mNone\u001b[39;49;00m\u001b[43m,\u001b[49m\n\u001b[0;32m    663\u001b[0m \u001b[43m    \u001b[49m\u001b[38;5;241;43m*\u001b[39;49m\u001b[38;5;241;43m*\u001b[39;49m\u001b[43mkwargs\u001b[49m\u001b[43m,\u001b[49m\n\u001b[0;32m    664\u001b[0m \u001b[43m\u001b[49m\u001b[43m)\u001b[49m\n",
      "File \u001b[1;32m~\\AppData\\Local\\Packages\\PythonSoftwareFoundation.Python.3.11_qbz5n2kfra8p0\\LocalCache\\local-packages\\Python311\\site-packages\\pandas\\core\\groupby\\ops.py:497\u001b[0m, in \u001b[0;36mWrappedCythonOp._cython_op_ndim_compat\u001b[1;34m(self, values, min_count, ngroups, comp_ids, mask, result_mask, **kwargs)\u001b[0m\n\u001b[0;32m    495\u001b[0m     \u001b[38;5;28;01mreturn\u001b[39;00m res\u001b[38;5;241m.\u001b[39mT\n\u001b[1;32m--> 497\u001b[0m \u001b[38;5;28;01mreturn\u001b[39;00m \u001b[38;5;28;43mself\u001b[39;49m\u001b[38;5;241;43m.\u001b[39;49m\u001b[43m_call_cython_op\u001b[49m\u001b[43m(\u001b[49m\n\u001b[0;32m    498\u001b[0m \u001b[43m    \u001b[49m\u001b[43mvalues\u001b[49m\u001b[43m,\u001b[49m\n\u001b[0;32m    499\u001b[0m \u001b[43m    \u001b[49m\u001b[43mmin_count\u001b[49m\u001b[38;5;241;43m=\u001b[39;49m\u001b[43mmin_count\u001b[49m\u001b[43m,\u001b[49m\n\u001b[0;32m    500\u001b[0m \u001b[43m    \u001b[49m\u001b[43mngroups\u001b[49m\u001b[38;5;241;43m=\u001b[39;49m\u001b[43mngroups\u001b[49m\u001b[43m,\u001b[49m\n\u001b[0;32m    501\u001b[0m \u001b[43m    \u001b[49m\u001b[43mcomp_ids\u001b[49m\u001b[38;5;241;43m=\u001b[39;49m\u001b[43mcomp_ids\u001b[49m\u001b[43m,\u001b[49m\n\u001b[0;32m    502\u001b[0m \u001b[43m    \u001b[49m\u001b[43mmask\u001b[49m\u001b[38;5;241;43m=\u001b[39;49m\u001b[43mmask\u001b[49m\u001b[43m,\u001b[49m\n\u001b[0;32m    503\u001b[0m \u001b[43m    \u001b[49m\u001b[43mresult_mask\u001b[49m\u001b[38;5;241;43m=\u001b[39;49m\u001b[43mresult_mask\u001b[49m\u001b[43m,\u001b[49m\n\u001b[0;32m    504\u001b[0m \u001b[43m    \u001b[49m\u001b[38;5;241;43m*\u001b[39;49m\u001b[38;5;241;43m*\u001b[39;49m\u001b[43mkwargs\u001b[49m\u001b[43m,\u001b[49m\n\u001b[0;32m    505\u001b[0m \u001b[43m\u001b[49m\u001b[43m)\u001b[49m\n",
      "File \u001b[1;32m~\\AppData\\Local\\Packages\\PythonSoftwareFoundation.Python.3.11_qbz5n2kfra8p0\\LocalCache\\local-packages\\Python311\\site-packages\\pandas\\core\\groupby\\ops.py:541\u001b[0m, in \u001b[0;36mWrappedCythonOp._call_cython_op\u001b[1;34m(self, values, min_count, ngroups, comp_ids, mask, result_mask, **kwargs)\u001b[0m\n\u001b[0;32m    540\u001b[0m out_shape \u001b[38;5;241m=\u001b[39m \u001b[38;5;28mself\u001b[39m\u001b[38;5;241m.\u001b[39m_get_output_shape(ngroups, values)\n\u001b[1;32m--> 541\u001b[0m func \u001b[38;5;241m=\u001b[39m \u001b[38;5;28;43mself\u001b[39;49m\u001b[38;5;241;43m.\u001b[39;49m\u001b[43m_get_cython_function\u001b[49m\u001b[43m(\u001b[49m\u001b[38;5;28;43mself\u001b[39;49m\u001b[38;5;241;43m.\u001b[39;49m\u001b[43mkind\u001b[49m\u001b[43m,\u001b[49m\u001b[43m \u001b[49m\u001b[38;5;28;43mself\u001b[39;49m\u001b[38;5;241;43m.\u001b[39;49m\u001b[43mhow\u001b[49m\u001b[43m,\u001b[49m\u001b[43m \u001b[49m\u001b[43mvalues\u001b[49m\u001b[38;5;241;43m.\u001b[39;49m\u001b[43mdtype\u001b[49m\u001b[43m,\u001b[49m\u001b[43m \u001b[49m\u001b[43mis_numeric\u001b[49m\u001b[43m)\u001b[49m\n\u001b[0;32m    542\u001b[0m values \u001b[38;5;241m=\u001b[39m \u001b[38;5;28mself\u001b[39m\u001b[38;5;241m.\u001b[39m_get_cython_vals(values)\n",
      "File \u001b[1;32m~\\AppData\\Local\\Packages\\PythonSoftwareFoundation.Python.3.11_qbz5n2kfra8p0\\LocalCache\\local-packages\\Python311\\site-packages\\pandas\\core\\groupby\\ops.py:173\u001b[0m, in \u001b[0;36mWrappedCythonOp._get_cython_function\u001b[1;34m(cls, kind, how, dtype, is_numeric)\u001b[0m\n\u001b[0;32m    171\u001b[0m \u001b[38;5;28;01mif\u001b[39;00m \u001b[38;5;124m\"\u001b[39m\u001b[38;5;124mobject\u001b[39m\u001b[38;5;124m\"\u001b[39m \u001b[38;5;129;01mnot\u001b[39;00m \u001b[38;5;129;01min\u001b[39;00m f\u001b[38;5;241m.\u001b[39m__signatures__:\n\u001b[0;32m    172\u001b[0m     \u001b[38;5;66;03m# raise NotImplementedError here rather than TypeError later\u001b[39;00m\n\u001b[1;32m--> 173\u001b[0m     \u001b[38;5;28;01mraise\u001b[39;00m \u001b[38;5;167;01mNotImplementedError\u001b[39;00m(\n\u001b[0;32m    174\u001b[0m         \u001b[38;5;124mf\u001b[39m\u001b[38;5;124m\"\u001b[39m\u001b[38;5;124mfunction is not implemented for this dtype: \u001b[39m\u001b[38;5;124m\"\u001b[39m\n\u001b[0;32m    175\u001b[0m         \u001b[38;5;124mf\u001b[39m\u001b[38;5;124m\"\u001b[39m\u001b[38;5;124m[how->\u001b[39m\u001b[38;5;132;01m{\u001b[39;00mhow\u001b[38;5;132;01m}\u001b[39;00m\u001b[38;5;124m,dtype->\u001b[39m\u001b[38;5;132;01m{\u001b[39;00mdtype_str\u001b[38;5;132;01m}\u001b[39;00m\u001b[38;5;124m]\u001b[39m\u001b[38;5;124m\"\u001b[39m\n\u001b[0;32m    176\u001b[0m     )\n\u001b[0;32m    177\u001b[0m \u001b[38;5;28;01mreturn\u001b[39;00m f\n",
      "\u001b[1;31mNotImplementedError\u001b[0m: function is not implemented for this dtype: [how->mean,dtype->object]",
      "\nDuring handling of the above exception, another exception occurred:\n",
      "\u001b[1;31mValueError\u001b[0m                                Traceback (most recent call last)",
      "File \u001b[1;32m~\\AppData\\Local\\Packages\\PythonSoftwareFoundation.Python.3.11_qbz5n2kfra8p0\\LocalCache\\local-packages\\Python311\\site-packages\\pandas\\core\\nanops.py:1692\u001b[0m, in \u001b[0;36m_ensure_numeric\u001b[1;34m(x)\u001b[0m\n\u001b[0;32m   1691\u001b[0m \u001b[38;5;28;01mtry\u001b[39;00m:\n\u001b[1;32m-> 1692\u001b[0m     x \u001b[38;5;241m=\u001b[39m \u001b[38;5;28mfloat\u001b[39m(x)\n\u001b[0;32m   1693\u001b[0m \u001b[38;5;28;01mexcept\u001b[39;00m (\u001b[38;5;167;01mTypeError\u001b[39;00m, \u001b[38;5;167;01mValueError\u001b[39;00m):\n\u001b[0;32m   1694\u001b[0m     \u001b[38;5;66;03m# e.g. \"1+1j\" or \"foo\"\u001b[39;00m\n",
      "\u001b[1;31mValueError\u001b[0m: could not convert string to float: 'AltoMedioMedioBajoMedioMedioMedioMedioBajoMedioBajoMedioMedioMedioBajoMedioMedioMedioBajoAltoMedioMedioBajoMedioAltoMedioAltoBajoMedioAltoBajoAltoAltoBajoMedioMedioMedioAltoMedioMedioAltoBajoMedioMedioMedioMedioMedioAltoAltoMedioMedioBajoBajoBajoMedioAltoMedioAltoBajoBajoAltoAltoBajoAltoBajoBajoMedioBajoBajoMedioBajoMedioMedioMedioMedioAltoMedioBajoMedioAltoBajoBajoMedioBajoBajoBajoAltoMedioMedioAltoBajoBajoAltoAltoMedioMedioAltoAltoAltoBajoMedioMedioMedioBajoAltoMedioMedioMedioMedioBajoBajoBajoBajoAltoBajoBajoBajoMedioMedioMedioMedioBajoBajoMedioMedioBajoAltoAltoAltoAltoAltoMedioMedioAltoMedioMedioAltoMedioAltoAltoBajoMedioMedioAltoBajoAltoMedioBajoMedioMedioMedioBajoBajoBajoAltoMedioBajoBajoMedioBajoMedioAltoMedioAltoMedioMedioMedioBajoMedioMedioBajoMedioMedioAltoMedioMedioAltoAltoMedioMedioBajoBajoBajoMedioMedioBajoAltoMedioMedioAltoAltoMedioMedioBajoAltoMedioMedioBajoMedioBajoBajoMedioMedioMedioMedioAltoMedioMedioBajoAltoMedioMedioMedioMedioMedioAltoBajoMedioBajoMedioMedioBajoAltoMedioAltoMedioBajoMedioAltoBajoBajoAltoMedioMedioMedioAltoMedioBajoMedioBajoMedioBajoMedioMedioMedioMedioMedioMedioMedioBajoMedioBajoAltoMedioBajoAltoBajoMedioMedioMedioMedioAltoMedioMedioAltoMedioMedioMedioMedioMedioMedioMedioAltoBajoMedioAltoBajoBajoMedioAltoBajoMedioMedioMedioMedioBajoMedioAltoMedioAltoMedioMedioMedioAltoBajoBajoMedioBajoMedioMedioMedioMedioBajoMedioMedioMedioAltoMedioBajoAltoBajoMedioBajoMedioMedioBajoBajoBajoBajoMedioAltoBajoAltoBajoMedioMedioMedioAltoMedioAltoBajoMedioAltoAltoBajoMedioMedioMedioMedioMedioBajoBajoMedioBajoMedioMedioMedioBajoMedioMedioBajoBajoMedioMedioMedioBajoBajoAltoMedioMedioBajoMedioMedioMedioMedioMedioMedioMedioMedioMedioBajoMedioAltoMedioMedioMedioBajoMedioMedioBajoMedioMedioAltoAltoMedioBajoAltoAltoBajoMedioAltoBajoMedioMedioMedioMedioMedioBajoAltoAltoMedioAltoAltoMedioMedioMedioMedioBajoMedioBajoAltoBajoBajoBajoBajoBajoAltoBajoBajoBajoMedioMedioMedioBajoAltoMedioMedioMedioMedioMedioMedioBajoAltoBajoMedioMedioBajoBajoMedioMedioAltoMedioBajoMedioAltoMedioMedioMedioMedioMedioMedioMedioMedioMedioBajoBajoMedioMedioMedioAltoMedioMedioMedioBajoBajoBajoBajoBajoBajoAltoMedioAltoMedioMedioMedioMedioAltoMedioBajoMedioBajoBajoMedioAltoMedioAltoMedioMedioBajoMedioMedioMedioBajoMedioMedioAltoMedioBajoMedioBajoMedioMedioBajoMedioAltoAltoMedioAltoAltoBajoAltoMedioMedioMedioMedioMedioBajoBajoAltoMedioMedioMedioAltoBajoBajoAltoBajoMedioMedioMedioMedioBajoBajoMedioBajoBajoMedioBajoMedioMedioAltoBajoAltoBajoAltoMedioMedioMedioMedioAltoMedioBajoMedioBajoBajoBajoMedioAltoMedioBajoMedioMedioMedioMedioMedioMedioBajoAltoMedioAltoMedioBajoMedioMedioBajoAltoMedioMedioBajoBajoMedioMedioMedioMedioBajoMedioBajoMedioMedioMedioBajoMedioMedioAltoMedioMedioBajoBajoMedioMedioMedioMedioMedioMedioBajoBajoBajoMedioAltoBajoMedioMedioMedioMedioAltoMedioMedioAltoMedioMedioMedioBajoBajoAltoBajoBajoAltoAltoBajoMedioMedioBajoMedioAltoBajoBajoMedioAltoMedioMedioBajoBajoMedioMedioBajoMedioBajoMedioAltoAltoMedioBajoMedioMedioMedioMedioAltoAltoAltoBajoMedioMedioMedioAltoMedioMedioMedioAltoMedioMedioBajoMedioBajoMedioAltoMedioBajoBajoAltoMedioBajoBajoMedioAltoMedioMedioAltoMedioAltoBajoMedioBajoMedioMedioBajoAltoMedioBajoMedioBajoMedioMedioMedioMedioBajoMedioMedioMedioAltoAltoAltoMedioBajoBajoAltoBajoMedioMedioBajoAltoMedioBajoMedioMedioMedioBajoMedioAltoAltoAltoMedioMedioBajoMedioMedioAltoBajoMedioMedioMedioBajoMedioMedioMedioMedioMedioBajoBajoAltoMedioAltoMedioMedioMedioMedioMedioAltoAltoMedioBajoMedioAltoMedioMedioBajoBajoMedioBajoMedioMedioMedioMedioAltoMedioBajoAltoMedioBajoAltoAltoBajoMedioMedioMedioAltoMedioBajoAltoMedioAltoAltoAltoMedioAltoBajoMedioBajoAltoMedioBajoAltoBajoAltoBajoMedioBajoBajoBajoMedioBajoMedioBajoBajoMedioBajoMedioAltoBajoMedioBajoBajoBajoMedioMedioMedioBajoBajoAltoAltoBajoAltoAltoAltoBajoBajoMedioAltoAltoBajoMedioMedioMedioBajoAltoMedioBajoMedioMedioMedioBajoAltoMedioBajoMedioAltoMedioAltoMedioMedioMedioAltoBajoMedioAltoMedioBajoBajoMedioAltoMedioAltoAltoMedioMedioMedioMedioMedioMedioBajoMedioAltoMedioAltoMedioMedioAltoBajoMedioMedioBajoBajoMedioMedioMedioMedioMedioMedioBajoMedioBajoMedioAltoMedioMedioBajoBajoAltoBajoAltoBajoBajoMedioMedioMedioBajoMedioMedioMedioMedioMedioAltoMedioMedioMedioAltoMedioMedioAltoMedioMedioMedioBajoMedioBajoMedioBajoAltoAltoMedioMedioBajoAltoMedioAltoAltoMedioMedioMedioMedioBajoAltoMedioAltoMedioBajoBajoMedioMedioAltoBajoMedioMedioMedioMedioMedioBajoBajoMedioAltoMedioMedioMedioMedioMedioMedioMedioMedioBajoBajoAltoMedioAltoBajoMedioMedioMedioMedioBajoAltoBajoMedioAltoBajoMedioBajoMedioMedioAltoMedioMedioMedioBajoBajoMedioBajoAltoAltoBajoBajoBajoMedioMedioMedioBajoAltoMedioMedioBajoMedioAltoMedioBajoAltoBajoBajoBajoMedioBajoAltoMedioMedioAltoMedioMedioMedioAltoMedioMedioBajoBajoAltoBajoBajoBajoAltoMedioMedioMedioMedioAltoMedioBajoMedioBajoMedioMedioBajoMedioMedioAltoAltoMedioBajoAltoBajoAltoMedioMedioBajoMedioMedioBajoBajoAltoMedioMedioBajoAltoAltoAltoBajoBajoMedioBajoAltoMedioBajoBajoAltoBajoAltoAltoBajoMedioMedioMedioMedioBajoMedioMedioBajoAltoBajoBajoAltoMedioMedioAltoMedioBajoMedioMedioMedioAltoBajoMedioBajoMedioMedioBajoBajoMedioBajoBajoAltoMedioMedioAltoBajoMedioBajoMedioBajoMedioMedioMedioBajoBajoBajoMedioMedioBajoMedioAltoMedioMedioMedioMedioMedioAltoMedioBajoMedioAltoMedioMedioAltoMedioMedioMedioMedioAltoMedioBajoMedioBajoMedioMedioMedioAltoBajoMedioMedioBajoBajoAltoMedioMedioBajoBajoMedioMedioMedioMedioAltoAltoMedioBajoAltoBajoBajoMedioMedioMedioMedioBajoBajoAltoMedioAltoMedioMedioAltoBajoBajoBajoBajoMedioBajoBajoBajoMedioBajoAltoBajoBajoAltoAltoAltoMedioBajoMedioMedioAltoAltoAltoBajoMedioAltoAltoMedioMedioMedioBajoAltoBajoAltoAltoAltoMedioMedioMedioMedioMedioMedioBajoMedioBajoBajoBajoMedioMedioAltoAltoBajoAltoAltoBajoMedioMedioAltoMedioMedioAltoMedioBajoMedioBajoMedioBajoAltoMedioBajoMedioBajoBajoBajoMedioAltoBajoBajoMedioAltoMedioAltoAltoAltoBajoMedioMedioMedioBajoAltoMedioMedioAltoMedioMedioMedioMedioBajoBajoAltoMedioBajoBajoBajoBajoMedioBajoAltoBajoMedioMedioAltoBajoMedioAltoMedioMedioBajoMedioMedioBajoMedioAltoBajoAltoMedioMedioMedioBajoMedioBajoMedioAltoMedioMedioMedioMedioMedioMedioAltoBajoMedioBajoAltoMedioMedioAltoAltoMedioAltoAltoAltoMedioMedioAltoMedioAltoMedioBajoMedioAltoBajoBajoBajoAltoMedioMedioBajoMedioMedioAltoBajoAltoMedioMedioMedioBajoMedioMedioAltoAltoBajoAltoAltoMedioMedioMedioMedioMedioMedioBajoMedioBajoMedioBajoMedioMedioMedioMedioAltoMedioMedioBajoMedioMedioMedioBajoMedioMedioMedioMedioBajoBajoMedioBajoAltoBajoBajoMedioMedioMedioMedioMedioMedioBajoAltoBajoMedioAltoMedioMedioMedioBajoMedioBajoMedioMedioMedioBajoBajoBajoBajoMedioBajoMedioBajoMedioMedioAltoMedioAltoMedioBajoAltoAltoBajoMedioMedioMedioMedioBajoAltoBajoMedioBajoMedioBajoAltoBajoMedioAltoAltoMedioBajoMedioBajoAltoMedioMedioBajoAltoMedioBajoBajoMedioAltoMedioMedioAltoMedioMedioMedioMedioMedioMedioMedioAltoBajoMedioMedioMedioAltoAltoMedioBajoMedioAltoAltoMedioMedioBajoMedioAltoMedioBajoMedioMedioAltoAltoMedioMedioAltoAltoAltoAltoMedioBajoBajoMedioMedioBajoAltoMedioBajoAltoMedioBajoMedioBajoAltoMedioBajoMedioBajoMedioAltoMedioAltoMedioAltoBajoBajoMedioBajoMedioMedioMedioMedioMedioBajoMedioMedioBajoMedioAltoBajoBajoMedioMedioMedioAltoMedioBajoMedioAltoMedioBajoMedioBajoBajoBajoMedioBajoBajoMedioAltoMedioMedioMedioBajoMedioBajoMedioMedioMedioBajoMedioMedioAltoMedioMedioMedioMedioMedioBajoMedioMedioAltoBajoMedioBajoMedioAltoBajoMedioMedioBajoMedioMedioBajoBajoAltoBajoMedioMedioMedioAltoMedioMedioMedioMedioMedioAltoMedioBajoBajoMedioBajoMedioAltoMedioMedioBajoMedioAltoAltoBajoAltoMedioBajoBajoMedioAltoMedioMedioBajoAltoAltoMedioMedioMedioBajoMedioBajoBajoAltoMedioAltoAltoMedioMedioAltoBajoMedioMedioBajoMedioAltoBajoBajoMedioMedioMedioMedioMedioBajoMedioMedioAltoMedioMedioMedioMedioBajoBajoMedioAltoAltoMedioMedioMedioMedioBajoBajoMedioAltoMedioMedioAltoAltoBajoMedioAltoMedioBajoBajoMedioAltoMedioMedioMedioMedioMedioBajoAltoMedioMedioMedioMedioAltoMedioAltoMedioAltoMedioBajoAltoBajoMedioBajoMedioBajoBajoAltoMedioBajoAltoMedioBajoMedioMedioBajoAltoMedioMedioMedioBajoBajoBajoBajoBajoMedioMedioBajoBajoBajoAltoBajoBajoMedioAltoMedioMedioMedioMedioMedioBajoMedioBajoMedioBajoMedioBajoBajoBajoMedioMedioMedioAltoBajoMedioAltoBajoMedioAltoMedioBajoMedioAltoMedioMedioMedioMedioMedioBajoBajoMedioBajoBajoBajoMedioAltoMedioBajoMedioMedioAltoMedioBajoMedioBajoMedioBajoMedioMedioAltoMedioMedioMedioBajoMedioBajoBajoBajoMedioMedioMedioAltoBajoAltoBajoAltoMedioBajoMedioMedioBajoMedioAltoAltoBajoBajoMedioBajoBajoMedioMedioMedioAltoMedioMedioMedioMedioMedioBajoBajoAltoMedioBajoMedioAltoMedioMedioBajoMedioMedioMedioBajoMedioAltoBajoMedioMedioMedioMedioBajoMedioMedioAltoMedioMedioMedioMedioMedioMedioAltoBajoAltoBajoBajoBajoBajoAltoAltoAltoAltoMedioBajoMedioBajoMedioBajoMedioMedioBajoAltoAltoAltoAltoAltoBajoMedioBajoMedioMedioAltoMedioMedioMedioMedioMedioMedioBajoMedioMedioBajoMedioBajoMedioMedioMedioBajoMedioMedioBajoBajoBajoMedioBajoBajoAltoMedioMedioMedioAltoMedioMedioAltoMedioMedioAltoBajoAltoMedioAltoAltoAltoMedioAltoMedioMedioMedioMedioMedioBajoAltoMedioMedioMedioAltoAltoMedioMedioAltoMedioBajoMedioMedioMedioMedioAltoMedioMedioMedioMedioBajoAltoBajoBajoBajoBajoBajoAltoMedioBajoBajoMedioMedioMedioBajoMedioBajoMedioAltoMedioMedioMedioAltoAltoBajoMedioBajoAltoMedioMedioBajoMedioMedioBajoMedioMedioMedioMedioAltoAltoAltoMedioBajoAltoAltoAltoAltoAltoMedioMedioAltoMedioAltoMedioMedioBajoBajoBajoAltoBajoAltoAltoAltoMedioAltoMedioAltoMedioBajoBajoMedioBajoBajoBajoAltoMedioMedioMedioAltoBajoMedioBajoAltoMedioMedioBajoMedioMedioBajoBajoBajoBajoMedioBajoMedioMedioBajoMedioAltoMedioMedioMedioMedioMedioMedioMedioAltoBajoBajoBajoBajoBajoMedioAltoMedioMedioMedioBajoBajoBajoMedioAltoAltoMedioMedioAltoMedioBajoMedioBajoAltoAltoBajoBajoMedioAltoAltoMedioBajoAltoMedioMedioMedioAltoMedioBajoMedioBajoBajoMedioBajoBajoAltoMedioMedioMedioBajoMedioMedioBajoMedioMedioBajoMedioMedioMedioMedioBajoMedioAltoAltoMedioMedioMedioAltoMedioAltoBajoMedioBajoBajoMedioAltoBajoMedioMedioMedioMedioMedioBajoMedioMedioMedioBajoBajoBajoMedioAltoMedioMedioAltoMedioMedioAltoMedioMedioMedioAltoBajoAltoMedioAltoBajoBajoAltoAltoAltoAltoMedioMedioBajoMedioMedioBajoAltoMedioAltoAltoMedioBajoBajoMedioBajoAltoMedioBajoMedioBajoAltoBajoMedioMedioBajoMedioMedioAltoMedioBajoAltoMedioBajoMedioMedioAltoMedioMedioMedioMedioMedioAltoMedioMedioBajoAltoMedioBajoMedioMedioMedioMedioAltoMedioAltoMedioMedioBajoBajoMedioMedioMedioMedioMedioMedioMedioAltoBajoMedioMedioMedioMedioBajoMedioMedioAltoAltoMedioMedioBajoAltoBajoBajoAltoBajoMedioBajoMedioBajoBajoMedioAltoBajoMedioMedioMedioBajoMedioMedioAltoMedioAltoMedioMedioMedioMedioMedioMedioMedioMedioMedioMedioMedioAltoBajoBajoMedioBajoAltoBajoMedioMedioMedioMedioMedioMedioAltoBajoMedioBajoAltoBajoBajoBajoMedioMedioMedioMedioBajoMedioBajoAltoBajoMedioMedioBajoAltoMedioMedioBajoMedioBajoBajoBajoAltoBajoMedioAltoBajoMedioMedioMedioMedioBajoMedioMedioBajoBajoMedioMedioAltoMedioBajoBajoMedioBajoMedioBajoBajoBajoBajoBajoBajoMedioMedioMedioMedioMedioMedioMedioAltoMedioMedioMedioMedioBajoMedioBajoBajoBajoBajoMedioAltoMedioBajoMedioMedioMedioMedioBajoMedioMedioMedioBajoBajoAltoMedioMedioBajoBajoMedioMedioMedioAltoMedioMedioAltoMedioBajoBajoMedioMedioAltoBajoAltoMedioMedioBajoAltoMedioMedioBajoBajoMedioAltoBajoMedioAltoMedioAltoBajoMedioMedioBajoMedioBajoAltoMedioBajoBajoMedioBajoBajoMedioBajoBajoBajoBajoMedioAltoAltoMedioAltoAltoMedioMedioMedioMedioMedioBajoMedioMedioMedioBajoAltoAltoMedioMedioBajoMedioMedioAltoMedioMedioBajoAltoMedioMedioMedioMedioMedioMedioMedioMedioMedioAltoAltoMedioMedioBajoAltoBajoMedioBajoMedioMedioBajoMedioMedioAltoBajoBajoMedioMedioMedioMedioMedioMedioAltoMedioMedioMedioAltoBajoBajoBajoBajoMedioMedioBajoBajoMedioAltoBajoBajoAltoMedioAltoMedioMedioAltoBajoAltoMedioBajoMedioMedioMedioBajoMedioMedioAltoAltoAltoAltoBajoBajoMedioBajoMedioAltoBajoMedioBajoAltoMedioBajoMedioMedioMedioMedioAltoBajoAltoMedioBajoAltoMedioMedioMedioMedioBajoBajoMedioMedioMedioMedioBajoBajoAltoMedioMedioBajoMedioBajoMedioBajoMedioAltoMedioBajoMedioMedioMedioMedioBajoBajoMedioBajoBajoMedioMedioMedioAltoMedioMedioBajoMedioAltoAltoAltoAltoAltoBajoMedioAltoAltoMedioMedioAltoMedioMedioBajoMedioBajoMedioMedioMedioAltoAltoMedioMedioBajoMedioBajoMedioMedioMedioAltoMedioAltoBajoBajoMedioMedioMedioBajoMedioMedioMedioMedioMedioMedioMedioMedioMedioAltoAltoMedioBajoMedioMedioAltoMedioAltoAltoBajoBajoMedioMedioBajoMedioMedioMedioAltoAltoBajoMedioMedioBajoBajoBajoMedioMedioBajoAltoBajoMedioMedioMedioMedioMedioMedioMedioBajoMedioMedioMedioMedioBajoMedioMedioBajoBajoMedioMedioBajoMedioAltoMedioMedioMedioMedioBajoMedioMedioMedioMedioMedioMedioAltoBajoBajoAltoBajoAltoMedioMedioBajoMedioAltoMedioBajoBajoMedioMedioMedioBajoBajoMedioMedioBajoAltoMedioMedioMedioMedioAltoBajoMedioMedioAltoBajoMedioMedioBajoMedioBajoMedioMedioBajoMedioAltoMedioMedioMedioAltoMedioMedioMedioAltoAltoMedioBajoAltoAltoAltoMedioMedioBajoAltoMedioBajoMedioMedioAltoMedioMedioMedioMedioBajoBajoAltoMedioAltoMedioMedioAltoMedioAltoMedioAltoBajoMedioBajoMedioBajoMedioMedioMedioBajoBajoMedioAltoBajoMedioBajoAltoBajoMedioMedioBajoMedioBajoAltoMedioMedioMedioBajoMedioBajoMedioMedioAltoMedioMedioMedioBajoBajoMedioAltoMedioMedioBajoAltoBajoMedioMedioAltoMedioBajoBajoBajoAltoMedioBajoMedioBajoMedioAltoBajoMedioBajoAltoBajoAltoBajoMedioMedioAltoBajoMedioBajoBajoBajoMedioBajoBajoBajoAltoAltoMedioBajoMedioMedioMedioAltoBajoMedioBajoMedioAltoMedioBajoAltoMedioMedioMedioBajoBajoMedioMedioAltoMedioMedioMedioBajoMedioMedioAltoMedioAltoAltoMedioMedioAltoMedioBajoAltoMedioBajoMedioMedioMedioBajoMedioAltoAltoAltoBajoBajoMedioBajoBajoMedioAltoMedioMedioMedioAltoAltoMedioMedioMedioMedioBajoMedioMedioBajoBajoMedioBajoBajoBajoMedioAltoMedioMedioMedioMedioMedioAltoBajoBajoAltoBajoMedioBajoAltoBajoBajoBajoBajoAltoMedioBajoAltoAltoMedioMedioAltoMedioMedioBajoMedioMedioBajoAltoBajoMedioAltoAltoMedioAltoMedioAltoMedioAltoBajoMedioMedioMedioMedioMedioMedioMedioMedioAltoMedioMedioBajoBajoAltoMedioMedio'",
      "\nDuring handling of the above exception, another exception occurred:\n",
      "\u001b[1;31mValueError\u001b[0m                                Traceback (most recent call last)",
      "File \u001b[1;32m~\\AppData\\Local\\Packages\\PythonSoftwareFoundation.Python.3.11_qbz5n2kfra8p0\\LocalCache\\local-packages\\Python311\\site-packages\\pandas\\core\\nanops.py:1696\u001b[0m, in \u001b[0;36m_ensure_numeric\u001b[1;34m(x)\u001b[0m\n\u001b[0;32m   1695\u001b[0m \u001b[38;5;28;01mtry\u001b[39;00m:\n\u001b[1;32m-> 1696\u001b[0m     x \u001b[38;5;241m=\u001b[39m \u001b[38;5;28;43mcomplex\u001b[39;49m\u001b[43m(\u001b[49m\u001b[43mx\u001b[49m\u001b[43m)\u001b[49m\n\u001b[0;32m   1697\u001b[0m \u001b[38;5;28;01mexcept\u001b[39;00m \u001b[38;5;167;01mValueError\u001b[39;00m \u001b[38;5;28;01mas\u001b[39;00m err:\n\u001b[0;32m   1698\u001b[0m     \u001b[38;5;66;03m# e.g. \"foo\"\u001b[39;00m\n",
      "\u001b[1;31mValueError\u001b[0m: complex() arg is a malformed string",
      "\nThe above exception was the direct cause of the following exception:\n",
      "\u001b[1;31mTypeError\u001b[0m                                 Traceback (most recent call last)",
      "Cell \u001b[1;32mIn[86], line 1\u001b[0m\n\u001b[1;32m----> 1\u001b[0m \u001b[43mdf3\u001b[49m\u001b[38;5;241;43m.\u001b[39;49m\u001b[43mgroupby\u001b[49m\u001b[43m(\u001b[49m\u001b[38;5;124;43m\"\u001b[39;49m\u001b[38;5;124;43mcreditcd_x\u001b[39;49m\u001b[38;5;124;43m\"\u001b[39;49m\u001b[43m)\u001b[49m\u001b[38;5;241;43m.\u001b[39;49m\u001b[43mmean\u001b[49m\u001b[43m(\u001b[49m\u001b[43m)\u001b[49m\n\u001b[0;32m      2\u001b[0m \u001b[38;5;66;03m# realice el ejercicio en este espacio\u001b[39;00m\n",
      "File \u001b[1;32m~\\AppData\\Local\\Packages\\PythonSoftwareFoundation.Python.3.11_qbz5n2kfra8p0\\LocalCache\\local-packages\\Python311\\site-packages\\pandas\\core\\groupby\\groupby.py:1855\u001b[0m, in \u001b[0;36mGroupBy.mean\u001b[1;34m(self, numeric_only, engine, engine_kwargs)\u001b[0m\n\u001b[0;32m   1853\u001b[0m     \u001b[38;5;28;01mreturn\u001b[39;00m \u001b[38;5;28mself\u001b[39m\u001b[38;5;241m.\u001b[39m_numba_agg_general(sliding_mean, engine_kwargs)\n\u001b[0;32m   1854\u001b[0m \u001b[38;5;28;01melse\u001b[39;00m:\n\u001b[1;32m-> 1855\u001b[0m     result \u001b[38;5;241m=\u001b[39m \u001b[38;5;28;43mself\u001b[39;49m\u001b[38;5;241;43m.\u001b[39;49m\u001b[43m_cython_agg_general\u001b[49m\u001b[43m(\u001b[49m\n\u001b[0;32m   1856\u001b[0m \u001b[43m        \u001b[49m\u001b[38;5;124;43m\"\u001b[39;49m\u001b[38;5;124;43mmean\u001b[39;49m\u001b[38;5;124;43m\"\u001b[39;49m\u001b[43m,\u001b[49m\n\u001b[0;32m   1857\u001b[0m \u001b[43m        \u001b[49m\u001b[43malt\u001b[49m\u001b[38;5;241;43m=\u001b[39;49m\u001b[38;5;28;43;01mlambda\u001b[39;49;00m\u001b[43m \u001b[49m\u001b[43mx\u001b[49m\u001b[43m:\u001b[49m\u001b[43m \u001b[49m\u001b[43mSeries\u001b[49m\u001b[43m(\u001b[49m\u001b[43mx\u001b[49m\u001b[43m)\u001b[49m\u001b[38;5;241;43m.\u001b[39;49m\u001b[43mmean\u001b[49m\u001b[43m(\u001b[49m\u001b[43mnumeric_only\u001b[49m\u001b[38;5;241;43m=\u001b[39;49m\u001b[43mnumeric_only\u001b[49m\u001b[43m)\u001b[49m\u001b[43m,\u001b[49m\n\u001b[0;32m   1858\u001b[0m \u001b[43m        \u001b[49m\u001b[43mnumeric_only\u001b[49m\u001b[38;5;241;43m=\u001b[39;49m\u001b[43mnumeric_only\u001b[49m\u001b[43m,\u001b[49m\n\u001b[0;32m   1859\u001b[0m \u001b[43m    \u001b[49m\u001b[43m)\u001b[49m\n\u001b[0;32m   1860\u001b[0m     \u001b[38;5;28;01mreturn\u001b[39;00m result\u001b[38;5;241m.\u001b[39m__finalize__(\u001b[38;5;28mself\u001b[39m\u001b[38;5;241m.\u001b[39mobj, method\u001b[38;5;241m=\u001b[39m\u001b[38;5;124m\"\u001b[39m\u001b[38;5;124mgroupby\u001b[39m\u001b[38;5;124m\"\u001b[39m)\n",
      "File \u001b[1;32m~\\AppData\\Local\\Packages\\PythonSoftwareFoundation.Python.3.11_qbz5n2kfra8p0\\LocalCache\\local-packages\\Python311\\site-packages\\pandas\\core\\groupby\\groupby.py:1507\u001b[0m, in \u001b[0;36mGroupBy._cython_agg_general\u001b[1;34m(self, how, alt, numeric_only, min_count, **kwargs)\u001b[0m\n\u001b[0;32m   1503\u001b[0m         result \u001b[38;5;241m=\u001b[39m \u001b[38;5;28mself\u001b[39m\u001b[38;5;241m.\u001b[39m_agg_py_fallback(values, ndim\u001b[38;5;241m=\u001b[39mdata\u001b[38;5;241m.\u001b[39mndim, alt\u001b[38;5;241m=\u001b[39malt)\n\u001b[0;32m   1505\u001b[0m     \u001b[38;5;28;01mreturn\u001b[39;00m result\n\u001b[1;32m-> 1507\u001b[0m new_mgr \u001b[38;5;241m=\u001b[39m \u001b[43mdata\u001b[49m\u001b[38;5;241;43m.\u001b[39;49m\u001b[43mgrouped_reduce\u001b[49m\u001b[43m(\u001b[49m\u001b[43marray_func\u001b[49m\u001b[43m)\u001b[49m\n\u001b[0;32m   1508\u001b[0m res \u001b[38;5;241m=\u001b[39m \u001b[38;5;28mself\u001b[39m\u001b[38;5;241m.\u001b[39m_wrap_agged_manager(new_mgr)\n\u001b[0;32m   1509\u001b[0m out \u001b[38;5;241m=\u001b[39m \u001b[38;5;28mself\u001b[39m\u001b[38;5;241m.\u001b[39m_wrap_aggregated_output(res)\n",
      "File \u001b[1;32m~\\AppData\\Local\\Packages\\PythonSoftwareFoundation.Python.3.11_qbz5n2kfra8p0\\LocalCache\\local-packages\\Python311\\site-packages\\pandas\\core\\internals\\managers.py:1503\u001b[0m, in \u001b[0;36mBlockManager.grouped_reduce\u001b[1;34m(self, func)\u001b[0m\n\u001b[0;32m   1499\u001b[0m \u001b[38;5;28;01mif\u001b[39;00m blk\u001b[38;5;241m.\u001b[39mis_object:\n\u001b[0;32m   1500\u001b[0m     \u001b[38;5;66;03m# split on object-dtype blocks bc some columns may raise\u001b[39;00m\n\u001b[0;32m   1501\u001b[0m     \u001b[38;5;66;03m#  while others do not.\u001b[39;00m\n\u001b[0;32m   1502\u001b[0m     \u001b[38;5;28;01mfor\u001b[39;00m sb \u001b[38;5;129;01min\u001b[39;00m blk\u001b[38;5;241m.\u001b[39m_split():\n\u001b[1;32m-> 1503\u001b[0m         applied \u001b[38;5;241m=\u001b[39m \u001b[43msb\u001b[49m\u001b[38;5;241;43m.\u001b[39;49m\u001b[43mapply\u001b[49m\u001b[43m(\u001b[49m\u001b[43mfunc\u001b[49m\u001b[43m)\u001b[49m\n\u001b[0;32m   1504\u001b[0m         result_blocks \u001b[38;5;241m=\u001b[39m extend_blocks(applied, result_blocks)\n\u001b[0;32m   1505\u001b[0m \u001b[38;5;28;01melse\u001b[39;00m:\n",
      "File \u001b[1;32m~\\AppData\\Local\\Packages\\PythonSoftwareFoundation.Python.3.11_qbz5n2kfra8p0\\LocalCache\\local-packages\\Python311\\site-packages\\pandas\\core\\internals\\blocks.py:329\u001b[0m, in \u001b[0;36mBlock.apply\u001b[1;34m(self, func, **kwargs)\u001b[0m\n\u001b[0;32m    323\u001b[0m \u001b[38;5;129m@final\u001b[39m\n\u001b[0;32m    324\u001b[0m \u001b[38;5;28;01mdef\u001b[39;00m \u001b[38;5;21mapply\u001b[39m(\u001b[38;5;28mself\u001b[39m, func, \u001b[38;5;241m*\u001b[39m\u001b[38;5;241m*\u001b[39mkwargs) \u001b[38;5;241m-\u001b[39m\u001b[38;5;241m>\u001b[39m \u001b[38;5;28mlist\u001b[39m[Block]:\n\u001b[0;32m    325\u001b[0m \u001b[38;5;250m    \u001b[39m\u001b[38;5;124;03m\"\"\"\u001b[39;00m\n\u001b[0;32m    326\u001b[0m \u001b[38;5;124;03m    apply the function to my values; return a block if we are not\u001b[39;00m\n\u001b[0;32m    327\u001b[0m \u001b[38;5;124;03m    one\u001b[39;00m\n\u001b[0;32m    328\u001b[0m \u001b[38;5;124;03m    \"\"\"\u001b[39;00m\n\u001b[1;32m--> 329\u001b[0m     result \u001b[38;5;241m=\u001b[39m \u001b[43mfunc\u001b[49m\u001b[43m(\u001b[49m\u001b[38;5;28;43mself\u001b[39;49m\u001b[38;5;241;43m.\u001b[39;49m\u001b[43mvalues\u001b[49m\u001b[43m,\u001b[49m\u001b[43m \u001b[49m\u001b[38;5;241;43m*\u001b[39;49m\u001b[38;5;241;43m*\u001b[39;49m\u001b[43mkwargs\u001b[49m\u001b[43m)\u001b[49m\n\u001b[0;32m    331\u001b[0m     \u001b[38;5;28;01mreturn\u001b[39;00m \u001b[38;5;28mself\u001b[39m\u001b[38;5;241m.\u001b[39m_split_op_result(result)\n",
      "File \u001b[1;32m~\\AppData\\Local\\Packages\\PythonSoftwareFoundation.Python.3.11_qbz5n2kfra8p0\\LocalCache\\local-packages\\Python311\\site-packages\\pandas\\core\\groupby\\groupby.py:1503\u001b[0m, in \u001b[0;36mGroupBy._cython_agg_general.<locals>.array_func\u001b[1;34m(values)\u001b[0m\n\u001b[0;32m   1490\u001b[0m     result \u001b[38;5;241m=\u001b[39m \u001b[38;5;28mself\u001b[39m\u001b[38;5;241m.\u001b[39mgrouper\u001b[38;5;241m.\u001b[39m_cython_operation(\n\u001b[0;32m   1491\u001b[0m         \u001b[38;5;124m\"\u001b[39m\u001b[38;5;124maggregate\u001b[39m\u001b[38;5;124m\"\u001b[39m,\n\u001b[0;32m   1492\u001b[0m         values,\n\u001b[1;32m   (...)\u001b[0m\n\u001b[0;32m   1496\u001b[0m         \u001b[38;5;241m*\u001b[39m\u001b[38;5;241m*\u001b[39mkwargs,\n\u001b[0;32m   1497\u001b[0m     )\n\u001b[0;32m   1498\u001b[0m \u001b[38;5;28;01mexcept\u001b[39;00m \u001b[38;5;167;01mNotImplementedError\u001b[39;00m:\n\u001b[0;32m   1499\u001b[0m     \u001b[38;5;66;03m# generally if we have numeric_only=False\u001b[39;00m\n\u001b[0;32m   1500\u001b[0m     \u001b[38;5;66;03m# and non-applicable functions\u001b[39;00m\n\u001b[0;32m   1501\u001b[0m     \u001b[38;5;66;03m# try to python agg\u001b[39;00m\n\u001b[0;32m   1502\u001b[0m     \u001b[38;5;66;03m# TODO: shouldn't min_count matter?\u001b[39;00m\n\u001b[1;32m-> 1503\u001b[0m     result \u001b[38;5;241m=\u001b[39m \u001b[38;5;28;43mself\u001b[39;49m\u001b[38;5;241;43m.\u001b[39;49m\u001b[43m_agg_py_fallback\u001b[49m\u001b[43m(\u001b[49m\u001b[43mvalues\u001b[49m\u001b[43m,\u001b[49m\u001b[43m \u001b[49m\u001b[43mndim\u001b[49m\u001b[38;5;241;43m=\u001b[39;49m\u001b[43mdata\u001b[49m\u001b[38;5;241;43m.\u001b[39;49m\u001b[43mndim\u001b[49m\u001b[43m,\u001b[49m\u001b[43m \u001b[49m\u001b[43malt\u001b[49m\u001b[38;5;241;43m=\u001b[39;49m\u001b[43malt\u001b[49m\u001b[43m)\u001b[49m\n\u001b[0;32m   1505\u001b[0m \u001b[38;5;28;01mreturn\u001b[39;00m result\n",
      "File \u001b[1;32m~\\AppData\\Local\\Packages\\PythonSoftwareFoundation.Python.3.11_qbz5n2kfra8p0\\LocalCache\\local-packages\\Python311\\site-packages\\pandas\\core\\groupby\\groupby.py:1457\u001b[0m, in \u001b[0;36mGroupBy._agg_py_fallback\u001b[1;34m(self, values, ndim, alt)\u001b[0m\n\u001b[0;32m   1452\u001b[0m     ser \u001b[38;5;241m=\u001b[39m df\u001b[38;5;241m.\u001b[39miloc[:, \u001b[38;5;241m0\u001b[39m]\n\u001b[0;32m   1454\u001b[0m \u001b[38;5;66;03m# We do not get here with UDFs, so we know that our dtype\u001b[39;00m\n\u001b[0;32m   1455\u001b[0m \u001b[38;5;66;03m#  should always be preserved by the implemented aggregations\u001b[39;00m\n\u001b[0;32m   1456\u001b[0m \u001b[38;5;66;03m# TODO: Is this exactly right; see WrappedCythonOp get_result_dtype?\u001b[39;00m\n\u001b[1;32m-> 1457\u001b[0m res_values \u001b[38;5;241m=\u001b[39m \u001b[38;5;28;43mself\u001b[39;49m\u001b[38;5;241;43m.\u001b[39;49m\u001b[43mgrouper\u001b[49m\u001b[38;5;241;43m.\u001b[39;49m\u001b[43magg_series\u001b[49m\u001b[43m(\u001b[49m\u001b[43mser\u001b[49m\u001b[43m,\u001b[49m\u001b[43m \u001b[49m\u001b[43malt\u001b[49m\u001b[43m,\u001b[49m\u001b[43m \u001b[49m\u001b[43mpreserve_dtype\u001b[49m\u001b[38;5;241;43m=\u001b[39;49m\u001b[38;5;28;43;01mTrue\u001b[39;49;00m\u001b[43m)\u001b[49m\n\u001b[0;32m   1459\u001b[0m \u001b[38;5;28;01mif\u001b[39;00m \u001b[38;5;28misinstance\u001b[39m(values, Categorical):\n\u001b[0;32m   1460\u001b[0m     \u001b[38;5;66;03m# Because we only get here with known dtype-preserving\u001b[39;00m\n\u001b[0;32m   1461\u001b[0m     \u001b[38;5;66;03m#  reductions, we cast back to Categorical.\u001b[39;00m\n\u001b[0;32m   1462\u001b[0m     \u001b[38;5;66;03m# TODO: if we ever get \"rank\" working, exclude it here.\u001b[39;00m\n\u001b[0;32m   1463\u001b[0m     res_values \u001b[38;5;241m=\u001b[39m \u001b[38;5;28mtype\u001b[39m(values)\u001b[38;5;241m.\u001b[39m_from_sequence(res_values, dtype\u001b[38;5;241m=\u001b[39mvalues\u001b[38;5;241m.\u001b[39mdtype)\n",
      "File \u001b[1;32m~\\AppData\\Local\\Packages\\PythonSoftwareFoundation.Python.3.11_qbz5n2kfra8p0\\LocalCache\\local-packages\\Python311\\site-packages\\pandas\\core\\groupby\\ops.py:994\u001b[0m, in \u001b[0;36mBaseGrouper.agg_series\u001b[1;34m(self, obj, func, preserve_dtype)\u001b[0m\n\u001b[0;32m    987\u001b[0m \u001b[38;5;28;01mif\u001b[39;00m \u001b[38;5;28mlen\u001b[39m(obj) \u001b[38;5;241m>\u001b[39m \u001b[38;5;241m0\u001b[39m \u001b[38;5;129;01mand\u001b[39;00m \u001b[38;5;129;01mnot\u001b[39;00m \u001b[38;5;28misinstance\u001b[39m(obj\u001b[38;5;241m.\u001b[39m_values, np\u001b[38;5;241m.\u001b[39mndarray):\n\u001b[0;32m    988\u001b[0m     \u001b[38;5;66;03m# we can preserve a little bit more aggressively with EA dtype\u001b[39;00m\n\u001b[0;32m    989\u001b[0m     \u001b[38;5;66;03m#  because maybe_cast_pointwise_result will do a try/except\u001b[39;00m\n\u001b[0;32m    990\u001b[0m     \u001b[38;5;66;03m#  with _from_sequence.  NB we are assuming here that _from_sequence\u001b[39;00m\n\u001b[0;32m    991\u001b[0m     \u001b[38;5;66;03m#  is sufficiently strict that it casts appropriately.\u001b[39;00m\n\u001b[0;32m    992\u001b[0m     preserve_dtype \u001b[38;5;241m=\u001b[39m \u001b[38;5;28;01mTrue\u001b[39;00m\n\u001b[1;32m--> 994\u001b[0m result \u001b[38;5;241m=\u001b[39m \u001b[38;5;28;43mself\u001b[39;49m\u001b[38;5;241;43m.\u001b[39;49m\u001b[43m_aggregate_series_pure_python\u001b[49m\u001b[43m(\u001b[49m\u001b[43mobj\u001b[49m\u001b[43m,\u001b[49m\u001b[43m \u001b[49m\u001b[43mfunc\u001b[49m\u001b[43m)\u001b[49m\n\u001b[0;32m    996\u001b[0m npvalues \u001b[38;5;241m=\u001b[39m lib\u001b[38;5;241m.\u001b[39mmaybe_convert_objects(result, try_float\u001b[38;5;241m=\u001b[39m\u001b[38;5;28;01mFalse\u001b[39;00m)\n\u001b[0;32m    997\u001b[0m \u001b[38;5;28;01mif\u001b[39;00m preserve_dtype:\n",
      "File \u001b[1;32m~\\AppData\\Local\\Packages\\PythonSoftwareFoundation.Python.3.11_qbz5n2kfra8p0\\LocalCache\\local-packages\\Python311\\site-packages\\pandas\\core\\groupby\\ops.py:1015\u001b[0m, in \u001b[0;36mBaseGrouper._aggregate_series_pure_python\u001b[1;34m(self, obj, func)\u001b[0m\n\u001b[0;32m   1012\u001b[0m splitter \u001b[38;5;241m=\u001b[39m \u001b[38;5;28mself\u001b[39m\u001b[38;5;241m.\u001b[39m_get_splitter(obj, axis\u001b[38;5;241m=\u001b[39m\u001b[38;5;241m0\u001b[39m)\n\u001b[0;32m   1014\u001b[0m \u001b[38;5;28;01mfor\u001b[39;00m i, group \u001b[38;5;129;01min\u001b[39;00m \u001b[38;5;28menumerate\u001b[39m(splitter):\n\u001b[1;32m-> 1015\u001b[0m     res \u001b[38;5;241m=\u001b[39m \u001b[43mfunc\u001b[49m\u001b[43m(\u001b[49m\u001b[43mgroup\u001b[49m\u001b[43m)\u001b[49m\n\u001b[0;32m   1016\u001b[0m     res \u001b[38;5;241m=\u001b[39m libreduction\u001b[38;5;241m.\u001b[39mextract_result(res)\n\u001b[0;32m   1018\u001b[0m     \u001b[38;5;28;01mif\u001b[39;00m \u001b[38;5;129;01mnot\u001b[39;00m initialized:\n\u001b[0;32m   1019\u001b[0m         \u001b[38;5;66;03m# We only do this validation on the first iteration\u001b[39;00m\n",
      "File \u001b[1;32m~\\AppData\\Local\\Packages\\PythonSoftwareFoundation.Python.3.11_qbz5n2kfra8p0\\LocalCache\\local-packages\\Python311\\site-packages\\pandas\\core\\groupby\\groupby.py:1857\u001b[0m, in \u001b[0;36mGroupBy.mean.<locals>.<lambda>\u001b[1;34m(x)\u001b[0m\n\u001b[0;32m   1853\u001b[0m     \u001b[38;5;28;01mreturn\u001b[39;00m \u001b[38;5;28mself\u001b[39m\u001b[38;5;241m.\u001b[39m_numba_agg_general(sliding_mean, engine_kwargs)\n\u001b[0;32m   1854\u001b[0m \u001b[38;5;28;01melse\u001b[39;00m:\n\u001b[0;32m   1855\u001b[0m     result \u001b[38;5;241m=\u001b[39m \u001b[38;5;28mself\u001b[39m\u001b[38;5;241m.\u001b[39m_cython_agg_general(\n\u001b[0;32m   1856\u001b[0m         \u001b[38;5;124m\"\u001b[39m\u001b[38;5;124mmean\u001b[39m\u001b[38;5;124m\"\u001b[39m,\n\u001b[1;32m-> 1857\u001b[0m         alt\u001b[38;5;241m=\u001b[39m\u001b[38;5;28;01mlambda\u001b[39;00m x: \u001b[43mSeries\u001b[49m\u001b[43m(\u001b[49m\u001b[43mx\u001b[49m\u001b[43m)\u001b[49m\u001b[38;5;241;43m.\u001b[39;49m\u001b[43mmean\u001b[49m\u001b[43m(\u001b[49m\u001b[43mnumeric_only\u001b[49m\u001b[38;5;241;43m=\u001b[39;49m\u001b[43mnumeric_only\u001b[49m\u001b[43m)\u001b[49m,\n\u001b[0;32m   1858\u001b[0m         numeric_only\u001b[38;5;241m=\u001b[39mnumeric_only,\n\u001b[0;32m   1859\u001b[0m     )\n\u001b[0;32m   1860\u001b[0m     \u001b[38;5;28;01mreturn\u001b[39;00m result\u001b[38;5;241m.\u001b[39m__finalize__(\u001b[38;5;28mself\u001b[39m\u001b[38;5;241m.\u001b[39mobj, method\u001b[38;5;241m=\u001b[39m\u001b[38;5;124m\"\u001b[39m\u001b[38;5;124mgroupby\u001b[39m\u001b[38;5;124m\"\u001b[39m)\n",
      "File \u001b[1;32m~\\AppData\\Local\\Packages\\PythonSoftwareFoundation.Python.3.11_qbz5n2kfra8p0\\LocalCache\\local-packages\\Python311\\site-packages\\pandas\\core\\generic.py:11556\u001b[0m, in \u001b[0;36mNDFrame._add_numeric_operations.<locals>.mean\u001b[1;34m(self, axis, skipna, numeric_only, **kwargs)\u001b[0m\n\u001b[0;32m  11539\u001b[0m \u001b[38;5;129m@doc\u001b[39m(\n\u001b[0;32m  11540\u001b[0m     _num_doc,\n\u001b[0;32m  11541\u001b[0m     desc\u001b[38;5;241m=\u001b[39m\u001b[38;5;124m\"\u001b[39m\u001b[38;5;124mReturn the mean of the values over the requested axis.\u001b[39m\u001b[38;5;124m\"\u001b[39m,\n\u001b[1;32m   (...)\u001b[0m\n\u001b[0;32m  11554\u001b[0m     \u001b[38;5;241m*\u001b[39m\u001b[38;5;241m*\u001b[39mkwargs,\n\u001b[0;32m  11555\u001b[0m ):\n\u001b[1;32m> 11556\u001b[0m     \u001b[38;5;28;01mreturn\u001b[39;00m \u001b[43mNDFrame\u001b[49m\u001b[38;5;241;43m.\u001b[39;49m\u001b[43mmean\u001b[49m\u001b[43m(\u001b[49m\u001b[38;5;28;43mself\u001b[39;49m\u001b[43m,\u001b[49m\u001b[43m \u001b[49m\u001b[43maxis\u001b[49m\u001b[43m,\u001b[49m\u001b[43m \u001b[49m\u001b[43mskipna\u001b[49m\u001b[43m,\u001b[49m\u001b[43m \u001b[49m\u001b[43mnumeric_only\u001b[49m\u001b[43m,\u001b[49m\u001b[43m \u001b[49m\u001b[38;5;241;43m*\u001b[39;49m\u001b[38;5;241;43m*\u001b[39;49m\u001b[43mkwargs\u001b[49m\u001b[43m)\u001b[49m\n",
      "File \u001b[1;32m~\\AppData\\Local\\Packages\\PythonSoftwareFoundation.Python.3.11_qbz5n2kfra8p0\\LocalCache\\local-packages\\Python311\\site-packages\\pandas\\core\\generic.py:11201\u001b[0m, in \u001b[0;36mNDFrame.mean\u001b[1;34m(self, axis, skipna, numeric_only, **kwargs)\u001b[0m\n\u001b[0;32m  11194\u001b[0m \u001b[38;5;28;01mdef\u001b[39;00m \u001b[38;5;21mmean\u001b[39m(\n\u001b[0;32m  11195\u001b[0m     \u001b[38;5;28mself\u001b[39m,\n\u001b[0;32m  11196\u001b[0m     axis: Axis \u001b[38;5;241m|\u001b[39m \u001b[38;5;28;01mNone\u001b[39;00m \u001b[38;5;241m=\u001b[39m \u001b[38;5;241m0\u001b[39m,\n\u001b[1;32m   (...)\u001b[0m\n\u001b[0;32m  11199\u001b[0m     \u001b[38;5;241m*\u001b[39m\u001b[38;5;241m*\u001b[39mkwargs,\n\u001b[0;32m  11200\u001b[0m ) \u001b[38;5;241m-\u001b[39m\u001b[38;5;241m>\u001b[39m Series \u001b[38;5;241m|\u001b[39m \u001b[38;5;28mfloat\u001b[39m:\n\u001b[1;32m> 11201\u001b[0m     \u001b[38;5;28;01mreturn\u001b[39;00m \u001b[38;5;28;43mself\u001b[39;49m\u001b[38;5;241;43m.\u001b[39;49m\u001b[43m_stat_function\u001b[49m\u001b[43m(\u001b[49m\n\u001b[0;32m  11202\u001b[0m \u001b[43m        \u001b[49m\u001b[38;5;124;43m\"\u001b[39;49m\u001b[38;5;124;43mmean\u001b[39;49m\u001b[38;5;124;43m\"\u001b[39;49m\u001b[43m,\u001b[49m\u001b[43m \u001b[49m\u001b[43mnanops\u001b[49m\u001b[38;5;241;43m.\u001b[39;49m\u001b[43mnanmean\u001b[49m\u001b[43m,\u001b[49m\u001b[43m \u001b[49m\u001b[43maxis\u001b[49m\u001b[43m,\u001b[49m\u001b[43m \u001b[49m\u001b[43mskipna\u001b[49m\u001b[43m,\u001b[49m\u001b[43m \u001b[49m\u001b[43mnumeric_only\u001b[49m\u001b[43m,\u001b[49m\u001b[43m \u001b[49m\u001b[38;5;241;43m*\u001b[39;49m\u001b[38;5;241;43m*\u001b[39;49m\u001b[43mkwargs\u001b[49m\n\u001b[0;32m  11203\u001b[0m \u001b[43m    \u001b[49m\u001b[43m)\u001b[49m\n",
      "File \u001b[1;32m~\\AppData\\Local\\Packages\\PythonSoftwareFoundation.Python.3.11_qbz5n2kfra8p0\\LocalCache\\local-packages\\Python311\\site-packages\\pandas\\core\\generic.py:11158\u001b[0m, in \u001b[0;36mNDFrame._stat_function\u001b[1;34m(self, name, func, axis, skipna, numeric_only, **kwargs)\u001b[0m\n\u001b[0;32m  11154\u001b[0m     nv\u001b[38;5;241m.\u001b[39mvalidate_stat_func((), kwargs, fname\u001b[38;5;241m=\u001b[39mname)\n\u001b[0;32m  11156\u001b[0m validate_bool_kwarg(skipna, \u001b[38;5;124m\"\u001b[39m\u001b[38;5;124mskipna\u001b[39m\u001b[38;5;124m\"\u001b[39m, none_allowed\u001b[38;5;241m=\u001b[39m\u001b[38;5;28;01mFalse\u001b[39;00m)\n\u001b[1;32m> 11158\u001b[0m \u001b[38;5;28;01mreturn\u001b[39;00m \u001b[38;5;28;43mself\u001b[39;49m\u001b[38;5;241;43m.\u001b[39;49m\u001b[43m_reduce\u001b[49m\u001b[43m(\u001b[49m\n\u001b[0;32m  11159\u001b[0m \u001b[43m    \u001b[49m\u001b[43mfunc\u001b[49m\u001b[43m,\u001b[49m\u001b[43m \u001b[49m\u001b[43mname\u001b[49m\u001b[38;5;241;43m=\u001b[39;49m\u001b[43mname\u001b[49m\u001b[43m,\u001b[49m\u001b[43m \u001b[49m\u001b[43maxis\u001b[49m\u001b[38;5;241;43m=\u001b[39;49m\u001b[43maxis\u001b[49m\u001b[43m,\u001b[49m\u001b[43m \u001b[49m\u001b[43mskipna\u001b[49m\u001b[38;5;241;43m=\u001b[39;49m\u001b[43mskipna\u001b[49m\u001b[43m,\u001b[49m\u001b[43m \u001b[49m\u001b[43mnumeric_only\u001b[49m\u001b[38;5;241;43m=\u001b[39;49m\u001b[43mnumeric_only\u001b[49m\n\u001b[0;32m  11160\u001b[0m \u001b[43m\u001b[49m\u001b[43m)\u001b[49m\n",
      "File \u001b[1;32m~\\AppData\\Local\\Packages\\PythonSoftwareFoundation.Python.3.11_qbz5n2kfra8p0\\LocalCache\\local-packages\\Python311\\site-packages\\pandas\\core\\series.py:4670\u001b[0m, in \u001b[0;36mSeries._reduce\u001b[1;34m(self, op, name, axis, skipna, numeric_only, filter_type, **kwds)\u001b[0m\n\u001b[0;32m   4665\u001b[0m     \u001b[38;5;28;01mraise\u001b[39;00m \u001b[38;5;167;01mTypeError\u001b[39;00m(\n\u001b[0;32m   4666\u001b[0m         \u001b[38;5;124mf\u001b[39m\u001b[38;5;124m\"\u001b[39m\u001b[38;5;124mSeries.\u001b[39m\u001b[38;5;132;01m{\u001b[39;00mname\u001b[38;5;132;01m}\u001b[39;00m\u001b[38;5;124m does not allow \u001b[39m\u001b[38;5;132;01m{\u001b[39;00mkwd_name\u001b[38;5;132;01m}\u001b[39;00m\u001b[38;5;124m=\u001b[39m\u001b[38;5;132;01m{\u001b[39;00mnumeric_only\u001b[38;5;132;01m}\u001b[39;00m\u001b[38;5;124m \u001b[39m\u001b[38;5;124m\"\u001b[39m\n\u001b[0;32m   4667\u001b[0m         \u001b[38;5;124m\"\u001b[39m\u001b[38;5;124mwith non-numeric dtypes.\u001b[39m\u001b[38;5;124m\"\u001b[39m\n\u001b[0;32m   4668\u001b[0m     )\n\u001b[0;32m   4669\u001b[0m \u001b[38;5;28;01mwith\u001b[39;00m np\u001b[38;5;241m.\u001b[39merrstate(\u001b[38;5;28mall\u001b[39m\u001b[38;5;241m=\u001b[39m\u001b[38;5;124m\"\u001b[39m\u001b[38;5;124mignore\u001b[39m\u001b[38;5;124m\"\u001b[39m):\n\u001b[1;32m-> 4670\u001b[0m     \u001b[38;5;28;01mreturn\u001b[39;00m \u001b[43mop\u001b[49m\u001b[43m(\u001b[49m\u001b[43mdelegate\u001b[49m\u001b[43m,\u001b[49m\u001b[43m \u001b[49m\u001b[43mskipna\u001b[49m\u001b[38;5;241;43m=\u001b[39;49m\u001b[43mskipna\u001b[49m\u001b[43m,\u001b[49m\u001b[43m \u001b[49m\u001b[38;5;241;43m*\u001b[39;49m\u001b[38;5;241;43m*\u001b[39;49m\u001b[43mkwds\u001b[49m\u001b[43m)\u001b[49m\n",
      "File \u001b[1;32m~\\AppData\\Local\\Packages\\PythonSoftwareFoundation.Python.3.11_qbz5n2kfra8p0\\LocalCache\\local-packages\\Python311\\site-packages\\pandas\\core\\nanops.py:96\u001b[0m, in \u001b[0;36mdisallow.__call__.<locals>._f\u001b[1;34m(*args, **kwargs)\u001b[0m\n\u001b[0;32m     94\u001b[0m \u001b[38;5;28;01mtry\u001b[39;00m:\n\u001b[0;32m     95\u001b[0m     \u001b[38;5;28;01mwith\u001b[39;00m np\u001b[38;5;241m.\u001b[39merrstate(invalid\u001b[38;5;241m=\u001b[39m\u001b[38;5;124m\"\u001b[39m\u001b[38;5;124mignore\u001b[39m\u001b[38;5;124m\"\u001b[39m):\n\u001b[1;32m---> 96\u001b[0m         \u001b[38;5;28;01mreturn\u001b[39;00m \u001b[43mf\u001b[49m\u001b[43m(\u001b[49m\u001b[38;5;241;43m*\u001b[39;49m\u001b[43margs\u001b[49m\u001b[43m,\u001b[49m\u001b[43m \u001b[49m\u001b[38;5;241;43m*\u001b[39;49m\u001b[38;5;241;43m*\u001b[39;49m\u001b[43mkwargs\u001b[49m\u001b[43m)\u001b[49m\n\u001b[0;32m     97\u001b[0m \u001b[38;5;28;01mexcept\u001b[39;00m \u001b[38;5;167;01mValueError\u001b[39;00m \u001b[38;5;28;01mas\u001b[39;00m e:\n\u001b[0;32m     98\u001b[0m     \u001b[38;5;66;03m# we want to transform an object array\u001b[39;00m\n\u001b[0;32m     99\u001b[0m     \u001b[38;5;66;03m# ValueError message to the more typical TypeError\u001b[39;00m\n\u001b[0;32m    100\u001b[0m     \u001b[38;5;66;03m# e.g. this is normally a disallowed function on\u001b[39;00m\n\u001b[0;32m    101\u001b[0m     \u001b[38;5;66;03m# object arrays that contain strings\u001b[39;00m\n\u001b[0;32m    102\u001b[0m     \u001b[38;5;28;01mif\u001b[39;00m is_object_dtype(args[\u001b[38;5;241m0\u001b[39m]):\n",
      "File \u001b[1;32m~\\AppData\\Local\\Packages\\PythonSoftwareFoundation.Python.3.11_qbz5n2kfra8p0\\LocalCache\\local-packages\\Python311\\site-packages\\pandas\\core\\nanops.py:158\u001b[0m, in \u001b[0;36mbottleneck_switch.__call__.<locals>.f\u001b[1;34m(values, axis, skipna, **kwds)\u001b[0m\n\u001b[0;32m    156\u001b[0m         result \u001b[38;5;241m=\u001b[39m alt(values, axis\u001b[38;5;241m=\u001b[39maxis, skipna\u001b[38;5;241m=\u001b[39mskipna, \u001b[38;5;241m*\u001b[39m\u001b[38;5;241m*\u001b[39mkwds)\n\u001b[0;32m    157\u001b[0m \u001b[38;5;28;01melse\u001b[39;00m:\n\u001b[1;32m--> 158\u001b[0m     result \u001b[38;5;241m=\u001b[39m \u001b[43malt\u001b[49m\u001b[43m(\u001b[49m\u001b[43mvalues\u001b[49m\u001b[43m,\u001b[49m\u001b[43m \u001b[49m\u001b[43maxis\u001b[49m\u001b[38;5;241;43m=\u001b[39;49m\u001b[43maxis\u001b[49m\u001b[43m,\u001b[49m\u001b[43m \u001b[49m\u001b[43mskipna\u001b[49m\u001b[38;5;241;43m=\u001b[39;49m\u001b[43mskipna\u001b[49m\u001b[43m,\u001b[49m\u001b[43m \u001b[49m\u001b[38;5;241;43m*\u001b[39;49m\u001b[38;5;241;43m*\u001b[39;49m\u001b[43mkwds\u001b[49m\u001b[43m)\u001b[49m\n\u001b[0;32m    160\u001b[0m \u001b[38;5;28;01mreturn\u001b[39;00m result\n",
      "File \u001b[1;32m~\\AppData\\Local\\Packages\\PythonSoftwareFoundation.Python.3.11_qbz5n2kfra8p0\\LocalCache\\local-packages\\Python311\\site-packages\\pandas\\core\\nanops.py:421\u001b[0m, in \u001b[0;36m_datetimelike_compat.<locals>.new_func\u001b[1;34m(values, axis, skipna, mask, **kwargs)\u001b[0m\n\u001b[0;32m    418\u001b[0m \u001b[38;5;28;01mif\u001b[39;00m datetimelike \u001b[38;5;129;01mand\u001b[39;00m mask \u001b[38;5;129;01mis\u001b[39;00m \u001b[38;5;28;01mNone\u001b[39;00m:\n\u001b[0;32m    419\u001b[0m     mask \u001b[38;5;241m=\u001b[39m isna(values)\n\u001b[1;32m--> 421\u001b[0m result \u001b[38;5;241m=\u001b[39m \u001b[43mfunc\u001b[49m\u001b[43m(\u001b[49m\u001b[43mvalues\u001b[49m\u001b[43m,\u001b[49m\u001b[43m \u001b[49m\u001b[43maxis\u001b[49m\u001b[38;5;241;43m=\u001b[39;49m\u001b[43maxis\u001b[49m\u001b[43m,\u001b[49m\u001b[43m \u001b[49m\u001b[43mskipna\u001b[49m\u001b[38;5;241;43m=\u001b[39;49m\u001b[43mskipna\u001b[49m\u001b[43m,\u001b[49m\u001b[43m \u001b[49m\u001b[43mmask\u001b[49m\u001b[38;5;241;43m=\u001b[39;49m\u001b[43mmask\u001b[49m\u001b[43m,\u001b[49m\u001b[43m \u001b[49m\u001b[38;5;241;43m*\u001b[39;49m\u001b[38;5;241;43m*\u001b[39;49m\u001b[43mkwargs\u001b[49m\u001b[43m)\u001b[49m\n\u001b[0;32m    423\u001b[0m \u001b[38;5;28;01mif\u001b[39;00m datetimelike:\n\u001b[0;32m    424\u001b[0m     result \u001b[38;5;241m=\u001b[39m _wrap_results(result, orig_values\u001b[38;5;241m.\u001b[39mdtype, fill_value\u001b[38;5;241m=\u001b[39miNaT)\n",
      "File \u001b[1;32m~\\AppData\\Local\\Packages\\PythonSoftwareFoundation.Python.3.11_qbz5n2kfra8p0\\LocalCache\\local-packages\\Python311\\site-packages\\pandas\\core\\nanops.py:727\u001b[0m, in \u001b[0;36mnanmean\u001b[1;34m(values, axis, skipna, mask)\u001b[0m\n\u001b[0;32m    724\u001b[0m     dtype_count \u001b[38;5;241m=\u001b[39m dtype\n\u001b[0;32m    726\u001b[0m count \u001b[38;5;241m=\u001b[39m _get_counts(values\u001b[38;5;241m.\u001b[39mshape, mask, axis, dtype\u001b[38;5;241m=\u001b[39mdtype_count)\n\u001b[1;32m--> 727\u001b[0m the_sum \u001b[38;5;241m=\u001b[39m \u001b[43m_ensure_numeric\u001b[49m\u001b[43m(\u001b[49m\u001b[43mvalues\u001b[49m\u001b[38;5;241;43m.\u001b[39;49m\u001b[43msum\u001b[49m\u001b[43m(\u001b[49m\u001b[43maxis\u001b[49m\u001b[43m,\u001b[49m\u001b[43m \u001b[49m\u001b[43mdtype\u001b[49m\u001b[38;5;241;43m=\u001b[39;49m\u001b[43mdtype_sum\u001b[49m\u001b[43m)\u001b[49m\u001b[43m)\u001b[49m\n\u001b[0;32m    729\u001b[0m \u001b[38;5;28;01mif\u001b[39;00m axis \u001b[38;5;129;01mis\u001b[39;00m \u001b[38;5;129;01mnot\u001b[39;00m \u001b[38;5;28;01mNone\u001b[39;00m \u001b[38;5;129;01mand\u001b[39;00m \u001b[38;5;28mgetattr\u001b[39m(the_sum, \u001b[38;5;124m\"\u001b[39m\u001b[38;5;124mndim\u001b[39m\u001b[38;5;124m\"\u001b[39m, \u001b[38;5;28;01mFalse\u001b[39;00m):\n\u001b[0;32m    730\u001b[0m     count \u001b[38;5;241m=\u001b[39m cast(np\u001b[38;5;241m.\u001b[39mndarray, count)\n",
      "File \u001b[1;32m~\\AppData\\Local\\Packages\\PythonSoftwareFoundation.Python.3.11_qbz5n2kfra8p0\\LocalCache\\local-packages\\Python311\\site-packages\\pandas\\core\\nanops.py:1699\u001b[0m, in \u001b[0;36m_ensure_numeric\u001b[1;34m(x)\u001b[0m\n\u001b[0;32m   1696\u001b[0m             x \u001b[38;5;241m=\u001b[39m \u001b[38;5;28mcomplex\u001b[39m(x)\n\u001b[0;32m   1697\u001b[0m         \u001b[38;5;28;01mexcept\u001b[39;00m \u001b[38;5;167;01mValueError\u001b[39;00m \u001b[38;5;28;01mas\u001b[39;00m err:\n\u001b[0;32m   1698\u001b[0m             \u001b[38;5;66;03m# e.g. \"foo\"\u001b[39;00m\n\u001b[1;32m-> 1699\u001b[0m             \u001b[38;5;28;01mraise\u001b[39;00m \u001b[38;5;167;01mTypeError\u001b[39;00m(\u001b[38;5;124mf\u001b[39m\u001b[38;5;124m\"\u001b[39m\u001b[38;5;124mCould not convert \u001b[39m\u001b[38;5;132;01m{\u001b[39;00mx\u001b[38;5;132;01m}\u001b[39;00m\u001b[38;5;124m to numeric\u001b[39m\u001b[38;5;124m\"\u001b[39m) \u001b[38;5;28;01mfrom\u001b[39;00m \u001b[38;5;21;01merr\u001b[39;00m\n\u001b[0;32m   1700\u001b[0m \u001b[38;5;28;01mreturn\u001b[39;00m x\n",
      "\u001b[1;31mTypeError\u001b[0m: Could not convert AltoMedioMedioBajoMedioMedioMedioMedioBajoMedioBajoMedioMedioMedioBajoMedioMedioMedioBajoAltoMedioMedioBajoMedioAltoMedioAltoBajoMedioAltoBajoAltoAltoBajoMedioMedioMedioAltoMedioMedioAltoBajoMedioMedioMedioMedioMedioAltoAltoMedioMedioBajoBajoBajoMedioAltoMedioAltoBajoBajoAltoAltoBajoAltoBajoBajoMedioBajoBajoMedioBajoMedioMedioMedioMedioAltoMedioBajoMedioAltoBajoBajoMedioBajoBajoBajoAltoMedioMedioAltoBajoBajoAltoAltoMedioMedioAltoAltoAltoBajoMedioMedioMedioBajoAltoMedioMedioMedioMedioBajoBajoBajoBajoAltoBajoBajoBajoMedioMedioMedioMedioBajoBajoMedioMedioBajoAltoAltoAltoAltoAltoMedioMedioAltoMedioMedioAltoMedioAltoAltoBajoMedioMedioAltoBajoAltoMedioBajoMedioMedioMedioBajoBajoBajoAltoMedioBajoBajoMedioBajoMedioAltoMedioAltoMedioMedioMedioBajoMedioMedioBajoMedioMedioAltoMedioMedioAltoAltoMedioMedioBajoBajoBajoMedioMedioBajoAltoMedioMedioAltoAltoMedioMedioBajoAltoMedioMedioBajoMedioBajoBajoMedioMedioMedioMedioAltoMedioMedioBajoAltoMedioMedioMedioMedioMedioAltoBajoMedioBajoMedioMedioBajoAltoMedioAltoMedioBajoMedioAltoBajoBajoAltoMedioMedioMedioAltoMedioBajoMedioBajoMedioBajoMedioMedioMedioMedioMedioMedioMedioBajoMedioBajoAltoMedioBajoAltoBajoMedioMedioMedioMedioAltoMedioMedioAltoMedioMedioMedioMedioMedioMedioMedioAltoBajoMedioAltoBajoBajoMedioAltoBajoMedioMedioMedioMedioBajoMedioAltoMedioAltoMedioMedioMedioAltoBajoBajoMedioBajoMedioMedioMedioMedioBajoMedioMedioMedioAltoMedioBajoAltoBajoMedioBajoMedioMedioBajoBajoBajoBajoMedioAltoBajoAltoBajoMedioMedioMedioAltoMedioAltoBajoMedioAltoAltoBajoMedioMedioMedioMedioMedioBajoBajoMedioBajoMedioMedioMedioBajoMedioMedioBajoBajoMedioMedioMedioBajoBajoAltoMedioMedioBajoMedioMedioMedioMedioMedioMedioMedioMedioMedioBajoMedioAltoMedioMedioMedioBajoMedioMedioBajoMedioMedioAltoAltoMedioBajoAltoAltoBajoMedioAltoBajoMedioMedioMedioMedioMedioBajoAltoAltoMedioAltoAltoMedioMedioMedioMedioBajoMedioBajoAltoBajoBajoBajoBajoBajoAltoBajoBajoBajoMedioMedioMedioBajoAltoMedioMedioMedioMedioMedioMedioBajoAltoBajoMedioMedioBajoBajoMedioMedioAltoMedioBajoMedioAltoMedioMedioMedioMedioMedioMedioMedioMedioMedioBajoBajoMedioMedioMedioAltoMedioMedioMedioBajoBajoBajoBajoBajoBajoAltoMedioAltoMedioMedioMedioMedioAltoMedioBajoMedioBajoBajoMedioAltoMedioAltoMedioMedioBajoMedioMedioMedioBajoMedioMedioAltoMedioBajoMedioBajoMedioMedioBajoMedioAltoAltoMedioAltoAltoBajoAltoMedioMedioMedioMedioMedioBajoBajoAltoMedioMedioMedioAltoBajoBajoAltoBajoMedioMedioMedioMedioBajoBajoMedioBajoBajoMedioBajoMedioMedioAltoBajoAltoBajoAltoMedioMedioMedioMedioAltoMedioBajoMedioBajoBajoBajoMedioAltoMedioBajoMedioMedioMedioMedioMedioMedioBajoAltoMedioAltoMedioBajoMedioMedioBajoAltoMedioMedioBajoBajoMedioMedioMedioMedioBajoMedioBajoMedioMedioMedioBajoMedioMedioAltoMedioMedioBajoBajoMedioMedioMedioMedioMedioMedioBajoBajoBajoMedioAltoBajoMedioMedioMedioMedioAltoMedioMedioAltoMedioMedioMedioBajoBajoAltoBajoBajoAltoAltoBajoMedioMedioBajoMedioAltoBajoBajoMedioAltoMedioMedioBajoBajoMedioMedioBajoMedioBajoMedioAltoAltoMedioBajoMedioMedioMedioMedioAltoAltoAltoBajoMedioMedioMedioAltoMedioMedioMedioAltoMedioMedioBajoMedioBajoMedioAltoMedioBajoBajoAltoMedioBajoBajoMedioAltoMedioMedioAltoMedioAltoBajoMedioBajoMedioMedioBajoAltoMedioBajoMedioBajoMedioMedioMedioMedioBajoMedioMedioMedioAltoAltoAltoMedioBajoBajoAltoBajoMedioMedioBajoAltoMedioBajoMedioMedioMedioBajoMedioAltoAltoAltoMedioMedioBajoMedioMedioAltoBajoMedioMedioMedioBajoMedioMedioMedioMedioMedioBajoBajoAltoMedioAltoMedioMedioMedioMedioMedioAltoAltoMedioBajoMedioAltoMedioMedioBajoBajoMedioBajoMedioMedioMedioMedioAltoMedioBajoAltoMedioBajoAltoAltoBajoMedioMedioMedioAltoMedioBajoAltoMedioAltoAltoAltoMedioAltoBajoMedioBajoAltoMedioBajoAltoBajoAltoBajoMedioBajoBajoBajoMedioBajoMedioBajoBajoMedioBajoMedioAltoBajoMedioBajoBajoBajoMedioMedioMedioBajoBajoAltoAltoBajoAltoAltoAltoBajoBajoMedioAltoAltoBajoMedioMedioMedioBajoAltoMedioBajoMedioMedioMedioBajoAltoMedioBajoMedioAltoMedioAltoMedioMedioMedioAltoBajoMedioAltoMedioBajoBajoMedioAltoMedioAltoAltoMedioMedioMedioMedioMedioMedioBajoMedioAltoMedioAltoMedioMedioAltoBajoMedioMedioBajoBajoMedioMedioMedioMedioMedioMedioBajoMedioBajoMedioAltoMedioMedioBajoBajoAltoBajoAltoBajoBajoMedioMedioMedioBajoMedioMedioMedioMedioMedioAltoMedioMedioMedioAltoMedioMedioAltoMedioMedioMedioBajoMedioBajoMedioBajoAltoAltoMedioMedioBajoAltoMedioAltoAltoMedioMedioMedioMedioBajoAltoMedioAltoMedioBajoBajoMedioMedioAltoBajoMedioMedioMedioMedioMedioBajoBajoMedioAltoMedioMedioMedioMedioMedioMedioMedioMedioBajoBajoAltoMedioAltoBajoMedioMedioMedioMedioBajoAltoBajoMedioAltoBajoMedioBajoMedioMedioAltoMedioMedioMedioBajoBajoMedioBajoAltoAltoBajoBajoBajoMedioMedioMedioBajoAltoMedioMedioBajoMedioAltoMedioBajoAltoBajoBajoBajoMedioBajoAltoMedioMedioAltoMedioMedioMedioAltoMedioMedioBajoBajoAltoBajoBajoBajoAltoMedioMedioMedioMedioAltoMedioBajoMedioBajoMedioMedioBajoMedioMedioAltoAltoMedioBajoAltoBajoAltoMedioMedioBajoMedioMedioBajoBajoAltoMedioMedioBajoAltoAltoAltoBajoBajoMedioBajoAltoMedioBajoBajoAltoBajoAltoAltoBajoMedioMedioMedioMedioBajoMedioMedioBajoAltoBajoBajoAltoMedioMedioAltoMedioBajoMedioMedioMedioAltoBajoMedioBajoMedioMedioBajoBajoMedioBajoBajoAltoMedioMedioAltoBajoMedioBajoMedioBajoMedioMedioMedioBajoBajoBajoMedioMedioBajoMedioAltoMedioMedioMedioMedioMedioAltoMedioBajoMedioAltoMedioMedioAltoMedioMedioMedioMedioAltoMedioBajoMedioBajoMedioMedioMedioAltoBajoMedioMedioBajoBajoAltoMedioMedioBajoBajoMedioMedioMedioMedioAltoAltoMedioBajoAltoBajoBajoMedioMedioMedioMedioBajoBajoAltoMedioAltoMedioMedioAltoBajoBajoBajoBajoMedioBajoBajoBajoMedioBajoAltoBajoBajoAltoAltoAltoMedioBajoMedioMedioAltoAltoAltoBajoMedioAltoAltoMedioMedioMedioBajoAltoBajoAltoAltoAltoMedioMedioMedioMedioMedioMedioBajoMedioBajoBajoBajoMedioMedioAltoAltoBajoAltoAltoBajoMedioMedioAltoMedioMedioAltoMedioBajoMedioBajoMedioBajoAltoMedioBajoMedioBajoBajoBajoMedioAltoBajoBajoMedioAltoMedioAltoAltoAltoBajoMedioMedioMedioBajoAltoMedioMedioAltoMedioMedioMedioMedioBajoBajoAltoMedioBajoBajoBajoBajoMedioBajoAltoBajoMedioMedioAltoBajoMedioAltoMedioMedioBajoMedioMedioBajoMedioAltoBajoAltoMedioMedioMedioBajoMedioBajoMedioAltoMedioMedioMedioMedioMedioMedioAltoBajoMedioBajoAltoMedioMedioAltoAltoMedioAltoAltoAltoMedioMedioAltoMedioAltoMedioBajoMedioAltoBajoBajoBajoAltoMedioMedioBajoMedioMedioAltoBajoAltoMedioMedioMedioBajoMedioMedioAltoAltoBajoAltoAltoMedioMedioMedioMedioMedioMedioBajoMedioBajoMedioBajoMedioMedioMedioMedioAltoMedioMedioBajoMedioMedioMedioBajoMedioMedioMedioMedioBajoBajoMedioBajoAltoBajoBajoMedioMedioMedioMedioMedioMedioBajoAltoBajoMedioAltoMedioMedioMedioBajoMedioBajoMedioMedioMedioBajoBajoBajoBajoMedioBajoMedioBajoMedioMedioAltoMedioAltoMedioBajoAltoAltoBajoMedioMedioMedioMedioBajoAltoBajoMedioBajoMedioBajoAltoBajoMedioAltoAltoMedioBajoMedioBajoAltoMedioMedioBajoAltoMedioBajoBajoMedioAltoMedioMedioAltoMedioMedioMedioMedioMedioMedioMedioAltoBajoMedioMedioMedioAltoAltoMedioBajoMedioAltoAltoMedioMedioBajoMedioAltoMedioBajoMedioMedioAltoAltoMedioMedioAltoAltoAltoAltoMedioBajoBajoMedioMedioBajoAltoMedioBajoAltoMedioBajoMedioBajoAltoMedioBajoMedioBajoMedioAltoMedioAltoMedioAltoBajoBajoMedioBajoMedioMedioMedioMedioMedioBajoMedioMedioBajoMedioAltoBajoBajoMedioMedioMedioAltoMedioBajoMedioAltoMedioBajoMedioBajoBajoBajoMedioBajoBajoMedioAltoMedioMedioMedioBajoMedioBajoMedioMedioMedioBajoMedioMedioAltoMedioMedioMedioMedioMedioBajoMedioMedioAltoBajoMedioBajoMedioAltoBajoMedioMedioBajoMedioMedioBajoBajoAltoBajoMedioMedioMedioAltoMedioMedioMedioMedioMedioAltoMedioBajoBajoMedioBajoMedioAltoMedioMedioBajoMedioAltoAltoBajoAltoMedioBajoBajoMedioAltoMedioMedioBajoAltoAltoMedioMedioMedioBajoMedioBajoBajoAltoMedioAltoAltoMedioMedioAltoBajoMedioMedioBajoMedioAltoBajoBajoMedioMedioMedioMedioMedioBajoMedioMedioAltoMedioMedioMedioMedioBajoBajoMedioAltoAltoMedioMedioMedioMedioBajoBajoMedioAltoMedioMedioAltoAltoBajoMedioAltoMedioBajoBajoMedioAltoMedioMedioMedioMedioMedioBajoAltoMedioMedioMedioMedioAltoMedioAltoMedioAltoMedioBajoAltoBajoMedioBajoMedioBajoBajoAltoMedioBajoAltoMedioBajoMedioMedioBajoAltoMedioMedioMedioBajoBajoBajoBajoBajoMedioMedioBajoBajoBajoAltoBajoBajoMedioAltoMedioMedioMedioMedioMedioBajoMedioBajoMedioBajoMedioBajoBajoBajoMedioMedioMedioAltoBajoMedioAltoBajoMedioAltoMedioBajoMedioAltoMedioMedioMedioMedioMedioBajoBajoMedioBajoBajoBajoMedioAltoMedioBajoMedioMedioAltoMedioBajoMedioBajoMedioBajoMedioMedioAltoMedioMedioMedioBajoMedioBajoBajoBajoMedioMedioMedioAltoBajoAltoBajoAltoMedioBajoMedioMedioBajoMedioAltoAltoBajoBajoMedioBajoBajoMedioMedioMedioAltoMedioMedioMedioMedioMedioBajoBajoAltoMedioBajoMedioAltoMedioMedioBajoMedioMedioMedioBajoMedioAltoBajoMedioMedioMedioMedioBajoMedioMedioAltoMedioMedioMedioMedioMedioMedioAltoBajoAltoBajoBajoBajoBajoAltoAltoAltoAltoMedioBajoMedioBajoMedioBajoMedioMedioBajoAltoAltoAltoAltoAltoBajoMedioBajoMedioMedioAltoMedioMedioMedioMedioMedioMedioBajoMedioMedioBajoMedioBajoMedioMedioMedioBajoMedioMedioBajoBajoBajoMedioBajoBajoAltoMedioMedioMedioAltoMedioMedioAltoMedioMedioAltoBajoAltoMedioAltoAltoAltoMedioAltoMedioMedioMedioMedioMedioBajoAltoMedioMedioMedioAltoAltoMedioMedioAltoMedioBajoMedioMedioMedioMedioAltoMedioMedioMedioMedioBajoAltoBajoBajoBajoBajoBajoAltoMedioBajoBajoMedioMedioMedioBajoMedioBajoMedioAltoMedioMedioMedioAltoAltoBajoMedioBajoAltoMedioMedioBajoMedioMedioBajoMedioMedioMedioMedioAltoAltoAltoMedioBajoAltoAltoAltoAltoAltoMedioMedioAltoMedioAltoMedioMedioBajoBajoBajoAltoBajoAltoAltoAltoMedioAltoMedioAltoMedioBajoBajoMedioBajoBajoBajoAltoMedioMedioMedioAltoBajoMedioBajoAltoMedioMedioBajoMedioMedioBajoBajoBajoBajoMedioBajoMedioMedioBajoMedioAltoMedioMedioMedioMedioMedioMedioMedioAltoBajoBajoBajoBajoBajoMedioAltoMedioMedioMedioBajoBajoBajoMedioAltoAltoMedioMedioAltoMedioBajoMedioBajoAltoAltoBajoBajoMedioAltoAltoMedioBajoAltoMedioMedioMedioAltoMedioBajoMedioBajoBajoMedioBajoBajoAltoMedioMedioMedioBajoMedioMedioBajoMedioMedioBajoMedioMedioMedioMedioBajoMedioAltoAltoMedioMedioMedioAltoMedioAltoBajoMedioBajoBajoMedioAltoBajoMedioMedioMedioMedioMedioBajoMedioMedioMedioBajoBajoBajoMedioAltoMedioMedioAltoMedioMedioAltoMedioMedioMedioAltoBajoAltoMedioAltoBajoBajoAltoAltoAltoAltoMedioMedioBajoMedioMedioBajoAltoMedioAltoAltoMedioBajoBajoMedioBajoAltoMedioBajoMedioBajoAltoBajoMedioMedioBajoMedioMedioAltoMedioBajoAltoMedioBajoMedioMedioAltoMedioMedioMedioMedioMedioAltoMedioMedioBajoAltoMedioBajoMedioMedioMedioMedioAltoMedioAltoMedioMedioBajoBajoMedioMedioMedioMedioMedioMedioMedioAltoBajoMedioMedioMedioMedioBajoMedioMedioAltoAltoMedioMedioBajoAltoBajoBajoAltoBajoMedioBajoMedioBajoBajoMedioAltoBajoMedioMedioMedioBajoMedioMedioAltoMedioAltoMedioMedioMedioMedioMedioMedioMedioMedioMedioMedioMedioAltoBajoBajoMedioBajoAltoBajoMedioMedioMedioMedioMedioMedioAltoBajoMedioBajoAltoBajoBajoBajoMedioMedioMedioMedioBajoMedioBajoAltoBajoMedioMedioBajoAltoMedioMedioBajoMedioBajoBajoBajoAltoBajoMedioAltoBajoMedioMedioMedioMedioBajoMedioMedioBajoBajoMedioMedioAltoMedioBajoBajoMedioBajoMedioBajoBajoBajoBajoBajoBajoMedioMedioMedioMedioMedioMedioMedioAltoMedioMedioMedioMedioBajoMedioBajoBajoBajoBajoMedioAltoMedioBajoMedioMedioMedioMedioBajoMedioMedioMedioBajoBajoAltoMedioMedioBajoBajoMedioMedioMedioAltoMedioMedioAltoMedioBajoBajoMedioMedioAltoBajoAltoMedioMedioBajoAltoMedioMedioBajoBajoMedioAltoBajoMedioAltoMedioAltoBajoMedioMedioBajoMedioBajoAltoMedioBajoBajoMedioBajoBajoMedioBajoBajoBajoBajoMedioAltoAltoMedioAltoAltoMedioMedioMedioMedioMedioBajoMedioMedioMedioBajoAltoAltoMedioMedioBajoMedioMedioAltoMedioMedioBajoAltoMedioMedioMedioMedioMedioMedioMedioMedioMedioAltoAltoMedioMedioBajoAltoBajoMedioBajoMedioMedioBajoMedioMedioAltoBajoBajoMedioMedioMedioMedioMedioMedioAltoMedioMedioMedioAltoBajoBajoBajoBajoMedioMedioBajoBajoMedioAltoBajoBajoAltoMedioAltoMedioMedioAltoBajoAltoMedioBajoMedioMedioMedioBajoMedioMedioAltoAltoAltoAltoBajoBajoMedioBajoMedioAltoBajoMedioBajoAltoMedioBajoMedioMedioMedioMedioAltoBajoAltoMedioBajoAltoMedioMedioMedioMedioBajoBajoMedioMedioMedioMedioBajoBajoAltoMedioMedioBajoMedioBajoMedioBajoMedioAltoMedioBajoMedioMedioMedioMedioBajoBajoMedioBajoBajoMedioMedioMedioAltoMedioMedioBajoMedioAltoAltoAltoAltoAltoBajoMedioAltoAltoMedioMedioAltoMedioMedioBajoMedioBajoMedioMedioMedioAltoAltoMedioMedioBajoMedioBajoMedioMedioMedioAltoMedioAltoBajoBajoMedioMedioMedioBajoMedioMedioMedioMedioMedioMedioMedioMedioMedioAltoAltoMedioBajoMedioMedioAltoMedioAltoAltoBajoBajoMedioMedioBajoMedioMedioMedioAltoAltoBajoMedioMedioBajoBajoBajoMedioMedioBajoAltoBajoMedioMedioMedioMedioMedioMedioMedioBajoMedioMedioMedioMedioBajoMedioMedioBajoBajoMedioMedioBajoMedioAltoMedioMedioMedioMedioBajoMedioMedioMedioMedioMedioMedioAltoBajoBajoAltoBajoAltoMedioMedioBajoMedioAltoMedioBajoBajoMedioMedioMedioBajoBajoMedioMedioBajoAltoMedioMedioMedioMedioAltoBajoMedioMedioAltoBajoMedioMedioBajoMedioBajoMedioMedioBajoMedioAltoMedioMedioMedioAltoMedioMedioMedioAltoAltoMedioBajoAltoAltoAltoMedioMedioBajoAltoMedioBajoMedioMedioAltoMedioMedioMedioMedioBajoBajoAltoMedioAltoMedioMedioAltoMedioAltoMedioAltoBajoMedioBajoMedioBajoMedioMedioMedioBajoBajoMedioAltoBajoMedioBajoAltoBajoMedioMedioBajoMedioBajoAltoMedioMedioMedioBajoMedioBajoMedioMedioAltoMedioMedioMedioBajoBajoMedioAltoMedioMedioBajoAltoBajoMedioMedioAltoMedioBajoBajoBajoAltoMedioBajoMedioBajoMedioAltoBajoMedioBajoAltoBajoAltoBajoMedioMedioAltoBajoMedioBajoBajoBajoMedioBajoBajoBajoAltoAltoMedioBajoMedioMedioMedioAltoBajoMedioBajoMedioAltoMedioBajoAltoMedioMedioMedioBajoBajoMedioMedioAltoMedioMedioMedioBajoMedioMedioAltoMedioAltoAltoMedioMedioAltoMedioBajoAltoMedioBajoMedioMedioMedioBajoMedioAltoAltoAltoBajoBajoMedioBajoBajoMedioAltoMedioMedioMedioAltoAltoMedioMedioMedioMedioBajoMedioMedioBajoBajoMedioBajoBajoBajoMedioAltoMedioMedioMedioMedioMedioAltoBajoBajoAltoBajoMedioBajoAltoBajoBajoBajoBajoAltoMedioBajoAltoAltoMedioMedioAltoMedioMedioBajoMedioMedioBajoAltoBajoMedioAltoAltoMedioAltoMedioAltoMedioAltoBajoMedioMedioMedioMedioMedioMedioMedioMedioAltoMedioMedioBajoBajoAltoMedioMedio to numeric"
     ]
    }
   ],
   "source": [
    "df3.groupby(\"creditcd_x\").mean()\n",
    "# realice el ejercicio en este espacio"
   ]
  },
  {
   "cell_type": "markdown",
   "metadata": {},
   "source": [
    "### Etiquetando valores de total de ingresos en categorías\n",
    "\n",
    "Revisamos el comportamiento de `totrev` y encontramos una gran variabilidad, en ocasiones la agrupación de variables cuantitativas en diferentes categorías nos ayuda a tener una mejor visión del conjunto de datos. \n",
    "\n",
    "Crearemos una nueva variable `Nivel_totrev`  que catalogue a la variable total de ingresos `totrev` en 2 posibles niveles, alto en el caso que `totrev`  sea mayor al cuantil 50 y baja en otro caso. cada valor de percentil debe ser calculado por cada `area` para asegurar que el +area geografíca sea evaluada adicionalmente.\n",
    "\n"
   ]
  },
  {
   "cell_type": "code",
   "execution_count": null,
   "metadata": {},
   "outputs": [],
   "source": [
    "pencentiles50 = df3.groupby(\"area\")[\"totrev\"].quantile(0.5) # percentil 50\n",
    "print(pencentiles50)"
   ]
  },
  {
   "cell_type": "markdown",
   "metadata": {},
   "source": [
    "Como nos gustaría etiquetar los ingreos en alto y bajopara  cada área geográfica, haremos uso del método\n",
    "`np.where()` en la biblioteca numpy. Este método toma una entrada y comprueba una condición lógica: si la\n",
    "condición es verdadera, devolverá su segundo argumento, mientras que si la condición es falsa, devolverá su\n",
    "tercer argumento. \n"
   ]
  },
  {
   "cell_type": "code",
   "execution_count": null,
   "metadata": {},
   "outputs": [],
   "source": [
    "# Loop a través de los símbolos\n",
    "areas = ['ATLANTIC SOUTH AREA',\n",
    " 'CALIFORNIA NORTH AREA',\n",
    " 'CENTRAL-SOUTH TEXAS AREA',\n",
    " 'CHICAGO AREA',\n",
    " 'DALLAS AREA',\n",
    " 'DC-MARYLAND-VIRGINIA AREA',\n",
    " 'GREAT LAKES AREA',\n",
    " 'HOUSTON AREA',\n",
    " 'LOS ANGELES AREA',\n",
    " 'MIDWEST AREA',\n",
    " 'NEW ENGLAND AREA',\n",
    " 'NEW YORK CITY AREA',\n",
    " 'NORTH FLORIDA AREA',\n",
    " 'NORTHWEST-ROCKY MOUNTAIN AREA',\n",
    " 'OHIO AREA',\n",
    " 'PHILADELPHIA AREA',\n",
    " 'SOUTH FLORIDA AREA',\n",
    " 'SOUTHWEST AREA',\n",
    " 'TENNESSEE AREA'] # registro de las áreas\n",
    "lista_df = []\n",
    "# ciclo sobre todos los símbolos\n",
    "for i in areas:\n",
    "    print(\"Etiqueta por área: \" + i)\n",
    "    temp_df = df3[df3[\"area\"] == i] .copy()\n",
    "    umbral_punto = pencentiles50.loc[i]\n",
    "    temp_df[\"Nivel_totrev\"] = np.where(temp_df[\"totrev\"] < umbral_punto, \"Bajo\", \"Alto\") \n",
    "    lista_df.append(temp_df)\n",
    "df_con_etiquetas = pd.concat(lista_df)"
   ]
  },
  {
   "cell_type": "code",
   "execution_count": null,
   "metadata": {},
   "outputs": [],
   "source": [
    "df_con_etiquetas.head()"
   ]
  },
  {
   "cell_type": "code",
   "execution_count": null,
   "metadata": {
    "scrolled": true
   },
   "outputs": [],
   "source": [
    "df_con_etiquetas.head()"
   ]
  },
  {
   "cell_type": "markdown",
   "metadata": {},
   "source": [
    "Ahora podemos hacer una evaluaciónd de como es el comportamiento de los minutos gastados y el nivel de ingresos de los clientes"
   ]
  },
  {
   "cell_type": "markdown",
   "metadata": {},
   "source": [
    "### ¿Existe relación alguna entre el total de minutos usados con la compañía y el ingreso total de los clientes?\n",
    "\n",
    "Para explorar la relación entre el nivel de total de ingresos y el número promedio de llamadas, agrupemos por\n",
    "Nivel_totrev y miremos ingreso total promedio por cada +area geográfica.\n",
    "\n"
   ]
  },
  {
   "cell_type": "code",
   "execution_count": null,
   "metadata": {
    "scrolled": true
   },
   "outputs": [],
   "source": [
    "df_con_etiquetas.groupby(['area','Nivel_totrev'])[['totmou']].mean()"
   ]
  },
  {
   "cell_type": "markdown",
   "metadata": {},
   "source": [
    "### Ejercicio 4\n",
    "\n",
    "\n",
    "Escriba el código para categorizar  el total de ingresos  baja, media y alta volatilidad, donde:\n",
    "\n",
    "`\n",
    "si totrev > (percentil 75 de totrev para el área dada):\n",
    "Nivel_totrev = 'Alto'\n",
    "o si VolStat > (percentil 25 de totrev para el área dada):\n",
    "Nivel_totrev  = 'Medio'\n",
    "de lo contrario:\n",
    "Nivel_totrev  = 'Bajo'`"
   ]
  },
  {
   "cell_type": "code",
   "execution_count": null,
   "metadata": {},
   "outputs": [],
   "source": [
    "pencentiles25 = df3.groupby(\"area\")[\"totrev\"].quantile(0.25) # percentil 50\n",
    "pencentiles75 = df3.groupby(\"area\")[\"totrev\"].quantile(0.75)"
   ]
  },
  {
   "cell_type": "code",
   "execution_count": null,
   "metadata": {},
   "outputs": [],
   "source": [
    "areas = ['ATLANTIC SOUTH AREA',\n",
    " 'CALIFORNIA NORTH AREA',\n",
    " 'CENTRAL-SOUTH TEXAS AREA',\n",
    " 'CHICAGO AREA',\n",
    " 'DALLAS AREA',\n",
    " 'DC-MARYLAND-VIRGINIA AREA',\n",
    " 'GREAT LAKES AREA',\n",
    " 'HOUSTON AREA',\n",
    " 'LOS ANGELES AREA',\n",
    " 'MIDWEST AREA',\n",
    " 'NEW ENGLAND AREA',\n",
    " 'NEW YORK CITY AREA',\n",
    " 'NORTH FLORIDA AREA',\n",
    " 'NORTHWEST-ROCKY MOUNTAIN AREA',\n",
    " 'OHIO AREA',\n",
    " 'PHILADELPHIA AREA',\n",
    " 'SOUTH FLORIDA AREA',\n",
    " 'SOUTHWEST AREA',\n",
    " 'TENNESSEE AREA'] # registro de las áreas\n",
    "lista_df = []\n",
    "# ciclo sobre todos los símbolos\n",
    "for i in areas:\n",
    "    print(\"Etiqueta por área: \" + i)\n",
    "    temp_df = df3[df3[\"area\"] == i] .copy()\n",
    "    umbral_punto1 = pencentiles25.loc[i]\n",
    "    umbral_punto2 = pencentiles75.loc[i]\n",
    "    lv=[]\n",
    "    for i in temp_df['totrev']:\n",
    "        if i<umbral_punto1:\n",
    "            lv.append('Bajo')\n",
    "        elif i<umbral_punto2:\n",
    "            lv.append('Medio')\n",
    "        else:\n",
    "            lv.append('Alto')\n",
    "    temp_df['Nivel']=lv\n",
    "    lista_df.append(temp_df)\n",
    "df_con_etiquetas = pd.concat(lista_df)\n",
    "# realice el ejercicio en este espacio"
   ]
  },
  {
   "cell_type": "code",
   "execution_count": null,
   "metadata": {},
   "outputs": [],
   "source": [
    "df_con_etiquetas"
   ]
  },
  {
   "cell_type": "code",
   "execution_count": null,
   "metadata": {},
   "outputs": [],
   "source": [
    "df_con_etiquetas.groupby(['area','Nivel'])[['totmou']].mean()"
   ]
  },
  {
   "cell_type": "markdown",
   "metadata": {},
   "source": [
    "### Visualización de total de llamadas y total de ingresos\n",
    "\n",
    "Ya hemos respondido satisfactoriamente a nuestra pregunta original. Sin embargo, no es necesario solamente\n",
    "analizar los datos en formato tabular. Python contiene una funcionalidad que le permite analizar sus datos\n",
    "visualmente también.\n",
    "\n",
    "Usaremos la funcionalidad de pandas sobre la librería estándar de graficación de Python, `matplotlib`. Vamos\n",
    "a importar la librería e instruir a Jupyter que muestre los gráficos en línea (es decir, mostrar los gráficos en\n",
    "la pantalla del cuaderno para que podamos verlos mientras ejecutamos el código):\n",
    "\n"
   ]
  },
  {
   "cell_type": "code",
   "execution_count": null,
   "metadata": {
    "scrolled": true
   },
   "outputs": [],
   "source": [
    "modules = dir()\n",
    "print(modules)"
   ]
  },
  {
   "cell_type": "code",
   "execution_count": null,
   "metadata": {},
   "outputs": [],
   "source": [
    "import matplotlib.pyplot as plt\n",
    "# Graficar en el cuaderno\n",
    "%matplotlib inline"
   ]
  },
  {
   "cell_type": "markdown",
   "metadata": {},
   "source": [
    "#### Histograma"
   ]
  },
  {
   "cell_type": "code",
   "execution_count": null,
   "metadata": {},
   "outputs": [],
   "source": [
    "plt.style.use('ggplot')\n",
    "plt.hist(df3[\"totrev\"],bins=13,color=\"#237AAF\")\n",
    "plt.title('Histograma de variable totrev')\n",
    "plt.xlabel(\"totrev\");plt.ylabel(\"Frecuencia\")\n",
    "plt.show()"
   ]
  },
  {
   "cell_type": "code",
   "execution_count": null,
   "metadata": {},
   "outputs": [],
   "source": [
    "print(plt.style.available)"
   ]
  },
  {
   "cell_type": "markdown",
   "metadata": {},
   "source": [
    "#### Boxplot"
   ]
  },
  {
   "cell_type": "code",
   "execution_count": null,
   "metadata": {
    "scrolled": true
   },
   "outputs": [],
   "source": [
    "plt.style.use('ggplot')\n",
    "plt.boxplot(df3[\"totrev\"])\n",
    "plt.title('Boxplot de variable totrev')\n",
    "plt.show()"
   ]
  },
  {
   "cell_type": "markdown",
   "metadata": {},
   "source": [
    "#### Gráficas a partir de `groupby`"
   ]
  },
  {
   "cell_type": "code",
   "execution_count": null,
   "metadata": {
    "scrolled": true
   },
   "outputs": [],
   "source": [
    "df4=df_con_etiquetas.groupby(['area','Nivel_totrev'])[['totmou']].mean()\n",
    "df4.plot(kind='barh',figsize=(10,8))\n",
    "plt.show()"
   ]
  },
  {
   "cell_type": "markdown",
   "metadata": {},
   "source": [
    "#### Gráficas de `pandas`  "
   ]
  },
  {
   "cell_type": "markdown",
   "metadata": {},
   "source": [
    "El modulo`.plot()` genera por defecto una gráfica de línea, existen varios gráficos para los `DataFrameGroup`\n",
    "\n",
    "    - 'line' : Gráfica de línea\n",
    "    - 'bar' :  Diagrama de barras vertical\n",
    "    - 'barh' : Diagrama de barras horizontal\n",
    "    - 'hist' : histograma\n",
    "    - 'box' : boxplot\n",
    "    - 'kde' : Kernel de densidad\n",
    "    - 'area' : Gráfica de área\n",
    "    - 'pie' : Diagrama de torta\n",
    "    - 'scatter' : Diagrama de dispersión\n",
    "    - 'hexbin' : Diagrama de hexágonos"
   ]
  },
  {
   "cell_type": "code",
   "execution_count": null,
   "metadata": {},
   "outputs": [],
   "source": [
    "df3.columns"
   ]
  },
  {
   "cell_type": "code",
   "execution_count": null,
   "metadata": {
    "scrolled": true
   },
   "outputs": [],
   "source": [
    "df3[\"creditcd_x\"].value_counts().plot(kind=\"pie\")\n",
    "plt.show()"
   ]
  },
  {
   "cell_type": "markdown",
   "metadata": {},
   "source": [
    "Revisando la relación entre las dos variables `totrev` y `totmou`"
   ]
  },
  {
   "cell_type": "code",
   "execution_count": null,
   "metadata": {},
   "outputs": [],
   "source": [
    "df3.plot(kind=\"scatter\",x='totrev',y='totmou',c='blue')"
   ]
  },
  {
   "cell_type": "markdown",
   "metadata": {},
   "source": [
    "### `Seaborn`"
   ]
  },
  {
   "cell_type": "code",
   "execution_count": null,
   "metadata": {
    "scrolled": true
   },
   "outputs": [],
   "source": [
    "import seaborn as sns\n",
    "sns.boxplot(df3[\"totrev\"],orient='v')\n",
    "plt.title('Boxplot de variable totrev')\n",
    "plt.show()"
   ]
  },
  {
   "cell_type": "markdown",
   "metadata": {},
   "source": [
    "### Gráficas de parcela "
   ]
  },
  {
   "cell_type": "code",
   "execution_count": null,
   "metadata": {},
   "outputs": [],
   "source": [
    "df3"
   ]
  },
  {
   "cell_type": "code",
   "execution_count": null,
   "metadata": {
    "scrolled": true
   },
   "outputs": [],
   "source": [
    "plt.figure(figsize=(116,4))\n",
    "sns.pairplot(data=df3, hue='creditcd_x', vars=['totrev','totmou','eqpdays'])\n",
    "plt.title(\"Parcelas\")\n",
    "plt.show()"
   ]
  },
  {
   "cell_type": "code",
   "execution_count": null,
   "metadata": {
    "scrolled": true
   },
   "outputs": [],
   "source": [
    "plt.figure(figsize=(6,4))\n",
    "sns.boxplot(x='Nivel_totrev',y='totmou',data=df_con_etiquetas)\n",
    "plt.title('Boxplot múltiple para Nivel de ingresos totales y \\n total de minutos gastados')\n",
    "plt.show()"
   ]
  },
  {
   "cell_type": "code",
   "execution_count": null,
   "metadata": {
    "scrolled": true
   },
   "outputs": [],
   "source": [
    "sns.catplot(y=\"totmou\", x=\"Nivel_totrev\", kind=\"box\",    data=df_con_etiquetas, height=4, aspect=4, palette='Set2')\n",
    "sns.catplot(y=\"totmou\", x=\"Nivel_totrev\", kind=\"violin\", data=df_con_etiquetas, height=4, aspect=4, palette='Set2')"
   ]
  },
  {
   "cell_type": "code",
   "execution_count": null,
   "metadata": {},
   "outputs": [],
   "source": [
    "ax = sns.catplot(y=\"totmou\", x=\"Nivel_totrev\", hue='creditcd_x', kind='point',data=df_con_etiquetas, aspect=2)\n",
    "ax = sns.catplot(x=\"Nivel_totrev\", kind='count',data=df_con_etiquetas, col='creditcd_x')"
   ]
  },
  {
   "cell_type": "markdown",
   "metadata": {},
   "source": [
    "### Ejercicio 5\n",
    "\n",
    "Realice un  boxplot para la variable totmou segmentado por las variable  credict_x y Nivel_totrev"
   ]
  },
  {
   "cell_type": "code",
   "execution_count": null,
   "metadata": {},
   "outputs": [],
   "source": [
    "# realice el ejercicio en este espacio"
   ]
  },
  {
   "cell_type": "markdown",
   "metadata": {},
   "source": [
    "## Resumen\n",
    "\n",
    "\n",
    "1. Leer datos desde archivos.\n",
    "2. Agregar y manipular datos .\n",
    "3. Analizar estadísticas de resumen y reunir información.\n",
    "4. Usar matplotlib para crear gráficos para hacer análisis visual, además de otras librerías.\n",
    "\n",
    "Para más información\n",
    "\n",
    "> [https://pandas.pydata.org/pandas-docs/stable/getting_started/index.html](https://pandas.pydata.org/pandas-docs/stable/getting_started/index.html)"
   ]
  }
 ],
 "metadata": {
  "kernelspec": {
   "display_name": "Python 3",
   "language": "python",
   "name": "python3"
  },
  "language_info": {
   "codemirror_mode": {
    "name": "ipython",
    "version": 3
   },
   "file_extension": ".py",
   "mimetype": "text/x-python",
   "name": "python",
   "nbconvert_exporter": "python",
   "pygments_lexer": "ipython3",
   "version": "3.11.9"
  },
  "latex_envs": {
   "LaTeX_envs_menu_present": true,
   "autoclose": false,
   "autocomplete": true,
   "bibliofile": "biblio.bib",
   "cite_by": "apalike",
   "current_citInitial": 1,
   "eqLabelWithNumbers": true,
   "eqNumInitial": 1,
   "hotkeys": {
    "equation": "Ctrl-E",
    "itemize": "Ctrl-I"
   },
   "labels_anchors": false,
   "latex_user_defs": false,
   "report_style_numbering": false,
   "user_envs_cfg": false
  },
  "toc": {
   "base_numbering": 1,
   "nav_menu": {},
   "number_sections": false,
   "sideBar": true,
   "skip_h1_title": false,
   "title_cell": "Table of Contents",
   "title_sidebar": "Contents",
   "toc_cell": false,
   "toc_position": {
    "height": "calc(100% - 180px)",
    "left": "10px",
    "top": "150px",
    "width": "165px"
   },
   "toc_section_display": true,
   "toc_window_display": true
  },
  "toc-autonumbering": false
 },
 "nbformat": 4,
 "nbformat_minor": 4
}
